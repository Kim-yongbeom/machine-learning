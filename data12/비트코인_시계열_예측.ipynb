{
  "nbformat": 4,
  "nbformat_minor": 0,
  "metadata": {
    "colab": {
      "name": "비트코인_시계열_예측.ipynb",
      "provenance": [],
      "collapsed_sections": [],
      "mount_file_id": "1nMHhSs1_nUAOn3VbGDopgj-N9ygRjuLb",
      "authorship_tag": "ABX9TyOXevBSpbNkk0kJqOh9S8xY",
      "include_colab_link": true
    },
    "kernelspec": {
      "name": "python3",
      "display_name": "Python 3"
    },
    "language_info": {
      "name": "python"
    }
  },
  "cells": [
    {
      "cell_type": "markdown",
      "metadata": {
        "id": "view-in-github",
        "colab_type": "text"
      },
      "source": [
        "<a href=\"https://colab.research.google.com/github/Kim-yongbeom/machine-learning/blob/main/data12/%EB%B9%84%ED%8A%B8%EC%BD%94%EC%9D%B8_%EC%8B%9C%EA%B3%84%EC%97%B4_%EC%98%88%EC%B8%A1.ipynb\" target=\"_parent\"><img src=\"https://colab.research.google.com/assets/colab-badge.svg\" alt=\"Open In Colab\"/></a>"
      ]
    },
    {
      "cell_type": "code",
      "execution_count": 193,
      "metadata": {
        "id": "EaaRDjj22fNQ"
      },
      "outputs": [],
      "source": [
        "from google.colab.patches import cv2_imshow"
      ]
    },
    {
      "cell_type": "code",
      "source": [
        "import pandas as pd\n",
        "import numpy as np\n",
        "import matplotlib.pyplot as plt"
      ],
      "metadata": {
        "id": "IasXtwG83tOn"
      },
      "execution_count": 194,
      "outputs": []
    },
    {
      "cell_type": "code",
      "source": [
        "file_path = '/content/drive/MyDrive/Colab Notebooks/block3.csv'\n",
        "bitcoin_df = pd.read_csv(file_path, names=['days','price'])\n",
        "bitcoin_df"
      ],
      "metadata": {
        "colab": {
          "base_uri": "https://localhost:8080/",
          "height": 424
        },
        "id": "ov_SYtfo4ZEO",
        "outputId": "d80e0138-1035-475a-89ac-75c5abb5f7b3"
      },
      "execution_count": 195,
      "outputs": [
        {
          "output_type": "execute_result",
          "data": {
            "text/html": [
              "<div>\n",
              "<style scoped>\n",
              "    .dataframe tbody tr th:only-of-type {\n",
              "        vertical-align: middle;\n",
              "    }\n",
              "\n",
              "    .dataframe tbody tr th {\n",
              "        vertical-align: top;\n",
              "    }\n",
              "\n",
              "    .dataframe thead th {\n",
              "        text-align: right;\n",
              "    }\n",
              "</style>\n",
              "<table border=\"1\" class=\"dataframe\">\n",
              "  <thead>\n",
              "    <tr style=\"text-align: right;\">\n",
              "      <th></th>\n",
              "      <th>days</th>\n",
              "      <th>price</th>\n",
              "    </tr>\n",
              "  </thead>\n",
              "  <tbody>\n",
              "    <tr>\n",
              "      <th>0</th>\n",
              "      <td>2020-12-09</td>\n",
              "      <td>18318.87</td>\n",
              "    </tr>\n",
              "    <tr>\n",
              "      <th>1</th>\n",
              "      <td>2020-12-10</td>\n",
              "      <td>18554.15</td>\n",
              "    </tr>\n",
              "    <tr>\n",
              "      <th>2</th>\n",
              "      <td>2020-12-11</td>\n",
              "      <td>18247.76</td>\n",
              "    </tr>\n",
              "    <tr>\n",
              "      <th>3</th>\n",
              "      <td>2020-12-12</td>\n",
              "      <td>18029.36</td>\n",
              "    </tr>\n",
              "    <tr>\n",
              "      <th>4</th>\n",
              "      <td>2020-12-13</td>\n",
              "      <td>18803.44</td>\n",
              "    </tr>\n",
              "    <tr>\n",
              "      <th>...</th>\n",
              "      <td>...</td>\n",
              "      <td>...</td>\n",
              "    </tr>\n",
              "    <tr>\n",
              "      <th>361</th>\n",
              "      <td>2021-12-05</td>\n",
              "      <td>49253.86</td>\n",
              "    </tr>\n",
              "    <tr>\n",
              "      <th>362</th>\n",
              "      <td>2021-12-06</td>\n",
              "      <td>49380.43</td>\n",
              "    </tr>\n",
              "    <tr>\n",
              "      <th>363</th>\n",
              "      <td>2021-12-07</td>\n",
              "      <td>50564.63</td>\n",
              "    </tr>\n",
              "    <tr>\n",
              "      <th>364</th>\n",
              "      <td>2021-12-08</td>\n",
              "      <td>50645.41</td>\n",
              "    </tr>\n",
              "    <tr>\n",
              "      <th>365</th>\n",
              "      <td>2021-12-09</td>\n",
              "      <td>50511.12</td>\n",
              "    </tr>\n",
              "  </tbody>\n",
              "</table>\n",
              "<p>366 rows × 2 columns</p>\n",
              "</div>"
            ],
            "text/plain": [
              "           days     price\n",
              "0    2020-12-09  18318.87\n",
              "1    2020-12-10  18554.15\n",
              "2    2020-12-11  18247.76\n",
              "3    2020-12-12  18029.36\n",
              "4    2020-12-13  18803.44\n",
              "..          ...       ...\n",
              "361  2021-12-05  49253.86\n",
              "362  2021-12-06  49380.43\n",
              "363  2021-12-07  50564.63\n",
              "364  2021-12-08  50645.41\n",
              "365  2021-12-09  50511.12\n",
              "\n",
              "[366 rows x 2 columns]"
            ]
          },
          "metadata": {},
          "execution_count": 195
        }
      ]
    },
    {
      "cell_type": "code",
      "source": [
        "bitcoin_train_df = bitcoin_df.iloc[:361]\n",
        "bitcoin_train_df"
      ],
      "metadata": {
        "colab": {
          "base_uri": "https://localhost:8080/",
          "height": 424
        },
        "id": "Rp1QMKl34hX_",
        "outputId": "5032991c-13fa-493f-ff96-5f0b36b8f9f6"
      },
      "execution_count": 196,
      "outputs": [
        {
          "output_type": "execute_result",
          "data": {
            "text/html": [
              "<div>\n",
              "<style scoped>\n",
              "    .dataframe tbody tr th:only-of-type {\n",
              "        vertical-align: middle;\n",
              "    }\n",
              "\n",
              "    .dataframe tbody tr th {\n",
              "        vertical-align: top;\n",
              "    }\n",
              "\n",
              "    .dataframe thead th {\n",
              "        text-align: right;\n",
              "    }\n",
              "</style>\n",
              "<table border=\"1\" class=\"dataframe\">\n",
              "  <thead>\n",
              "    <tr style=\"text-align: right;\">\n",
              "      <th></th>\n",
              "      <th>days</th>\n",
              "      <th>price</th>\n",
              "    </tr>\n",
              "  </thead>\n",
              "  <tbody>\n",
              "    <tr>\n",
              "      <th>0</th>\n",
              "      <td>2020-12-09</td>\n",
              "      <td>18318.87</td>\n",
              "    </tr>\n",
              "    <tr>\n",
              "      <th>1</th>\n",
              "      <td>2020-12-10</td>\n",
              "      <td>18554.15</td>\n",
              "    </tr>\n",
              "    <tr>\n",
              "      <th>2</th>\n",
              "      <td>2020-12-11</td>\n",
              "      <td>18247.76</td>\n",
              "    </tr>\n",
              "    <tr>\n",
              "      <th>3</th>\n",
              "      <td>2020-12-12</td>\n",
              "      <td>18029.36</td>\n",
              "    </tr>\n",
              "    <tr>\n",
              "      <th>4</th>\n",
              "      <td>2020-12-13</td>\n",
              "      <td>18803.44</td>\n",
              "    </tr>\n",
              "    <tr>\n",
              "      <th>...</th>\n",
              "      <td>...</td>\n",
              "      <td>...</td>\n",
              "    </tr>\n",
              "    <tr>\n",
              "      <th>356</th>\n",
              "      <td>2021-11-30</td>\n",
              "      <td>57828.45</td>\n",
              "    </tr>\n",
              "    <tr>\n",
              "      <th>357</th>\n",
              "      <td>2021-12-01</td>\n",
              "      <td>57025.79</td>\n",
              "    </tr>\n",
              "    <tr>\n",
              "      <th>358</th>\n",
              "      <td>2021-12-02</td>\n",
              "      <td>57229.76</td>\n",
              "    </tr>\n",
              "    <tr>\n",
              "      <th>359</th>\n",
              "      <td>2021-12-03</td>\n",
              "      <td>56508.48</td>\n",
              "    </tr>\n",
              "    <tr>\n",
              "      <th>360</th>\n",
              "      <td>2021-12-04</td>\n",
              "      <td>53713.84</td>\n",
              "    </tr>\n",
              "  </tbody>\n",
              "</table>\n",
              "<p>361 rows × 2 columns</p>\n",
              "</div>"
            ],
            "text/plain": [
              "           days     price\n",
              "0    2020-12-09  18318.87\n",
              "1    2020-12-10  18554.15\n",
              "2    2020-12-11  18247.76\n",
              "3    2020-12-12  18029.36\n",
              "4    2020-12-13  18803.44\n",
              "..          ...       ...\n",
              "356  2021-11-30  57828.45\n",
              "357  2021-12-01  57025.79\n",
              "358  2021-12-02  57229.76\n",
              "359  2021-12-03  56508.48\n",
              "360  2021-12-04  53713.84\n",
              "\n",
              "[361 rows x 2 columns]"
            ]
          },
          "metadata": {},
          "execution_count": 196
        }
      ]
    },
    {
      "cell_type": "code",
      "source": [
        "# object면 시계열로 인식하지 못하기 때문에 바꿔줘야함\n",
        "bitcoin_train_df.info()"
      ],
      "metadata": {
        "colab": {
          "base_uri": "https://localhost:8080/"
        },
        "id": "CZmKd0U66Kt7",
        "outputId": "4048c345-fc55-4af1-bd50-f6516af73e50"
      },
      "execution_count": 197,
      "outputs": [
        {
          "output_type": "stream",
          "name": "stdout",
          "text": [
            "<class 'pandas.core.frame.DataFrame'>\n",
            "RangeIndex: 361 entries, 0 to 360\n",
            "Data columns (total 2 columns):\n",
            " #   Column  Non-Null Count  Dtype  \n",
            "---  ------  --------------  -----  \n",
            " 0   days    361 non-null    object \n",
            " 1   price   361 non-null    float64\n",
            "dtypes: float64(1), object(1)\n",
            "memory usage: 5.8+ KB\n"
          ]
        }
      ]
    },
    {
      "cell_type": "code",
      "source": [
        "bitcoin_train_df['days'] = pd.to_datetime(bitcoin_train_df['days'])\n",
        "bitcoin_train_df.info()"
      ],
      "metadata": {
        "colab": {
          "base_uri": "https://localhost:8080/"
        },
        "id": "F5A3OmxZ6W9G",
        "outputId": "a63ab91e-58a2-49a9-86f1-7cb0a6d4c505"
      },
      "execution_count": 198,
      "outputs": [
        {
          "output_type": "stream",
          "name": "stdout",
          "text": [
            "<class 'pandas.core.frame.DataFrame'>\n",
            "RangeIndex: 361 entries, 0 to 360\n",
            "Data columns (total 2 columns):\n",
            " #   Column  Non-Null Count  Dtype         \n",
            "---  ------  --------------  -----         \n",
            " 0   days    361 non-null    datetime64[ns]\n",
            " 1   price   361 non-null    float64       \n",
            "dtypes: datetime64[ns](1), float64(1)\n",
            "memory usage: 5.8 KB\n"
          ]
        },
        {
          "output_type": "stream",
          "name": "stderr",
          "text": [
            "/usr/local/lib/python3.7/dist-packages/ipykernel_launcher.py:1: SettingWithCopyWarning: \n",
            "A value is trying to be set on a copy of a slice from a DataFrame.\n",
            "Try using .loc[row_indexer,col_indexer] = value instead\n",
            "\n",
            "See the caveats in the documentation: https://pandas.pydata.org/pandas-docs/stable/user_guide/indexing.html#returning-a-view-versus-a-copy\n",
            "  \"\"\"Entry point for launching an IPython kernel.\n"
          ]
        }
      ]
    },
    {
      "cell_type": "code",
      "source": [
        "# index를 날짜로 잡아줘야 한다!!!\n",
        "bitcoin_train_df.set_index('days', inplace=True)\n",
        "bitcoin_train_df"
      ],
      "metadata": {
        "colab": {
          "base_uri": "https://localhost:8080/",
          "height": 455
        },
        "id": "JHKzQmT263kH",
        "outputId": "a6f3c9ef-7265-4206-bcd0-e984bdd046d3"
      },
      "execution_count": 199,
      "outputs": [
        {
          "output_type": "execute_result",
          "data": {
            "text/html": [
              "<div>\n",
              "<style scoped>\n",
              "    .dataframe tbody tr th:only-of-type {\n",
              "        vertical-align: middle;\n",
              "    }\n",
              "\n",
              "    .dataframe tbody tr th {\n",
              "        vertical-align: top;\n",
              "    }\n",
              "\n",
              "    .dataframe thead th {\n",
              "        text-align: right;\n",
              "    }\n",
              "</style>\n",
              "<table border=\"1\" class=\"dataframe\">\n",
              "  <thead>\n",
              "    <tr style=\"text-align: right;\">\n",
              "      <th></th>\n",
              "      <th>price</th>\n",
              "    </tr>\n",
              "    <tr>\n",
              "      <th>days</th>\n",
              "      <th></th>\n",
              "    </tr>\n",
              "  </thead>\n",
              "  <tbody>\n",
              "    <tr>\n",
              "      <th>2020-12-09</th>\n",
              "      <td>18318.87</td>\n",
              "    </tr>\n",
              "    <tr>\n",
              "      <th>2020-12-10</th>\n",
              "      <td>18554.15</td>\n",
              "    </tr>\n",
              "    <tr>\n",
              "      <th>2020-12-11</th>\n",
              "      <td>18247.76</td>\n",
              "    </tr>\n",
              "    <tr>\n",
              "      <th>2020-12-12</th>\n",
              "      <td>18029.36</td>\n",
              "    </tr>\n",
              "    <tr>\n",
              "      <th>2020-12-13</th>\n",
              "      <td>18803.44</td>\n",
              "    </tr>\n",
              "    <tr>\n",
              "      <th>...</th>\n",
              "      <td>...</td>\n",
              "    </tr>\n",
              "    <tr>\n",
              "      <th>2021-11-30</th>\n",
              "      <td>57828.45</td>\n",
              "    </tr>\n",
              "    <tr>\n",
              "      <th>2021-12-01</th>\n",
              "      <td>57025.79</td>\n",
              "    </tr>\n",
              "    <tr>\n",
              "      <th>2021-12-02</th>\n",
              "      <td>57229.76</td>\n",
              "    </tr>\n",
              "    <tr>\n",
              "      <th>2021-12-03</th>\n",
              "      <td>56508.48</td>\n",
              "    </tr>\n",
              "    <tr>\n",
              "      <th>2021-12-04</th>\n",
              "      <td>53713.84</td>\n",
              "    </tr>\n",
              "  </tbody>\n",
              "</table>\n",
              "<p>361 rows × 1 columns</p>\n",
              "</div>"
            ],
            "text/plain": [
              "               price\n",
              "days                \n",
              "2020-12-09  18318.87\n",
              "2020-12-10  18554.15\n",
              "2020-12-11  18247.76\n",
              "2020-12-12  18029.36\n",
              "2020-12-13  18803.44\n",
              "...              ...\n",
              "2021-11-30  57828.45\n",
              "2021-12-01  57025.79\n",
              "2021-12-02  57229.76\n",
              "2021-12-03  56508.48\n",
              "2021-12-04  53713.84\n",
              "\n",
              "[361 rows x 1 columns]"
            ]
          },
          "metadata": {},
          "execution_count": 199
        }
      ]
    },
    {
      "cell_type": "code",
      "source": [
        "bitcoin_train_df.plot()"
      ],
      "metadata": {
        "colab": {
          "base_uri": "https://localhost:8080/",
          "height": 312
        },
        "id": "h_YrJVjM7M6M",
        "outputId": "7c70565e-2e5c-48ec-f470-ce9c33a3aaca"
      },
      "execution_count": 200,
      "outputs": [
        {
          "output_type": "execute_result",
          "data": {
            "text/plain": [
              "<matplotlib.axes._subplots.AxesSubplot at 0x7fac15c749d0>"
            ]
          },
          "metadata": {},
          "execution_count": 200
        },
        {
          "output_type": "display_data",
          "data": {
            "image/png": "[encoded data removed]",
            "text/plain": [
              "<Figure size 432x288 with 1 Axes>"
            ]
          },
          "metadata": {
            "needs_background": "light"
          }
        }
      ]
    },
    {
      "cell_type": "code",
      "source": [
        "# ARIMA 모델 = AR + I + MA \n",
        "# AR : AutoRegresion, 이전 데이터들에서 학습한 내용을 가지고 예측\n",
        "# NA : MovingAverage, 이전 데이터들의 오차를 반영해서 예측\n",
        "# I : Defference, 차이"
      ],
      "metadata": {
        "id": "aBmCjVID7le2"
      },
      "execution_count": 201,
      "outputs": []
    },
    {
      "cell_type": "code",
      "source": [
        "from statsmodels.tsa.arima_model import ARIMA\n",
        "import statsmodels.api as sm"
      ],
      "metadata": {
        "id": "8yjWlYOJ-A-Y"
      },
      "execution_count": 202,
      "outputs": []
    },
    {
      "cell_type": "code",
      "source": [
        "bitcoin_train_df.values[:5]"
      ],
      "metadata": {
        "colab": {
          "base_uri": "https://localhost:8080/"
        },
        "id": "C2nQn24H-U8w",
        "outputId": "ff51a5e5-3ef7-4e69-be3b-6a3d61c95d18"
      },
      "execution_count": 203,
      "outputs": [
        {
          "output_type": "execute_result",
          "data": {
            "text/plain": [
              "array([[18318.87],\n",
              "       [18554.15],\n",
              "       [18247.76],\n",
              "       [18029.36],\n",
              "       [18803.44]])"
            ]
          },
          "metadata": {},
          "execution_count": 203
        }
      ]
    },
    {
      "cell_type": "code",
      "source": [
        "model = ARIMA(bitcoin_train_df.values, order=(2, 1, 2))\n",
        "model"
      ],
      "metadata": {
        "colab": {
          "base_uri": "https://localhost:8080/"
        },
        "id": "fu9E-_Ou-JoB",
        "outputId": "1095411f-be45-4cc2-b350-06a969465d90"
      },
      "execution_count": 204,
      "outputs": [
        {
          "output_type": "execute_result",
          "data": {
            "text/plain": [
              "<statsmodels.tsa.arima_model.ARIMA at 0x7fac158db850>"
            ]
          },
          "metadata": {},
          "execution_count": 204
        }
      ]
    },
    {
      "cell_type": "code",
      "source": [
        "model_fit = model.fit(trend='c',full_output=True, disp=True)\n",
        "model_fit"
      ],
      "metadata": {
        "colab": {
          "base_uri": "https://localhost:8080/"
        },
        "id": "-eplAyhJ-_zd",
        "outputId": "514d5a44-bee7-4a7e-b3ec-1ca75dfe2481"
      },
      "execution_count": 205,
      "outputs": [
        {
          "output_type": "execute_result",
          "data": {
            "text/plain": [
              "<statsmodels.tsa.arima_model.ARIMAResultsWrapper at 0x7fac158d6610>"
            ]
          },
          "metadata": {},
          "execution_count": 205
        }
      ]
    },
    {
      "cell_type": "code",
      "source": [
        "model_fit.summary()\n",
        "\n",
        "# P>|z|\t를 보면 ar,ma가 0이므로 써도 되겠다. 0.05보다 크다면 쓰면 안됨!!\n",
        "# 상위 5%에 해당하는지 보는것 95% 이상의 값이 들어왔다면 쓰면 안됨"
      ],
      "metadata": {
        "colab": {
          "base_uri": "https://localhost:8080/",
          "height": 425
        },
        "id": "q_LojEl8_TGV",
        "outputId": "247b3a44-58ae-483e-928b-eff4561eb38a"
      },
      "execution_count": 206,
      "outputs": [
        {
          "output_type": "execute_result",
          "data": {
            "text/html": [
              "<table class=\"simpletable\">\n",
              "<caption>ARIMA Model Results</caption>\n",
              "<tr>\n",
              "  <th>Dep. Variable:</th>        <td>D.y</td>       <th>  No. Observations:  </th>    <td>360</td>   \n",
              "</tr>\n",
              "<tr>\n",
              "  <th>Model:</th>          <td>ARIMA(2, 1, 2)</td>  <th>  Log Likelihood     </th> <td>-3225.913</td>\n",
              "</tr>\n",
              "<tr>\n",
              "  <th>Method:</th>             <td>css-mle</td>     <th>  S.D. of innovations</th> <td>1882.730</td> \n",
              "</tr>\n",
              "<tr>\n",
              "  <th>Date:</th>          <td>Fri, 10 Dec 2021</td> <th>  AIC                </th> <td>6463.825</td> \n",
              "</tr>\n",
              "<tr>\n",
              "  <th>Time:</th>              <td>03:25:03</td>     <th>  BIC                </th> <td>6487.142</td> \n",
              "</tr>\n",
              "<tr>\n",
              "  <th>Sample:</th>                <td>1</td>        <th>  HQIC               </th> <td>6473.096</td> \n",
              "</tr>\n",
              "<tr>\n",
              "  <th></th>                       <td> </td>        <th>                     </th>     <td> </td>    \n",
              "</tr>\n",
              "</table>\n",
              "<table class=\"simpletable\">\n",
              "<tr>\n",
              "      <td></td>         <th>coef</th>     <th>std err</th>      <th>z</th>      <th>P>|z|</th>  <th>[0.025</th>    <th>0.975]</th>  \n",
              "</tr>\n",
              "<tr>\n",
              "  <th>const</th>     <td>   79.7901</td> <td>   99.496</td> <td>    0.802</td> <td> 0.423</td> <td> -115.219</td> <td>  274.799</td>\n",
              "</tr>\n",
              "<tr>\n",
              "  <th>ar.L1.D.y</th> <td>    0.9185</td> <td>    0.040</td> <td>   23.091</td> <td> 0.000</td> <td>    0.841</td> <td>    0.996</td>\n",
              "</tr>\n",
              "<tr>\n",
              "  <th>ar.L2.D.y</th> <td>   -0.9440</td> <td>    0.032</td> <td>  -29.400</td> <td> 0.000</td> <td>   -1.007</td> <td>   -0.881</td>\n",
              "</tr>\n",
              "<tr>\n",
              "  <th>ma.L1.D.y</th> <td>   -0.9573</td> <td>    0.025</td> <td>  -38.376</td> <td> 0.000</td> <td>   -1.006</td> <td>   -0.908</td>\n",
              "</tr>\n",
              "<tr>\n",
              "  <th>ma.L2.D.y</th> <td>    0.9855</td> <td>    0.026</td> <td>   38.263</td> <td> 0.000</td> <td>    0.935</td> <td>    1.036</td>\n",
              "</tr>\n",
              "</table>\n",
              "<table class=\"simpletable\">\n",
              "<caption>Roots</caption>\n",
              "<tr>\n",
              "    <td></td>   <th>            Real</th>  <th>         Imaginary</th> <th>         Modulus</th>  <th>        Frequency</th>\n",
              "</tr>\n",
              "<tr>\n",
              "  <th>AR.1</th> <td>           0.4865</td> <td>          -0.9070j</td> <td>           1.0292</td> <td>          -0.1716</td>\n",
              "</tr>\n",
              "<tr>\n",
              "  <th>AR.2</th> <td>           0.4865</td> <td>          +0.9070j</td> <td>           1.0292</td> <td>           0.1716</td>\n",
              "</tr>\n",
              "<tr>\n",
              "  <th>MA.1</th> <td>           0.4857</td> <td>          -0.8825j</td> <td>           1.0073</td> <td>          -0.1699</td>\n",
              "</tr>\n",
              "<tr>\n",
              "  <th>MA.2</th> <td>           0.4857</td> <td>          +0.8825j</td> <td>           1.0073</td> <td>           0.1699</td>\n",
              "</tr>\n",
              "</table>"
            ],
            "text/plain": [
              "<class 'statsmodels.iolib.summary.Summary'>\n",
              "\"\"\"\n",
              "                             ARIMA Model Results                              \n",
              "==============================================================================\n",
              "Dep. Variable:                    D.y   No. Observations:                  360\n",
              "Model:                 ARIMA(2, 1, 2)   Log Likelihood               -3225.913\n",
              "Method:                       css-mle   S.D. of innovations           1882.730\n",
              "Date:                Fri, 10 Dec 2021   AIC                           6463.825\n",
              "Time:                        03:25:03   BIC                           6487.142\n",
              "Sample:                             1   HQIC                          6473.096\n",
              "                                                                              \n",
              "==============================================================================\n",
              "                 coef    std err          z      P>|z|      [0.025      0.975]\n",
              "------------------------------------------------------------------------------\n",
              "const         79.7901     99.496      0.802      0.423    -115.219     274.799\n",
              "ar.L1.D.y      0.9185      0.040     23.091      0.000       0.841       0.996\n",
              "ar.L2.D.y     -0.9440      0.032    -29.400      0.000      -1.007      -0.881\n",
              "ma.L1.D.y     -0.9573      0.025    -38.376      0.000      -1.006      -0.908\n",
              "ma.L2.D.y      0.9855      0.026     38.263      0.000       0.935       1.036\n",
              "                                    Roots                                    \n",
              "=============================================================================\n",
              "                  Real          Imaginary           Modulus         Frequency\n",
              "-----------------------------------------------------------------------------\n",
              "AR.1            0.4865           -0.9070j            1.0292           -0.1716\n",
              "AR.2            0.4865           +0.9070j            1.0292            0.1716\n",
              "MA.1            0.4857           -0.8825j            1.0073           -0.1699\n",
              "MA.2            0.4857           +0.8825j            1.0073            0.1699\n",
              "-----------------------------------------------------------------------------\n",
              "\"\"\""
            ]
          },
          "metadata": {},
          "execution_count": 206
        }
      ]
    },
    {
      "cell_type": "code",
      "source": [
        "fig = model_fit.plot_predict()"
      ],
      "metadata": {
        "colab": {
          "base_uri": "https://localhost:8080/",
          "height": 269
        },
        "id": "NYhQ41xECF5j",
        "outputId": "5f7e0bdb-90ba-4ccf-be9b-6db6f7ddfc27"
      },
      "execution_count": 207,
      "outputs": [
        {
          "output_type": "display_data",
          "data": {
            "image/png": "[encoded data removed]",
            "text/plain": [
              "<Figure size 432x288 with 1 Axes>"
            ]
          },
          "metadata": {
            "needs_background": "light"
          }
        }
      ]
    },
    {
      "cell_type": "code",
      "source": [
        "# steps = 5 : 다음 5일\n",
        "forecast_data = model_fit.forecast(steps=5)\n",
        "forecast_data"
      ],
      "metadata": {
        "colab": {
          "base_uri": "https://localhost:8080/"
        },
        "id": "FHKVfWJMCcu3",
        "outputId": "bd983b2a-71f7-4b55-9279-97d51d9daef3"
      },
      "execution_count": 208,
      "outputs": [
        {
          "output_type": "execute_result",
          "data": {
            "text/plain": [
              "(array([53859.90839342, 53891.33862905, 53864.14563435, 53891.32506776,\n",
              "        54023.78371803]),\n",
              " array([1882.73041766, 2611.43093677, 3183.52110652, 3707.37515166,\n",
              "        4194.6159268 ]),\n",
              " array([[50169.8245822 , 57549.99220464],\n",
              "        [48773.02804487, 59009.64921322],\n",
              "        [47624.55892156, 60103.73234715],\n",
              "        [46625.00329334, 61157.64684219],\n",
              "        [45802.48757252, 62245.07986355]]))"
            ]
          },
          "metadata": {},
          "execution_count": 208
        }
      ]
    },
    {
      "cell_type": "code",
      "source": [
        "bitcoin_test_df = bitcoin_df[361:]\n",
        "bitcoin_test_df"
      ],
      "metadata": {
        "colab": {
          "base_uri": "https://localhost:8080/",
          "height": 206
        },
        "id": "zdXRYQ8jJiQJ",
        "outputId": "3c04c901-0c41-4fa9-cecd-b01689c119a5"
      },
      "execution_count": 209,
      "outputs": [
        {
          "output_type": "execute_result",
          "data": {
            "text/html": [
              "<div>\n",
              "<style scoped>\n",
              "    .dataframe tbody tr th:only-of-type {\n",
              "        vertical-align: middle;\n",
              "    }\n",
              "\n",
              "    .dataframe tbody tr th {\n",
              "        vertical-align: top;\n",
              "    }\n",
              "\n",
              "    .dataframe thead th {\n",
              "        text-align: right;\n",
              "    }\n",
              "</style>\n",
              "<table border=\"1\" class=\"dataframe\">\n",
              "  <thead>\n",
              "    <tr style=\"text-align: right;\">\n",
              "      <th></th>\n",
              "      <th>days</th>\n",
              "      <th>price</th>\n",
              "    </tr>\n",
              "  </thead>\n",
              "  <tbody>\n",
              "    <tr>\n",
              "      <th>361</th>\n",
              "      <td>2021-12-05</td>\n",
              "      <td>49253.86</td>\n",
              "    </tr>\n",
              "    <tr>\n",
              "      <th>362</th>\n",
              "      <td>2021-12-06</td>\n",
              "      <td>49380.43</td>\n",
              "    </tr>\n",
              "    <tr>\n",
              "      <th>363</th>\n",
              "      <td>2021-12-07</td>\n",
              "      <td>50564.63</td>\n",
              "    </tr>\n",
              "    <tr>\n",
              "      <th>364</th>\n",
              "      <td>2021-12-08</td>\n",
              "      <td>50645.41</td>\n",
              "    </tr>\n",
              "    <tr>\n",
              "      <th>365</th>\n",
              "      <td>2021-12-09</td>\n",
              "      <td>50511.12</td>\n",
              "    </tr>\n",
              "  </tbody>\n",
              "</table>\n",
              "</div>"
            ],
            "text/plain": [
              "           days     price\n",
              "361  2021-12-05  49253.86\n",
              "362  2021-12-06  49380.43\n",
              "363  2021-12-07  50564.63\n",
              "364  2021-12-08  50645.41\n",
              "365  2021-12-09  50511.12"
            ]
          },
          "metadata": {},
          "execution_count": 209
        }
      ]
    },
    {
      "cell_type": "code",
      "source": [
        "pred_y = forecast_data[0]\n",
        "pred_y"
      ],
      "metadata": {
        "colab": {
          "base_uri": "https://localhost:8080/"
        },
        "id": "eAgqTZlyKBln",
        "outputId": "1806c17d-4151-4f01-da75-db3f40aa1aa9"
      },
      "execution_count": 210,
      "outputs": [
        {
          "output_type": "execute_result",
          "data": {
            "text/plain": [
              "array([53859.90839342, 53891.33862905, 53864.14563435, 53891.32506776,\n",
              "       54023.78371803])"
            ]
          },
          "metadata": {},
          "execution_count": 210
        }
      ]
    },
    {
      "cell_type": "code",
      "source": [
        "pred_y = pred_y.tolist()\n",
        "pred_y"
      ],
      "metadata": {
        "colab": {
          "base_uri": "https://localhost:8080/"
        },
        "id": "IBipgDqJKO2k",
        "outputId": "aca51ba4-ca2b-44bb-bc21-a1bc3c023cba"
      },
      "execution_count": 211,
      "outputs": [
        {
          "output_type": "execute_result",
          "data": {
            "text/plain": [
              "[53859.90839341877,\n",
              " 53891.33862904949,\n",
              " 53864.14563435281,\n",
              " 53891.32506776393,\n",
              " 54023.78371803221]"
            ]
          },
          "metadata": {},
          "execution_count": 211
        }
      ]
    },
    {
      "cell_type": "code",
      "source": [
        "bitcoin_test_df.price"
      ],
      "metadata": {
        "colab": {
          "base_uri": "https://localhost:8080/"
        },
        "id": "tpL49cdVKmRj",
        "outputId": "42a88ea0-eed6-4406-8980-e92cd03e4b03"
      },
      "execution_count": 212,
      "outputs": [
        {
          "output_type": "execute_result",
          "data": {
            "text/plain": [
              "361    49253.86\n",
              "362    49380.43\n",
              "363    50564.63\n",
              "364    50645.41\n",
              "365    50511.12\n",
              "Name: price, dtype: float64"
            ]
          },
          "metadata": {},
          "execution_count": 212
        }
      ]
    },
    {
      "cell_type": "code",
      "source": [
        "bitcoin_test_df.price.values"
      ],
      "metadata": {
        "colab": {
          "base_uri": "https://localhost:8080/"
        },
        "id": "FkmdbJHwKrcR",
        "outputId": "fdd34aca-43fe-463f-d5d5-c74eecd65a6d"
      },
      "execution_count": 213,
      "outputs": [
        {
          "output_type": "execute_result",
          "data": {
            "text/plain": [
              "array([49253.86, 49380.43, 50564.63, 50645.41, 50511.12])"
            ]
          },
          "metadata": {},
          "execution_count": 213
        }
      ]
    },
    {
      "cell_type": "code",
      "source": [
        "test_y = bitcoin_test_df.price.values.tolist()\n",
        "test_y"
      ],
      "metadata": {
        "colab": {
          "base_uri": "https://localhost:8080/"
        },
        "id": "h5Y6iLDSKv7g",
        "outputId": "97e55944-0220-43b6-b5d1-b232c7336a8b"
      },
      "execution_count": 214,
      "outputs": [
        {
          "output_type": "execute_result",
          "data": {
            "text/plain": [
              "[49253.86, 49380.43, 50564.63, 50645.41, 50511.12]"
            ]
          },
          "metadata": {},
          "execution_count": 214
        }
      ]
    },
    {
      "cell_type": "code",
      "source": [
        "plt.plot(pred_y,color='gold')\n",
        "plt.plot(test_y,color='green')"
      ],
      "metadata": {
        "colab": {
          "base_uri": "https://localhost:8080/",
          "height": 282
        },
        "id": "KePM_kKcLPfD",
        "outputId": "f41c6725-acfe-40bb-fc2b-346adabd5298"
      },
      "execution_count": 215,
      "outputs": [
        {
          "output_type": "execute_result",
          "data": {
            "text/plain": [
              "[<matplotlib.lines.Line2D at 0x7fac158baa10>]"
            ]
          },
          "metadata": {},
          "execution_count": 215
        },
        {
          "output_type": "display_data",
          "data": {
            "image/png": "[encoded data removed]",
            "text/plain": [
              "<Figure size 432x288 with 1 Axes>"
            ]
          },
          "metadata": {
            "needs_background": "light"
          }
        }
      ]
    },
    {
      "cell_type": "code",
      "source": [
        "forecast_data"
      ],
      "metadata": {
        "colab": {
          "base_uri": "https://localhost:8080/"
        },
        "id": "mSYj86xXMmv9",
        "outputId": "21cd0893-f7e0-441f-e02c-1f9a0a4835d8"
      },
      "execution_count": 216,
      "outputs": [
        {
          "output_type": "execute_result",
          "data": {
            "text/plain": [
              "(array([53859.90839342, 53891.33862905, 53864.14563435, 53891.32506776,\n",
              "        54023.78371803]),\n",
              " array([1882.73041766, 2611.43093677, 3183.52110652, 3707.37515166,\n",
              "        4194.6159268 ]),\n",
              " array([[50169.8245822 , 57549.99220464],\n",
              "        [48773.02804487, 59009.64921322],\n",
              "        [47624.55892156, 60103.73234715],\n",
              "        [46625.00329334, 61157.64684219],\n",
              "        [45802.48757252, 62245.07986355]]))"
            ]
          },
          "metadata": {},
          "execution_count": 216
        }
      ]
    },
    {
      "cell_type": "code",
      "source": [
        "forecast_data[2] # 최저[0], 최고[1] -> 그래프로! -----> 2. 데이터셋의 양을 3년 이상으로 늘려보자"
      ],
      "metadata": {
        "colab": {
          "base_uri": "https://localhost:8080/"
        },
        "id": "T15tPfQWMIff",
        "outputId": "77fba986-b040-4cf9-9d27-968dc6e8909f"
      },
      "execution_count": 217,
      "outputs": [
        {
          "output_type": "execute_result",
          "data": {
            "text/plain": [
              "array([[50169.8245822 , 57549.99220464],\n",
              "       [48773.02804487, 59009.64921322],\n",
              "       [47624.55892156, 60103.73234715],\n",
              "       [46625.00329334, 61157.64684219],\n",
              "       [45802.48757252, 62245.07986355]])"
            ]
          },
          "metadata": {},
          "execution_count": 217
        }
      ]
    },
    {
      "cell_type": "code",
      "source": [
        "df = pd.read_csv('/content/drive/MyDrive/Colab Notebooks/market-price.csv', names=['days','price'])\n",
        "days = df['days'].tolist()[:]\n",
        "day1 = []\n",
        "day = []\n",
        "for i in range(len(days)):\n",
        "  day1.append(days[i].split(' '))\n",
        "for j in range(len(day1)):\n",
        "  day.append(day1[j][0])"
      ],
      "metadata": {
        "id": "xqy-31XeMTpR"
      },
      "execution_count": 253,
      "outputs": []
    },
    {
      "cell_type": "code",
      "source": [
        "df['days'] = day\n",
        "df = df[1:]\n",
        "df"
      ],
      "metadata": {
        "colab": {
          "base_uri": "https://localhost:8080/",
          "height": 424
        },
        "id": "1w4cH_JRSIi0",
        "outputId": "96f72e6a-bfc0-426a-b657-f656f018751b"
      },
      "execution_count": 254,
      "outputs": [
        {
          "output_type": "execute_result",
          "data": {
            "text/html": [
              "<div>\n",
              "<style scoped>\n",
              "    .dataframe tbody tr th:only-of-type {\n",
              "        vertical-align: middle;\n",
              "    }\n",
              "\n",
              "    .dataframe tbody tr th {\n",
              "        vertical-align: top;\n",
              "    }\n",
              "\n",
              "    .dataframe thead th {\n",
              "        text-align: right;\n",
              "    }\n",
              "</style>\n",
              "<table border=\"1\" class=\"dataframe\">\n",
              "  <thead>\n",
              "    <tr style=\"text-align: right;\">\n",
              "      <th></th>\n",
              "      <th>days</th>\n",
              "      <th>price</th>\n",
              "    </tr>\n",
              "  </thead>\n",
              "  <tbody>\n",
              "    <tr>\n",
              "      <th>1</th>\n",
              "      <td>2018-12-11</td>\n",
              "      <td>3472.98</td>\n",
              "    </tr>\n",
              "    <tr>\n",
              "      <th>2</th>\n",
              "      <td>2018-12-12</td>\n",
              "      <td>3407.28</td>\n",
              "    </tr>\n",
              "    <tr>\n",
              "      <th>3</th>\n",
              "      <td>2018-12-13</td>\n",
              "      <td>3487.73</td>\n",
              "    </tr>\n",
              "    <tr>\n",
              "      <th>4</th>\n",
              "      <td>2018-12-14</td>\n",
              "      <td>3308.11</td>\n",
              "    </tr>\n",
              "    <tr>\n",
              "      <th>5</th>\n",
              "      <td>2018-12-15</td>\n",
              "      <td>3242.42</td>\n",
              "    </tr>\n",
              "    <tr>\n",
              "      <th>...</th>\n",
              "      <td>...</td>\n",
              "      <td>...</td>\n",
              "    </tr>\n",
              "    <tr>\n",
              "      <th>1092</th>\n",
              "      <td>2021-12-06</td>\n",
              "      <td>49380.43</td>\n",
              "    </tr>\n",
              "    <tr>\n",
              "      <th>1093</th>\n",
              "      <td>2021-12-07</td>\n",
              "      <td>50564.63</td>\n",
              "    </tr>\n",
              "    <tr>\n",
              "      <th>1094</th>\n",
              "      <td>2021-12-08</td>\n",
              "      <td>50645.41</td>\n",
              "    </tr>\n",
              "    <tr>\n",
              "      <th>1095</th>\n",
              "      <td>2021-12-09</td>\n",
              "      <td>50511.12</td>\n",
              "    </tr>\n",
              "    <tr>\n",
              "      <th>1096</th>\n",
              "      <td>2021-12-10</td>\n",
              "      <td>47659.68</td>\n",
              "    </tr>\n",
              "  </tbody>\n",
              "</table>\n",
              "<p>1096 rows × 2 columns</p>\n",
              "</div>"
            ],
            "text/plain": [
              "            days     price\n",
              "1     2018-12-11   3472.98\n",
              "2     2018-12-12   3407.28\n",
              "3     2018-12-13   3487.73\n",
              "4     2018-12-14   3308.11\n",
              "5     2018-12-15   3242.42\n",
              "...          ...       ...\n",
              "1092  2021-12-06  49380.43\n",
              "1093  2021-12-07  50564.63\n",
              "1094  2021-12-08  50645.41\n",
              "1095  2021-12-09  50511.12\n",
              "1096  2021-12-10  47659.68\n",
              "\n",
              "[1096 rows x 2 columns]"
            ]
          },
          "metadata": {},
          "execution_count": 254
        }
      ]
    },
    {
      "cell_type": "code",
      "source": [
        "train_df = df.iloc[:1091]\n",
        "train_df"
      ],
      "metadata": {
        "colab": {
          "base_uri": "https://localhost:8080/",
          "height": 424
        },
        "id": "smNGT1sXMtpV",
        "outputId": "6771b6a9-f415-4eeb-dd2e-9a02f0524fc9"
      },
      "execution_count": 255,
      "outputs": [
        {
          "output_type": "execute_result",
          "data": {
            "text/html": [
              "<div>\n",
              "<style scoped>\n",
              "    .dataframe tbody tr th:only-of-type {\n",
              "        vertical-align: middle;\n",
              "    }\n",
              "\n",
              "    .dataframe tbody tr th {\n",
              "        vertical-align: top;\n",
              "    }\n",
              "\n",
              "    .dataframe thead th {\n",
              "        text-align: right;\n",
              "    }\n",
              "</style>\n",
              "<table border=\"1\" class=\"dataframe\">\n",
              "  <thead>\n",
              "    <tr style=\"text-align: right;\">\n",
              "      <th></th>\n",
              "      <th>days</th>\n",
              "      <th>price</th>\n",
              "    </tr>\n",
              "  </thead>\n",
              "  <tbody>\n",
              "    <tr>\n",
              "      <th>1</th>\n",
              "      <td>2018-12-11</td>\n",
              "      <td>3472.98</td>\n",
              "    </tr>\n",
              "    <tr>\n",
              "      <th>2</th>\n",
              "      <td>2018-12-12</td>\n",
              "      <td>3407.28</td>\n",
              "    </tr>\n",
              "    <tr>\n",
              "      <th>3</th>\n",
              "      <td>2018-12-13</td>\n",
              "      <td>3487.73</td>\n",
              "    </tr>\n",
              "    <tr>\n",
              "      <th>4</th>\n",
              "      <td>2018-12-14</td>\n",
              "      <td>3308.11</td>\n",
              "    </tr>\n",
              "    <tr>\n",
              "      <th>5</th>\n",
              "      <td>2018-12-15</td>\n",
              "      <td>3242.42</td>\n",
              "    </tr>\n",
              "    <tr>\n",
              "      <th>...</th>\n",
              "      <td>...</td>\n",
              "      <td>...</td>\n",
              "    </tr>\n",
              "    <tr>\n",
              "      <th>1087</th>\n",
              "      <td>2021-12-01</td>\n",
              "      <td>57025.79</td>\n",
              "    </tr>\n",
              "    <tr>\n",
              "      <th>1088</th>\n",
              "      <td>2021-12-02</td>\n",
              "      <td>57229.76</td>\n",
              "    </tr>\n",
              "    <tr>\n",
              "      <th>1089</th>\n",
              "      <td>2021-12-03</td>\n",
              "      <td>56508.48</td>\n",
              "    </tr>\n",
              "    <tr>\n",
              "      <th>1090</th>\n",
              "      <td>2021-12-04</td>\n",
              "      <td>53713.84</td>\n",
              "    </tr>\n",
              "    <tr>\n",
              "      <th>1091</th>\n",
              "      <td>2021-12-05</td>\n",
              "      <td>49253.86</td>\n",
              "    </tr>\n",
              "  </tbody>\n",
              "</table>\n",
              "<p>1091 rows × 2 columns</p>\n",
              "</div>"
            ],
            "text/plain": [
              "            days     price\n",
              "1     2018-12-11   3472.98\n",
              "2     2018-12-12   3407.28\n",
              "3     2018-12-13   3487.73\n",
              "4     2018-12-14   3308.11\n",
              "5     2018-12-15   3242.42\n",
              "...          ...       ...\n",
              "1087  2021-12-01  57025.79\n",
              "1088  2021-12-02  57229.76\n",
              "1089  2021-12-03  56508.48\n",
              "1090  2021-12-04  53713.84\n",
              "1091  2021-12-05  49253.86\n",
              "\n",
              "[1091 rows x 2 columns]"
            ]
          },
          "metadata": {},
          "execution_count": 255
        }
      ]
    },
    {
      "cell_type": "code",
      "source": [
        "train_df.info()"
      ],
      "metadata": {
        "colab": {
          "base_uri": "https://localhost:8080/"
        },
        "id": "TT9lIFSmMtnP",
        "outputId": "448687b8-a294-481b-c3c8-064b67254c34"
      },
      "execution_count": 256,
      "outputs": [
        {
          "output_type": "stream",
          "name": "stdout",
          "text": [
            "<class 'pandas.core.frame.DataFrame'>\n",
            "RangeIndex: 1091 entries, 1 to 1091\n",
            "Data columns (total 2 columns):\n",
            " #   Column  Non-Null Count  Dtype \n",
            "---  ------  --------------  ----- \n",
            " 0   days    1091 non-null   object\n",
            " 1   price   1091 non-null   object\n",
            "dtypes: object(2)\n",
            "memory usage: 17.2+ KB\n"
          ]
        }
      ]
    },
    {
      "cell_type": "code",
      "source": [
        "train_df['days'] = pd.to_datetime(train_df['days'])\n",
        "train_df['price'] = train_df['price'].astype(float)\n",
        "train_df.info()"
      ],
      "metadata": {
        "colab": {
          "base_uri": "https://localhost:8080/"
        },
        "id": "lqFSz21NPbba",
        "outputId": "1b1d4a5f-2cc1-4aa6-bf1b-643a38d7dcd2"
      },
      "execution_count": 257,
      "outputs": [
        {
          "output_type": "stream",
          "name": "stdout",
          "text": [
            "<class 'pandas.core.frame.DataFrame'>\n",
            "RangeIndex: 1091 entries, 1 to 1091\n",
            "Data columns (total 2 columns):\n",
            " #   Column  Non-Null Count  Dtype         \n",
            "---  ------  --------------  -----         \n",
            " 0   days    1091 non-null   datetime64[ns]\n",
            " 1   price   1091 non-null   float64       \n",
            "dtypes: datetime64[ns](1), float64(1)\n",
            "memory usage: 17.2 KB\n"
          ]
        },
        {
          "output_type": "stream",
          "name": "stderr",
          "text": [
            "/usr/local/lib/python3.7/dist-packages/ipykernel_launcher.py:1: SettingWithCopyWarning: \n",
            "A value is trying to be set on a copy of a slice from a DataFrame.\n",
            "Try using .loc[row_indexer,col_indexer] = value instead\n",
            "\n",
            "See the caveats in the documentation: https://pandas.pydata.org/pandas-docs/stable/user_guide/indexing.html#returning-a-view-versus-a-copy\n",
            "  \"\"\"Entry point for launching an IPython kernel.\n",
            "/usr/local/lib/python3.7/dist-packages/ipykernel_launcher.py:2: SettingWithCopyWarning: \n",
            "A value is trying to be set on a copy of a slice from a DataFrame.\n",
            "Try using .loc[row_indexer,col_indexer] = value instead\n",
            "\n",
            "See the caveats in the documentation: https://pandas.pydata.org/pandas-docs/stable/user_guide/indexing.html#returning-a-view-versus-a-copy\n",
            "  \n"
          ]
        }
      ]
    },
    {
      "cell_type": "code",
      "source": [
        "train_df.set_index('days', inplace=True)\n",
        "train_df"
      ],
      "metadata": {
        "colab": {
          "base_uri": "https://localhost:8080/",
          "height": 455
        },
        "id": "_S-CGMSGPbNV",
        "outputId": "e7de235e-741b-4fb1-c09a-2ba76bd416ce"
      },
      "execution_count": 258,
      "outputs": [
        {
          "output_type": "execute_result",
          "data": {
            "text/html": [
              "<div>\n",
              "<style scoped>\n",
              "    .dataframe tbody tr th:only-of-type {\n",
              "        vertical-align: middle;\n",
              "    }\n",
              "\n",
              "    .dataframe tbody tr th {\n",
              "        vertical-align: top;\n",
              "    }\n",
              "\n",
              "    .dataframe thead th {\n",
              "        text-align: right;\n",
              "    }\n",
              "</style>\n",
              "<table border=\"1\" class=\"dataframe\">\n",
              "  <thead>\n",
              "    <tr style=\"text-align: right;\">\n",
              "      <th></th>\n",
              "      <th>price</th>\n",
              "    </tr>\n",
              "    <tr>\n",
              "      <th>days</th>\n",
              "      <th></th>\n",
              "    </tr>\n",
              "  </thead>\n",
              "  <tbody>\n",
              "    <tr>\n",
              "      <th>2018-12-11</th>\n",
              "      <td>3472.98</td>\n",
              "    </tr>\n",
              "    <tr>\n",
              "      <th>2018-12-12</th>\n",
              "      <td>3407.28</td>\n",
              "    </tr>\n",
              "    <tr>\n",
              "      <th>2018-12-13</th>\n",
              "      <td>3487.73</td>\n",
              "    </tr>\n",
              "    <tr>\n",
              "      <th>2018-12-14</th>\n",
              "      <td>3308.11</td>\n",
              "    </tr>\n",
              "    <tr>\n",
              "      <th>2018-12-15</th>\n",
              "      <td>3242.42</td>\n",
              "    </tr>\n",
              "    <tr>\n",
              "      <th>...</th>\n",
              "      <td>...</td>\n",
              "    </tr>\n",
              "    <tr>\n",
              "      <th>2021-12-01</th>\n",
              "      <td>57025.79</td>\n",
              "    </tr>\n",
              "    <tr>\n",
              "      <th>2021-12-02</th>\n",
              "      <td>57229.76</td>\n",
              "    </tr>\n",
              "    <tr>\n",
              "      <th>2021-12-03</th>\n",
              "      <td>56508.48</td>\n",
              "    </tr>\n",
              "    <tr>\n",
              "      <th>2021-12-04</th>\n",
              "      <td>53713.84</td>\n",
              "    </tr>\n",
              "    <tr>\n",
              "      <th>2021-12-05</th>\n",
              "      <td>49253.86</td>\n",
              "    </tr>\n",
              "  </tbody>\n",
              "</table>\n",
              "<p>1091 rows × 1 columns</p>\n",
              "</div>"
            ],
            "text/plain": [
              "               price\n",
              "days                \n",
              "2018-12-11   3472.98\n",
              "2018-12-12   3407.28\n",
              "2018-12-13   3487.73\n",
              "2018-12-14   3308.11\n",
              "2018-12-15   3242.42\n",
              "...              ...\n",
              "2021-12-01  57025.79\n",
              "2021-12-02  57229.76\n",
              "2021-12-03  56508.48\n",
              "2021-12-04  53713.84\n",
              "2021-12-05  49253.86\n",
              "\n",
              "[1091 rows x 1 columns]"
            ]
          },
          "metadata": {},
          "execution_count": 258
        }
      ]
    },
    {
      "cell_type": "code",
      "source": [
        "model3 = ARIMA(train_df.values, order=(2, 1, 2))\n",
        "model3"
      ],
      "metadata": {
        "colab": {
          "base_uri": "https://localhost:8080/"
        },
        "id": "KIYk1ljNMtij",
        "outputId": "d4cd9699-c686-47c0-fcb5-af72933d3c90"
      },
      "execution_count": 259,
      "outputs": [
        {
          "output_type": "execute_result",
          "data": {
            "text/plain": [
              "<statsmodels.tsa.arima_model.ARIMA at 0x7fac168b4690>"
            ]
          },
          "metadata": {},
          "execution_count": 259
        }
      ]
    },
    {
      "cell_type": "code",
      "source": [
        "model3_fit = model3.fit(trend='c',full_output=True, disp=True)\n",
        "model3_fit"
      ],
      "metadata": {
        "colab": {
          "base_uri": "https://localhost:8080/"
        },
        "id": "d1-0gebiMtgd",
        "outputId": "1f638530-be09-48b5-ff8d-c0ddc553fd23"
      },
      "execution_count": 260,
      "outputs": [
        {
          "output_type": "stream",
          "name": "stderr",
          "text": [
            "/usr/local/lib/python3.7/dist-packages/statsmodels/base/model.py:492: HessianInversionWarning: Inverting hessian failed, no bse or cov_params available\n",
            "  'available', HessianInversionWarning)\n"
          ]
        },
        {
          "output_type": "execute_result",
          "data": {
            "text/plain": [
              "<statsmodels.tsa.arima_model.ARIMAResultsWrapper at 0x7fac16054550>"
            ]
          },
          "metadata": {},
          "execution_count": 260
        }
      ]
    },
    {
      "cell_type": "code",
      "source": [
        "model3_fit.summary()"
      ],
      "metadata": {
        "colab": {
          "base_uri": "https://localhost:8080/",
          "height": 460
        },
        "id": "RBXfoElzMtd3",
        "outputId": "17687949-1d0d-4a5a-fdbf-3998cc10ff6a"
      },
      "execution_count": 261,
      "outputs": [
        {
          "output_type": "stream",
          "name": "stderr",
          "text": [
            "/usr/local/lib/python3.7/dist-packages/statsmodels/tsa/arima_model.py:1441: RuntimeWarning: invalid value encountered in sqrt\n",
            "  return np.sqrt(np.diag(-inv(hess)))\n"
          ]
        },
        {
          "output_type": "execute_result",
          "data": {
            "text/html": [
              "<table class=\"simpletable\">\n",
              "<caption>ARIMA Model Results</caption>\n",
              "<tr>\n",
              "  <th>Dep. Variable:</th>        <td>D.y</td>       <th>  No. Observations:  </th>   <td>1090</td>   \n",
              "</tr>\n",
              "<tr>\n",
              "  <th>Model:</th>          <td>ARIMA(2, 1, 2)</td>  <th>  Log Likelihood     </th> <td>-9209.892</td>\n",
              "</tr>\n",
              "<tr>\n",
              "  <th>Method:</th>             <td>css-mle</td>     <th>  S.D. of innovations</th> <td>1128.035</td> \n",
              "</tr>\n",
              "<tr>\n",
              "  <th>Date:</th>          <td>Fri, 10 Dec 2021</td> <th>  AIC                </th> <td>18431.785</td>\n",
              "</tr>\n",
              "<tr>\n",
              "  <th>Time:</th>              <td>03:30:25</td>     <th>  BIC                </th> <td>18461.748</td>\n",
              "</tr>\n",
              "<tr>\n",
              "  <th>Sample:</th>                <td>1</td>        <th>  HQIC               </th> <td>18443.125</td>\n",
              "</tr>\n",
              "<tr>\n",
              "  <th></th>                       <td> </td>        <th>                     </th>     <td> </td>    \n",
              "</tr>\n",
              "</table>\n",
              "<table class=\"simpletable\">\n",
              "<tr>\n",
              "      <td></td>         <th>coef</th>     <th>std err</th>      <th>z</th>      <th>P>|z|</th>  <th>[0.025</th>    <th>0.975]</th>  \n",
              "</tr>\n",
              "<tr>\n",
              "  <th>const</th>     <td>   41.9973</td> <td>   33.988</td> <td>    1.236</td> <td> 0.217</td> <td>  -24.618</td> <td>  108.613</td>\n",
              "</tr>\n",
              "<tr>\n",
              "  <th>ar.L1.D.y</th> <td>    0.8432</td> <td>    0.007</td> <td>  122.676</td> <td> 0.000</td> <td>    0.830</td> <td>    0.857</td>\n",
              "</tr>\n",
              "<tr>\n",
              "  <th>ar.L2.D.y</th> <td>   -0.9790</td> <td>    0.008</td> <td> -116.250</td> <td> 0.000</td> <td>   -0.995</td> <td>   -0.962</td>\n",
              "</tr>\n",
              "<tr>\n",
              "  <th>ma.L1.D.y</th> <td>   -0.8702</td> <td>    0.004</td> <td> -231.484</td> <td> 0.000</td> <td>   -0.878</td> <td>   -0.863</td>\n",
              "</tr>\n",
              "<tr>\n",
              "  <th>ma.L2.D.y</th> <td>    1.0000</td> <td>      nan</td> <td>      nan</td> <td>   nan</td> <td>      nan</td> <td>      nan</td>\n",
              "</tr>\n",
              "</table>\n",
              "<table class=\"simpletable\">\n",
              "<caption>Roots</caption>\n",
              "<tr>\n",
              "    <td></td>   <th>            Real</th>  <th>         Imaginary</th> <th>         Modulus</th>  <th>        Frequency</th>\n",
              "</tr>\n",
              "<tr>\n",
              "  <th>AR.1</th> <td>           0.4306</td> <td>          -0.9144j</td> <td>           1.0107</td> <td>          -0.1799</td>\n",
              "</tr>\n",
              "<tr>\n",
              "  <th>AR.2</th> <td>           0.4306</td> <td>          +0.9144j</td> <td>           1.0107</td> <td>           0.1799</td>\n",
              "</tr>\n",
              "<tr>\n",
              "  <th>MA.1</th> <td>           0.4351</td> <td>          -0.9004j</td> <td>           1.0000</td> <td>          -0.1784</td>\n",
              "</tr>\n",
              "<tr>\n",
              "  <th>MA.2</th> <td>           0.4351</td> <td>          +0.9004j</td> <td>           1.0000</td> <td>           0.1784</td>\n",
              "</tr>\n",
              "</table>"
            ],
            "text/plain": [
              "<class 'statsmodels.iolib.summary.Summary'>\n",
              "\"\"\"\n",
              "                             ARIMA Model Results                              \n",
              "==============================================================================\n",
              "Dep. Variable:                    D.y   No. Observations:                 1090\n",
              "Model:                 ARIMA(2, 1, 2)   Log Likelihood               -9209.892\n",
              "Method:                       css-mle   S.D. of innovations           1128.035\n",
              "Date:                Fri, 10 Dec 2021   AIC                          18431.785\n",
              "Time:                        03:30:25   BIC                          18461.748\n",
              "Sample:                             1   HQIC                         18443.125\n",
              "                                                                              \n",
              "==============================================================================\n",
              "                 coef    std err          z      P>|z|      [0.025      0.975]\n",
              "------------------------------------------------------------------------------\n",
              "const         41.9973     33.988      1.236      0.217     -24.618     108.613\n",
              "ar.L1.D.y      0.8432      0.007    122.676      0.000       0.830       0.857\n",
              "ar.L2.D.y     -0.9790      0.008   -116.250      0.000      -0.995      -0.962\n",
              "ma.L1.D.y     -0.8702      0.004   -231.484      0.000      -0.878      -0.863\n",
              "ma.L2.D.y      1.0000        nan        nan        nan         nan         nan\n",
              "                                    Roots                                    \n",
              "=============================================================================\n",
              "                  Real          Imaginary           Modulus         Frequency\n",
              "-----------------------------------------------------------------------------\n",
              "AR.1            0.4306           -0.9144j            1.0107           -0.1799\n",
              "AR.2            0.4306           +0.9144j            1.0107            0.1799\n",
              "MA.1            0.4351           -0.9004j            1.0000           -0.1784\n",
              "MA.2            0.4351           +0.9004j            1.0000            0.1784\n",
              "-----------------------------------------------------------------------------\n",
              "\"\"\""
            ]
          },
          "metadata": {},
          "execution_count": 261
        }
      ]
    },
    {
      "cell_type": "code",
      "source": [
        "forecast_data = model3_fit.forecast(steps=5)\n",
        "forecast_data"
      ],
      "metadata": {
        "colab": {
          "base_uri": "https://localhost:8080/"
        },
        "id": "iaqxu-Z3MtXG",
        "outputId": "f98d7ea3-45b7-4e47-fd41-ab2e029a1e59"
      },
      "execution_count": 262,
      "outputs": [
        {
          "output_type": "execute_result",
          "data": {
            "text/plain": [
              "(array([49351.46028791, 49108.68415616, 48856.14015305, 48928.57238123,\n",
              "        49284.5727998 ]),\n",
              " array([1128.03543391, 1573.88478024, 1917.67828481, 2222.7064436 ,\n",
              "        2502.34267867]),\n",
              " array([[47140.55146417, 51562.36911165],\n",
              "        [46023.92667108, 52193.44164124],\n",
              "        [45097.55978089, 52614.72052522],\n",
              "        [44572.14780357, 53284.99695888],\n",
              "        [44380.07127263, 54189.07432697]]))"
            ]
          },
          "metadata": {},
          "execution_count": 262
        }
      ]
    },
    {
      "cell_type": "code",
      "source": [
        "test_df = df[1091:]\n",
        "test_df"
      ],
      "metadata": {
        "colab": {
          "base_uri": "https://localhost:8080/",
          "height": 206
        },
        "id": "6Oh7fth8MtMr",
        "outputId": "66f9c36f-e8b6-42cb-db29-60c0f0e401cd"
      },
      "execution_count": 263,
      "outputs": [
        {
          "output_type": "execute_result",
          "data": {
            "text/html": [
              "<div>\n",
              "<style scoped>\n",
              "    .dataframe tbody tr th:only-of-type {\n",
              "        vertical-align: middle;\n",
              "    }\n",
              "\n",
              "    .dataframe tbody tr th {\n",
              "        vertical-align: top;\n",
              "    }\n",
              "\n",
              "    .dataframe thead th {\n",
              "        text-align: right;\n",
              "    }\n",
              "</style>\n",
              "<table border=\"1\" class=\"dataframe\">\n",
              "  <thead>\n",
              "    <tr style=\"text-align: right;\">\n",
              "      <th></th>\n",
              "      <th>days</th>\n",
              "      <th>price</th>\n",
              "    </tr>\n",
              "  </thead>\n",
              "  <tbody>\n",
              "    <tr>\n",
              "      <th>1092</th>\n",
              "      <td>2021-12-06</td>\n",
              "      <td>49380.43</td>\n",
              "    </tr>\n",
              "    <tr>\n",
              "      <th>1093</th>\n",
              "      <td>2021-12-07</td>\n",
              "      <td>50564.63</td>\n",
              "    </tr>\n",
              "    <tr>\n",
              "      <th>1094</th>\n",
              "      <td>2021-12-08</td>\n",
              "      <td>50645.41</td>\n",
              "    </tr>\n",
              "    <tr>\n",
              "      <th>1095</th>\n",
              "      <td>2021-12-09</td>\n",
              "      <td>50511.12</td>\n",
              "    </tr>\n",
              "    <tr>\n",
              "      <th>1096</th>\n",
              "      <td>2021-12-10</td>\n",
              "      <td>47659.68</td>\n",
              "    </tr>\n",
              "  </tbody>\n",
              "</table>\n",
              "</div>"
            ],
            "text/plain": [
              "            days     price\n",
              "1092  2021-12-06  49380.43\n",
              "1093  2021-12-07  50564.63\n",
              "1094  2021-12-08  50645.41\n",
              "1095  2021-12-09  50511.12\n",
              "1096  2021-12-10  47659.68"
            ]
          },
          "metadata": {},
          "execution_count": 263
        }
      ]
    },
    {
      "cell_type": "code",
      "source": [
        "pred_y = forecast_data[0]\n",
        "pred_y"
      ],
      "metadata": {
        "colab": {
          "base_uri": "https://localhost:8080/"
        },
        "id": "6gxSjZwnUj5f",
        "outputId": "a1f2a9ac-3d37-4905-c92e-5f64b86db147"
      },
      "execution_count": 264,
      "outputs": [
        {
          "output_type": "execute_result",
          "data": {
            "text/plain": [
              "array([49351.46028791, 49108.68415616, 48856.14015305, 48928.57238123,\n",
              "       49284.5727998 ])"
            ]
          },
          "metadata": {},
          "execution_count": 264
        }
      ]
    },
    {
      "cell_type": "code",
      "source": [
        "pred_y = pred_y.tolist()\n",
        "pred_y"
      ],
      "metadata": {
        "colab": {
          "base_uri": "https://localhost:8080/"
        },
        "id": "-pUbUzY8Ujw4",
        "outputId": "e2fd08f8-a5b9-4539-f511-d31cad58d48d"
      },
      "execution_count": 265,
      "outputs": [
        {
          "output_type": "execute_result",
          "data": {
            "text/plain": [
              "[49351.4602879105,\n",
              " 49108.68415616176,\n",
              " 48856.140153054264,\n",
              " 48928.572381226055,\n",
              " 49284.572799801]"
            ]
          },
          "metadata": {},
          "execution_count": 265
        }
      ]
    },
    {
      "cell_type": "code",
      "source": [
        "test_df['price'] = test_df['price'].astype(float)"
      ],
      "metadata": {
        "colab": {
          "base_uri": "https://localhost:8080/"
        },
        "id": "GX18vnjFZ9rv",
        "outputId": "1fffac8f-31ec-4eee-8812-df6126ed4f26"
      },
      "execution_count": 274,
      "outputs": [
        {
          "output_type": "stream",
          "name": "stderr",
          "text": [
            "/usr/local/lib/python3.7/dist-packages/ipykernel_launcher.py:1: SettingWithCopyWarning: \n",
            "A value is trying to be set on a copy of a slice from a DataFrame.\n",
            "Try using .loc[row_indexer,col_indexer] = value instead\n",
            "\n",
            "See the caveats in the documentation: https://pandas.pydata.org/pandas-docs/stable/user_guide/indexing.html#returning-a-view-versus-a-copy\n",
            "  \"\"\"Entry point for launching an IPython kernel.\n"
          ]
        }
      ]
    },
    {
      "cell_type": "code",
      "source": [
        "test_y = test_df.price.values.tolist()\n",
        "test_y"
      ],
      "metadata": {
        "colab": {
          "base_uri": "https://localhost:8080/"
        },
        "id": "hVSo13mJUjkJ",
        "outputId": "12993132-8ee2-4b93-c77d-553e7d21d3eb"
      },
      "execution_count": 275,
      "outputs": [
        {
          "output_type": "execute_result",
          "data": {
            "text/plain": [
              "[49380.43, 50564.63, 50645.41, 50511.12, 47659.68]"
            ]
          },
          "metadata": {},
          "execution_count": 275
        }
      ]
    },
    {
      "cell_type": "code",
      "source": [
        "plt.plot(test_df['days'],pred_y)\n",
        "plt.plot(test_df['days'],test_y)"
      ],
      "metadata": {
        "colab": {
          "base_uri": "https://localhost:8080/",
          "height": 282
        },
        "id": "eANYz24OUvDT",
        "outputId": "d851055e-73be-4c1d-bbf5-5ce604c61c82"
      },
      "execution_count": 277,
      "outputs": [
        {
          "output_type": "execute_result",
          "data": {
            "text/plain": [
              "[<matplotlib.lines.Line2D at 0x7fac1502cf50>]"
            ]
          },
          "metadata": {},
          "execution_count": 277
        },
        {
          "output_type": "display_data",
          "data": {
            "image/png": "[encoded data removed]",
            "text/plain": [
              "<Figure size 432x288 with 1 Axes>"
            ]
          },
          "metadata": {
            "needs_background": "light"
          }
        }
      ]
    },
    {
      "cell_type": "code",
      "source": [
        "# Additive 모델 = ARIMA + 기간의 trend : facebook"
      ],
      "metadata": {
        "id": "opCKHFSG74c6"
      },
      "execution_count": 241,
      "outputs": []
    },
    {
      "cell_type": "code",
      "source": [
        "from fbprophet import Prophet"
      ],
      "metadata": {
        "id": "PzU0kEQg794a"
      },
      "execution_count": 278,
      "outputs": []
    },
    {
      "cell_type": "code",
      "source": [
        "bitcoin_df2 = pd.read_csv(file_path, names=['ds','y'])"
      ],
      "metadata": {
        "id": "zY7bECWZ_Q2l"
      },
      "execution_count": 279,
      "outputs": []
    },
    {
      "cell_type": "code",
      "source": [
        "bitcoin_df2"
      ],
      "metadata": {
        "colab": {
          "base_uri": "https://localhost:8080/",
          "height": 424
        },
        "id": "npc5OQWTbWF9",
        "outputId": "99a3eeea-3855-4e1e-dd15-f83db12e83f4"
      },
      "execution_count": 280,
      "outputs": [
        {
          "output_type": "execute_result",
          "data": {
            "text/html": [
              "<div>\n",
              "<style scoped>\n",
              "    .dataframe tbody tr th:only-of-type {\n",
              "        vertical-align: middle;\n",
              "    }\n",
              "\n",
              "    .dataframe tbody tr th {\n",
              "        vertical-align: top;\n",
              "    }\n",
              "\n",
              "    .dataframe thead th {\n",
              "        text-align: right;\n",
              "    }\n",
              "</style>\n",
              "<table border=\"1\" class=\"dataframe\">\n",
              "  <thead>\n",
              "    <tr style=\"text-align: right;\">\n",
              "      <th></th>\n",
              "      <th>ds</th>\n",
              "      <th>y</th>\n",
              "    </tr>\n",
              "  </thead>\n",
              "  <tbody>\n",
              "    <tr>\n",
              "      <th>0</th>\n",
              "      <td>2020-12-09</td>\n",
              "      <td>18318.87</td>\n",
              "    </tr>\n",
              "    <tr>\n",
              "      <th>1</th>\n",
              "      <td>2020-12-10</td>\n",
              "      <td>18554.15</td>\n",
              "    </tr>\n",
              "    <tr>\n",
              "      <th>2</th>\n",
              "      <td>2020-12-11</td>\n",
              "      <td>18247.76</td>\n",
              "    </tr>\n",
              "    <tr>\n",
              "      <th>3</th>\n",
              "      <td>2020-12-12</td>\n",
              "      <td>18029.36</td>\n",
              "    </tr>\n",
              "    <tr>\n",
              "      <th>4</th>\n",
              "      <td>2020-12-13</td>\n",
              "      <td>18803.44</td>\n",
              "    </tr>\n",
              "    <tr>\n",
              "      <th>...</th>\n",
              "      <td>...</td>\n",
              "      <td>...</td>\n",
              "    </tr>\n",
              "    <tr>\n",
              "      <th>361</th>\n",
              "      <td>2021-12-05</td>\n",
              "      <td>49253.86</td>\n",
              "    </tr>\n",
              "    <tr>\n",
              "      <th>362</th>\n",
              "      <td>2021-12-06</td>\n",
              "      <td>49380.43</td>\n",
              "    </tr>\n",
              "    <tr>\n",
              "      <th>363</th>\n",
              "      <td>2021-12-07</td>\n",
              "      <td>50564.63</td>\n",
              "    </tr>\n",
              "    <tr>\n",
              "      <th>364</th>\n",
              "      <td>2021-12-08</td>\n",
              "      <td>50645.41</td>\n",
              "    </tr>\n",
              "    <tr>\n",
              "      <th>365</th>\n",
              "      <td>2021-12-09</td>\n",
              "      <td>50511.12</td>\n",
              "    </tr>\n",
              "  </tbody>\n",
              "</table>\n",
              "<p>366 rows × 2 columns</p>\n",
              "</div>"
            ],
            "text/plain": [
              "             ds         y\n",
              "0    2020-12-09  18318.87\n",
              "1    2020-12-10  18554.15\n",
              "2    2020-12-11  18247.76\n",
              "3    2020-12-12  18029.36\n",
              "4    2020-12-13  18803.44\n",
              "..          ...       ...\n",
              "361  2021-12-05  49253.86\n",
              "362  2021-12-06  49380.43\n",
              "363  2021-12-07  50564.63\n",
              "364  2021-12-08  50645.41\n",
              "365  2021-12-09  50511.12\n",
              "\n",
              "[366 rows x 2 columns]"
            ]
          },
          "metadata": {},
          "execution_count": 280
        }
      ]
    },
    {
      "cell_type": "code",
      "source": [
        "prophet = Prophet(seasonality_mode='multiplicative',\n",
        "                  yearly_seasonality=True,\n",
        "                  weekly_seasonality=True,\n",
        "                  daily_seasonality=True,\n",
        "                  changepoint_prior_scale=0.5)"
      ],
      "metadata": {
        "id": "Q8SFa5MdbW9R"
      },
      "execution_count": 281,
      "outputs": []
    },
    {
      "cell_type": "code",
      "source": [
        "prophet.fit(bitcoin_df2)"
      ],
      "metadata": {
        "colab": {
          "base_uri": "https://localhost:8080/"
        },
        "id": "1HdiDjySc7dB",
        "outputId": "4dbf89aa-28dc-431b-9721-2f5a333a4313"
      },
      "execution_count": 282,
      "outputs": [
        {
          "output_type": "execute_result",
          "data": {
            "text/plain": [
              "<fbprophet.forecaster.Prophet at 0x7fac13218910>"
            ]
          },
          "metadata": {},
          "execution_count": 282
        }
      ]
    },
    {
      "cell_type": "code",
      "source": [
        "future_data = prophet.make_future_dataframe(periods=5,freq='d')\n",
        "forecast_data = prophet.predict(future_data)\n",
        "forecast_data"
      ],
      "metadata": {
        "colab": {
          "base_uri": "https://localhost:8080/",
          "height": 617
        },
        "id": "EEh7w_gHc_Kt",
        "outputId": "5ce4050c-629d-4133-b25e-f5bcace4e3fb"
      },
      "execution_count": 283,
      "outputs": [
        {
          "output_type": "execute_result",
          "data": {
            "text/html": [
              "<div>\n",
              "<style scoped>\n",
              "    .dataframe tbody tr th:only-of-type {\n",
              "        vertical-align: middle;\n",
              "    }\n",
              "\n",
              "    .dataframe tbody tr th {\n",
              "        vertical-align: top;\n",
              "    }\n",
              "\n",
              "    .dataframe thead th {\n",
              "        text-align: right;\n",
              "    }\n",
              "</style>\n",
              "<table border=\"1\" class=\"dataframe\">\n",
              "  <thead>\n",
              "    <tr style=\"text-align: right;\">\n",
              "      <th></th>\n",
              "      <th>ds</th>\n",
              "      <th>trend</th>\n",
              "      <th>yhat_lower</th>\n",
              "      <th>yhat_upper</th>\n",
              "      <th>trend_lower</th>\n",
              "      <th>trend_upper</th>\n",
              "      <th>daily</th>\n",
              "      <th>daily_lower</th>\n",
              "      <th>daily_upper</th>\n",
              "      <th>multiplicative_terms</th>\n",
              "      <th>multiplicative_terms_lower</th>\n",
              "      <th>multiplicative_terms_upper</th>\n",
              "      <th>weekly</th>\n",
              "      <th>weekly_lower</th>\n",
              "      <th>weekly_upper</th>\n",
              "      <th>yearly</th>\n",
              "      <th>yearly_lower</th>\n",
              "      <th>yearly_upper</th>\n",
              "      <th>additive_terms</th>\n",
              "      <th>additive_terms_lower</th>\n",
              "      <th>additive_terms_upper</th>\n",
              "      <th>yhat</th>\n",
              "    </tr>\n",
              "  </thead>\n",
              "  <tbody>\n",
              "    <tr>\n",
              "      <th>0</th>\n",
              "      <td>2020-12-09</td>\n",
              "      <td>2224.520601</td>\n",
              "      <td>16267.221953</td>\n",
              "      <td>20564.744078</td>\n",
              "      <td>2224.520601</td>\n",
              "      <td>2224.520601</td>\n",
              "      <td>10.589405</td>\n",
              "      <td>10.589405</td>\n",
              "      <td>10.589405</td>\n",
              "      <td>7.270101</td>\n",
              "      <td>7.270101</td>\n",
              "      <td>7.270101</td>\n",
              "      <td>-0.042453</td>\n",
              "      <td>-0.042453</td>\n",
              "      <td>-0.042453</td>\n",
              "      <td>-3.276850</td>\n",
              "      <td>-3.276850</td>\n",
              "      <td>-3.276850</td>\n",
              "      <td>0.0</td>\n",
              "      <td>0.0</td>\n",
              "      <td>0.0</td>\n",
              "      <td>18397.010913</td>\n",
              "    </tr>\n",
              "    <tr>\n",
              "      <th>1</th>\n",
              "      <td>2020-12-10</td>\n",
              "      <td>2245.025866</td>\n",
              "      <td>16432.938356</td>\n",
              "      <td>20898.692561</td>\n",
              "      <td>2245.025866</td>\n",
              "      <td>2245.025866</td>\n",
              "      <td>10.589405</td>\n",
              "      <td>10.589405</td>\n",
              "      <td>10.589405</td>\n",
              "      <td>7.273211</td>\n",
              "      <td>7.273211</td>\n",
              "      <td>7.273211</td>\n",
              "      <td>0.017467</td>\n",
              "      <td>0.017467</td>\n",
              "      <td>0.017467</td>\n",
              "      <td>-3.333660</td>\n",
              "      <td>-3.333660</td>\n",
              "      <td>-3.333660</td>\n",
              "      <td>0.0</td>\n",
              "      <td>0.0</td>\n",
              "      <td>0.0</td>\n",
              "      <td>18573.573214</td>\n",
              "    </tr>\n",
              "    <tr>\n",
              "      <th>2</th>\n",
              "      <td>2020-12-11</td>\n",
              "      <td>2265.531130</td>\n",
              "      <td>16293.698995</td>\n",
              "      <td>20644.022921</td>\n",
              "      <td>2265.531130</td>\n",
              "      <td>2265.531130</td>\n",
              "      <td>10.589405</td>\n",
              "      <td>10.589405</td>\n",
              "      <td>10.589405</td>\n",
              "      <td>7.177258</td>\n",
              "      <td>7.177258</td>\n",
              "      <td>7.177258</td>\n",
              "      <td>-0.044290</td>\n",
              "      <td>-0.044290</td>\n",
              "      <td>-0.044290</td>\n",
              "      <td>-3.367857</td>\n",
              "      <td>-3.367857</td>\n",
              "      <td>-3.367857</td>\n",
              "      <td>0.0</td>\n",
              "      <td>0.0</td>\n",
              "      <td>0.0</td>\n",
              "      <td>18525.832046</td>\n",
              "    </tr>\n",
              "    <tr>\n",
              "      <th>3</th>\n",
              "      <td>2020-12-12</td>\n",
              "      <td>2286.036394</td>\n",
              "      <td>16657.729890</td>\n",
              "      <td>21101.485434</td>\n",
              "      <td>2286.036394</td>\n",
              "      <td>2286.036394</td>\n",
              "      <td>10.589405</td>\n",
              "      <td>10.589405</td>\n",
              "      <td>10.589405</td>\n",
              "      <td>7.232412</td>\n",
              "      <td>7.232412</td>\n",
              "      <td>7.232412</td>\n",
              "      <td>0.021332</td>\n",
              "      <td>0.021332</td>\n",
              "      <td>0.021332</td>\n",
              "      <td>-3.378325</td>\n",
              "      <td>-3.378325</td>\n",
              "      <td>-3.378325</td>\n",
              "      <td>0.0</td>\n",
              "      <td>0.0</td>\n",
              "      <td>0.0</td>\n",
              "      <td>18819.592860</td>\n",
              "    </tr>\n",
              "    <tr>\n",
              "      <th>4</th>\n",
              "      <td>2020-12-13</td>\n",
              "      <td>2306.541659</td>\n",
              "      <td>16845.567619</td>\n",
              "      <td>21222.092171</td>\n",
              "      <td>2306.541659</td>\n",
              "      <td>2306.541659</td>\n",
              "      <td>10.589405</td>\n",
              "      <td>10.589405</td>\n",
              "      <td>10.589405</td>\n",
              "      <td>7.243287</td>\n",
              "      <td>7.243287</td>\n",
              "      <td>7.243287</td>\n",
              "      <td>0.018141</td>\n",
              "      <td>0.018141</td>\n",
              "      <td>0.018141</td>\n",
              "      <td>-3.364259</td>\n",
              "      <td>-3.364259</td>\n",
              "      <td>-3.364259</td>\n",
              "      <td>0.0</td>\n",
              "      <td>0.0</td>\n",
              "      <td>0.0</td>\n",
              "      <td>19013.485085</td>\n",
              "    </tr>\n",
              "    <tr>\n",
              "      <th>...</th>\n",
              "      <td>...</td>\n",
              "      <td>...</td>\n",
              "      <td>...</td>\n",
              "      <td>...</td>\n",
              "      <td>...</td>\n",
              "      <td>...</td>\n",
              "      <td>...</td>\n",
              "      <td>...</td>\n",
              "      <td>...</td>\n",
              "      <td>...</td>\n",
              "      <td>...</td>\n",
              "      <td>...</td>\n",
              "      <td>...</td>\n",
              "      <td>...</td>\n",
              "      <td>...</td>\n",
              "      <td>...</td>\n",
              "      <td>...</td>\n",
              "      <td>...</td>\n",
              "      <td>...</td>\n",
              "      <td>...</td>\n",
              "      <td>...</td>\n",
              "      <td>...</td>\n",
              "    </tr>\n",
              "    <tr>\n",
              "      <th>366</th>\n",
              "      <td>2021-12-10</td>\n",
              "      <td>6142.437574</td>\n",
              "      <td>48312.842123</td>\n",
              "      <td>52844.456302</td>\n",
              "      <td>6142.437574</td>\n",
              "      <td>6142.437574</td>\n",
              "      <td>10.589405</td>\n",
              "      <td>10.589405</td>\n",
              "      <td>10.589405</td>\n",
              "      <td>7.223587</td>\n",
              "      <td>7.223587</td>\n",
              "      <td>7.223587</td>\n",
              "      <td>-0.044290</td>\n",
              "      <td>-0.044290</td>\n",
              "      <td>-0.044290</td>\n",
              "      <td>-3.321528</td>\n",
              "      <td>-3.321528</td>\n",
              "      <td>-3.321528</td>\n",
              "      <td>0.0</td>\n",
              "      <td>0.0</td>\n",
              "      <td>0.0</td>\n",
              "      <td>50512.869646</td>\n",
              "    </tr>\n",
              "    <tr>\n",
              "      <th>367</th>\n",
              "      <td>2021-12-11</td>\n",
              "      <td>6183.302817</td>\n",
              "      <td>48691.484435</td>\n",
              "      <td>53196.562850</td>\n",
              "      <td>6183.302817</td>\n",
              "      <td>6183.302817</td>\n",
              "      <td>10.589405</td>\n",
              "      <td>10.589405</td>\n",
              "      <td>10.589405</td>\n",
              "      <td>7.249243</td>\n",
              "      <td>7.249243</td>\n",
              "      <td>7.249243</td>\n",
              "      <td>0.021332</td>\n",
              "      <td>0.021332</td>\n",
              "      <td>0.021332</td>\n",
              "      <td>-3.361494</td>\n",
              "      <td>-3.361494</td>\n",
              "      <td>-3.361494</td>\n",
              "      <td>0.0</td>\n",
              "      <td>0.0</td>\n",
              "      <td>0.0</td>\n",
              "      <td>51007.566222</td>\n",
              "    </tr>\n",
              "    <tr>\n",
              "      <th>368</th>\n",
              "      <td>2021-12-12</td>\n",
              "      <td>6224.168061</td>\n",
              "      <td>48860.392049</td>\n",
              "      <td>53685.220554</td>\n",
              "      <td>6224.168061</td>\n",
              "      <td>6224.168061</td>\n",
              "      <td>10.589405</td>\n",
              "      <td>10.589405</td>\n",
              "      <td>10.589405</td>\n",
              "      <td>7.229564</td>\n",
              "      <td>7.229564</td>\n",
              "      <td>7.229564</td>\n",
              "      <td>0.018141</td>\n",
              "      <td>0.018141</td>\n",
              "      <td>0.018141</td>\n",
              "      <td>-3.377982</td>\n",
              "      <td>-3.377982</td>\n",
              "      <td>-3.377982</td>\n",
              "      <td>0.0</td>\n",
              "      <td>0.0</td>\n",
              "      <td>0.0</td>\n",
              "      <td>51222.189345</td>\n",
              "    </tr>\n",
              "    <tr>\n",
              "      <th>369</th>\n",
              "      <td>2021-12-13</td>\n",
              "      <td>6265.033305</td>\n",
              "      <td>49089.901801</td>\n",
              "      <td>53835.512721</td>\n",
              "      <td>6248.727784</td>\n",
              "      <td>6275.204966</td>\n",
              "      <td>10.589405</td>\n",
              "      <td>10.589405</td>\n",
              "      <td>10.589405</td>\n",
              "      <td>7.229249</td>\n",
              "      <td>7.229249</td>\n",
              "      <td>7.229249</td>\n",
              "      <td>0.009951</td>\n",
              "      <td>0.009951</td>\n",
              "      <td>0.009951</td>\n",
              "      <td>-3.370107</td>\n",
              "      <td>-3.370107</td>\n",
              "      <td>-3.370107</td>\n",
              "      <td>0.0</td>\n",
              "      <td>0.0</td>\n",
              "      <td>0.0</td>\n",
              "      <td>51556.521793</td>\n",
              "    </tr>\n",
              "    <tr>\n",
              "      <th>370</th>\n",
              "      <td>2021-12-14</td>\n",
              "      <td>6305.898548</td>\n",
              "      <td>49532.347104</td>\n",
              "      <td>54831.879523</td>\n",
              "      <td>6269.743179</td>\n",
              "      <td>6346.754059</td>\n",
              "      <td>10.589405</td>\n",
              "      <td>10.589405</td>\n",
              "      <td>10.589405</td>\n",
              "      <td>7.271935</td>\n",
              "      <td>7.271935</td>\n",
              "      <td>7.271935</td>\n",
              "      <td>0.019852</td>\n",
              "      <td>0.019852</td>\n",
              "      <td>0.019852</td>\n",
              "      <td>-3.337321</td>\n",
              "      <td>-3.337321</td>\n",
              "      <td>-3.337321</td>\n",
              "      <td>0.0</td>\n",
              "      <td>0.0</td>\n",
              "      <td>0.0</td>\n",
              "      <td>52161.984803</td>\n",
              "    </tr>\n",
              "  </tbody>\n",
              "</table>\n",
              "<p>371 rows × 22 columns</p>\n",
              "</div>"
            ],
            "text/plain": [
              "            ds        trend  ...  additive_terms_upper          yhat\n",
              "0   2020-12-09  2224.520601  ...                   0.0  18397.010913\n",
              "1   2020-12-10  2245.025866  ...                   0.0  18573.573214\n",
              "2   2020-12-11  2265.531130  ...                   0.0  18525.832046\n",
              "3   2020-12-12  2286.036394  ...                   0.0  18819.592860\n",
              "4   2020-12-13  2306.541659  ...                   0.0  19013.485085\n",
              "..         ...          ...  ...                   ...           ...\n",
              "366 2021-12-10  6142.437574  ...                   0.0  50512.869646\n",
              "367 2021-12-11  6183.302817  ...                   0.0  51007.566222\n",
              "368 2021-12-12  6224.168061  ...                   0.0  51222.189345\n",
              "369 2021-12-13  6265.033305  ...                   0.0  51556.521793\n",
              "370 2021-12-14  6305.898548  ...                   0.0  52161.984803\n",
              "\n",
              "[371 rows x 22 columns]"
            ]
          },
          "metadata": {},
          "execution_count": 283
        }
      ]
    },
    {
      "cell_type": "code",
      "source": [
        "forecast_data[['ds','yhat','yhat_lower','yhat_upper']].tail(5)"
      ],
      "metadata": {
        "colab": {
          "base_uri": "https://localhost:8080/",
          "height": 206
        },
        "id": "UOLylq93dUaD",
        "outputId": "95bafb4c-3d8c-4af5-e36a-8892a97b03b4"
      },
      "execution_count": 284,
      "outputs": [
        {
          "output_type": "execute_result",
          "data": {
            "text/html": [
              "<div>\n",
              "<style scoped>\n",
              "    .dataframe tbody tr th:only-of-type {\n",
              "        vertical-align: middle;\n",
              "    }\n",
              "\n",
              "    .dataframe tbody tr th {\n",
              "        vertical-align: top;\n",
              "    }\n",
              "\n",
              "    .dataframe thead th {\n",
              "        text-align: right;\n",
              "    }\n",
              "</style>\n",
              "<table border=\"1\" class=\"dataframe\">\n",
              "  <thead>\n",
              "    <tr style=\"text-align: right;\">\n",
              "      <th></th>\n",
              "      <th>ds</th>\n",
              "      <th>yhat</th>\n",
              "      <th>yhat_lower</th>\n",
              "      <th>yhat_upper</th>\n",
              "    </tr>\n",
              "  </thead>\n",
              "  <tbody>\n",
              "    <tr>\n",
              "      <th>366</th>\n",
              "      <td>2021-12-10</td>\n",
              "      <td>50512.869646</td>\n",
              "      <td>48312.842123</td>\n",
              "      <td>52844.456302</td>\n",
              "    </tr>\n",
              "    <tr>\n",
              "      <th>367</th>\n",
              "      <td>2021-12-11</td>\n",
              "      <td>51007.566222</td>\n",
              "      <td>48691.484435</td>\n",
              "      <td>53196.562850</td>\n",
              "    </tr>\n",
              "    <tr>\n",
              "      <th>368</th>\n",
              "      <td>2021-12-12</td>\n",
              "      <td>51222.189345</td>\n",
              "      <td>48860.392049</td>\n",
              "      <td>53685.220554</td>\n",
              "    </tr>\n",
              "    <tr>\n",
              "      <th>369</th>\n",
              "      <td>2021-12-13</td>\n",
              "      <td>51556.521793</td>\n",
              "      <td>49089.901801</td>\n",
              "      <td>53835.512721</td>\n",
              "    </tr>\n",
              "    <tr>\n",
              "      <th>370</th>\n",
              "      <td>2021-12-14</td>\n",
              "      <td>52161.984803</td>\n",
              "      <td>49532.347104</td>\n",
              "      <td>54831.879523</td>\n",
              "    </tr>\n",
              "  </tbody>\n",
              "</table>\n",
              "</div>"
            ],
            "text/plain": [
              "            ds          yhat    yhat_lower    yhat_upper\n",
              "366 2021-12-10  50512.869646  48312.842123  52844.456302\n",
              "367 2021-12-11  51007.566222  48691.484435  53196.562850\n",
              "368 2021-12-12  51222.189345  48860.392049  53685.220554\n",
              "369 2021-12-13  51556.521793  49089.901801  53835.512721\n",
              "370 2021-12-14  52161.984803  49532.347104  54831.879523"
            ]
          },
          "metadata": {},
          "execution_count": 284
        }
      ]
    },
    {
      "cell_type": "code",
      "source": [
        "fig2 = prophet.plot_components(forecast_data)"
      ],
      "metadata": {
        "colab": {
          "base_uri": "https://localhost:8080/",
          "height": 873
        },
        "id": "loLsRgWvdtrq",
        "outputId": "9373869c-85f4-4a30-fb05-c33fecee0cbb"
      },
      "execution_count": 285,
      "outputs": [
        {
          "output_type": "display_data",
          "data": {
            "image/png": "[encoded data removed]",
            "text/plain": [
              "<Figure size 648x864 with 4 Axes>"
            ]
          },
          "metadata": {}
        }
      ]
    },
    {
      "cell_type": "code",
      "source": [
        ""
      ],
      "metadata": {
        "id": "NW8zF2qSeU2R"
      },
      "execution_count": null,
      "outputs": []
    }
  ]
}