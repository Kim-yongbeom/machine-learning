{
  "nbformat": 4,
  "nbformat_minor": 0,
  "metadata": {
    "colab": {
      "name": "집값예측_시계열.ipynb",
      "provenance": [],
      "mount_file_id": "1ITMy-57zCT77NyMMxkkM-CHv7rJI1lF1",
      "authorship_tag": "ABX9TyOY4QMnnfy3l4ugyQbR8wS9",
      "include_colab_link": true
    },
    "kernelspec": {
      "name": "python3",
      "display_name": "Python 3"
    },
    "language_info": {
      "name": "python"
    }
  },
  "cells": [
    {
      "cell_type": "markdown",
      "metadata": {
        "id": "view-in-github",
        "colab_type": "text"
      },
      "source": [
        "<a href=\"https://colab.research.google.com/github/Kim-yongbeom/machine-learning/blob/main/data12/%EC%A7%91%EA%B0%92%EC%98%88%EC%B8%A1_%EC%8B%9C%EA%B3%84%EC%97%B4.ipynb\" target=\"_parent\"><img src=\"https://colab.research.google.com/assets/colab-badge.svg\" alt=\"Open In Colab\"/></a>"
      ]
    },
    {
      "cell_type": "code",
      "execution_count": 366,
      "metadata": {
        "id": "sY1IiO6w03wM"
      },
      "outputs": [],
      "source": [
        "from google.colab.patches import cv2_imshow"
      ]
    },
    {
      "cell_type": "code",
      "source": [
        "import pandas as pd\n",
        "import numpy as np\n",
        "import matplotlib.pyplot as plt"
      ],
      "metadata": {
        "id": "l6urmB4D09Vq"
      },
      "execution_count": 367,
      "outputs": []
    },
    {
      "cell_type": "code",
      "source": [
        "house_df = pd.read_csv('/content/drive/MyDrive/Colab Notebooks/house.csv')\n",
        "house_df"
      ],
      "metadata": {
        "colab": {
          "base_uri": "https://localhost:8080/",
          "height": 424
        },
        "id": "5lvafpPI0_hV",
        "outputId": "4bc09ab8-2b92-414b-be1f-f7d69af62c5d"
      },
      "execution_count": 368,
      "outputs": [
        {
          "output_type": "execute_result",
          "data": {
            "text/html": [
              "<div>\n",
              "<style scoped>\n",
              "    .dataframe tbody tr th:only-of-type {\n",
              "        vertical-align: middle;\n",
              "    }\n",
              "\n",
              "    .dataframe tbody tr th {\n",
              "        vertical-align: top;\n",
              "    }\n",
              "\n",
              "    .dataframe thead th {\n",
              "        text-align: right;\n",
              "    }\n",
              "</style>\n",
              "<table border=\"1\" class=\"dataframe\">\n",
              "  <thead>\n",
              "    <tr style=\"text-align: right;\">\n",
              "      <th></th>\n",
              "      <th>Unnamed: 0</th>\n",
              "      <th>datesold</th>\n",
              "      <th>price</th>\n",
              "      <th>bedrooms</th>\n",
              "    </tr>\n",
              "  </thead>\n",
              "  <tbody>\n",
              "    <tr>\n",
              "      <th>0</th>\n",
              "      <td>0</td>\n",
              "      <td>2007-02-07</td>\n",
              "      <td>525000</td>\n",
              "      <td>4</td>\n",
              "    </tr>\n",
              "    <tr>\n",
              "      <th>1</th>\n",
              "      <td>1</td>\n",
              "      <td>2007-02-27</td>\n",
              "      <td>290000</td>\n",
              "      <td>3</td>\n",
              "    </tr>\n",
              "    <tr>\n",
              "      <th>2</th>\n",
              "      <td>2</td>\n",
              "      <td>2007-03-07</td>\n",
              "      <td>328000</td>\n",
              "      <td>3</td>\n",
              "    </tr>\n",
              "    <tr>\n",
              "      <th>3</th>\n",
              "      <td>3</td>\n",
              "      <td>2007-03-09</td>\n",
              "      <td>380000</td>\n",
              "      <td>4</td>\n",
              "    </tr>\n",
              "    <tr>\n",
              "      <th>4</th>\n",
              "      <td>4</td>\n",
              "      <td>2007-03-21</td>\n",
              "      <td>310000</td>\n",
              "      <td>3</td>\n",
              "    </tr>\n",
              "    <tr>\n",
              "      <th>...</th>\n",
              "      <td>...</td>\n",
              "      <td>...</td>\n",
              "      <td>...</td>\n",
              "      <td>...</td>\n",
              "    </tr>\n",
              "    <tr>\n",
              "      <th>29575</th>\n",
              "      <td>29575</td>\n",
              "      <td>2019-07-25</td>\n",
              "      <td>500000</td>\n",
              "      <td>3</td>\n",
              "    </tr>\n",
              "    <tr>\n",
              "      <th>29576</th>\n",
              "      <td>29576</td>\n",
              "      <td>2019-07-25</td>\n",
              "      <td>560000</td>\n",
              "      <td>2</td>\n",
              "    </tr>\n",
              "    <tr>\n",
              "      <th>29577</th>\n",
              "      <td>29577</td>\n",
              "      <td>2019-07-26</td>\n",
              "      <td>464950</td>\n",
              "      <td>2</td>\n",
              "    </tr>\n",
              "    <tr>\n",
              "      <th>29578</th>\n",
              "      <td>29578</td>\n",
              "      <td>2019-07-26</td>\n",
              "      <td>589000</td>\n",
              "      <td>2</td>\n",
              "    </tr>\n",
              "    <tr>\n",
              "      <th>29579</th>\n",
              "      <td>29579</td>\n",
              "      <td>2019-07-26</td>\n",
              "      <td>775000</td>\n",
              "      <td>2</td>\n",
              "    </tr>\n",
              "  </tbody>\n",
              "</table>\n",
              "<p>29580 rows × 4 columns</p>\n",
              "</div>"
            ],
            "text/plain": [
              "       Unnamed: 0    datesold   price  bedrooms\n",
              "0               0  2007-02-07  525000         4\n",
              "1               1  2007-02-27  290000         3\n",
              "2               2  2007-03-07  328000         3\n",
              "3               3  2007-03-09  380000         4\n",
              "4               4  2007-03-21  310000         3\n",
              "...           ...         ...     ...       ...\n",
              "29575       29575  2019-07-25  500000         3\n",
              "29576       29576  2019-07-25  560000         2\n",
              "29577       29577  2019-07-26  464950         2\n",
              "29578       29578  2019-07-26  589000         2\n",
              "29579       29579  2019-07-26  775000         2\n",
              "\n",
              "[29580 rows x 4 columns]"
            ]
          },
          "metadata": {},
          "execution_count": 368
        }
      ]
    },
    {
      "cell_type": "code",
      "source": [
        "del(house_df['Unnamed: 0'])\n",
        "house_df"
      ],
      "metadata": {
        "colab": {
          "base_uri": "https://localhost:8080/",
          "height": 424
        },
        "id": "6Mp-CZcU1RfI",
        "outputId": "984151ef-3170-49bf-fee2-387d5bd4f5e1"
      },
      "execution_count": 369,
      "outputs": [
        {
          "output_type": "execute_result",
          "data": {
            "text/html": [
              "<div>\n",
              "<style scoped>\n",
              "    .dataframe tbody tr th:only-of-type {\n",
              "        vertical-align: middle;\n",
              "    }\n",
              "\n",
              "    .dataframe tbody tr th {\n",
              "        vertical-align: top;\n",
              "    }\n",
              "\n",
              "    .dataframe thead th {\n",
              "        text-align: right;\n",
              "    }\n",
              "</style>\n",
              "<table border=\"1\" class=\"dataframe\">\n",
              "  <thead>\n",
              "    <tr style=\"text-align: right;\">\n",
              "      <th></th>\n",
              "      <th>datesold</th>\n",
              "      <th>price</th>\n",
              "      <th>bedrooms</th>\n",
              "    </tr>\n",
              "  </thead>\n",
              "  <tbody>\n",
              "    <tr>\n",
              "      <th>0</th>\n",
              "      <td>2007-02-07</td>\n",
              "      <td>525000</td>\n",
              "      <td>4</td>\n",
              "    </tr>\n",
              "    <tr>\n",
              "      <th>1</th>\n",
              "      <td>2007-02-27</td>\n",
              "      <td>290000</td>\n",
              "      <td>3</td>\n",
              "    </tr>\n",
              "    <tr>\n",
              "      <th>2</th>\n",
              "      <td>2007-03-07</td>\n",
              "      <td>328000</td>\n",
              "      <td>3</td>\n",
              "    </tr>\n",
              "    <tr>\n",
              "      <th>3</th>\n",
              "      <td>2007-03-09</td>\n",
              "      <td>380000</td>\n",
              "      <td>4</td>\n",
              "    </tr>\n",
              "    <tr>\n",
              "      <th>4</th>\n",
              "      <td>2007-03-21</td>\n",
              "      <td>310000</td>\n",
              "      <td>3</td>\n",
              "    </tr>\n",
              "    <tr>\n",
              "      <th>...</th>\n",
              "      <td>...</td>\n",
              "      <td>...</td>\n",
              "      <td>...</td>\n",
              "    </tr>\n",
              "    <tr>\n",
              "      <th>29575</th>\n",
              "      <td>2019-07-25</td>\n",
              "      <td>500000</td>\n",
              "      <td>3</td>\n",
              "    </tr>\n",
              "    <tr>\n",
              "      <th>29576</th>\n",
              "      <td>2019-07-25</td>\n",
              "      <td>560000</td>\n",
              "      <td>2</td>\n",
              "    </tr>\n",
              "    <tr>\n",
              "      <th>29577</th>\n",
              "      <td>2019-07-26</td>\n",
              "      <td>464950</td>\n",
              "      <td>2</td>\n",
              "    </tr>\n",
              "    <tr>\n",
              "      <th>29578</th>\n",
              "      <td>2019-07-26</td>\n",
              "      <td>589000</td>\n",
              "      <td>2</td>\n",
              "    </tr>\n",
              "    <tr>\n",
              "      <th>29579</th>\n",
              "      <td>2019-07-26</td>\n",
              "      <td>775000</td>\n",
              "      <td>2</td>\n",
              "    </tr>\n",
              "  </tbody>\n",
              "</table>\n",
              "<p>29580 rows × 3 columns</p>\n",
              "</div>"
            ],
            "text/plain": [
              "         datesold   price  bedrooms\n",
              "0      2007-02-07  525000         4\n",
              "1      2007-02-27  290000         3\n",
              "2      2007-03-07  328000         3\n",
              "3      2007-03-09  380000         4\n",
              "4      2007-03-21  310000         3\n",
              "...           ...     ...       ...\n",
              "29575  2019-07-25  500000         3\n",
              "29576  2019-07-25  560000         2\n",
              "29577  2019-07-26  464950         2\n",
              "29578  2019-07-26  589000         2\n",
              "29579  2019-07-26  775000         2\n",
              "\n",
              "[29580 rows x 3 columns]"
            ]
          },
          "metadata": {},
          "execution_count": 369
        }
      ]
    },
    {
      "cell_type": "code",
      "source": [
        "house_df = house_df[house_df['bedrooms']==4]\n",
        "del(house_df['bedrooms'])\n",
        "house_df['datesold'] = pd.to_datetime(house_df['datesold'])\n",
        "house_df"
      ],
      "metadata": {
        "colab": {
          "base_uri": "https://localhost:8080/",
          "height": 563
        },
        "id": "JELalGMJ2p72",
        "outputId": "34431ca2-cc86-48ab-a5d8-51b71981e8b4"
      },
      "execution_count": 370,
      "outputs": [
        {
          "output_type": "stream",
          "name": "stderr",
          "text": [
            "/usr/local/lib/python3.7/dist-packages/ipykernel_launcher.py:3: SettingWithCopyWarning:\n",
            "\n",
            "\n",
            "A value is trying to be set on a copy of a slice from a DataFrame.\n",
            "Try using .loc[row_indexer,col_indexer] = value instead\n",
            "\n",
            "See the caveats in the documentation: https://pandas.pydata.org/pandas-docs/stable/user_guide/indexing.html#returning-a-view-versus-a-copy\n",
            "\n"
          ]
        },
        {
          "output_type": "execute_result",
          "data": {
            "text/html": [
              "<div>\n",
              "<style scoped>\n",
              "    .dataframe tbody tr th:only-of-type {\n",
              "        vertical-align: middle;\n",
              "    }\n",
              "\n",
              "    .dataframe tbody tr th {\n",
              "        vertical-align: top;\n",
              "    }\n",
              "\n",
              "    .dataframe thead th {\n",
              "        text-align: right;\n",
              "    }\n",
              "</style>\n",
              "<table border=\"1\" class=\"dataframe\">\n",
              "  <thead>\n",
              "    <tr style=\"text-align: right;\">\n",
              "      <th></th>\n",
              "      <th>datesold</th>\n",
              "      <th>price</th>\n",
              "    </tr>\n",
              "  </thead>\n",
              "  <tbody>\n",
              "    <tr>\n",
              "      <th>0</th>\n",
              "      <td>2007-02-07</td>\n",
              "      <td>525000</td>\n",
              "    </tr>\n",
              "    <tr>\n",
              "      <th>3</th>\n",
              "      <td>2007-03-09</td>\n",
              "      <td>380000</td>\n",
              "    </tr>\n",
              "    <tr>\n",
              "      <th>5</th>\n",
              "      <td>2007-04-04</td>\n",
              "      <td>465000</td>\n",
              "    </tr>\n",
              "    <tr>\n",
              "      <th>7</th>\n",
              "      <td>2007-04-30</td>\n",
              "      <td>1530000</td>\n",
              "    </tr>\n",
              "    <tr>\n",
              "      <th>12</th>\n",
              "      <td>2007-06-27</td>\n",
              "      <td>850000</td>\n",
              "    </tr>\n",
              "    <tr>\n",
              "      <th>...</th>\n",
              "      <td>...</td>\n",
              "      <td>...</td>\n",
              "    </tr>\n",
              "    <tr>\n",
              "      <th>28188</th>\n",
              "      <td>2017-12-13</td>\n",
              "      <td>680000</td>\n",
              "    </tr>\n",
              "    <tr>\n",
              "      <th>28304</th>\n",
              "      <td>2018-02-05</td>\n",
              "      <td>535000</td>\n",
              "    </tr>\n",
              "    <tr>\n",
              "      <th>28424</th>\n",
              "      <td>2018-03-13</td>\n",
              "      <td>645000</td>\n",
              "    </tr>\n",
              "    <tr>\n",
              "      <th>28772</th>\n",
              "      <td>2018-07-04</td>\n",
              "      <td>300000</td>\n",
              "    </tr>\n",
              "    <tr>\n",
              "      <th>29421</th>\n",
              "      <td>2019-04-26</td>\n",
              "      <td>769500</td>\n",
              "    </tr>\n",
              "  </tbody>\n",
              "</table>\n",
              "<p>10442 rows × 2 columns</p>\n",
              "</div>"
            ],
            "text/plain": [
              "        datesold    price\n",
              "0     2007-02-07   525000\n",
              "3     2007-03-09   380000\n",
              "5     2007-04-04   465000\n",
              "7     2007-04-30  1530000\n",
              "12    2007-06-27   850000\n",
              "...          ...      ...\n",
              "28188 2017-12-13   680000\n",
              "28304 2018-02-05   535000\n",
              "28424 2018-03-13   645000\n",
              "28772 2018-07-04   300000\n",
              "29421 2019-04-26   769500\n",
              "\n",
              "[10442 rows x 2 columns]"
            ]
          },
          "metadata": {},
          "execution_count": 370
        }
      ]
    },
    {
      "cell_type": "code",
      "source": [
        "house_train_df = house_df.iloc[:10437]\n",
        "len(house_train_df)"
      ],
      "metadata": {
        "colab": {
          "base_uri": "https://localhost:8080/"
        },
        "id": "WTkNHWKX4rEO",
        "outputId": "7f73b646-abf9-49eb-ebee-a95ba0c32424"
      },
      "execution_count": 371,
      "outputs": [
        {
          "output_type": "execute_result",
          "data": {
            "text/plain": [
              "10437"
            ]
          },
          "metadata": {},
          "execution_count": 371
        }
      ]
    },
    {
      "cell_type": "code",
      "source": [
        "house_train_df.set_index('datesold', inplace=True)\n",
        "house_train_df"
      ],
      "metadata": {
        "colab": {
          "base_uri": "https://localhost:8080/",
          "height": 455
        },
        "id": "vJ1WFZV73Jch",
        "outputId": "8f3c38c3-946c-4a5d-95a5-afb6896c2842"
      },
      "execution_count": 372,
      "outputs": [
        {
          "output_type": "execute_result",
          "data": {
            "text/html": [
              "<div>\n",
              "<style scoped>\n",
              "    .dataframe tbody tr th:only-of-type {\n",
              "        vertical-align: middle;\n",
              "    }\n",
              "\n",
              "    .dataframe tbody tr th {\n",
              "        vertical-align: top;\n",
              "    }\n",
              "\n",
              "    .dataframe thead th {\n",
              "        text-align: right;\n",
              "    }\n",
              "</style>\n",
              "<table border=\"1\" class=\"dataframe\">\n",
              "  <thead>\n",
              "    <tr style=\"text-align: right;\">\n",
              "      <th></th>\n",
              "      <th>price</th>\n",
              "    </tr>\n",
              "    <tr>\n",
              "      <th>datesold</th>\n",
              "      <th></th>\n",
              "    </tr>\n",
              "  </thead>\n",
              "  <tbody>\n",
              "    <tr>\n",
              "      <th>2007-02-07</th>\n",
              "      <td>525000</td>\n",
              "    </tr>\n",
              "    <tr>\n",
              "      <th>2007-03-09</th>\n",
              "      <td>380000</td>\n",
              "    </tr>\n",
              "    <tr>\n",
              "      <th>2007-04-04</th>\n",
              "      <td>465000</td>\n",
              "    </tr>\n",
              "    <tr>\n",
              "      <th>2007-04-30</th>\n",
              "      <td>1530000</td>\n",
              "    </tr>\n",
              "    <tr>\n",
              "      <th>2007-06-27</th>\n",
              "      <td>850000</td>\n",
              "    </tr>\n",
              "    <tr>\n",
              "      <th>...</th>\n",
              "      <td>...</td>\n",
              "    </tr>\n",
              "    <tr>\n",
              "      <th>2016-12-12</th>\n",
              "      <td>492500</td>\n",
              "    </tr>\n",
              "    <tr>\n",
              "      <th>2017-04-18</th>\n",
              "      <td>405000</td>\n",
              "    </tr>\n",
              "    <tr>\n",
              "      <th>2017-04-27</th>\n",
              "      <td>800000</td>\n",
              "    </tr>\n",
              "    <tr>\n",
              "      <th>2017-07-29</th>\n",
              "      <td>490000</td>\n",
              "    </tr>\n",
              "    <tr>\n",
              "      <th>2017-09-26</th>\n",
              "      <td>400000</td>\n",
              "    </tr>\n",
              "  </tbody>\n",
              "</table>\n",
              "<p>10437 rows × 1 columns</p>\n",
              "</div>"
            ],
            "text/plain": [
              "              price\n",
              "datesold           \n",
              "2007-02-07   525000\n",
              "2007-03-09   380000\n",
              "2007-04-04   465000\n",
              "2007-04-30  1530000\n",
              "2007-06-27   850000\n",
              "...             ...\n",
              "2016-12-12   492500\n",
              "2017-04-18   405000\n",
              "2017-04-27   800000\n",
              "2017-07-29   490000\n",
              "2017-09-26   400000\n",
              "\n",
              "[10437 rows x 1 columns]"
            ]
          },
          "metadata": {},
          "execution_count": 372
        }
      ]
    },
    {
      "cell_type": "code",
      "source": [
        "from statsmodels.tsa.arima_model import ARIMA\n",
        "import statsmodels.api as sm"
      ],
      "metadata": {
        "id": "Dw38e5b23ru0"
      },
      "execution_count": 373,
      "outputs": []
    },
    {
      "cell_type": "code",
      "source": [
        "house_train_df.values"
      ],
      "metadata": {
        "colab": {
          "base_uri": "https://localhost:8080/"
        },
        "id": "Aw1PtXQi31aR",
        "outputId": "a90292f0-e448-49b1-ef25-5d72563c15e7"
      },
      "execution_count": 374,
      "outputs": [
        {
          "output_type": "execute_result",
          "data": {
            "text/plain": [
              "array([[525000],\n",
              "       [380000],\n",
              "       [465000],\n",
              "       ...,\n",
              "       [800000],\n",
              "       [490000],\n",
              "       [400000]])"
            ]
          },
          "metadata": {},
          "execution_count": 374
        }
      ]
    },
    {
      "cell_type": "code",
      "source": [
        "model = ARIMA(house_train_df.values, order=(2, 1, 2))\n",
        "model"
      ],
      "metadata": {
        "colab": {
          "base_uri": "https://localhost:8080/"
        },
        "id": "ytRD5dTk3-Cd",
        "outputId": "16405108-7f9f-4c7d-f22a-24188016c823"
      },
      "execution_count": 375,
      "outputs": [
        {
          "output_type": "execute_result",
          "data": {
            "text/plain": [
              "<statsmodels.tsa.arima_model.ARIMA at 0x7f2ff18aded0>"
            ]
          },
          "metadata": {},
          "execution_count": 375
        }
      ]
    },
    {
      "cell_type": "code",
      "source": [
        "model_fit = model.fit(trend='c',full_output=True, disp=True)\n",
        "model_fit"
      ],
      "metadata": {
        "colab": {
          "base_uri": "https://localhost:8080/"
        },
        "id": "TIwrUSV74Uk5",
        "outputId": "16d9321a-e676-4e15-fdab-a52fc2c46649"
      },
      "execution_count": 376,
      "outputs": [
        {
          "output_type": "execute_result",
          "data": {
            "text/plain": [
              "<statsmodels.tsa.arima_model.ARIMAResultsWrapper at 0x7f2ff37e5850>"
            ]
          },
          "metadata": {},
          "execution_count": 376
        }
      ]
    },
    {
      "cell_type": "code",
      "source": [
        "model_fit.summary()"
      ],
      "metadata": {
        "colab": {
          "base_uri": "https://localhost:8080/",
          "height": 425
        },
        "id": "GT7Yrrpc4XI1",
        "outputId": "4790cf4d-490e-46a4-c253-bbe78aa85a7a"
      },
      "execution_count": 377,
      "outputs": [
        {
          "output_type": "execute_result",
          "data": {
            "text/html": [
              "<table class=\"simpletable\">\n",
              "<caption>ARIMA Model Results</caption>\n",
              "<tr>\n",
              "  <th>Dep. Variable:</th>        <td>D.y</td>       <th>  No. Observations:  </th>    <td>10436</td>   \n",
              "</tr>\n",
              "<tr>\n",
              "  <th>Model:</th>          <td>ARIMA(2, 1, 2)</td>  <th>  Log Likelihood     </th> <td>-144888.576</td>\n",
              "</tr>\n",
              "<tr>\n",
              "  <th>Method:</th>             <td>css-mle</td>     <th>  S.D. of innovations</th> <td>258949.610</td> \n",
              "</tr>\n",
              "<tr>\n",
              "  <th>Date:</th>          <td>Fri, 10 Dec 2021</td> <th>  AIC                </th> <td>289789.151</td> \n",
              "</tr>\n",
              "<tr>\n",
              "  <th>Time:</th>              <td>07:54:49</td>     <th>  BIC                </th> <td>289832.669</td> \n",
              "</tr>\n",
              "<tr>\n",
              "  <th>Sample:</th>                <td>1</td>        <th>  HQIC               </th> <td>289803.850</td> \n",
              "</tr>\n",
              "<tr>\n",
              "  <th></th>                       <td> </td>        <th>                     </th>      <td> </td>     \n",
              "</tr>\n",
              "</table>\n",
              "<table class=\"simpletable\">\n",
              "<tr>\n",
              "      <td></td>         <th>coef</th>     <th>std err</th>      <th>z</th>      <th>P>|z|</th>  <th>[0.025</th>    <th>0.975]</th>  \n",
              "</tr>\n",
              "<tr>\n",
              "  <th>const</th>     <td>   17.6404</td> <td>   13.795</td> <td>    1.279</td> <td> 0.201</td> <td>   -9.397</td> <td>   44.678</td>\n",
              "</tr>\n",
              "<tr>\n",
              "  <th>ar.L1.D.y</th> <td>    0.6487</td> <td>    0.081</td> <td>    8.031</td> <td> 0.000</td> <td>    0.490</td> <td>    0.807</td>\n",
              "</tr>\n",
              "<tr>\n",
              "  <th>ar.L2.D.y</th> <td>   -0.0713</td> <td>    0.019</td> <td>   -3.739</td> <td> 0.000</td> <td>   -0.109</td> <td>   -0.034</td>\n",
              "</tr>\n",
              "<tr>\n",
              "  <th>ma.L1.D.y</th> <td>   -1.4536</td> <td>    0.080</td> <td>  -18.159</td> <td> 0.000</td> <td>   -1.610</td> <td>   -1.297</td>\n",
              "</tr>\n",
              "<tr>\n",
              "  <th>ma.L2.D.y</th> <td>    0.4558</td> <td>    0.080</td> <td>    5.719</td> <td> 0.000</td> <td>    0.300</td> <td>    0.612</td>\n",
              "</tr>\n",
              "</table>\n",
              "<table class=\"simpletable\">\n",
              "<caption>Roots</caption>\n",
              "<tr>\n",
              "    <td></td>   <th>            Real</th>  <th>         Imaginary</th> <th>         Modulus</th>  <th>        Frequency</th>\n",
              "</tr>\n",
              "<tr>\n",
              "  <th>AR.1</th> <td>           1.9670</td> <td>          +0.0000j</td> <td>           1.9670</td> <td>           0.0000</td>\n",
              "</tr>\n",
              "<tr>\n",
              "  <th>AR.2</th> <td>           7.1293</td> <td>          +0.0000j</td> <td>           7.1293</td> <td>           0.0000</td>\n",
              "</tr>\n",
              "<tr>\n",
              "  <th>MA.1</th> <td>           1.0041</td> <td>          +0.0000j</td> <td>           1.0041</td> <td>           0.0000</td>\n",
              "</tr>\n",
              "<tr>\n",
              "  <th>MA.2</th> <td>           2.1848</td> <td>          +0.0000j</td> <td>           2.1848</td> <td>           0.0000</td>\n",
              "</tr>\n",
              "</table>"
            ],
            "text/plain": [
              "<class 'statsmodels.iolib.summary.Summary'>\n",
              "\"\"\"\n",
              "                             ARIMA Model Results                              \n",
              "==============================================================================\n",
              "Dep. Variable:                    D.y   No. Observations:                10436\n",
              "Model:                 ARIMA(2, 1, 2)   Log Likelihood             -144888.576\n",
              "Method:                       css-mle   S.D. of innovations         258949.610\n",
              "Date:                Fri, 10 Dec 2021   AIC                         289789.151\n",
              "Time:                        07:54:49   BIC                         289832.669\n",
              "Sample:                             1   HQIC                        289803.850\n",
              "                                                                              \n",
              "==============================================================================\n",
              "                 coef    std err          z      P>|z|      [0.025      0.975]\n",
              "------------------------------------------------------------------------------\n",
              "const         17.6404     13.795      1.279      0.201      -9.397      44.678\n",
              "ar.L1.D.y      0.6487      0.081      8.031      0.000       0.490       0.807\n",
              "ar.L2.D.y     -0.0713      0.019     -3.739      0.000      -0.109      -0.034\n",
              "ma.L1.D.y     -1.4536      0.080    -18.159      0.000      -1.610      -1.297\n",
              "ma.L2.D.y      0.4558      0.080      5.719      0.000       0.300       0.612\n",
              "                                    Roots                                    \n",
              "=============================================================================\n",
              "                  Real          Imaginary           Modulus         Frequency\n",
              "-----------------------------------------------------------------------------\n",
              "AR.1            1.9670           +0.0000j            1.9670            0.0000\n",
              "AR.2            7.1293           +0.0000j            7.1293            0.0000\n",
              "MA.1            1.0041           +0.0000j            1.0041            0.0000\n",
              "MA.2            2.1848           +0.0000j            2.1848            0.0000\n",
              "-----------------------------------------------------------------------------\n",
              "\"\"\""
            ]
          },
          "metadata": {},
          "execution_count": 377
        }
      ]
    },
    {
      "cell_type": "code",
      "source": [
        "forecast_data = model_fit.forecast(steps=5)\n",
        "forecast_data"
      ],
      "metadata": {
        "colab": {
          "base_uri": "https://localhost:8080/"
        },
        "id": "09L5tMLg4aUV",
        "outputId": "db3c4868-b90c-4570-cd35-dc24e79fb73c"
      },
      "execution_count": 378,
      "outputs": [
        {
          "output_type": "execute_result",
          "data": {
            "text/plain": [
              "(array([683667.16180968, 734944.30062523, 747984.75041622, 752794.40869505,\n",
              "        754991.76432923]),\n",
              " array([258949.61014635, 263830.73369559, 264250.03544148, 264333.17584816,\n",
              "        264360.7502095 ]),\n",
              " array([[ 176135.25211214, 1191199.07150722],\n",
              "        [ 217845.5645671 , 1252043.03668335],\n",
              "        [ 230064.19803749, 1265905.30279494],\n",
              "        [ 234710.90411357, 1270877.91327653],\n",
              "        [ 236854.21499263, 1273129.31366583]]))"
            ]
          },
          "metadata": {},
          "execution_count": 378
        }
      ]
    },
    {
      "cell_type": "code",
      "source": [
        "house_test_df = house_df[10437:]\n",
        "house_test_df"
      ],
      "metadata": {
        "colab": {
          "base_uri": "https://localhost:8080/",
          "height": 206
        },
        "id": "qgtUAOYw4gFS",
        "outputId": "25d719de-29a2-4440-a1d4-2e994572c726"
      },
      "execution_count": 379,
      "outputs": [
        {
          "output_type": "execute_result",
          "data": {
            "text/html": [
              "<div>\n",
              "<style scoped>\n",
              "    .dataframe tbody tr th:only-of-type {\n",
              "        vertical-align: middle;\n",
              "    }\n",
              "\n",
              "    .dataframe tbody tr th {\n",
              "        vertical-align: top;\n",
              "    }\n",
              "\n",
              "    .dataframe thead th {\n",
              "        text-align: right;\n",
              "    }\n",
              "</style>\n",
              "<table border=\"1\" class=\"dataframe\">\n",
              "  <thead>\n",
              "    <tr style=\"text-align: right;\">\n",
              "      <th></th>\n",
              "      <th>datesold</th>\n",
              "      <th>price</th>\n",
              "    </tr>\n",
              "  </thead>\n",
              "  <tbody>\n",
              "    <tr>\n",
              "      <th>28188</th>\n",
              "      <td>2017-12-13</td>\n",
              "      <td>680000</td>\n",
              "    </tr>\n",
              "    <tr>\n",
              "      <th>28304</th>\n",
              "      <td>2018-02-05</td>\n",
              "      <td>535000</td>\n",
              "    </tr>\n",
              "    <tr>\n",
              "      <th>28424</th>\n",
              "      <td>2018-03-13</td>\n",
              "      <td>645000</td>\n",
              "    </tr>\n",
              "    <tr>\n",
              "      <th>28772</th>\n",
              "      <td>2018-07-04</td>\n",
              "      <td>300000</td>\n",
              "    </tr>\n",
              "    <tr>\n",
              "      <th>29421</th>\n",
              "      <td>2019-04-26</td>\n",
              "      <td>769500</td>\n",
              "    </tr>\n",
              "  </tbody>\n",
              "</table>\n",
              "</div>"
            ],
            "text/plain": [
              "        datesold   price\n",
              "28188 2017-12-13  680000\n",
              "28304 2018-02-05  535000\n",
              "28424 2018-03-13  645000\n",
              "28772 2018-07-04  300000\n",
              "29421 2019-04-26  769500"
            ]
          },
          "metadata": {},
          "execution_count": 379
        }
      ]
    },
    {
      "cell_type": "code",
      "source": [
        "pred_y = forecast_data[0]\n",
        "pred_y"
      ],
      "metadata": {
        "colab": {
          "base_uri": "https://localhost:8080/"
        },
        "id": "g21xH48j6XvO",
        "outputId": "74dbb2bd-ace3-4335-ba5b-7f06ecd5ca85"
      },
      "execution_count": 380,
      "outputs": [
        {
          "output_type": "execute_result",
          "data": {
            "text/plain": [
              "array([683667.16180968, 734944.30062523, 747984.75041622, 752794.40869505,\n",
              "       754991.76432923])"
            ]
          },
          "metadata": {},
          "execution_count": 380
        }
      ]
    },
    {
      "cell_type": "code",
      "source": [
        "pred_y = pred_y.tolist()\n",
        "pred_y"
      ],
      "metadata": {
        "colab": {
          "base_uri": "https://localhost:8080/"
        },
        "id": "ktT36GbD6j55",
        "outputId": "9680ea23-0b60-44fb-e02b-825cd7b6d9de"
      },
      "execution_count": 381,
      "outputs": [
        {
          "output_type": "execute_result",
          "data": {
            "text/plain": [
              "[683667.1618096767,\n",
              " 734944.3006252263,\n",
              " 747984.7504162156,\n",
              " 752794.4086950507,\n",
              " 754991.7643292277]"
            ]
          },
          "metadata": {},
          "execution_count": 381
        }
      ]
    },
    {
      "cell_type": "code",
      "source": [
        "test_y = house_test_df.price.values.tolist()\n",
        "test_y"
      ],
      "metadata": {
        "colab": {
          "base_uri": "https://localhost:8080/"
        },
        "id": "Spq4DmaQ6lm4",
        "outputId": "b5616380-629f-4e42-b05e-fea680213730"
      },
      "execution_count": 382,
      "outputs": [
        {
          "output_type": "execute_result",
          "data": {
            "text/plain": [
              "[680000, 535000, 645000, 300000, 769500]"
            ]
          },
          "metadata": {},
          "execution_count": 382
        }
      ]
    },
    {
      "cell_type": "code",
      "source": [
        "plt.plot(test_y,color='green')\n",
        "plt.plot(pred_y,color='red')"
      ],
      "metadata": {
        "colab": {
          "base_uri": "https://localhost:8080/",
          "height": 282
        },
        "id": "5UEqPGoN6pdp",
        "outputId": "056e86b4-61ee-4aaf-aade-de988e6f7205"
      },
      "execution_count": 383,
      "outputs": [
        {
          "output_type": "execute_result",
          "data": {
            "text/plain": [
              "[<matplotlib.lines.Line2D at 0x7f2ff1d35790>]"
            ]
          },
          "metadata": {},
          "execution_count": 383
        },
        {
          "output_type": "display_data",
          "data": {
            "image/png": "[encoded data removed]",
            "text/plain": [
              "<Figure size 432x288 with 1 Axes>"
            ]
          },
          "metadata": {
            "needs_background": "light"
          }
        }
      ]
    },
    {
      "cell_type": "code",
      "source": [
        "from fbprophet import Prophet"
      ],
      "metadata": {
        "id": "F_QIaSLJBRtI"
      },
      "execution_count": 384,
      "outputs": []
    },
    {
      "cell_type": "code",
      "source": [
        "house_df = house_df.rename(columns={'datesold':'ds','price':'y'})\n",
        "house_df"
      ],
      "metadata": {
        "colab": {
          "base_uri": "https://localhost:8080/",
          "height": 424
        },
        "id": "vDCYL8pBCnw1",
        "outputId": "bf2c50e5-ff4a-4e49-ad1e-2bd0375ae4f4"
      },
      "execution_count": 385,
      "outputs": [
        {
          "output_type": "execute_result",
          "data": {
            "text/html": [
              "<div>\n",
              "<style scoped>\n",
              "    .dataframe tbody tr th:only-of-type {\n",
              "        vertical-align: middle;\n",
              "    }\n",
              "\n",
              "    .dataframe tbody tr th {\n",
              "        vertical-align: top;\n",
              "    }\n",
              "\n",
              "    .dataframe thead th {\n",
              "        text-align: right;\n",
              "    }\n",
              "</style>\n",
              "<table border=\"1\" class=\"dataframe\">\n",
              "  <thead>\n",
              "    <tr style=\"text-align: right;\">\n",
              "      <th></th>\n",
              "      <th>ds</th>\n",
              "      <th>y</th>\n",
              "    </tr>\n",
              "  </thead>\n",
              "  <tbody>\n",
              "    <tr>\n",
              "      <th>0</th>\n",
              "      <td>2007-02-07</td>\n",
              "      <td>525000</td>\n",
              "    </tr>\n",
              "    <tr>\n",
              "      <th>3</th>\n",
              "      <td>2007-03-09</td>\n",
              "      <td>380000</td>\n",
              "    </tr>\n",
              "    <tr>\n",
              "      <th>5</th>\n",
              "      <td>2007-04-04</td>\n",
              "      <td>465000</td>\n",
              "    </tr>\n",
              "    <tr>\n",
              "      <th>7</th>\n",
              "      <td>2007-04-30</td>\n",
              "      <td>1530000</td>\n",
              "    </tr>\n",
              "    <tr>\n",
              "      <th>12</th>\n",
              "      <td>2007-06-27</td>\n",
              "      <td>850000</td>\n",
              "    </tr>\n",
              "    <tr>\n",
              "      <th>...</th>\n",
              "      <td>...</td>\n",
              "      <td>...</td>\n",
              "    </tr>\n",
              "    <tr>\n",
              "      <th>28188</th>\n",
              "      <td>2017-12-13</td>\n",
              "      <td>680000</td>\n",
              "    </tr>\n",
              "    <tr>\n",
              "      <th>28304</th>\n",
              "      <td>2018-02-05</td>\n",
              "      <td>535000</td>\n",
              "    </tr>\n",
              "    <tr>\n",
              "      <th>28424</th>\n",
              "      <td>2018-03-13</td>\n",
              "      <td>645000</td>\n",
              "    </tr>\n",
              "    <tr>\n",
              "      <th>28772</th>\n",
              "      <td>2018-07-04</td>\n",
              "      <td>300000</td>\n",
              "    </tr>\n",
              "    <tr>\n",
              "      <th>29421</th>\n",
              "      <td>2019-04-26</td>\n",
              "      <td>769500</td>\n",
              "    </tr>\n",
              "  </tbody>\n",
              "</table>\n",
              "<p>10442 rows × 2 columns</p>\n",
              "</div>"
            ],
            "text/plain": [
              "              ds        y\n",
              "0     2007-02-07   525000\n",
              "3     2007-03-09   380000\n",
              "5     2007-04-04   465000\n",
              "7     2007-04-30  1530000\n",
              "12    2007-06-27   850000\n",
              "...          ...      ...\n",
              "28188 2017-12-13   680000\n",
              "28304 2018-02-05   535000\n",
              "28424 2018-03-13   645000\n",
              "28772 2018-07-04   300000\n",
              "29421 2019-04-26   769500\n",
              "\n",
              "[10442 rows x 2 columns]"
            ]
          },
          "metadata": {},
          "execution_count": 385
        }
      ]
    },
    {
      "cell_type": "code",
      "source": [
        "prophet = Prophet(seasonality_mode='multiplicative',\n",
        "                  yearly_seasonality=True,\n",
        "                  weekly_seasonality=True,\n",
        "                  daily_seasonality=True,\n",
        "                  changepoint_prior_scale=0.5)"
      ],
      "metadata": {
        "id": "PLoOi8olCaez"
      },
      "execution_count": 386,
      "outputs": []
    },
    {
      "cell_type": "code",
      "source": [
        "house_df.info()"
      ],
      "metadata": {
        "colab": {
          "base_uri": "https://localhost:8080/"
        },
        "id": "5NaOVd_NDOv4",
        "outputId": "10eb03e4-7004-4307-92ab-e6aff41e2efb"
      },
      "execution_count": 387,
      "outputs": [
        {
          "output_type": "stream",
          "name": "stdout",
          "text": [
            "<class 'pandas.core.frame.DataFrame'>\n",
            "Int64Index: 10442 entries, 0 to 29421\n",
            "Data columns (total 2 columns):\n",
            " #   Column  Non-Null Count  Dtype         \n",
            "---  ------  --------------  -----         \n",
            " 0   ds      10442 non-null  datetime64[ns]\n",
            " 1   y       10442 non-null  int64         \n",
            "dtypes: datetime64[ns](1), int64(1)\n",
            "memory usage: 244.7 KB\n"
          ]
        }
      ]
    },
    {
      "cell_type": "code",
      "source": [
        "prophet.fit(house_df)"
      ],
      "metadata": {
        "colab": {
          "base_uri": "https://localhost:8080/"
        },
        "id": "TYPFCbWOCgHC",
        "outputId": "d9c81630-0d80-4925-f89a-d0988166f133"
      },
      "execution_count": 388,
      "outputs": [
        {
          "output_type": "execute_result",
          "data": {
            "text/plain": [
              "<fbprophet.forecaster.Prophet at 0x7f2ff18ec150>"
            ]
          },
          "metadata": {},
          "execution_count": 388
        }
      ]
    },
    {
      "cell_type": "code",
      "source": [
        "# perioids = 3, freq='d' 는 3일치 데이터를 예측해서 df에 붙인다는 뜻\n",
        "future_data = prophet.make_future_dataframe(periods=300,freq='d')\n",
        "forecast_data = prophet.predict(future_data)\n",
        "forecast_data"
      ],
      "metadata": {
        "colab": {
          "base_uri": "https://localhost:8080/",
          "height": 669
        },
        "id": "2FBpULpeCkg9",
        "outputId": "c371cab6-3818-47a5-fe89-5e4e080a514a"
      },
      "execution_count": 389,
      "outputs": [
        {
          "output_type": "execute_result",
          "data": {
            "text/html": [
              "<div>\n",
              "<style scoped>\n",
              "    .dataframe tbody tr th:only-of-type {\n",
              "        vertical-align: middle;\n",
              "    }\n",
              "\n",
              "    .dataframe tbody tr th {\n",
              "        vertical-align: top;\n",
              "    }\n",
              "\n",
              "    .dataframe thead th {\n",
              "        text-align: right;\n",
              "    }\n",
              "</style>\n",
              "<table border=\"1\" class=\"dataframe\">\n",
              "  <thead>\n",
              "    <tr style=\"text-align: right;\">\n",
              "      <th></th>\n",
              "      <th>ds</th>\n",
              "      <th>trend</th>\n",
              "      <th>yhat_lower</th>\n",
              "      <th>yhat_upper</th>\n",
              "      <th>trend_lower</th>\n",
              "      <th>trend_upper</th>\n",
              "      <th>daily</th>\n",
              "      <th>daily_lower</th>\n",
              "      <th>daily_upper</th>\n",
              "      <th>multiplicative_terms</th>\n",
              "      <th>multiplicative_terms_lower</th>\n",
              "      <th>multiplicative_terms_upper</th>\n",
              "      <th>weekly</th>\n",
              "      <th>weekly_lower</th>\n",
              "      <th>weekly_upper</th>\n",
              "      <th>yearly</th>\n",
              "      <th>yearly_lower</th>\n",
              "      <th>yearly_upper</th>\n",
              "      <th>additive_terms</th>\n",
              "      <th>additive_terms_lower</th>\n",
              "      <th>additive_terms_upper</th>\n",
              "      <th>yhat</th>\n",
              "    </tr>\n",
              "  </thead>\n",
              "  <tbody>\n",
              "    <tr>\n",
              "      <th>0</th>\n",
              "      <td>2007-02-07</td>\n",
              "      <td>463646.299977</td>\n",
              "      <td>311884.781167</td>\n",
              "      <td>9.701053e+05</td>\n",
              "      <td>463646.299977</td>\n",
              "      <td>463646.299977</td>\n",
              "      <td>0.4572</td>\n",
              "      <td>0.4572</td>\n",
              "      <td>0.4572</td>\n",
              "      <td>0.361679</td>\n",
              "      <td>0.361679</td>\n",
              "      <td>0.361679</td>\n",
              "      <td>-0.081796</td>\n",
              "      <td>-0.081796</td>\n",
              "      <td>-0.081796</td>\n",
              "      <td>-0.013726</td>\n",
              "      <td>-0.013726</td>\n",
              "      <td>-0.013726</td>\n",
              "      <td>0.0</td>\n",
              "      <td>0.0</td>\n",
              "      <td>0.0</td>\n",
              "      <td>631337.277133</td>\n",
              "    </tr>\n",
              "    <tr>\n",
              "      <th>1</th>\n",
              "      <td>2007-03-09</td>\n",
              "      <td>460449.066660</td>\n",
              "      <td>345458.191426</td>\n",
              "      <td>9.864305e+05</td>\n",
              "      <td>460449.066660</td>\n",
              "      <td>460449.066660</td>\n",
              "      <td>0.4572</td>\n",
              "      <td>0.4572</td>\n",
              "      <td>0.4572</td>\n",
              "      <td>0.430320</td>\n",
              "      <td>0.430320</td>\n",
              "      <td>0.430320</td>\n",
              "      <td>-0.057117</td>\n",
              "      <td>-0.057117</td>\n",
              "      <td>-0.057117</td>\n",
              "      <td>0.030237</td>\n",
              "      <td>0.030237</td>\n",
              "      <td>0.030237</td>\n",
              "      <td>0.0</td>\n",
              "      <td>0.0</td>\n",
              "      <td>0.0</td>\n",
              "      <td>658589.464038</td>\n",
              "    </tr>\n",
              "    <tr>\n",
              "      <th>2</th>\n",
              "      <td>2007-04-04</td>\n",
              "      <td>457678.131119</td>\n",
              "      <td>337969.902201</td>\n",
              "      <td>1.007029e+06</td>\n",
              "      <td>457678.131119</td>\n",
              "      <td>457678.131119</td>\n",
              "      <td>0.4572</td>\n",
              "      <td>0.4572</td>\n",
              "      <td>0.4572</td>\n",
              "      <td>0.469535</td>\n",
              "      <td>0.469535</td>\n",
              "      <td>0.469535</td>\n",
              "      <td>-0.081796</td>\n",
              "      <td>-0.081796</td>\n",
              "      <td>-0.081796</td>\n",
              "      <td>0.094131</td>\n",
              "      <td>0.094131</td>\n",
              "      <td>0.094131</td>\n",
              "      <td>0.0</td>\n",
              "      <td>0.0</td>\n",
              "      <td>0.0</td>\n",
              "      <td>672574.109049</td>\n",
              "    </tr>\n",
              "    <tr>\n",
              "      <th>3</th>\n",
              "      <td>2007-04-30</td>\n",
              "      <td>454907.195578</td>\n",
              "      <td>326617.206928</td>\n",
              "      <td>9.990459e+05</td>\n",
              "      <td>454907.195578</td>\n",
              "      <td>454907.195578</td>\n",
              "      <td>0.4572</td>\n",
              "      <td>0.4572</td>\n",
              "      <td>0.4572</td>\n",
              "      <td>0.445384</td>\n",
              "      <td>0.445384</td>\n",
              "      <td>0.445384</td>\n",
              "      <td>-0.027289</td>\n",
              "      <td>-0.027289</td>\n",
              "      <td>-0.027289</td>\n",
              "      <td>0.015473</td>\n",
              "      <td>0.015473</td>\n",
              "      <td>0.015473</td>\n",
              "      <td>0.0</td>\n",
              "      <td>0.0</td>\n",
              "      <td>0.0</td>\n",
              "      <td>657515.662264</td>\n",
              "    </tr>\n",
              "    <tr>\n",
              "      <th>4</th>\n",
              "      <td>2007-06-27</td>\n",
              "      <td>448725.877832</td>\n",
              "      <td>242810.070553</td>\n",
              "      <td>9.159873e+05</td>\n",
              "      <td>448725.877832</td>\n",
              "      <td>448725.877832</td>\n",
              "      <td>0.4572</td>\n",
              "      <td>0.4572</td>\n",
              "      <td>0.4572</td>\n",
              "      <td>0.318888</td>\n",
              "      <td>0.318888</td>\n",
              "      <td>0.318888</td>\n",
              "      <td>-0.081796</td>\n",
              "      <td>-0.081796</td>\n",
              "      <td>-0.081796</td>\n",
              "      <td>-0.056517</td>\n",
              "      <td>-0.056517</td>\n",
              "      <td>-0.056517</td>\n",
              "      <td>0.0</td>\n",
              "      <td>0.0</td>\n",
              "      <td>0.0</td>\n",
              "      <td>591819.070230</td>\n",
              "    </tr>\n",
              "    <tr>\n",
              "      <th>...</th>\n",
              "      <td>...</td>\n",
              "      <td>...</td>\n",
              "      <td>...</td>\n",
              "      <td>...</td>\n",
              "      <td>...</td>\n",
              "      <td>...</td>\n",
              "      <td>...</td>\n",
              "      <td>...</td>\n",
              "      <td>...</td>\n",
              "      <td>...</td>\n",
              "      <td>...</td>\n",
              "      <td>...</td>\n",
              "      <td>...</td>\n",
              "      <td>...</td>\n",
              "      <td>...</td>\n",
              "      <td>...</td>\n",
              "      <td>...</td>\n",
              "      <td>...</td>\n",
              "      <td>...</td>\n",
              "      <td>...</td>\n",
              "      <td>...</td>\n",
              "      <td>...</td>\n",
              "    </tr>\n",
              "    <tr>\n",
              "      <th>3354</th>\n",
              "      <td>2020-05-18</td>\n",
              "      <td>522844.120351</td>\n",
              "      <td>424667.718611</td>\n",
              "      <td>1.091509e+06</td>\n",
              "      <td>488889.832832</td>\n",
              "      <td>551619.902978</td>\n",
              "      <td>0.4572</td>\n",
              "      <td>0.4572</td>\n",
              "      <td>0.4572</td>\n",
              "      <td>0.445301</td>\n",
              "      <td>0.445301</td>\n",
              "      <td>0.445301</td>\n",
              "      <td>-0.027289</td>\n",
              "      <td>-0.027289</td>\n",
              "      <td>-0.027289</td>\n",
              "      <td>0.015391</td>\n",
              "      <td>0.015391</td>\n",
              "      <td>0.015391</td>\n",
              "      <td>0.0</td>\n",
              "      <td>0.0</td>\n",
              "      <td>0.0</td>\n",
              "      <td>755667.368150</td>\n",
              "    </tr>\n",
              "    <tr>\n",
              "      <th>3355</th>\n",
              "      <td>2020-05-19</td>\n",
              "      <td>522784.166991</td>\n",
              "      <td>375222.160720</td>\n",
              "      <td>1.041907e+06</td>\n",
              "      <td>488629.349282</td>\n",
              "      <td>551740.408980</td>\n",
              "      <td>0.4572</td>\n",
              "      <td>0.4572</td>\n",
              "      <td>0.4572</td>\n",
              "      <td>0.377287</td>\n",
              "      <td>0.377287</td>\n",
              "      <td>0.377287</td>\n",
              "      <td>-0.089677</td>\n",
              "      <td>-0.089677</td>\n",
              "      <td>-0.089677</td>\n",
              "      <td>0.009763</td>\n",
              "      <td>0.009763</td>\n",
              "      <td>0.009763</td>\n",
              "      <td>0.0</td>\n",
              "      <td>0.0</td>\n",
              "      <td>0.0</td>\n",
              "      <td>720023.665284</td>\n",
              "    </tr>\n",
              "    <tr>\n",
              "      <th>3356</th>\n",
              "      <td>2020-05-20</td>\n",
              "      <td>522724.213631</td>\n",
              "      <td>387951.817035</td>\n",
              "      <td>1.066654e+06</td>\n",
              "      <td>488368.865732</td>\n",
              "      <td>551854.967335</td>\n",
              "      <td>0.4572</td>\n",
              "      <td>0.4572</td>\n",
              "      <td>0.4572</td>\n",
              "      <td>0.379511</td>\n",
              "      <td>0.379511</td>\n",
              "      <td>0.379511</td>\n",
              "      <td>-0.081796</td>\n",
              "      <td>-0.081796</td>\n",
              "      <td>-0.081796</td>\n",
              "      <td>0.004106</td>\n",
              "      <td>0.004106</td>\n",
              "      <td>0.004106</td>\n",
              "      <td>0.0</td>\n",
              "      <td>0.0</td>\n",
              "      <td>0.0</td>\n",
              "      <td>721103.612981</td>\n",
              "    </tr>\n",
              "    <tr>\n",
              "      <th>3357</th>\n",
              "      <td>2020-05-21</td>\n",
              "      <td>522664.260271</td>\n",
              "      <td>384448.379416</td>\n",
              "      <td>1.047252e+06</td>\n",
              "      <td>488108.382182</td>\n",
              "      <td>551969.525689</td>\n",
              "      <td>0.4572</td>\n",
              "      <td>0.4572</td>\n",
              "      <td>0.4572</td>\n",
              "      <td>0.382545</td>\n",
              "      <td>0.382545</td>\n",
              "      <td>0.382545</td>\n",
              "      <td>-0.073214</td>\n",
              "      <td>-0.073214</td>\n",
              "      <td>-0.073214</td>\n",
              "      <td>-0.001441</td>\n",
              "      <td>-0.001441</td>\n",
              "      <td>-0.001441</td>\n",
              "      <td>0.0</td>\n",
              "      <td>0.0</td>\n",
              "      <td>0.0</td>\n",
              "      <td>722606.773518</td>\n",
              "    </tr>\n",
              "    <tr>\n",
              "      <th>3358</th>\n",
              "      <td>2020-05-22</td>\n",
              "      <td>522604.306911</td>\n",
              "      <td>393427.420997</td>\n",
              "      <td>1.078399e+06</td>\n",
              "      <td>487847.898632</td>\n",
              "      <td>552084.084043</td>\n",
              "      <td>0.4572</td>\n",
              "      <td>0.4572</td>\n",
              "      <td>0.4572</td>\n",
              "      <td>0.393340</td>\n",
              "      <td>0.393340</td>\n",
              "      <td>0.393340</td>\n",
              "      <td>-0.057117</td>\n",
              "      <td>-0.057117</td>\n",
              "      <td>-0.057117</td>\n",
              "      <td>-0.006743</td>\n",
              "      <td>-0.006743</td>\n",
              "      <td>-0.006743</td>\n",
              "      <td>0.0</td>\n",
              "      <td>0.0</td>\n",
              "      <td>0.0</td>\n",
              "      <td>728165.479690</td>\n",
              "    </tr>\n",
              "  </tbody>\n",
              "</table>\n",
              "<p>3359 rows × 22 columns</p>\n",
              "</div>"
            ],
            "text/plain": [
              "             ds          trend  ...  additive_terms_upper           yhat\n",
              "0    2007-02-07  463646.299977  ...                   0.0  631337.277133\n",
              "1    2007-03-09  460449.066660  ...                   0.0  658589.464038\n",
              "2    2007-04-04  457678.131119  ...                   0.0  672574.109049\n",
              "3    2007-04-30  454907.195578  ...                   0.0  657515.662264\n",
              "4    2007-06-27  448725.877832  ...                   0.0  591819.070230\n",
              "...         ...            ...  ...                   ...            ...\n",
              "3354 2020-05-18  522844.120351  ...                   0.0  755667.368150\n",
              "3355 2020-05-19  522784.166991  ...                   0.0  720023.665284\n",
              "3356 2020-05-20  522724.213631  ...                   0.0  721103.612981\n",
              "3357 2020-05-21  522664.260271  ...                   0.0  722606.773518\n",
              "3358 2020-05-22  522604.306911  ...                   0.0  728165.479690\n",
              "\n",
              "[3359 rows x 22 columns]"
            ]
          },
          "metadata": {},
          "execution_count": 389
        }
      ]
    },
    {
      "cell_type": "code",
      "source": [
        "fig2 = prophet.plot_components(forecast_data)"
      ],
      "metadata": {
        "colab": {
          "base_uri": "https://localhost:8080/",
          "height": 873
        },
        "id": "suZS7LUZFjvT",
        "outputId": "280c1f43-bf3c-4726-8427-d5c0beaf1c6b"
      },
      "execution_count": 390,
      "outputs": [
        {
          "output_type": "display_data",
          "data": {
            "image/png": "[encoded data removed]",
            "text/plain": [
              "<Figure size 648x864 with 4 Axes>"
            ]
          },
          "metadata": {}
        }
      ]
    },
    {
      "cell_type": "code",
      "source": [
        "# 화요일에 집값이 가장 낮고, 주말엔 집값이 올라간다.\n",
        "# 봄에 집값이 비싼 경향이 있다.\n",
        "# 2009년 이후 집값이 눈에 띄게 올라감.\n",
        "# 11월이후 1월까지 집값이 쭉떨어지고 1월이후에 다시 상승하는 모습을 보여주며 16~17년 그래프를 보아 그래프 경향이 현재 20~21년도에 상승\n",
        "# 2015년~2018년 집값 급증"
      ],
      "metadata": {
        "id": "ZtsBmvjHK1Hb"
      },
      "execution_count": 391,
      "outputs": []
    },
    {
      "cell_type": "code",
      "source": [
        "fig1 = prophet.plot(forecast_data)"
      ],
      "metadata": {
        "id": "O98Sn4ATFxAy",
        "colab": {
          "base_uri": "https://localhost:8080/",
          "height": 441
        },
        "outputId": "2591bc04-2984-483c-ab2b-f06b54e57634"
      },
      "execution_count": 392,
      "outputs": [
        {
          "output_type": "display_data",
          "data": {
            "image/png": "[encoded data removed]",
            "text/plain": [
              "<Figure size 720x432 with 1 Axes>"
            ]
          },
          "metadata": {}
        }
      ]
    },
    {
      "cell_type": "code",
      "source": [
        ""
      ],
      "metadata": {
        "id": "IOzA_UhYTZeg"
      },
      "execution_count": 392,
      "outputs": []
    }
  ]
}