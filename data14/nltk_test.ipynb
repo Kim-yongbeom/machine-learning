{
 "cells": [
  {
   "cell_type": "code",
   "execution_count": 35,
   "id": "db5383eb-c596-4d7d-8e1d-8a0e9c564435",
   "metadata": {},
   "outputs": [],
   "source": [
    "import nltk"
   ]
  },
  {
   "cell_type": "code",
   "execution_count": 36,
   "id": "db7254f6-41b3-4369-8435-eddc33302f74",
   "metadata": {},
   "outputs": [],
   "source": [
    "# nltk.download()"
   ]
  },
  {
   "cell_type": "code",
   "execution_count": 37,
   "id": "154125ae-f4d0-4a23-a598-ea42286d89ab",
   "metadata": {},
   "outputs": [],
   "source": [
    "import pandas as pd\n",
    "import matplotlib.pyplot as plt\n",
    "%matplotlib inline"
   ]
  },
  {
   "cell_type": "code",
   "execution_count": 38,
   "id": "f4ba9e74-1215-405b-b533-60f2af121fa0",
   "metadata": {},
   "outputs": [],
   "source": [
    "file = open('bts.txt',encoding='utf8')\n",
    "a = file.read()"
   ]
  },
  {
   "cell_type": "code",
   "execution_count": 39,
   "id": "0a3e2dcf-f900-4b51-b632-68b89837370c",
   "metadata": {},
   "outputs": [
    {
     "data": {
      "text/plain": [
       "'BTS announces they\\'re taking a break: How the group is changing \\'cutthroat\\' K-pop culture\\nJenna Ryu\\nUSA TODAY\\n\\nAfter racking up Grammy nominations and numerous No.1 hits, BTS is taking a much-needed break.\\n\\n\"This period of rest will provide the members of BTS, who have tirelessly committed themselves to their activities, a chance to get re-inspired and recharge with creative energy,\" the group\\'s management team, Big Hit, said in a statement Sunday.\\n\\n\"It will also be the first time for them since their debut to spend the holiday season with their families. We kindly ask once again that you show consideration for their need to enjoy ordinary and free, everyday lives while solely concentrating on themselves, albeit for a short while, during their period of rest. BTS will be focusing on preparing for the concert and release of the new album that will mark the beginning of a \\'new chapter.\\'\"\\n\\n\\nExperts say it\\'s \"admirable\" for the group to prioritize their well-being in a culture plagued by mental health taboos. South Korea has one of the highest suicide rates among developed countries, and has seen string of suicides in its music industry.\\n\\n\"Everyone needs a break, and that is a really powerful message,\" says Jo Elfving-Hwang, an associate professor and director of the Korea Research Centre at the University of Western Australia.\\n\\n\\n\"BTS is a global phenomenon, and publicly saying they need time for themselves breaks the mold of the typical image of the K-pop industry, which is 24/7 availability.\"\\n\\n\\'It still feels surreal\\':BTS makes Grammys history, whether they win on Sunday or not\\n\\nRIP:Jonghyun, K-pop star and SHINee singer, dies in possible suicide\\n\\nWhy South Korea\\'s suicide rate is so high\\nLike many East Asian countries, South Korea is known for its highly competitive, individualistic culture, which was largely shaped by its rapid globalization in recent years. \\n\\nFrom left: V, Suga, Jin, Jungkook, RM, Jimin, and J-Hope of BTS.\\n\"The nature of competitiveness in Korea is merciless and relentless,\" says Hyeouk Chris Hahm, a professor at Boston University\\'s School of Social Work. \"After being occupied by a military dictator, Korea became much more individualized and egalitarian, and society became very competitive… and as a result, people started experiencing more psychosocial stressors.\"\\n\\nThis is one of many reasons South Korea has one of the highest suicide rates among OECD member nations, she says. A 2016 study found that even though 30% of South Koreans suffer from mental illnesses, only half seek treatment. \\n\\nA South Korean man pays tribute at a memorial altar in honor of the K-pop star Goo Hara at the Seoul St. Mary\\'s Hospital on November 25, 2019 in Seoul, South Korea. K-pop star Goo Hara of Kara reportedly died by suicide on November 24.\\nThis is America:Stop gaslighting me with the Asian \\'model minority\\' myth\\n\\n\"Mental health has traditionally been a taboo subject in South Korea. It\\'s always been seen as a reflection of character, temperance and maturity,\" says Anson Au, a sociologist at the University of Toronto. As a result, stress is normalized as \"a part of life that everyone inevitably goes through,\" and \"what results is immense pressure to conform and suppress any mental health issues.\"\\n\\n'"
      ]
     },
     "execution_count": 39,
     "metadata": {},
     "output_type": "execute_result"
    }
   ],
   "source": [
    "a"
   ]
  },
  {
   "cell_type": "code",
   "execution_count": 40,
   "id": "41478632-5b71-4366-ac7f-5a3f48d65028",
   "metadata": {},
   "outputs": [
    {
     "name": "stdout",
     "output_type": "stream",
     "text": [
      "...\n",
      "\n",
      ":\n",
      "\n",
      "and\n",
      "\n",
      "on\n",
      "\n",
      "a\n",
      "\n",
      "is\n",
      "\n",
      "also\n",
      "\n",
      "the\n"
     ]
    }
   ],
   "source": [
    "for line in open('stopwords.txt'):\n",
    "    print(line)"
   ]
  },
  {
   "cell_type": "code",
   "execution_count": 41,
   "id": "85d59712-31c4-42d7-83d7-fb9048340bc1",
   "metadata": {},
   "outputs": [
    {
     "name": "stdout",
     "output_type": "stream",
     "text": [
      "...\n",
      ":\n",
      "and\n",
      "on\n",
      "a\n",
      "is\n",
      "also\n",
      "the\n"
     ]
    }
   ],
   "source": [
    "for line in open('stopwords.txt'):\n",
    "    print(line.strip())"
   ]
  },
  {
   "cell_type": "code",
   "execution_count": 42,
   "id": "bb359673-2189-4a47-b804-d08bf15021f5",
   "metadata": {},
   "outputs": [],
   "source": [
    "# collections\n",
    "# list(순서), dictionary(키:값), tuple(순서,읽기전용), set(중복x)"
   ]
  },
  {
   "cell_type": "code",
   "execution_count": 43,
   "id": "b4b941a1-48f5-4c27-9322-e4645817411d",
   "metadata": {},
   "outputs": [
    {
     "data": {
      "text/plain": [
       "{'...', ':', 'a', 'also', 'and', 'is', 'on', 'the'}"
      ]
     },
     "execution_count": 43,
     "metadata": {},
     "output_type": "execute_result"
    }
   ],
   "source": [
    "stopwords = set(line.strip() for line in open('stopwords.txt')) #익명함수, 클러저\n",
    "stopwords"
   ]
  },
  {
   "cell_type": "code",
   "execution_count": 68,
   "id": "58e1fa1f-f1d3-4420-a639-1e016e611e34",
   "metadata": {},
   "outputs": [
    {
     "data": {
      "text/plain": [
       "{'...',\n",
       " ':',\n",
       " 'a',\n",
       " 'also',\n",
       " 'and',\n",
       " 'for',\n",
       " 'in',\n",
       " 'is',\n",
       " 'korea',\n",
       " 'mr',\n",
       " 'mrs',\n",
       " 'of',\n",
       " 'on',\n",
       " 'one',\n",
       " 'south',\n",
       " 'the',\n",
       " 'their',\n",
       " 'to'}"
      ]
     },
     "execution_count": 68,
     "metadata": {},
     "output_type": "execute_result"
    }
   ],
   "source": [
    "stopwords = stopwords.union(set(['of','in','south','korea','for','to','their','mr','mrs','one']))\n",
    "stopwords"
   ]
  },
  {
   "cell_type": "code",
   "execution_count": 69,
   "id": "84a6f8d5-284e-4bc0-ae26-5bd4395e721a",
   "metadata": {},
   "outputs": [],
   "source": [
    "wordcount = {}\n",
    "# lower 소문자\n",
    "for word in a.lower().split():\n",
    "    word = word.replace('.','')\n",
    "    word = word.replace(',','')\n",
    "    word = word.replace(':','')\n",
    "    word = word.replace('\\\\','')\n",
    "    word = word.replace('*','')\n",
    "                        \n",
    "    if word not in stopwords:\n",
    "        if word not in wordcount:\n",
    "            wordcount[word] = 1\n",
    "        else:\n",
    "            wordcount[word] += 1"
   ]
  },
  {
   "cell_type": "code",
   "execution_count": 70,
   "id": "4b01479d-45a4-429e-b70d-d1a55ec09252",
   "metadata": {},
   "outputs": [
    {
     "data": {
      "text/plain": [
       "{'bts': 5,\n",
       " 'announces': 1,\n",
       " \"they're\": 1,\n",
       " 'taking': 2,\n",
       " 'break': 3,\n",
       " 'how': 1,\n",
       " 'group': 2,\n",
       " 'changing': 1,\n",
       " \"'cutthroat'\": 1,\n",
       " 'k-pop': 5,\n",
       " 'culture': 3,\n",
       " 'jenna': 1,\n",
       " 'ryu': 1,\n",
       " 'usa': 1,\n",
       " 'today': 1,\n",
       " 'after': 1,\n",
       " 'racking': 1,\n",
       " 'up': 1,\n",
       " 'grammy': 1,\n",
       " 'nominations': 1,\n",
       " 'numerous': 1,\n",
       " 'no1': 1,\n",
       " 'hits': 1,\n",
       " 'much-needed': 1,\n",
       " '\"this': 1,\n",
       " 'period': 2,\n",
       " 'rest': 2,\n",
       " 'will': 4,\n",
       " 'provide': 1,\n",
       " 'members': 1,\n",
       " 'who': 1,\n",
       " 'have': 1,\n",
       " 'tirelessly': 1,\n",
       " 'committed': 1,\n",
       " 'themselves': 3,\n",
       " 'activities': 1,\n",
       " 'chance': 1,\n",
       " 'get': 1,\n",
       " 're-inspired': 1,\n",
       " 'recharge': 1,\n",
       " 'with': 3,\n",
       " 'creative': 1,\n",
       " 'energy\"': 1,\n",
       " \"group's\": 1,\n",
       " 'management': 1,\n",
       " 'team': 1,\n",
       " 'big': 1,\n",
       " 'hit': 1,\n",
       " 'said': 1,\n",
       " 'statement': 1,\n",
       " 'sunday': 2,\n",
       " '\"it': 1,\n",
       " 'be': 2,\n",
       " 'first': 1,\n",
       " 'time': 2,\n",
       " 'them': 1,\n",
       " 'since': 1,\n",
       " 'debut': 1,\n",
       " 'spend': 1,\n",
       " 'holiday': 1,\n",
       " 'season': 1,\n",
       " 'families': 1,\n",
       " 'we': 1,\n",
       " 'kindly': 1,\n",
       " 'ask': 1,\n",
       " 'once': 1,\n",
       " 'again': 1,\n",
       " 'that': 5,\n",
       " 'you': 1,\n",
       " 'show': 1,\n",
       " 'consideration': 1,\n",
       " 'need': 2,\n",
       " 'enjoy': 1,\n",
       " 'ordinary': 1,\n",
       " 'free': 1,\n",
       " 'everyday': 1,\n",
       " 'lives': 1,\n",
       " 'while': 2,\n",
       " 'solely': 1,\n",
       " 'concentrating': 1,\n",
       " 'albeit': 1,\n",
       " 'short': 1,\n",
       " 'during': 1,\n",
       " 'focusing': 1,\n",
       " 'preparing': 1,\n",
       " 'concert': 1,\n",
       " 'release': 1,\n",
       " 'new': 1,\n",
       " 'album': 1,\n",
       " 'mark': 1,\n",
       " 'beginning': 1,\n",
       " \"'new\": 1,\n",
       " 'chapter\\'\"': 1,\n",
       " 'experts': 1,\n",
       " 'say': 1,\n",
       " \"it's\": 2,\n",
       " '\"admirable\"': 1,\n",
       " 'prioritize': 1,\n",
       " 'well-being': 1,\n",
       " 'plagued': 1,\n",
       " 'by': 4,\n",
       " 'mental': 3,\n",
       " 'health': 3,\n",
       " 'taboos': 1,\n",
       " 'has': 4,\n",
       " 'highest': 2,\n",
       " 'suicide': 5,\n",
       " 'rates': 2,\n",
       " 'among': 2,\n",
       " 'developed': 1,\n",
       " 'countries': 2,\n",
       " 'seen': 2,\n",
       " 'string': 1,\n",
       " 'suicides': 1,\n",
       " 'its': 3,\n",
       " 'music': 1,\n",
       " 'industry': 2,\n",
       " '\"everyone': 1,\n",
       " 'needs': 1,\n",
       " 'really': 1,\n",
       " 'powerful': 1,\n",
       " 'message\"': 1,\n",
       " 'says': 4,\n",
       " 'jo': 1,\n",
       " 'elfving-hwang': 1,\n",
       " 'an': 1,\n",
       " 'associate': 1,\n",
       " 'professor': 2,\n",
       " 'director': 1,\n",
       " 'research': 1,\n",
       " 'centre': 1,\n",
       " 'at': 5,\n",
       " 'university': 2,\n",
       " 'western': 1,\n",
       " 'australia': 1,\n",
       " '\"bts': 1,\n",
       " 'global': 1,\n",
       " 'phenomenon': 1,\n",
       " 'publicly': 1,\n",
       " 'saying': 1,\n",
       " 'they': 2,\n",
       " 'breaks': 1,\n",
       " 'mold': 1,\n",
       " 'typical': 1,\n",
       " 'image': 1,\n",
       " 'which': 2,\n",
       " '24/7': 1,\n",
       " 'availability\"': 1,\n",
       " \"'it\": 1,\n",
       " 'still': 1,\n",
       " 'feels': 1,\n",
       " \"surreal'bts\": 1,\n",
       " 'makes': 1,\n",
       " 'grammys': 1,\n",
       " 'history': 1,\n",
       " 'whether': 1,\n",
       " 'win': 1,\n",
       " 'or': 1,\n",
       " 'not': 1,\n",
       " 'ripjonghyun': 1,\n",
       " 'star': 3,\n",
       " 'shinee': 1,\n",
       " 'singer': 1,\n",
       " 'dies': 1,\n",
       " 'possible': 1,\n",
       " 'why': 1,\n",
       " \"korea's\": 1,\n",
       " 'rate': 1,\n",
       " 'so': 1,\n",
       " 'high': 1,\n",
       " 'like': 1,\n",
       " 'many': 2,\n",
       " 'east': 1,\n",
       " 'asian': 2,\n",
       " 'known': 1,\n",
       " 'highly': 1,\n",
       " 'competitive': 1,\n",
       " 'individualistic': 1,\n",
       " 'was': 1,\n",
       " 'largely': 1,\n",
       " 'shaped': 1,\n",
       " 'rapid': 1,\n",
       " 'globalization': 1,\n",
       " 'recent': 1,\n",
       " 'years': 1,\n",
       " 'from': 2,\n",
       " 'left': 1,\n",
       " 'v': 1,\n",
       " 'suga': 1,\n",
       " 'jin': 1,\n",
       " 'jungkook': 1,\n",
       " 'rm': 1,\n",
       " 'jimin': 1,\n",
       " 'j-hope': 1,\n",
       " '\"the': 1,\n",
       " 'nature': 1,\n",
       " 'competitiveness': 1,\n",
       " 'merciless': 1,\n",
       " 'relentless\"': 1,\n",
       " 'hyeouk': 1,\n",
       " 'chris': 1,\n",
       " 'hahm': 1,\n",
       " 'boston': 1,\n",
       " \"university's\": 1,\n",
       " 'school': 1,\n",
       " 'social': 1,\n",
       " 'work': 1,\n",
       " '\"after': 1,\n",
       " 'being': 1,\n",
       " 'occupied': 1,\n",
       " 'military': 1,\n",
       " 'dictator': 1,\n",
       " 'became': 2,\n",
       " 'much': 1,\n",
       " 'more': 2,\n",
       " 'individualized': 1,\n",
       " 'egalitarian': 1,\n",
       " 'society': 1,\n",
       " 'very': 1,\n",
       " 'competitive…': 1,\n",
       " 'as': 4,\n",
       " 'result': 2,\n",
       " 'people': 1,\n",
       " 'started': 1,\n",
       " 'experiencing': 1,\n",
       " 'psychosocial': 1,\n",
       " 'stressors\"': 1,\n",
       " 'this': 2,\n",
       " 'reasons': 1,\n",
       " 'oecd': 1,\n",
       " 'member': 1,\n",
       " 'nations': 1,\n",
       " 'she': 1,\n",
       " '2016': 1,\n",
       " 'study': 1,\n",
       " 'found': 1,\n",
       " 'even': 1,\n",
       " 'though': 1,\n",
       " '30%': 1,\n",
       " 'koreans': 1,\n",
       " 'suffer': 1,\n",
       " 'illnesses': 1,\n",
       " 'only': 1,\n",
       " 'half': 1,\n",
       " 'seek': 1,\n",
       " 'treatment': 1,\n",
       " 'korean': 1,\n",
       " 'man': 1,\n",
       " 'pays': 1,\n",
       " 'tribute': 1,\n",
       " 'memorial': 1,\n",
       " 'altar': 1,\n",
       " 'honor': 1,\n",
       " 'goo': 2,\n",
       " 'hara': 2,\n",
       " 'seoul': 2,\n",
       " 'st': 1,\n",
       " \"mary's\": 1,\n",
       " 'hospital': 1,\n",
       " 'november': 2,\n",
       " '25': 1,\n",
       " '2019': 1,\n",
       " 'kara': 1,\n",
       " 'reportedly': 1,\n",
       " 'died': 1,\n",
       " '24': 1,\n",
       " 'americastop': 1,\n",
       " 'gaslighting': 1,\n",
       " 'me': 1,\n",
       " \"'model\": 1,\n",
       " \"minority'\": 1,\n",
       " 'myth': 1,\n",
       " '\"mental': 1,\n",
       " 'traditionally': 1,\n",
       " 'been': 2,\n",
       " 'taboo': 1,\n",
       " 'subject': 1,\n",
       " 'always': 1,\n",
       " 'reflection': 1,\n",
       " 'character': 1,\n",
       " 'temperance': 1,\n",
       " 'maturity\"': 1,\n",
       " 'anson': 1,\n",
       " 'au': 1,\n",
       " 'sociologist': 1,\n",
       " 'toronto': 1,\n",
       " 'stress': 1,\n",
       " 'normalized': 1,\n",
       " '\"a': 1,\n",
       " 'part': 1,\n",
       " 'life': 1,\n",
       " 'everyone': 1,\n",
       " 'inevitably': 1,\n",
       " 'goes': 1,\n",
       " 'through\"': 1,\n",
       " '\"what': 1,\n",
       " 'results': 1,\n",
       " 'immense': 1,\n",
       " 'pressure': 1,\n",
       " 'conform': 1,\n",
       " 'suppress': 1,\n",
       " 'any': 1,\n",
       " 'issues\"': 1}"
      ]
     },
     "execution_count": 70,
     "metadata": {},
     "output_type": "execute_result"
    }
   ],
   "source": [
    "wordcount"
   ]
  },
  {
   "cell_type": "code",
   "execution_count": 71,
   "id": "d23ebefe-9de2-49ab-bd53-319235cb49ce",
   "metadata": {},
   "outputs": [],
   "source": [
    "import collections"
   ]
  },
  {
   "cell_type": "code",
   "execution_count": 72,
   "id": "5548908d-fd5b-4cb7-add3-6001f829a534",
   "metadata": {},
   "outputs": [],
   "source": [
    "word_counter = collections.Counter(wordcount)"
   ]
  },
  {
   "cell_type": "code",
   "execution_count": 73,
   "id": "5aea5986-041a-4929-bfd4-cfb2cd6dc34b",
   "metadata": {},
   "outputs": [
    {
     "data": {
      "text/plain": [
       "[('bts', 5), ('k-pop', 5), ('that', 5)]"
      ]
     },
     "execution_count": 73,
     "metadata": {},
     "output_type": "execute_result"
    }
   ],
   "source": [
    "word_counter.most_common(3)"
   ]
  },
  {
   "cell_type": "code",
   "execution_count": 75,
   "id": "ec59383a-031e-4f46-acc7-a58f65b226ca",
   "metadata": {},
   "outputs": [
    {
     "name": "stdin",
     "output_type": "stream",
     "text": [
      "how many list >>  4\n"
     ]
    },
    {
     "data": {
      "text/plain": [
       "[('bts', 5), ('k-pop', 5), ('that', 5), ('suicide', 5)]"
      ]
     },
     "execution_count": 75,
     "metadata": {},
     "output_type": "execute_result"
    }
   ],
   "source": [
    "n_print = int(input('how many list >> '))\n",
    "word_counter.most_common(n_print)"
   ]
  },
  {
   "cell_type": "code",
   "execution_count": 76,
   "id": "9361e77f-0713-4452-a9ca-64456566e4ae",
   "metadata": {},
   "outputs": [
    {
     "name": "stdin",
     "output_type": "stream",
     "text": [
      "how many list >>  5\n"
     ]
    },
    {
     "name": "stdout",
     "output_type": "stream",
     "text": [
      "bts : 5\n",
      "k-pop : 5\n",
      "that : 5\n",
      "suicide : 5\n",
      "at : 5\n"
     ]
    }
   ],
   "source": [
    "n_print = int(input('how many list >> '))\n",
    "for word, count in word_counter.most_common(n_print):\n",
    "    print(word, ':', count)"
   ]
  },
  {
   "cell_type": "code",
   "execution_count": 77,
   "id": "7491cec1-23f7-4665-8770-0cf878658813",
   "metadata": {},
   "outputs": [],
   "source": [
    "file.close()"
   ]
  },
  {
   "cell_type": "code",
   "execution_count": 78,
   "id": "d49708ca-4c88-44d8-a922-14ca8d102118",
   "metadata": {},
   "outputs": [
    {
     "data": {
      "text/html": [
       "<div>\n",
       "<style scoped>\n",
       "    .dataframe tbody tr th:only-of-type {\n",
       "        vertical-align: middle;\n",
       "    }\n",
       "\n",
       "    .dataframe tbody tr th {\n",
       "        vertical-align: top;\n",
       "    }\n",
       "\n",
       "    .dataframe thead th {\n",
       "        text-align: right;\n",
       "    }\n",
       "</style>\n",
       "<table border=\"1\" class=\"dataframe\">\n",
       "  <thead>\n",
       "    <tr style=\"text-align: right;\">\n",
       "      <th></th>\n",
       "      <th>Word</th>\n",
       "      <th>Count</th>\n",
       "    </tr>\n",
       "  </thead>\n",
       "  <tbody>\n",
       "    <tr>\n",
       "      <th>0</th>\n",
       "      <td>bts</td>\n",
       "      <td>5</td>\n",
       "    </tr>\n",
       "    <tr>\n",
       "      <th>1</th>\n",
       "      <td>k-pop</td>\n",
       "      <td>5</td>\n",
       "    </tr>\n",
       "    <tr>\n",
       "      <th>2</th>\n",
       "      <td>that</td>\n",
       "      <td>5</td>\n",
       "    </tr>\n",
       "    <tr>\n",
       "      <th>3</th>\n",
       "      <td>suicide</td>\n",
       "      <td>5</td>\n",
       "    </tr>\n",
       "    <tr>\n",
       "      <th>4</th>\n",
       "      <td>at</td>\n",
       "      <td>5</td>\n",
       "    </tr>\n",
       "  </tbody>\n",
       "</table>\n",
       "</div>"
      ],
      "text/plain": [
       "      Word  Count\n",
       "0      bts      5\n",
       "1    k-pop      5\n",
       "2     that      5\n",
       "3  suicide      5\n",
       "4       at      5"
      ]
     },
     "execution_count": 78,
     "metadata": {},
     "output_type": "execute_result"
    }
   ],
   "source": [
    "list = word_counter.most_common(n_print)\n",
    "df = pd.DataFrame(list, columns=['Word','Count'])\n",
    "df"
   ]
  },
  {
   "cell_type": "code",
   "execution_count": 79,
   "id": "3d4a4aa4-829c-4b1d-a815-e0cd9fece796",
   "metadata": {},
   "outputs": [
    {
     "data": {
      "text/plain": [
       "<AxesSubplot:xlabel='Word'>"
      ]
     },
     "execution_count": 79,
     "metadata": {},
     "output_type": "execute_result"
    },
    {
     "data": {
      "image/png": "[encoded data removed]",
      "text/plain": [
       "<Figure size 432x288 with 1 Axes>"
      ]
     },
     "metadata": {
      "needs_background": "light"
     },
     "output_type": "display_data"
    }
   ],
   "source": [
    "df.plot.bar(x='Word',y='Count')"
   ]
  },
  {
   "cell_type": "code",
   "execution_count": null,
   "id": "befaba7f-a79a-4a18-8b37-c4174ba7d598",
   "metadata": {},
   "outputs": [],
   "source": []
  }
 ],
 "metadata": {
  "kernelspec": {
   "display_name": "Python 3",
   "language": "python",
   "name": "python3"
  },
  "language_info": {
   "codemirror_mode": {
    "name": "ipython",
    "version": 3
   },
   "file_extension": ".py",
   "mimetype": "text/x-python",
   "name": "python",
   "nbconvert_exporter": "python",
   "pygments_lexer": "ipython3",
   "version": "3.8.8"
  }
 },
 "nbformat": 4,
 "nbformat_minor": 5
}
