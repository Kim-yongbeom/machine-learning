{
 "cells": [
  {
   "cell_type": "code",
   "execution_count": 1,
   "id": "32b4d3f3-fc7f-4f6f-a157-1a1c58155a98",
   "metadata": {},
   "outputs": [],
   "source": [
    "import nltk\n",
    "import pandas as pd\n",
    "import matplotlib.pyplot as plt\n",
    "%matplotlib inline"
   ]
  },
  {
   "cell_type": "code",
   "execution_count": 2,
   "id": "c517a38a-00c1-4dea-9829-d3a3431d140d",
   "metadata": {},
   "outputs": [],
   "source": [
    "file = open('mbti.txt',encoding='utf8')\n",
    "mbti = file.read()"
   ]
  },
  {
   "cell_type": "code",
   "execution_count": 3,
   "id": "9d5b65c3-3c42-4119-9e61-29870696baf1",
   "metadata": {
    "jupyter": {
     "outputs_hidden": true
    },
    "tags": []
   },
   "outputs": [
    {
     "data": {
      "text/plain": [
       "'WHO IS AN ADVOCATE (INFJ)?\\n\\nAn Advocate (INFJ) is someone with the Introverted, Intuitive, Feeling, and Judging personality traits. They tend to approach life with deep thoughtfulness and imagination. Their inner vision, personal values, and a quiet, principled version of humanism guide them in all things.\\n\\n“Treat people as if they were what they ought to be and you help them to become what they are capable of being.”\\n\\nJOHANN WOLFGANG VON GOETHE\\nAdvocates are the rarest personality types of all. Still, Advocates leave their mark on the world. They have a deep sense of idealism and integrity, but they aren’t idle dreamers – they take concrete steps to realize their goals and make a lasting impact.\\n\\nAdvocates’ unique combination of personality traits makes them complex and quite versatile. For example, Advocates can speak with great passion and conviction, especially when standing up for their ideals. At other times, however, they may choose to be soft-spoken and understated, preferring to keep the peace rather than challenge others.\\n\\nStanding Up for What’s Right\\nAdvocates generally strive to do what’s right – and they want to help create a world where others do the right thing as well. People with this personality type may feel called to use their strengths – including creativity, imagination, and sensitivity – to uplift others and spread compassion. Concepts like egalitarianism and karma can mean a great deal to Advocates.\\n\\nAdvocate (INFJ) personality\\nAdvocates may see helping others as their purpose in life. They are troubled by injustice, and they typically care more about altruism than personal gain. As a result, Advocates tend to step in when they see someone facing unfairness or hardship. Many people with this personality type also aspire to fix society’s deeper problems, in the hope that unfairness and hardship can become things of the past.\\n\\nNothing lights up Advocates like creating a solution that changes people’s lives.\\nConnecting with Others (and Themselves)\\nAdvocates may be reserved, but they communicate in a way that is warm and sensitive. This emotional honesty and insight can make a powerful impression on the people around them.\\n\\nAdvocates value deep, authentic relationships with others, and they tend to take great care with other people’s feelings. That said, these personalities also need to prioritize reconnecting with themselves. Advocates need to take some time alone now and then to decompress, recharge, and process their thoughts and feelings.\\n\\nThe Cost of Success\\nAt times, Advocates may focus so intently on their ideals that they don’t take care of themselves. Advocates may feel that they aren’t allowed to rest until they’ve achieved their unique vision of success, but this mindset can lead to stress and burnout. If this happens, people with this personality type may find themselves feeling uncharacteristically ill-tempered.\\n\\nAdvocates might find themselves feeling especially stressed in the face of conflict and criticism. These personalities tend to act with the best of intentions, and it can frustrate them when others don’t appreciate this. At times, even constructive criticism may feel deeply personal or hurtful to Advocates.\\n\\nA Personal Mission\\nMany Advocates feel compelled to find a mission for their lives. When they encounter inequity or unfairness, they tend to think, “How can I fix this?” They are well-suited to support a movement to right a wrong, no matter how big or small. Advocates just need to remember that while they’re busy taking care of the world, they need to take care of themselves too.'"
      ]
     },
     "execution_count": 3,
     "metadata": {},
     "output_type": "execute_result"
    }
   ],
   "source": [
    "mbti"
   ]
  },
  {
   "cell_type": "code",
   "execution_count": 4,
   "id": "74f9d198-8df0-4bca-8397-7337ddf68115",
   "metadata": {},
   "outputs": [],
   "source": [
    "from nltk.tokenize import sent_tokenize, word_tokenize, RegexpTokenizer"
   ]
  },
  {
   "cell_type": "code",
   "execution_count": 5,
   "id": "2e8d1f3e-378b-4b77-9584-78198fcbcd73",
   "metadata": {},
   "outputs": [
    {
     "data": {
      "text/plain": [
       "['WHO IS AN ADVOCATE (INFJ)?',\n",
       " 'An Advocate (INFJ) is someone with the Introverted, Intuitive, Feeling, and Judging personality traits.']"
      ]
     },
     "execution_count": 5,
     "metadata": {},
     "output_type": "execute_result"
    }
   ],
   "source": [
    "# sent_tokenize = 문장으로 끊기\n",
    "sent_tokenize(mbti[:1000])[0:2] # 문장으로 끊은 것 중 2번째것까지 가지고 오기"
   ]
  },
  {
   "cell_type": "code",
   "execution_count": 6,
   "id": "b217f949-81ca-45b3-be6f-0bcb6d4437f8",
   "metadata": {},
   "outputs": [],
   "source": [
    "from nltk.stem import PorterStemmer, WordNetLemmatizer"
   ]
  },
  {
   "cell_type": "code",
   "execution_count": 7,
   "id": "b441f7db-1d6e-4cc6-ab3d-7ca265cb227a",
   "metadata": {},
   "outputs": [],
   "source": [
    "st1 = PorterStemmer()\n",
    "lm = WordNetLemmatizer()"
   ]
  },
  {
   "cell_type": "code",
   "execution_count": 8,
   "id": "ee2ff924-6601-4c2c-b600-3cde15eb2373",
   "metadata": {},
   "outputs": [],
   "source": [
    "from nltk.tag import pos_tag\n",
    "from nltk import Text"
   ]
  },
  {
   "cell_type": "code",
   "execution_count": 9,
   "id": "025b2e75-8c06-4723-bd09-4c7a40c12579",
   "metadata": {
    "jupyter": {
     "outputs_hidden": true
    },
    "tags": []
   },
   "outputs": [
    {
     "data": {
      "text/plain": [
       "[('WHO', 'WP'),\n",
       " ('IS', 'VBZ'),\n",
       " ('AN', 'NNP'),\n",
       " ('ADVOCATE', 'NNP'),\n",
       " ('INFJ', 'NNP'),\n",
       " ('An', 'DT'),\n",
       " ('Advocate', 'NNP'),\n",
       " ('INFJ', 'NNP'),\n",
       " ('is', 'VBZ'),\n",
       " ('someone', 'NN'),\n",
       " ('with', 'IN'),\n",
       " ('the', 'DT'),\n",
       " ('Introverted', 'NNP'),\n",
       " ('Intuitive', 'NNP'),\n",
       " ('Feeling', 'NNP'),\n",
       " ('and', 'CC'),\n",
       " ('Judging', 'NNP'),\n",
       " ('personality', 'NN'),\n",
       " ('traits', 'VBZ'),\n",
       " ('They', 'PRP'),\n",
       " ('tend', 'VBP'),\n",
       " ('to', 'TO'),\n",
       " ('approach', 'VB'),\n",
       " ('life', 'NN'),\n",
       " ('with', 'IN'),\n",
       " ('deep', 'JJ'),\n",
       " ('thoughtfulness', 'NN'),\n",
       " ('and', 'CC'),\n",
       " ('imagination', 'VB'),\n",
       " ('Their', 'NNP'),\n",
       " ('inner', 'NN'),\n",
       " ('vision', 'NN'),\n",
       " ('personal', 'JJ'),\n",
       " ('values', 'NNS'),\n",
       " ('and', 'CC'),\n",
       " ('a', 'DT'),\n",
       " ('quiet', 'JJ'),\n",
       " ('principled', 'JJ'),\n",
       " ('version', 'NN'),\n",
       " ('of', 'IN'),\n",
       " ('humanism', 'NN'),\n",
       " ('guide', 'VBP'),\n",
       " ('them', 'PRP'),\n",
       " ('in', 'IN'),\n",
       " ('all', 'DT'),\n",
       " ('things', 'NNS'),\n",
       " ('Treat', 'NNP'),\n",
       " ('people', 'NNS'),\n",
       " ('as', 'IN'),\n",
       " ('if', 'IN'),\n",
       " ('they', 'PRP'),\n",
       " ('were', 'VBD'),\n",
       " ('what', 'WP'),\n",
       " ('they', 'PRP'),\n",
       " ('ought', 'MD'),\n",
       " ('to', 'TO'),\n",
       " ('be', 'VB'),\n",
       " ('and', 'CC'),\n",
       " ('you', 'PRP'),\n",
       " ('help', 'VBP'),\n",
       " ('them', 'PRP'),\n",
       " ('to', 'TO'),\n",
       " ('become', 'VB'),\n",
       " ('what', 'WP'),\n",
       " ('they', 'PRP'),\n",
       " ('are', 'VBP'),\n",
       " ('capable', 'JJ'),\n",
       " ('of', 'IN'),\n",
       " ('being', 'VBG'),\n",
       " ('JOHANN', 'NNP'),\n",
       " ('WOLFGANG', 'NNP'),\n",
       " ('VON', 'NNP'),\n",
       " ('GOETHE', 'NNP'),\n",
       " ('Advocates', 'NNPS'),\n",
       " ('are', 'VBP'),\n",
       " ('the', 'DT'),\n",
       " ('rarest', 'JJS'),\n",
       " ('personality', 'NN'),\n",
       " ('types', 'NNS'),\n",
       " ('of', 'IN'),\n",
       " ('all', 'DT'),\n",
       " ('Still', 'RB'),\n",
       " ('Advocates', 'NNS'),\n",
       " ('leave', 'VBP'),\n",
       " ('their', 'PRP$'),\n",
       " ('mark', 'NN'),\n",
       " ('on', 'IN'),\n",
       " ('the', 'DT'),\n",
       " ('world', 'NN'),\n",
       " ('They', 'PRP'),\n",
       " ('have', 'VBP'),\n",
       " ('a', 'DT'),\n",
       " ('deep', 'JJ'),\n",
       " ('sense', 'NN'),\n",
       " ('of', 'IN'),\n",
       " ('idealism', 'NN'),\n",
       " ('and', 'CC'),\n",
       " ('integrity', 'NN'),\n",
       " ('but', 'CC'),\n",
       " ('they', 'PRP'),\n",
       " ('aren', 'VBP'),\n",
       " ('t', 'JJ'),\n",
       " ('idle', 'JJ'),\n",
       " ('dreamers', 'NNS'),\n",
       " ('they', 'PRP'),\n",
       " ('take', 'VBP'),\n",
       " ('concrete', 'JJ'),\n",
       " ('steps', 'NNS'),\n",
       " ('to', 'TO'),\n",
       " ('realize', 'VB'),\n",
       " ('their', 'PRP$'),\n",
       " ('goals', 'NNS'),\n",
       " ('and', 'CC'),\n",
       " ('make', 'VB'),\n",
       " ('a', 'DT'),\n",
       " ('lasting', 'JJ'),\n",
       " ('impact', 'NN'),\n",
       " ('Advocates', 'NNP'),\n",
       " ('unique', 'JJ'),\n",
       " ('combination', 'NN'),\n",
       " ('of', 'IN'),\n",
       " ('personality', 'NN'),\n",
       " ('traits', 'NNS'),\n",
       " ('makes', 'VBZ'),\n",
       " ('them', 'PRP'),\n",
       " ('complex', 'JJ'),\n",
       " ('and', 'CC'),\n",
       " ('quite', 'RB'),\n",
       " ('versatile', 'NN'),\n",
       " ('For', 'IN'),\n",
       " ('example', 'NN'),\n",
       " ('Advocates', 'NNS'),\n",
       " ('can', 'MD'),\n",
       " ('speak', 'VB'),\n",
       " ('with', 'IN'),\n",
       " ('great', 'JJ'),\n",
       " ('passion', 'NN'),\n",
       " ('and', 'CC'),\n",
       " ('conviction', 'NN'),\n",
       " ('especially', 'RB'),\n",
       " ('when', 'WRB'),\n",
       " ('standing', 'VBG'),\n",
       " ('up', 'RP'),\n",
       " ('for', 'IN'),\n",
       " ('their', 'PRP$'),\n",
       " ('ideals', 'NNS'),\n",
       " ('At', 'IN'),\n",
       " ('other', 'JJ'),\n",
       " ('times', 'NNS'),\n",
       " ('however', 'RB'),\n",
       " ('they', 'PRP'),\n",
       " ('may', 'MD'),\n",
       " ('choose', 'VB'),\n",
       " ('to', 'TO'),\n",
       " ('be', 'VB'),\n",
       " ('soft', 'JJ'),\n",
       " ('spoken', 'NNS'),\n",
       " ('and', 'CC'),\n",
       " ('understated', 'JJ'),\n",
       " ('preferring', 'NN'),\n",
       " ('to', 'TO'),\n",
       " ('keep', 'VB'),\n",
       " ('the', 'DT'),\n",
       " ('peace', 'NN'),\n",
       " ('rather', 'RB'),\n",
       " ('than', 'IN'),\n",
       " ('challenge', 'VB'),\n",
       " ('others', 'NNS'),\n",
       " ('Standing', 'VBG'),\n",
       " ('Up', 'RP'),\n",
       " ('for', 'IN'),\n",
       " ('What', 'WP'),\n",
       " ('s', 'VBD'),\n",
       " ('Right', 'JJ'),\n",
       " ('Advocates', 'NNP'),\n",
       " ('generally', 'RB'),\n",
       " ('strive', 'VBP'),\n",
       " ('to', 'TO'),\n",
       " ('do', 'VB'),\n",
       " ('what', 'WP'),\n",
       " ('s', 'VB'),\n",
       " ('right', 'JJ'),\n",
       " ('and', 'CC'),\n",
       " ('they', 'PRP'),\n",
       " ('want', 'VBP'),\n",
       " ('to', 'TO'),\n",
       " ('help', 'VB'),\n",
       " ('create', 'VB'),\n",
       " ('a', 'DT'),\n",
       " ('world', 'NN'),\n",
       " ('where', 'WRB'),\n",
       " ('others', 'NNS'),\n",
       " ('do', 'VBP'),\n",
       " ('the', 'DT'),\n",
       " ('right', 'JJ'),\n",
       " ('thing', 'NN'),\n",
       " ('as', 'RB'),\n",
       " ('well', 'RB'),\n",
       " ('People', 'NNPS'),\n",
       " ('with', 'IN'),\n",
       " ('this', 'DT'),\n",
       " ('personality', 'NN'),\n",
       " ('type', 'NN'),\n",
       " ('may', 'MD'),\n",
       " ('feel', 'VB'),\n",
       " ('called', 'VBD'),\n",
       " ('to', 'TO'),\n",
       " ('use', 'VB'),\n",
       " ('their', 'PRP$'),\n",
       " ('strengths', 'NNS'),\n",
       " ('including', 'VBG'),\n",
       " ('creativity', 'NN'),\n",
       " ('imagination', 'NN'),\n",
       " ('and', 'CC'),\n",
       " ('sensitivity', 'NN'),\n",
       " ('to', 'TO'),\n",
       " ('uplift', 'VB'),\n",
       " ('others', 'NNS'),\n",
       " ('and', 'CC'),\n",
       " ('spread', 'JJ'),\n",
       " ('compassion', 'NN'),\n",
       " ('Concepts', 'NNP'),\n",
       " ('like', 'IN'),\n",
       " ('egalitarianism', 'NN'),\n",
       " ('and', 'CC'),\n",
       " ('karma', 'NN'),\n",
       " ('can', 'MD'),\n",
       " ('mean', 'VB'),\n",
       " ('a', 'DT'),\n",
       " ('great', 'JJ'),\n",
       " ('deal', 'NN'),\n",
       " ('to', 'TO'),\n",
       " ('Advocates', 'NNP'),\n",
       " ('Advocate', 'NNP'),\n",
       " ('INFJ', 'NNP'),\n",
       " ('personality', 'NN'),\n",
       " ('Advocates', 'NNPS'),\n",
       " ('may', 'MD'),\n",
       " ('see', 'VB'),\n",
       " ('helping', 'VBG'),\n",
       " ('others', 'NNS'),\n",
       " ('as', 'IN'),\n",
       " ('their', 'PRP$'),\n",
       " ('purpose', 'NN'),\n",
       " ('in', 'IN'),\n",
       " ('life', 'NN'),\n",
       " ('They', 'PRP'),\n",
       " ('are', 'VBP'),\n",
       " ('troubled', 'VBN'),\n",
       " ('by', 'IN'),\n",
       " ('injustice', 'NN'),\n",
       " ('and', 'CC'),\n",
       " ('they', 'PRP'),\n",
       " ('typically', 'RB'),\n",
       " ('care', 'VB'),\n",
       " ('more', 'RBR'),\n",
       " ('about', 'IN'),\n",
       " ('altruism', 'NN'),\n",
       " ('than', 'IN'),\n",
       " ('personal', 'JJ'),\n",
       " ('gain', 'NN'),\n",
       " ('As', 'IN'),\n",
       " ('a', 'DT'),\n",
       " ('result', 'NN'),\n",
       " ('Advocates', 'VBZ'),\n",
       " ('tend', 'VBP'),\n",
       " ('to', 'TO'),\n",
       " ('step', 'VB'),\n",
       " ('in', 'IN'),\n",
       " ('when', 'WRB'),\n",
       " ('they', 'PRP'),\n",
       " ('see', 'VBP'),\n",
       " ('someone', 'NN'),\n",
       " ('facing', 'VBG'),\n",
       " ('unfairness', 'JJ'),\n",
       " ('or', 'CC'),\n",
       " ('hardship', 'JJ'),\n",
       " ('Many', 'JJ'),\n",
       " ('people', 'NNS'),\n",
       " ('with', 'IN'),\n",
       " ('this', 'DT'),\n",
       " ('personality', 'NN'),\n",
       " ('type', 'NN'),\n",
       " ('also', 'RB'),\n",
       " ('aspire', 'VBZ'),\n",
       " ('to', 'TO'),\n",
       " ('fix', 'VB'),\n",
       " ('society', 'NN'),\n",
       " ('s', 'FW'),\n",
       " ('deeper', 'JJR'),\n",
       " ('problems', 'NNS'),\n",
       " ('in', 'IN'),\n",
       " ('the', 'DT'),\n",
       " ('hope', 'NN'),\n",
       " ('that', 'IN'),\n",
       " ('unfairness', 'JJ'),\n",
       " ('and', 'CC'),\n",
       " ('hardship', 'NN'),\n",
       " ('can', 'MD'),\n",
       " ('become', 'VB'),\n",
       " ('things', 'NNS'),\n",
       " ('of', 'IN'),\n",
       " ('the', 'DT'),\n",
       " ('past', 'JJ'),\n",
       " ('Nothing', 'NN'),\n",
       " ('lights', 'NNS'),\n",
       " ('up', 'RP'),\n",
       " ('Advocates', 'NNS'),\n",
       " ('like', 'IN'),\n",
       " ('creating', 'VBG'),\n",
       " ('a', 'DT'),\n",
       " ('solution', 'NN'),\n",
       " ('that', 'WDT'),\n",
       " ('changes', 'VBZ'),\n",
       " ('people', 'NNS'),\n",
       " ('s', 'VBP'),\n",
       " ('lives', 'VBZ'),\n",
       " ('Connecting', 'VBG'),\n",
       " ('with', 'IN'),\n",
       " ('Others', 'NNS'),\n",
       " ('and', 'CC'),\n",
       " ('Themselves', 'NNS'),\n",
       " ('Advocates', 'NNS'),\n",
       " ('may', 'MD'),\n",
       " ('be', 'VB'),\n",
       " ('reserved', 'VBN'),\n",
       " ('but', 'CC'),\n",
       " ('they', 'PRP'),\n",
       " ('communicate', 'VBP'),\n",
       " ('in', 'IN'),\n",
       " ('a', 'DT'),\n",
       " ('way', 'NN'),\n",
       " ('that', 'WDT'),\n",
       " ('is', 'VBZ'),\n",
       " ('warm', 'JJ'),\n",
       " ('and', 'CC'),\n",
       " ('sensitive', 'JJ'),\n",
       " ('This', 'DT'),\n",
       " ('emotional', 'JJ'),\n",
       " ('honesty', 'NN'),\n",
       " ('and', 'CC'),\n",
       " ('insight', 'NN'),\n",
       " ('can', 'MD'),\n",
       " ('make', 'VB'),\n",
       " ('a', 'DT'),\n",
       " ('powerful', 'JJ'),\n",
       " ('impression', 'NN'),\n",
       " ('on', 'IN'),\n",
       " ('the', 'DT'),\n",
       " ('people', 'NNS'),\n",
       " ('around', 'IN'),\n",
       " ('them', 'PRP'),\n",
       " ('Advocates', 'VBZ'),\n",
       " ('value', 'NN'),\n",
       " ('deep', 'JJ'),\n",
       " ('authentic', 'JJ'),\n",
       " ('relationships', 'NNS'),\n",
       " ('with', 'IN'),\n",
       " ('others', 'NNS'),\n",
       " ('and', 'CC'),\n",
       " ('they', 'PRP'),\n",
       " ('tend', 'VBP'),\n",
       " ('to', 'TO'),\n",
       " ('take', 'VB'),\n",
       " ('great', 'JJ'),\n",
       " ('care', 'NN'),\n",
       " ('with', 'IN'),\n",
       " ('other', 'JJ'),\n",
       " ('people', 'NNS'),\n",
       " ('s', 'VBP'),\n",
       " ('feelings', 'NNS'),\n",
       " ('That', 'WDT'),\n",
       " ('said', 'VBD'),\n",
       " ('these', 'DT'),\n",
       " ('personalities', 'NNS'),\n",
       " ('also', 'RB'),\n",
       " ('need', 'VBP'),\n",
       " ('to', 'TO'),\n",
       " ('prioritize', 'VB'),\n",
       " ('reconnecting', 'VBG'),\n",
       " ('with', 'IN'),\n",
       " ('themselves', 'PRP'),\n",
       " ('Advocates', 'NNS'),\n",
       " ('need', 'VBP'),\n",
       " ('to', 'TO'),\n",
       " ('take', 'VB'),\n",
       " ('some', 'DT'),\n",
       " ('time', 'NN'),\n",
       " ('alone', 'RB'),\n",
       " ('now', 'RB'),\n",
       " ('and', 'CC'),\n",
       " ('then', 'RB'),\n",
       " ('to', 'TO'),\n",
       " ('decompress', 'VB'),\n",
       " ('recharge', 'NN'),\n",
       " ('and', 'CC'),\n",
       " ('process', 'VB'),\n",
       " ('their', 'PRP$'),\n",
       " ('thoughts', 'NNS'),\n",
       " ('and', 'CC'),\n",
       " ('feelings', 'NNS'),\n",
       " ('The', 'DT'),\n",
       " ('Cost', 'NN'),\n",
       " ('of', 'IN'),\n",
       " ('Success', 'NNP'),\n",
       " ('At', 'IN'),\n",
       " ('times', 'NNS'),\n",
       " ('Advocates', 'NNP'),\n",
       " ('may', 'MD'),\n",
       " ('focus', 'VB'),\n",
       " ('so', 'RB'),\n",
       " ('intently', 'RB'),\n",
       " ('on', 'IN'),\n",
       " ('their', 'PRP$'),\n",
       " ('ideals', 'NNS'),\n",
       " ('that', 'IN'),\n",
       " ('they', 'PRP'),\n",
       " ('don', 'VBP'),\n",
       " ('t', 'JJ'),\n",
       " ('take', 'VBP'),\n",
       " ('care', 'NN'),\n",
       " ('of', 'IN'),\n",
       " ('themselves', 'PRP'),\n",
       " ('Advocates', 'NNPS'),\n",
       " ('may', 'MD'),\n",
       " ('feel', 'VB'),\n",
       " ('that', 'IN'),\n",
       " ('they', 'PRP'),\n",
       " ('aren', 'VBP'),\n",
       " ('t', 'JJ'),\n",
       " ('allowed', 'VBN'),\n",
       " ('to', 'TO'),\n",
       " ('rest', 'VB'),\n",
       " ('until', 'IN'),\n",
       " ('they', 'PRP'),\n",
       " ('ve', 'VBP'),\n",
       " ('achieved', 'VBN'),\n",
       " ('their', 'PRP$'),\n",
       " ('unique', 'JJ'),\n",
       " ('vision', 'NN'),\n",
       " ('of', 'IN'),\n",
       " ('success', 'NN'),\n",
       " ('but', 'CC'),\n",
       " ('this', 'DT'),\n",
       " ('mindset', 'NN'),\n",
       " ('can', 'MD'),\n",
       " ('lead', 'VB'),\n",
       " ('to', 'TO'),\n",
       " ('stress', 'VB'),\n",
       " ('and', 'CC'),\n",
       " ('burnout', 'VB'),\n",
       " ('If', 'IN'),\n",
       " ('this', 'DT'),\n",
       " ('happens', 'VBZ'),\n",
       " ('people', 'NNS'),\n",
       " ('with', 'IN'),\n",
       " ('this', 'DT'),\n",
       " ('personality', 'NN'),\n",
       " ('type', 'NN'),\n",
       " ('may', 'MD'),\n",
       " ('find', 'VB'),\n",
       " ('themselves', 'PRP'),\n",
       " ('feeling', 'VBG'),\n",
       " ('uncharacteristically', 'RB'),\n",
       " ('ill', 'VB'),\n",
       " ('tempered', 'VBN'),\n",
       " ('Advocates', 'NNS'),\n",
       " ('might', 'MD'),\n",
       " ('find', 'VB'),\n",
       " ('themselves', 'PRP'),\n",
       " ('feeling', 'VBG'),\n",
       " ('especially', 'RB'),\n",
       " ('stressed', 'VBN'),\n",
       " ('in', 'IN'),\n",
       " ('the', 'DT'),\n",
       " ('face', 'NN'),\n",
       " ('of', 'IN'),\n",
       " ('conflict', 'NN'),\n",
       " ('and', 'CC'),\n",
       " ('criticism', 'NN'),\n",
       " ('These', 'DT'),\n",
       " ('personalities', 'NNS'),\n",
       " ('tend', 'VBP'),\n",
       " ('to', 'TO'),\n",
       " ('act', 'VB'),\n",
       " ('with', 'IN'),\n",
       " ('the', 'DT'),\n",
       " ('best', 'JJS'),\n",
       " ('of', 'IN'),\n",
       " ('intentions', 'NNS'),\n",
       " ('and', 'CC'),\n",
       " ('it', 'PRP'),\n",
       " ('can', 'MD'),\n",
       " ('frustrate', 'VB'),\n",
       " ('them', 'PRP'),\n",
       " ('when', 'WRB'),\n",
       " ('others', 'NNS'),\n",
       " ('don', 'VBP'),\n",
       " ('t', 'JJ'),\n",
       " ('appreciate', 'NN'),\n",
       " ('this', 'DT'),\n",
       " ('At', 'IN'),\n",
       " ('times', 'NNS'),\n",
       " ('even', 'RB'),\n",
       " ('constructive', 'VBP'),\n",
       " ('criticism', 'NN'),\n",
       " ('may', 'MD'),\n",
       " ('feel', 'VB'),\n",
       " ('deeply', 'RB'),\n",
       " ('personal', 'JJ'),\n",
       " ('or', 'CC'),\n",
       " ('hurtful', 'JJ'),\n",
       " ('to', 'TO'),\n",
       " ('Advocates', 'VB'),\n",
       " ('A', 'DT'),\n",
       " ('Personal', 'NNP'),\n",
       " ('Mission', 'NNP'),\n",
       " ('Many', 'NNP'),\n",
       " ('Advocates', 'NNP'),\n",
       " ('feel', 'VBP'),\n",
       " ('compelled', 'VBN'),\n",
       " ('to', 'TO'),\n",
       " ('find', 'VB'),\n",
       " ('a', 'DT'),\n",
       " ('mission', 'NN'),\n",
       " ('for', 'IN'),\n",
       " ('their', 'PRP$'),\n",
       " ('lives', 'NNS'),\n",
       " ('When', 'WRB'),\n",
       " ('they', 'PRP'),\n",
       " ('encounter', 'VBP'),\n",
       " ('inequity', 'NN'),\n",
       " ('or', 'CC'),\n",
       " ('unfairness', 'NN'),\n",
       " ('they', 'PRP'),\n",
       " ('tend', 'VBP'),\n",
       " ('to', 'TO'),\n",
       " ('think', 'VB'),\n",
       " ('How', 'NNP'),\n",
       " ('can', 'MD'),\n",
       " ('I', 'PRP'),\n",
       " ('fix', 'VB'),\n",
       " ('this', 'DT'),\n",
       " ('They', 'PRP'),\n",
       " ('are', 'VBP'),\n",
       " ('well', 'RB'),\n",
       " ('suited', 'VBN'),\n",
       " ('to', 'TO'),\n",
       " ('support', 'VB'),\n",
       " ('a', 'DT'),\n",
       " ('movement', 'NN'),\n",
       " ('to', 'TO'),\n",
       " ('right', 'VB'),\n",
       " ('a', 'DT'),\n",
       " ('wrong', 'JJ'),\n",
       " ('no', 'DT'),\n",
       " ('matter', 'NN'),\n",
       " ('how', 'WRB'),\n",
       " ('big', 'JJ'),\n",
       " ('or', 'CC'),\n",
       " ('small', 'JJ'),\n",
       " ('Advocates', 'NNS'),\n",
       " ('just', 'RB'),\n",
       " ('need', 'VBP'),\n",
       " ('to', 'TO'),\n",
       " ('remember', 'VB'),\n",
       " ('that', 'IN'),\n",
       " ('while', 'IN'),\n",
       " ('they', 'PRP'),\n",
       " ('re', 'VBP'),\n",
       " ('busy', 'JJ'),\n",
       " ('taking', 'VBG'),\n",
       " ('care', 'NN'),\n",
       " ('of', 'IN'),\n",
       " ('the', 'DT'),\n",
       " ('world', 'NN'),\n",
       " ('they', 'PRP'),\n",
       " ('need', 'VBP'),\n",
       " ('to', 'TO'),\n",
       " ('take', 'VB'),\n",
       " ('care', 'NN'),\n",
       " ('of', 'IN'),\n",
       " ('themselves', 'PRP'),\n",
       " ('too', 'RB')]"
      ]
     },
     "execution_count": 9,
     "metadata": {},
     "output_type": "execute_result"
    }
   ],
   "source": [
    "stopwords = [\"to\", \"and\", \"they\", \"of\", \"a\", \"with\",\"the\",'may','can','in','this','that','tend','world','type']\n",
    "stopwords\n",
    "retokenize = RegexpTokenizer('[\\w]+')\n",
    "mbti_tokens = pos_tag(retokenize.tokenize(mbti))\n",
    "mbti_tokens"
   ]
  },
  {
   "cell_type": "code",
   "execution_count": 10,
   "id": "ffad1ff5-e2fe-43eb-a0c9-92ef08d2ddfc",
   "metadata": {},
   "outputs": [],
   "source": [
    "from nltk import FreqDist\n",
    "names_list = [t[0] for t in mbti_tokens if t[1] == \"NN\" and t[0] not in stopwords]\n",
    "fd_names = FreqDist(names_list)"
   ]
  },
  {
   "cell_type": "code",
   "execution_count": 25,
   "id": "eb94a5d9",
   "metadata": {},
   "outputs": [
    {
     "data": {
      "text/plain": [
       "['someone', 'personality', 'life', 'thoughtfulness', 'inner']"
      ]
     },
     "execution_count": 25,
     "metadata": {},
     "output_type": "execute_result"
    }
   ],
   "source": [
    "names_list[:5]"
   ]
  },
  {
   "cell_type": "code",
   "execution_count": 23,
   "id": "13d26050",
   "metadata": {},
   "outputs": [
    {
     "data": {
      "text/plain": [
       "nltk.probability.FreqDist"
      ]
     },
     "execution_count": 23,
     "metadata": {},
     "output_type": "execute_result"
    }
   ],
   "source": [
    "type(fd_names)"
   ]
  },
  {
   "cell_type": "code",
   "execution_count": 11,
   "id": "8c94d588-b12e-493f-b15e-4c53ea3da1b6",
   "metadata": {},
   "outputs": [
    {
     "data": {
      "text/plain": [
       "71"
      ]
     },
     "execution_count": 11,
     "metadata": {},
     "output_type": "execute_result"
    }
   ],
   "source": [
    "fd_names.N()"
   ]
  },
  {
   "cell_type": "code",
   "execution_count": 12,
   "id": "e28e61ff-5e47-45c4-80b2-305b648dd1c7",
   "metadata": {},
   "outputs": [
    {
     "data": {
      "text/plain": [
       "4"
      ]
     },
     "execution_count": 12,
     "metadata": {},
     "output_type": "execute_result"
    }
   ],
   "source": [
    "fd_names['care']"
   ]
  },
  {
   "cell_type": "code",
   "execution_count": 13,
   "id": "d9b0b9a4-3926-4a7e-8a07-6306d718e553",
   "metadata": {},
   "outputs": [
    {
     "data": {
      "text/plain": [
       "0.056338028169014086"
      ]
     },
     "execution_count": 13,
     "metadata": {},
     "output_type": "execute_result"
    }
   ],
   "source": [
    "fd_names.freq('care')"
   ]
  },
  {
   "cell_type": "code",
   "execution_count": 14,
   "id": "65d1911f-1a2d-4dec-946f-62d01c131dbc",
   "metadata": {},
   "outputs": [
    {
     "data": {
      "text/plain": [
       "[('personality', 7), ('care', 4), ('someone', 2), ('life', 2), ('vision', 2)]"
      ]
     },
     "execution_count": 14,
     "metadata": {},
     "output_type": "execute_result"
    }
   ],
   "source": [
    "fd_names.most_common(5)"
   ]
  },
  {
   "cell_type": "code",
   "execution_count": 34,
   "id": "f0982e9b",
   "metadata": {},
   "outputs": [],
   "source": [
    "all_str = \"\"\n",
    "for x in names_list:\n",
    "    all_str += x + \" \""
   ]
  },
  {
   "cell_type": "code",
   "execution_count": 31,
   "id": "fe0872c5",
   "metadata": {},
   "outputs": [],
   "source": [
    "# all_str = all_str.join(names_list)"
   ]
  },
  {
   "cell_type": "code",
   "execution_count": 35,
   "id": "75d046d7",
   "metadata": {},
   "outputs": [
    {
     "name": "stdout",
     "output_type": "stream",
     "text": [
      "someone personality life thoughtfulness inner vision version humanism personality mark sense idealism integrity impact combination personality versatile example passion conviction preferring peace thing personality creativity imagination sensitivity compassion egalitarianism karma deal personality purpose life injustice altruism gain result someone personality society hope hardship Nothing solution way honesty insight impression value care time recharge Cost care vision success mindset personality face conflict criticism appreciate criticism mission inequity unfairness movement matter care care \n"
     ]
    }
   ],
   "source": [
    "print(all_str)"
   ]
  },
  {
   "cell_type": "code",
   "execution_count": 36,
   "id": "14b43c1b-9e2e-4ae7-9098-eabe7fc9281f",
   "metadata": {},
   "outputs": [
    {
     "data": {
      "text/plain": [
       "<Text: someone personality life thoughtfulness inner vision version humanism...>"
      ]
     },
     "execution_count": 36,
     "metadata": {},
     "output_type": "execute_result"
    }
   ],
   "source": [
    "text = Text(retokenize.tokenize(all_str))\n",
    "text"
   ]
  },
  {
   "cell_type": "code",
   "execution_count": 37,
   "id": "e6fe0b51-9f79-4c83-aa5f-334c641527b3",
   "metadata": {},
   "outputs": [
    {
     "data": {
      "image/png": "[encoded data removed]",
      "text/plain": [
       "<Figure size 432x288 with 1 Axes>"
      ]
     },
     "metadata": {
      "needs_background": "light"
     },
     "output_type": "display_data"
    }
   ],
   "source": [
    "text.plot(20)"
   ]
  },
  {
   "cell_type": "code",
   "execution_count": 38,
   "id": "1bd29f28-5740-477a-a0fd-8cf34b7afa8f",
   "metadata": {},
   "outputs": [
    {
     "data": {
      "image/png": "[encoded data removed]",
      "text/plain": [
       "<Figure size 432x288 with 1 Axes>"
      ]
     },
     "metadata": {
      "needs_background": "light"
     },
     "output_type": "display_data"
    }
   ],
   "source": [
    "text.dispersion_plot([\"personality\",\"INFJ\"])"
   ]
  },
  {
   "cell_type": "code",
   "execution_count": 39,
   "id": "80231457-9bec-41aa-a6e8-9207daa6a5b6",
   "metadata": {},
   "outputs": [
    {
     "name": "stdout",
     "output_type": "stream",
     "text": [
      "Displaying 7 of 7 matches:\n",
      "someone personality life thoughtfulness inner vision \n",
      "ess inner vision version humanism personality mark sense idealism integrity imp\n",
      "lism integrity impact combination personality versatile example passion convict\n",
      "conviction preferring peace thing personality creativity imagination sensitivit\n",
      "passion egalitarianism karma deal personality purpose life injustice altruism g\n",
      "tice altruism gain result someone personality society hope hardship Nothing sol\n",
      " Cost care vision success mindset personality face conflict criticism appreciat\n"
     ]
    }
   ],
   "source": [
    "text.concordance('personality')"
   ]
  },
  {
   "cell_type": "code",
   "execution_count": 40,
   "id": "40bcb037-72e1-41c9-a741-0ed75deb9439",
   "metadata": {},
   "outputs": [],
   "source": [
    "from wordcloud import WordCloud"
   ]
  },
  {
   "cell_type": "code",
   "execution_count": 41,
   "id": "1b9a30ce-b65f-4cdb-b6b8-4208e179368a",
   "metadata": {},
   "outputs": [
    {
     "data": {
      "text/plain": [
       "<matplotlib.image.AxesImage at 0x7fdd4431b370>"
      ]
     },
     "execution_count": 41,
     "metadata": {},
     "output_type": "execute_result"
    },
    {
     "data": {
      "image/png": "[encoded data removed]",
      "text/plain": [
       "<Figure size 432x288 with 1 Axes>"
      ]
     },
     "metadata": {
      "needs_background": "light"
     },
     "output_type": "display_data"
    }
   ],
   "source": [
    "wc = WordCloud(width=1000,height=600, background_color='white',random_state=0)\n",
    "plt.imshow(wc.generate_from_frequencies(fd_names))"
   ]
  },
  {
   "cell_type": "code",
   "execution_count": null,
   "id": "31c295e8-a923-4e31-ab95-513ba69797df",
   "metadata": {},
   "outputs": [],
   "source": []
  }
 ],
 "metadata": {
  "kernelspec": {
   "display_name": "Python 3",
   "language": "python",
   "name": "python3"
  },
  "language_info": {
   "codemirror_mode": {
    "name": "ipython",
    "version": 3
   },
   "file_extension": ".py",
   "mimetype": "text/x-python",
   "name": "python",
   "nbconvert_exporter": "python",
   "pygments_lexer": "ipython3",
   "version": "3.8.8"
  },
  "toc": {
   "base_numbering": 1,
   "nav_menu": {},
   "number_sections": true,
   "sideBar": true,
   "skip_h1_title": false,
   "title_cell": "Table of Contents",
   "title_sidebar": "Contents",
   "toc_cell": false,
   "toc_position": {},
   "toc_section_display": true,
   "toc_window_display": false
  }
 },
 "nbformat": 4,
 "nbformat_minor": 5
}
