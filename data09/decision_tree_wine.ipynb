{
  "nbformat": 4,
  "nbformat_minor": 0,
  "metadata": {
    "colab": {
      "name": "decision tree_wine.ipynb",
      "provenance": [],
      "collapsed_sections": [],
      "authorship_tag": "ABX9TyNml3GjzjoXX3JKwbwOdHke",
      "include_colab_link": true
    },
    "kernelspec": {
      "name": "python3",
      "display_name": "Python 3"
    },
    "language_info": {
      "name": "python"
    }
  },
  "cells": [
    {
      "cell_type": "markdown",
      "metadata": {
        "id": "view-in-github",
        "colab_type": "text"
      },
      "source": [
        "<a href=\"https://colab.research.google.com/github/Kim-yongbeom/machine-learning/blob/main/data09/decision_tree_wine.ipynb\" target=\"_parent\"><img src=\"https://colab.research.google.com/assets/colab-badge.svg\" alt=\"Open In Colab\"/></a>"
      ]
    },
    {
      "cell_type": "code",
      "metadata": {
        "id": "gOqIeZrNROk_"
      },
      "source": [
        "import pandas as pd\n",
        "wine = pd.read_csv('https://bit.ly/wine_csv_data')"
      ],
      "execution_count": 3,
      "outputs": []
    },
    {
      "cell_type": "code",
      "metadata": {
        "colab": {
          "base_uri": "https://localhost:8080/",
          "height": 206
        },
        "id": "M8om8OM-qVDF",
        "outputId": "55f4d512-2616-4e68-8083-c0b8414dc8dd"
      },
      "source": [
        "wine.head()"
      ],
      "execution_count": 4,
      "outputs": [
        {
          "output_type": "execute_result",
          "data": {
            "text/html": [
              "<div>\n",
              "<style scoped>\n",
              "    .dataframe tbody tr th:only-of-type {\n",
              "        vertical-align: middle;\n",
              "    }\n",
              "\n",
              "    .dataframe tbody tr th {\n",
              "        vertical-align: top;\n",
              "    }\n",
              "\n",
              "    .dataframe thead th {\n",
              "        text-align: right;\n",
              "    }\n",
              "</style>\n",
              "<table border=\"1\" class=\"dataframe\">\n",
              "  <thead>\n",
              "    <tr style=\"text-align: right;\">\n",
              "      <th></th>\n",
              "      <th>alcohol</th>\n",
              "      <th>sugar</th>\n",
              "      <th>pH</th>\n",
              "      <th>class</th>\n",
              "    </tr>\n",
              "  </thead>\n",
              "  <tbody>\n",
              "    <tr>\n",
              "      <th>0</th>\n",
              "      <td>9.4</td>\n",
              "      <td>1.9</td>\n",
              "      <td>3.51</td>\n",
              "      <td>0.0</td>\n",
              "    </tr>\n",
              "    <tr>\n",
              "      <th>1</th>\n",
              "      <td>9.8</td>\n",
              "      <td>2.6</td>\n",
              "      <td>3.20</td>\n",
              "      <td>0.0</td>\n",
              "    </tr>\n",
              "    <tr>\n",
              "      <th>2</th>\n",
              "      <td>9.8</td>\n",
              "      <td>2.3</td>\n",
              "      <td>3.26</td>\n",
              "      <td>0.0</td>\n",
              "    </tr>\n",
              "    <tr>\n",
              "      <th>3</th>\n",
              "      <td>9.8</td>\n",
              "      <td>1.9</td>\n",
              "      <td>3.16</td>\n",
              "      <td>0.0</td>\n",
              "    </tr>\n",
              "    <tr>\n",
              "      <th>4</th>\n",
              "      <td>9.4</td>\n",
              "      <td>1.9</td>\n",
              "      <td>3.51</td>\n",
              "      <td>0.0</td>\n",
              "    </tr>\n",
              "  </tbody>\n",
              "</table>\n",
              "</div>"
            ],
            "text/plain": [
              "   alcohol  sugar    pH  class\n",
              "0      9.4    1.9  3.51    0.0\n",
              "1      9.8    2.6  3.20    0.0\n",
              "2      9.8    2.3  3.26    0.0\n",
              "3      9.8    1.9  3.16    0.0\n",
              "4      9.4    1.9  3.51    0.0"
            ]
          },
          "metadata": {},
          "execution_count": 4
        }
      ]
    },
    {
      "cell_type": "code",
      "metadata": {
        "colab": {
          "base_uri": "https://localhost:8080/"
        },
        "id": "fe9h22qCwKHv",
        "outputId": "09283571-c91b-495b-f4aa-f7cbb5785184"
      },
      "source": [
        "wine.info()"
      ],
      "execution_count": 5,
      "outputs": [
        {
          "output_type": "stream",
          "name": "stdout",
          "text": [
            "<class 'pandas.core.frame.DataFrame'>\n",
            "RangeIndex: 6497 entries, 0 to 6496\n",
            "Data columns (total 4 columns):\n",
            " #   Column   Non-Null Count  Dtype  \n",
            "---  ------   --------------  -----  \n",
            " 0   alcohol  6497 non-null   float64\n",
            " 1   sugar    6497 non-null   float64\n",
            " 2   pH       6497 non-null   float64\n",
            " 3   class    6497 non-null   float64\n",
            "dtypes: float64(4)\n",
            "memory usage: 203.2 KB\n"
          ]
        }
      ]
    },
    {
      "cell_type": "code",
      "metadata": {
        "colab": {
          "base_uri": "https://localhost:8080/",
          "height": 300
        },
        "id": "Pxxy4EP_wW0i",
        "outputId": "15157992-fbb8-4e84-af52-30710837d88e"
      },
      "source": [
        "wine.describe()"
      ],
      "execution_count": 6,
      "outputs": [
        {
          "output_type": "execute_result",
          "data": {
            "text/html": [
              "<div>\n",
              "<style scoped>\n",
              "    .dataframe tbody tr th:only-of-type {\n",
              "        vertical-align: middle;\n",
              "    }\n",
              "\n",
              "    .dataframe tbody tr th {\n",
              "        vertical-align: top;\n",
              "    }\n",
              "\n",
              "    .dataframe thead th {\n",
              "        text-align: right;\n",
              "    }\n",
              "</style>\n",
              "<table border=\"1\" class=\"dataframe\">\n",
              "  <thead>\n",
              "    <tr style=\"text-align: right;\">\n",
              "      <th></th>\n",
              "      <th>alcohol</th>\n",
              "      <th>sugar</th>\n",
              "      <th>pH</th>\n",
              "      <th>class</th>\n",
              "    </tr>\n",
              "  </thead>\n",
              "  <tbody>\n",
              "    <tr>\n",
              "      <th>count</th>\n",
              "      <td>6497.000000</td>\n",
              "      <td>6497.000000</td>\n",
              "      <td>6497.000000</td>\n",
              "      <td>6497.000000</td>\n",
              "    </tr>\n",
              "    <tr>\n",
              "      <th>mean</th>\n",
              "      <td>10.491801</td>\n",
              "      <td>5.443235</td>\n",
              "      <td>3.218501</td>\n",
              "      <td>0.753886</td>\n",
              "    </tr>\n",
              "    <tr>\n",
              "      <th>std</th>\n",
              "      <td>1.192712</td>\n",
              "      <td>4.757804</td>\n",
              "      <td>0.160787</td>\n",
              "      <td>0.430779</td>\n",
              "    </tr>\n",
              "    <tr>\n",
              "      <th>min</th>\n",
              "      <td>8.000000</td>\n",
              "      <td>0.600000</td>\n",
              "      <td>2.720000</td>\n",
              "      <td>0.000000</td>\n",
              "    </tr>\n",
              "    <tr>\n",
              "      <th>25%</th>\n",
              "      <td>9.500000</td>\n",
              "      <td>1.800000</td>\n",
              "      <td>3.110000</td>\n",
              "      <td>1.000000</td>\n",
              "    </tr>\n",
              "    <tr>\n",
              "      <th>50%</th>\n",
              "      <td>10.300000</td>\n",
              "      <td>3.000000</td>\n",
              "      <td>3.210000</td>\n",
              "      <td>1.000000</td>\n",
              "    </tr>\n",
              "    <tr>\n",
              "      <th>75%</th>\n",
              "      <td>11.300000</td>\n",
              "      <td>8.100000</td>\n",
              "      <td>3.320000</td>\n",
              "      <td>1.000000</td>\n",
              "    </tr>\n",
              "    <tr>\n",
              "      <th>max</th>\n",
              "      <td>14.900000</td>\n",
              "      <td>65.800000</td>\n",
              "      <td>4.010000</td>\n",
              "      <td>1.000000</td>\n",
              "    </tr>\n",
              "  </tbody>\n",
              "</table>\n",
              "</div>"
            ],
            "text/plain": [
              "           alcohol        sugar           pH        class\n",
              "count  6497.000000  6497.000000  6497.000000  6497.000000\n",
              "mean     10.491801     5.443235     3.218501     0.753886\n",
              "std       1.192712     4.757804     0.160787     0.430779\n",
              "min       8.000000     0.600000     2.720000     0.000000\n",
              "25%       9.500000     1.800000     3.110000     1.000000\n",
              "50%      10.300000     3.000000     3.210000     1.000000\n",
              "75%      11.300000     8.100000     3.320000     1.000000\n",
              "max      14.900000    65.800000     4.010000     1.000000"
            ]
          },
          "metadata": {},
          "execution_count": 6
        }
      ]
    },
    {
      "cell_type": "code",
      "metadata": {
        "id": "AomZvKewwlt5"
      },
      "source": [
        "data = wine[['alcohol','sugar','pH']].to_numpy()"
      ],
      "execution_count": 10,
      "outputs": []
    },
    {
      "cell_type": "code",
      "metadata": {
        "colab": {
          "base_uri": "https://localhost:8080/"
        },
        "id": "wRxxgj9bxEQc",
        "outputId": "035b8290-125d-480e-d5d7-5a6506ffcc0e"
      },
      "source": [
        "data"
      ],
      "execution_count": 11,
      "outputs": [
        {
          "output_type": "execute_result",
          "data": {
            "text/plain": [
              "array([[ 9.4 ,  1.9 ,  3.51],\n",
              "       [ 9.8 ,  2.6 ,  3.2 ],\n",
              "       [ 9.8 ,  2.3 ,  3.26],\n",
              "       ...,\n",
              "       [ 9.4 ,  1.2 ,  2.99],\n",
              "       [12.8 ,  1.1 ,  3.34],\n",
              "       [11.8 ,  0.8 ,  3.26]])"
            ]
          },
          "metadata": {},
          "execution_count": 11
        }
      ]
    },
    {
      "cell_type": "code",
      "metadata": {
        "colab": {
          "base_uri": "https://localhost:8080/"
        },
        "id": "y0T6e8zjw8yh",
        "outputId": "dd2e8ddb-1e96-4971-f2be-8cd714750755"
      },
      "source": [
        "target = wine['class'].to_numpy()\n",
        "target"
      ],
      "execution_count": 9,
      "outputs": [
        {
          "output_type": "execute_result",
          "data": {
            "text/plain": [
              "array([0., 0., 0., ..., 1., 1., 1.])"
            ]
          },
          "metadata": {},
          "execution_count": 9
        }
      ]
    },
    {
      "cell_type": "code",
      "metadata": {
        "id": "P7LZKAZ8xLdf"
      },
      "source": [
        "from sklearn.model_selection import train_test_split"
      ],
      "execution_count": 12,
      "outputs": []
    },
    {
      "cell_type": "code",
      "metadata": {
        "id": "Q8CL8FA_xWPv"
      },
      "source": [
        "train_input, test_input, train_target, test_target = train_test_split(\n",
        "    data, target, test_size=0.2, random_state=42\n",
        ")"
      ],
      "execution_count": 13,
      "outputs": []
    },
    {
      "cell_type": "code",
      "metadata": {
        "colab": {
          "base_uri": "https://localhost:8080/"
        },
        "id": "EcjGRz_-xifY",
        "outputId": "ca14c9ec-cd5e-4e74-9e6d-49b4b46f1034"
      },
      "source": [
        "print(train_input.shape, test_input.shape)"
      ],
      "execution_count": 14,
      "outputs": [
        {
          "output_type": "stream",
          "name": "stdout",
          "text": [
            "(5197, 3) (1300, 3)\n"
          ]
        }
      ]
    },
    {
      "cell_type": "code",
      "metadata": {
        "colab": {
          "base_uri": "https://localhost:8080/"
        },
        "id": "aqt9FH_sxm9U",
        "outputId": "b88ef479-a8b1-4290-c083-cca1402396a8"
      },
      "source": [
        "train_input"
      ],
      "execution_count": 15,
      "outputs": [
        {
          "output_type": "execute_result",
          "data": {
            "text/plain": [
              "array([[10.5 ,  7.7 ,  3.19],\n",
              "       [12.4 ,  2.1 ,  3.26],\n",
              "       [11.8 ,  2.1 ,  3.41],\n",
              "       ...,\n",
              "       [ 9.5 ,  5.6 ,  3.24],\n",
              "       [ 9.5 ,  8.  ,  3.18],\n",
              "       [ 9.5 ,  2.7 ,  3.51]])"
            ]
          },
          "metadata": {},
          "execution_count": 15
        }
      ]
    },
    {
      "cell_type": "code",
      "metadata": {
        "colab": {
          "base_uri": "https://localhost:8080/"
        },
        "id": "UIP2-1O8xwbn",
        "outputId": "0b66405f-7516-447d-f270-166e8926e1d1"
      },
      "source": [
        "test_input"
      ],
      "execution_count": 16,
      "outputs": [
        {
          "output_type": "execute_result",
          "data": {
            "text/plain": [
              "array([[12.2 , 12.8 ,  3.26],\n",
              "       [ 9.9 ,  2.2 ,  3.27],\n",
              "       [12.  ,  7.4 ,  3.18],\n",
              "       ...,\n",
              "       [12.4 ,  1.8 ,  3.19],\n",
              "       [ 9.4 ,  9.7 ,  3.3 ],\n",
              "       [ 8.7 , 15.5 ,  2.9 ]])"
            ]
          },
          "metadata": {},
          "execution_count": 16
        }
      ]
    },
    {
      "cell_type": "code",
      "metadata": {
        "id": "QU1Z0ZxZx0OY"
      },
      "source": [
        "# 스케일링\n",
        "from sklearn.preprocessing import StandardScaler"
      ],
      "execution_count": 17,
      "outputs": []
    },
    {
      "cell_type": "code",
      "metadata": {
        "id": "HnNkVQl7yOYc"
      },
      "source": [
        "# 트레인 데이터로 표준화\n",
        "ss = StandardScaler()"
      ],
      "execution_count": 18,
      "outputs": []
    },
    {
      "cell_type": "code",
      "metadata": {
        "colab": {
          "base_uri": "https://localhost:8080/"
        },
        "id": "D35kc7HuyWlG",
        "outputId": "3f41c38b-ccc6-4b0d-d33d-6be607bb0424"
      },
      "source": [
        "ss.fit(train_input)"
      ],
      "execution_count": 19,
      "outputs": [
        {
          "output_type": "execute_result",
          "data": {
            "text/plain": [
              "StandardScaler()"
            ]
          },
          "metadata": {},
          "execution_count": 19
        }
      ]
    },
    {
      "cell_type": "code",
      "metadata": {
        "id": "ZpFp7___yaHn"
      },
      "source": [
        "train_scaled = ss.transform(train_input)\n",
        "test_scaled = ss.transform(test_input)"
      ],
      "execution_count": 20,
      "outputs": []
    },
    {
      "cell_type": "code",
      "metadata": {
        "id": "bjljubcJyjiS"
      },
      "source": [
        "from sklearn.linear_model import LogisticRegression"
      ],
      "execution_count": 21,
      "outputs": []
    },
    {
      "cell_type": "code",
      "metadata": {
        "id": "KxUqLVmjyvw4"
      },
      "source": [
        "lr = LogisticRegression()"
      ],
      "execution_count": 22,
      "outputs": []
    },
    {
      "cell_type": "code",
      "metadata": {
        "colab": {
          "base_uri": "https://localhost:8080/"
        },
        "id": "ZgWy9r-zyyJ0",
        "outputId": "c2fefbf9-025d-4adb-9494-3f6448ba154d"
      },
      "source": [
        "lr.fit(train_scaled, train_target)"
      ],
      "execution_count": 23,
      "outputs": [
        {
          "output_type": "execute_result",
          "data": {
            "text/plain": [
              "LogisticRegression()"
            ]
          },
          "metadata": {},
          "execution_count": 23
        }
      ]
    },
    {
      "cell_type": "code",
      "metadata": {
        "colab": {
          "base_uri": "https://localhost:8080/"
        },
        "id": "JKC_HjWCy3DE",
        "outputId": "d2b3d434-99a3-4d80-f6c5-20172ac9dff8"
      },
      "source": [
        "print(lr.score(train_scaled,train_target))"
      ],
      "execution_count": 25,
      "outputs": [
        {
          "output_type": "stream",
          "name": "stdout",
          "text": [
            "0.7808350971714451\n"
          ]
        }
      ]
    },
    {
      "cell_type": "code",
      "metadata": {
        "colab": {
          "base_uri": "https://localhost:8080/"
        },
        "id": "T9-09y0yy7VW",
        "outputId": "7443fcf9-ce26-455d-8da1-002c27af5eb2"
      },
      "source": [
        "print(lr.score(test_scaled,test_target))"
      ],
      "execution_count": 26,
      "outputs": [
        {
          "output_type": "stream",
          "name": "stdout",
          "text": [
            "0.7776923076923077\n"
          ]
        }
      ]
    },
    {
      "cell_type": "code",
      "metadata": {
        "id": "DEv66lWszDgl"
      },
      "source": [
        "## 기존의 모델은 설명하기 어려운 모델"
      ],
      "execution_count": 27,
      "outputs": []
    },
    {
      "cell_type": "code",
      "metadata": {
        "id": "anLIZfSezS4I"
      },
      "source": [
        "## 설명하기 쉬운 모델 => 의사 결정 트리"
      ],
      "execution_count": 28,
      "outputs": []
    },
    {
      "cell_type": "code",
      "metadata": {
        "colab": {
          "base_uri": "https://localhost:8080/"
        },
        "id": "vkevHTnX1lnE",
        "outputId": "1b354ba1-2c3f-48a6-f90c-974e7f616713"
      },
      "source": [
        "wine.columns"
      ],
      "execution_count": 32,
      "outputs": [
        {
          "output_type": "execute_result",
          "data": {
            "text/plain": [
              "Index(['alcohol', 'sugar', 'pH', 'class'], dtype='object')"
            ]
          },
          "metadata": {},
          "execution_count": 32
        }
      ]
    },
    {
      "cell_type": "code",
      "metadata": {
        "colab": {
          "base_uri": "https://localhost:8080/"
        },
        "id": "VbGM1S0ZzVHd",
        "outputId": "2873246d-0e9b-4683-fc0c-323052b29e96"
      },
      "source": [
        "# predict_proba의 출력은 각 클래스에 대한 확률\n",
        "# alcohol, sugar, pH 넣어준것\n",
        "# ex) 긍정, 부정 두가지의 답을 얻고 싶을때 proba 사용 (각각의 가능성 제시)\n",
        "lr.predict_proba([[2,2,2]])"
      ],
      "execution_count": 37,
      "outputs": [
        {
          "output_type": "execute_result",
          "data": {
            "text/plain": [
              "array([[0.00804513, 0.99195487]])"
            ]
          },
          "metadata": {},
          "execution_count": 37
        }
      ]
    },
    {
      "cell_type": "code",
      "metadata": {
        "colab": {
          "base_uri": "https://localhost:8080/"
        },
        "id": "psH_oNHd0gQ1",
        "outputId": "863d0c52-3161-42b9-b125-8e76366cac7b"
      },
      "source": [
        "lr.predict([[3,3,3]])"
      ],
      "execution_count": 40,
      "outputs": [
        {
          "output_type": "execute_result",
          "data": {
            "text/plain": [
              "array([1.])"
            ]
          },
          "metadata": {},
          "execution_count": 40
        }
      ]
    },
    {
      "cell_type": "code",
      "metadata": {
        "colab": {
          "base_uri": "https://localhost:8080/"
        },
        "id": "9rMx9IgH0iOo",
        "outputId": "c45619c5-d678-4fad-d377-978be73ab6bb"
      },
      "source": [
        "# 데이터프레임 값보고 넣어주기\n",
        "lr.predict_proba([[3,3,3],[10,30,5],[10,15,4]])"
      ],
      "execution_count": 41,
      "outputs": [
        {
          "output_type": "execute_result",
          "data": {
            "text/plain": [
              "array([[1.80925881e-03, 9.98190741e-01],\n",
              "       [0.00000000e+00, 1.00000000e+00],\n",
              "       [1.89404048e-13, 1.00000000e+00]])"
            ]
          },
          "metadata": {},
          "execution_count": 41
        }
      ]
    },
    {
      "cell_type": "code",
      "metadata": {
        "id": "mg7Yh1B93Rzj"
      },
      "source": [
        "my_wine = [[3,3,3],[10,30,5],[10,15,4]]"
      ],
      "execution_count": 42,
      "outputs": []
    },
    {
      "cell_type": "code",
      "metadata": {
        "colab": {
          "base_uri": "https://localhost:8080/"
        },
        "id": "6rC3OYyL3q2n",
        "outputId": "17031f41-ed96-42ec-c3ba-9cdb2be9359d"
      },
      "source": [
        "lr.predict_proba(my_wine)"
      ],
      "execution_count": 43,
      "outputs": [
        {
          "output_type": "execute_result",
          "data": {
            "text/plain": [
              "array([[1.80925881e-03, 9.98190741e-01],\n",
              "       [0.00000000e+00, 1.00000000e+00],\n",
              "       [1.89404048e-13, 1.00000000e+00]])"
            ]
          },
          "metadata": {},
          "execution_count": 43
        }
      ]
    },
    {
      "cell_type": "code",
      "metadata": {
        "colab": {
          "base_uri": "https://localhost:8080/"
        },
        "id": "nQogW8di3tgM",
        "outputId": "2b4612cb-9c1d-4a5a-de78-d29fefeda623"
      },
      "source": [
        "lr.predict(my_wine)"
      ],
      "execution_count": 44,
      "outputs": [
        {
          "output_type": "execute_result",
          "data": {
            "text/plain": [
              "array([1., 1., 1.])"
            ]
          },
          "metadata": {},
          "execution_count": 44
        }
      ]
    },
    {
      "cell_type": "code",
      "metadata": {
        "colab": {
          "base_uri": "https://localhost:8080/"
        },
        "id": "6r95ecxc3vrd",
        "outputId": "c9926b7c-4f0d-4ac8-962e-c47c3dbf065a"
      },
      "source": [
        "# 각 컬럼의 가중치(weight)와 절편(bias)을 찍어보자\n",
        "print('weight값 들', lr.coef_)"
      ],
      "execution_count": 45,
      "outputs": [
        {
          "output_type": "stream",
          "name": "stdout",
          "text": [
            "weight값 들 [[ 0.51270274  1.6733911  -0.68767781]]\n"
          ]
        }
      ]
    },
    {
      "cell_type": "code",
      "metadata": {
        "colab": {
          "base_uri": "https://localhost:8080/"
        },
        "id": "ih-EuBDj50D-",
        "outputId": "00970dae-fc97-481f-e642-d0f6505bd14e"
      },
      "source": [
        "# x절편은 직선이 x축과 만나는 점이고, y절편은 직선이 y축과 만나는 점입니다.\n",
        "print('y절편 ',lr.intercept_)"
      ],
      "execution_count": 46,
      "outputs": [
        {
          "output_type": "stream",
          "name": "stdout",
          "text": [
            "y절편  [1.81777902]\n"
          ]
        }
      ]
    },
    {
      "cell_type": "code",
      "metadata": {
        "id": "Ab0LtC_g535I"
      },
      "source": [
        "# 와인의 품질을 이 식으로 분류한다.\n",
        "# 가중치로 식 판단\n",
        "# 품질분류 = 0.51 * 알콜 + 1.67 * 당도 - 0.68 * 산도 + 1.81(절편)"
      ],
      "execution_count": 48,
      "outputs": []
    },
    {
      "cell_type": "code",
      "metadata": {
        "id": "9SN7f2Zb6UNB"
      },
      "source": [
        "from sklearn.tree import DecisionTreeClassifier"
      ],
      "execution_count": 49,
      "outputs": []
    },
    {
      "cell_type": "code",
      "metadata": {
        "colab": {
          "base_uri": "https://localhost:8080/"
        },
        "id": "EHa5oSq76xoP",
        "outputId": "cca5a4c1-b2a7-473f-c4d0-4da2f8702a17"
      },
      "source": [
        "# 파라미터값이 많다\n",
        "# 오버피팅이 많다\n",
        "dt = DecisionTreeClassifier(random_state=42)\n",
        "dt.fit(train_scaled, train_target)"
      ],
      "execution_count": 50,
      "outputs": [
        {
          "output_type": "execute_result",
          "data": {
            "text/plain": [
              "DecisionTreeClassifier(random_state=42)"
            ]
          },
          "metadata": {},
          "execution_count": 50
        }
      ]
    },
    {
      "cell_type": "code",
      "metadata": {
        "colab": {
          "base_uri": "https://localhost:8080/"
        },
        "id": "XZPiyFt16_fZ",
        "outputId": "f325d12f-cc54-4146-940f-49234af68386"
      },
      "source": [
        "print(dt.score(train_scaled,train_target))"
      ],
      "execution_count": 52,
      "outputs": [
        {
          "output_type": "stream",
          "name": "stdout",
          "text": [
            "0.996921300750433\n"
          ]
        }
      ]
    },
    {
      "cell_type": "code",
      "metadata": {
        "colab": {
          "base_uri": "https://localhost:8080/"
        },
        "id": "Qe05X_pk7Hd1",
        "outputId": "3aaed0cf-0193-4632-887b-abdf12cb5ecd"
      },
      "source": [
        "print(dt.score(test_scaled,test_target))"
      ],
      "execution_count": 53,
      "outputs": [
        {
          "output_type": "stream",
          "name": "stdout",
          "text": [
            "0.8592307692307692\n"
          ]
        }
      ]
    },
    {
      "cell_type": "code",
      "metadata": {
        "id": "d7Mqs0vi7Wim"
      },
      "source": [
        "import matplotlib.pyplot as plt\n",
        "from sklearn.tree import plot_tree"
      ],
      "execution_count": 54,
      "outputs": []
    },
    {
      "cell_type": "code",
      "metadata": {
        "colab": {
          "base_uri": "https://localhost:8080/",
          "height": 1000
        },
        "id": "8YfJliLN8JGH",
        "outputId": "ae6be07d-0273-44ce-c557-ab81d435545b"
      },
      "source": [
        "plt.figure(figsize=(10,7))\n",
        "plot_tree(dt)"
      ],
      "execution_count": 55,
      "outputs": [
        {
          "output_type": "execute_result",
          "data": {
            "text/plain": [
              "[Text(339.05319497019974, 371.8718181818182, 'X[1] <= -0.239\\ngini = 0.367\\nsamples = 5197\\nvalue = [1258, 3939]'),\n",
              " Text(164.99331004349227, 354.57545454545453, 'X[1] <= -0.802\\ngini = 0.481\\nsamples = 2922\\nvalue = [1177, 1745]'),\n",
              " Text(32.09095119201031, 337.2790909090909, 'X[1] <= -0.854\\ngini = 0.184\\nsamples = 1054\\nvalue = [108, 946]'),\n",
              " Text(3.711340206185567, 319.98272727272723, 'X[2] <= 3.966\\ngini = 0.032\\nsamples = 555\\nvalue = [9, 546]'),\n",
              " Text(2.9690721649484537, 302.6863636363636, 'X[2] <= -2.017\\ngini = 0.025\\nsamples = 553\\nvalue = [7, 546]'),\n",
              " Text(1.4845360824742269, 285.39, 'X[2] <= -2.08\\ngini = 0.219\\nsamples = 8\\nvalue = [1, 7]'),\n",
              " Text(0.7422680412371134, 268.09363636363634, 'gini = 0.0\\nsamples = 7\\nvalue = [0, 7]'),\n",
              " Text(2.2268041237113403, 268.09363636363634, 'gini = 0.0\\nsamples = 1\\nvalue = [1, 0]'),\n",
              " Text(4.453608247422681, 285.39, 'X[1] <= -0.896\\ngini = 0.022\\nsamples = 545\\nvalue = [6, 539]'),\n",
              " Text(3.711340206185567, 268.09363636363634, 'gini = 0.0\\nsamples = 263\\nvalue = [0, 263]'),\n",
              " Text(5.195876288659794, 268.09363636363634, 'X[0] <= -0.952\\ngini = 0.042\\nsamples = 282\\nvalue = [6, 276]'),\n",
              " Text(1.6701030927835052, 250.7972727272727, 'X[2] <= -0.357\\ngini = 0.153\\nsamples = 24\\nvalue = [2, 22]'),\n",
              " Text(0.9278350515463918, 233.50090909090906, 'gini = 0.0\\nsamples = 16\\nvalue = [0, 16]'),\n",
              " Text(2.412371134020619, 233.50090909090906, 'X[2] <= -0.232\\ngini = 0.375\\nsamples = 8\\nvalue = [2, 6]'),\n",
              " Text(1.6701030927835052, 216.20454545454544, 'gini = 0.0\\nsamples = 1\\nvalue = [1, 0]'),\n",
              " Text(3.1546391752577323, 216.20454545454544, 'X[0] <= -1.036\\ngini = 0.245\\nsamples = 7\\nvalue = [1, 6]'),\n",
              " Text(2.412371134020619, 198.9081818181818, 'gini = 0.0\\nsamples = 6\\nvalue = [0, 6]'),\n",
              " Text(3.8969072164948457, 198.9081818181818, 'gini = 0.0\\nsamples = 1\\nvalue = [1, 0]'),\n",
              " Text(8.721649484536083, 250.7972727272727, 'X[2] <= 0.426\\ngini = 0.031\\nsamples = 258\\nvalue = [4, 254]'),\n",
              " Text(6.8659793814432994, 233.50090909090906, 'X[0] <= -0.532\\ngini = 0.011\\nsamples = 175\\nvalue = [1, 174]'),\n",
              " Text(6.123711340206186, 216.20454545454544, 'X[0] <= -0.616\\ngini = 0.087\\nsamples = 22\\nvalue = [1, 21]'),\n",
              " Text(5.381443298969073, 198.9081818181818, 'gini = 0.0\\nsamples = 17\\nvalue = [0, 17]'),\n",
              " Text(6.8659793814432994, 198.9081818181818, 'X[1] <= -0.88\\ngini = 0.32\\nsamples = 5\\nvalue = [1, 4]'),\n",
              " Text(6.123711340206186, 181.61181818181817, 'gini = 0.0\\nsamples = 3\\nvalue = [0, 3]'),\n",
              " Text(7.608247422680413, 181.61181818181817, 'X[2] <= -0.388\\ngini = 0.5\\nsamples = 2\\nvalue = [1, 1]'),\n",
              " Text(6.8659793814432994, 164.31545454545451, 'gini = 0.0\\nsamples = 1\\nvalue = [0, 1]'),\n",
              " Text(8.350515463917526, 164.31545454545451, 'gini = 0.0\\nsamples = 1\\nvalue = [1, 0]'),\n",
              " Text(7.608247422680413, 216.20454545454544, 'gini = 0.0\\nsamples = 153\\nvalue = [0, 153]'),\n",
              " Text(10.577319587628866, 233.50090909090906, 'X[2] <= 0.489\\ngini = 0.07\\nsamples = 83\\nvalue = [3, 80]'),\n",
              " Text(9.092783505154639, 216.20454545454544, 'X[1] <= -0.88\\ngini = 0.346\\nsamples = 9\\nvalue = [2, 7]'),\n",
              " Text(8.350515463917526, 198.9081818181818, 'gini = 0.0\\nsamples = 2\\nvalue = [2, 0]'),\n",
              " Text(9.835051546391753, 198.9081818181818, 'gini = 0.0\\nsamples = 7\\nvalue = [0, 7]'),\n",
              " Text(12.061855670103093, 216.20454545454544, 'X[0] <= -0.364\\ngini = 0.027\\nsamples = 74\\nvalue = [1, 73]'),\n",
              " Text(11.31958762886598, 198.9081818181818, 'X[0] <= -0.448\\ngini = 0.133\\nsamples = 14\\nvalue = [1, 13]'),\n",
              " Text(10.577319587628866, 181.61181818181817, 'gini = 0.0\\nsamples = 9\\nvalue = [0, 9]'),\n",
              " Text(12.061855670103093, 181.61181818181817, 'X[1] <= -0.88\\ngini = 0.32\\nsamples = 5\\nvalue = [1, 4]'),\n",
              " Text(11.31958762886598, 164.31545454545451, 'gini = 0.0\\nsamples = 1\\nvalue = [1, 0]'),\n",
              " Text(12.804123711340207, 164.31545454545451, 'gini = 0.0\\nsamples = 4\\nvalue = [0, 4]'),\n",
              " Text(12.804123711340207, 198.9081818181818, 'gini = 0.0\\nsamples = 60\\nvalue = [0, 60]'),\n",
              " Text(4.453608247422681, 302.6863636363636, 'gini = 0.0\\nsamples = 2\\nvalue = [2, 0]'),\n",
              " Text(60.470562177835056, 319.98272727272723, 'X[0] <= -0.35\\ngini = 0.318\\nsamples = 499\\nvalue = [99, 400]'),\n",
              " Text(33.30927835051546, 302.6863636363636, 'X[2] <= 0.176\\ngini = 0.47\\nsamples = 154\\nvalue = [58, 96]'),\n",
              " Text(23.288659793814436, 285.39, 'X[0] <= -0.392\\ngini = 0.329\\nsamples = 77\\nvalue = [16, 61]'),\n",
              " Text(22.54639175257732, 268.09363636363634, 'X[2] <= -2.08\\ngini = 0.317\\nsamples = 76\\nvalue = [15, 61]'),\n",
              " Text(21.804123711340207, 250.7972727272727, 'gini = 0.0\\nsamples = 1\\nvalue = [1, 0]'),\n",
              " Text(23.288659793814436, 250.7972727272727, 'X[1] <= -0.818\\ngini = 0.304\\nsamples = 75\\nvalue = [14, 61]'),\n",
              " Text(17.814432989690722, 233.50090909090906, 'X[2] <= -1.14\\ngini = 0.226\\nsamples = 54\\nvalue = [7, 47]'),\n",
              " Text(15.030927835051546, 216.20454545454544, 'X[2] <= -1.328\\ngini = 0.42\\nsamples = 10\\nvalue = [3, 7]'),\n",
              " Text(14.288659793814434, 198.9081818181818, 'gini = 0.0\\nsamples = 6\\nvalue = [0, 6]'),\n",
              " Text(15.77319587628866, 198.9081818181818, 'X[1] <= -0.839\\ngini = 0.375\\nsamples = 4\\nvalue = [3, 1]'),\n",
              " Text(15.030927835051546, 181.61181818181817, 'X[0] <= -1.036\\ngini = 0.5\\nsamples = 2\\nvalue = [1, 1]'),\n",
              " Text(14.288659793814434, 164.31545454545451, 'gini = 0.0\\nsamples = 1\\nvalue = [1, 0]'),\n",
              " Text(15.77319587628866, 164.31545454545451, 'gini = 0.0\\nsamples = 1\\nvalue = [0, 1]'),\n",
              " Text(16.515463917525775, 181.61181818181817, 'gini = 0.0\\nsamples = 2\\nvalue = [2, 0]'),\n",
              " Text(20.5979381443299, 216.20454545454544, 'X[0] <= -1.119\\ngini = 0.165\\nsamples = 44\\nvalue = [4, 40]'),\n",
              " Text(18.742268041237114, 198.9081818181818, 'X[2] <= -0.576\\ngini = 0.375\\nsamples = 4\\nvalue = [1, 3]'),\n",
              " Text(18.0, 181.61181818181817, 'X[1] <= -0.839\\ngini = 0.5\\nsamples = 2\\nvalue = [1, 1]'),\n",
              " Text(17.257731958762886, 164.31545454545451, 'gini = 0.0\\nsamples = 1\\nvalue = [1, 0]'),\n",
              " Text(18.742268041237114, 164.31545454545451, 'gini = 0.0\\nsamples = 1\\nvalue = [0, 1]'),\n",
              " Text(19.48453608247423, 181.61181818181817, 'gini = 0.0\\nsamples = 2\\nvalue = [0, 2]'),\n",
              " Text(22.453608247422682, 198.9081818181818, 'X[1] <= -0.839\\ngini = 0.139\\nsamples = 40\\nvalue = [3, 37]'),\n",
              " Text(20.969072164948454, 181.61181818181817, 'X[2] <= -0.639\\ngini = 0.077\\nsamples = 25\\nvalue = [1, 24]'),\n",
              " Text(20.22680412371134, 164.31545454545451, 'X[0] <= -0.49\\ngini = 0.375\\nsamples = 4\\nvalue = [1, 3]'),\n",
              " Text(19.48453608247423, 147.0190909090909, 'gini = 0.0\\nsamples = 3\\nvalue = [0, 3]'),\n",
              " Text(20.969072164948454, 147.0190909090909, 'gini = 0.0\\nsamples = 1\\nvalue = [1, 0]'),\n",
              " Text(21.711340206185568, 164.31545454545451, 'gini = 0.0\\nsamples = 21\\nvalue = [0, 21]'),\n",
              " Text(23.938144329896907, 181.61181818181817, 'X[2] <= -0.419\\ngini = 0.231\\nsamples = 15\\nvalue = [2, 13]'),\n",
              " Text(23.195876288659793, 164.31545454545451, 'gini = 0.0\\nsamples = 7\\nvalue = [0, 7]'),\n",
              " Text(24.68041237113402, 164.31545454545451, 'X[2] <= -0.294\\ngini = 0.375\\nsamples = 8\\nvalue = [2, 6]'),\n",
              " Text(23.938144329896907, 147.0190909090909, 'gini = 0.0\\nsamples = 1\\nvalue = [1, 0]'),\n",
              " Text(25.422680412371136, 147.0190909090909, 'X[2] <= -0.075\\ngini = 0.245\\nsamples = 7\\nvalue = [1, 6]'),\n",
              " Text(24.68041237113402, 129.72272727272724, 'X[2] <= -0.138\\ngini = 0.444\\nsamples = 3\\nvalue = [1, 2]'),\n",
              " Text(23.938144329896907, 112.42636363636359, 'gini = 0.0\\nsamples = 2\\nvalue = [0, 2]'),\n",
              " Text(25.422680412371136, 112.42636363636359, 'gini = 0.0\\nsamples = 1\\nvalue = [1, 0]'),\n",
              " Text(26.164948453608247, 129.72272727272724, 'gini = 0.0\\nsamples = 4\\nvalue = [0, 4]'),\n",
              " Text(28.762886597938145, 233.50090909090906, 'X[2] <= -0.639\\ngini = 0.444\\nsamples = 21\\nvalue = [7, 14]'),\n",
              " Text(26.90721649484536, 216.20454545454544, 'X[0] <= -0.868\\ngini = 0.219\\nsamples = 8\\nvalue = [1, 7]'),\n",
              " Text(26.164948453608247, 198.9081818181818, 'X[0] <= -1.036\\ngini = 0.444\\nsamples = 3\\nvalue = [1, 2]'),\n",
              " Text(25.422680412371136, 181.61181818181817, 'gini = 0.0\\nsamples = 1\\nvalue = [0, 1]'),\n",
              " Text(26.90721649484536, 181.61181818181817, 'gini = 0.5\\nsamples = 2\\nvalue = [1, 1]'),\n",
              " Text(27.649484536082475, 198.9081818181818, 'gini = 0.0\\nsamples = 5\\nvalue = [0, 5]'),\n",
              " Text(30.61855670103093, 216.20454545454544, 'X[2] <= -0.263\\ngini = 0.497\\nsamples = 13\\nvalue = [6, 7]'),\n",
              " Text(29.1340206185567, 198.9081818181818, 'X[2] <= -0.451\\ngini = 0.278\\nsamples = 6\\nvalue = [5, 1]'),\n",
              " Text(28.39175257731959, 181.61181818181817, 'X[2] <= -0.545\\ngini = 0.5\\nsamples = 2\\nvalue = [1, 1]'),\n",
              " Text(27.649484536082475, 164.31545454545451, 'gini = 0.0\\nsamples = 1\\nvalue = [1, 0]'),\n",
              " Text(29.1340206185567, 164.31545454545451, 'gini = 0.0\\nsamples = 1\\nvalue = [0, 1]'),\n",
              " Text(29.876288659793815, 181.61181818181817, 'gini = 0.0\\nsamples = 4\\nvalue = [4, 0]'),\n",
              " Text(32.103092783505154, 198.9081818181818, 'X[0] <= -0.448\\ngini = 0.245\\nsamples = 7\\nvalue = [1, 6]'),\n",
              " Text(31.360824742268044, 181.61181818181817, 'gini = 0.0\\nsamples = 6\\nvalue = [0, 6]'),\n",
              " Text(32.84536082474227, 181.61181818181817, 'gini = 0.0\\nsamples = 1\\nvalue = [1, 0]'),\n",
              " Text(24.030927835051546, 268.09363636363634, 'gini = 0.0\\nsamples = 1\\nvalue = [1, 0]'),\n",
              " Text(43.329896907216494, 285.39, 'X[0] <= -0.763\\ngini = 0.496\\nsamples = 77\\nvalue = [42, 35]'),\n",
              " Text(38.78350515463918, 268.09363636363634, 'X[2] <= 2.431\\ngini = 0.415\\nsamples = 34\\nvalue = [24, 10]'),\n",
              " Text(38.04123711340206, 250.7972727272727, 'X[1] <= -0.812\\ngini = 0.397\\nsamples = 33\\nvalue = [24, 9]'),\n",
              " Text(35.81443298969072, 233.50090909090906, 'X[2] <= 0.802\\ngini = 0.484\\nsamples = 17\\nvalue = [10, 7]'),\n",
              " Text(34.329896907216494, 216.20454545454544, 'X[0] <= -0.952\\ngini = 0.469\\nsamples = 8\\nvalue = [3, 5]'),\n",
              " Text(33.58762886597938, 198.9081818181818, 'gini = 0.0\\nsamples = 3\\nvalue = [3, 0]'),\n",
              " Text(35.07216494845361, 198.9081818181818, 'gini = 0.0\\nsamples = 5\\nvalue = [0, 5]'),\n",
              " Text(37.29896907216495, 216.20454545454544, 'X[0] <= -0.868\\ngini = 0.346\\nsamples = 9\\nvalue = [7, 2]'),\n",
              " Text(36.55670103092783, 198.9081818181818, 'X[1] <= -0.839\\ngini = 0.444\\nsamples = 3\\nvalue = [1, 2]'),\n",
              " Text(35.81443298969072, 181.61181818181817, 'gini = 0.0\\nsamples = 1\\nvalue = [0, 1]'),\n",
              " Text(37.29896907216495, 181.61181818181817, 'X[2] <= 1.585\\ngini = 0.5\\nsamples = 2\\nvalue = [1, 1]'),\n",
              " Text(36.55670103092783, 164.31545454545451, 'gini = 0.0\\nsamples = 1\\nvalue = [1, 0]'),\n",
              " Text(38.04123711340206, 164.31545454545451, 'gini = 0.0\\nsamples = 1\\nvalue = [0, 1]'),\n",
              " Text(38.04123711340206, 198.9081818181818, 'gini = 0.0\\nsamples = 6\\nvalue = [6, 0]'),\n",
              " Text(40.2680412371134, 233.50090909090906, 'X[0] <= -1.036\\ngini = 0.219\\nsamples = 16\\nvalue = [14, 2]'),\n",
              " Text(39.52577319587629, 216.20454545454544, 'gini = 0.0\\nsamples = 6\\nvalue = [6, 0]'),\n",
              " Text(41.01030927835052, 216.20454545454544, 'X[0] <= -0.952\\ngini = 0.32\\nsamples = 10\\nvalue = [8, 2]'),\n",
              " Text(39.52577319587629, 198.9081818181818, 'X[2] <= 0.614\\ngini = 0.5\\nsamples = 2\\nvalue = [1, 1]'),\n",
              " Text(38.78350515463918, 181.61181818181817, 'gini = 0.0\\nsamples = 1\\nvalue = [1, 0]'),\n",
              " Text(40.2680412371134, 181.61181818181817, 'gini = 0.0\\nsamples = 1\\nvalue = [0, 1]'),\n",
              " Text(42.49484536082474, 198.9081818181818, 'X[2] <= 0.552\\ngini = 0.219\\nsamples = 8\\nvalue = [7, 1]'),\n",
              " Text(41.75257731958763, 181.61181818181817, 'X[0] <= -0.868\\ngini = 0.444\\nsamples = 3\\nvalue = [2, 1]'),\n",
              " Text(41.01030927835052, 164.31545454545451, 'gini = 0.0\\nsamples = 1\\nvalue = [1, 0]'),\n",
              " Text(42.49484536082474, 164.31545454545451, 'X[2] <= 0.364\\ngini = 0.5\\nsamples = 2\\nvalue = [1, 1]'),\n",
              " Text(41.75257731958763, 147.0190909090909, 'gini = 0.0\\nsamples = 1\\nvalue = [1, 0]'),\n",
              " Text(43.23711340206186, 147.0190909090909, 'gini = 0.0\\nsamples = 1\\nvalue = [0, 1]'),\n",
              " Text(43.23711340206186, 181.61181818181817, 'gini = 0.0\\nsamples = 5\\nvalue = [5, 0]'),\n",
              " Text(39.52577319587629, 250.7972727272727, 'gini = 0.0\\nsamples = 1\\nvalue = [0, 1]'),\n",
              " Text(47.876288659793815, 268.09363636363634, 'X[2] <= 0.395\\ngini = 0.487\\nsamples = 43\\nvalue = [18, 25]'),\n",
              " Text(44.72164948453609, 250.7972727272727, 'X[2] <= 0.238\\ngini = 0.48\\nsamples = 10\\nvalue = [6, 4]'),\n",
              " Text(43.23711340206186, 233.50090909090906, 'X[0] <= -0.574\\ngini = 0.444\\nsamples = 3\\nvalue = [1, 2]'),\n",
              " Text(42.49484536082474, 216.20454545454544, 'gini = 0.0\\nsamples = 2\\nvalue = [0, 2]'),\n",
              " Text(43.97938144329897, 216.20454545454544, 'gini = 0.0\\nsamples = 1\\nvalue = [1, 0]'),\n",
              " Text(46.20618556701031, 233.50090909090906, 'X[0] <= -0.532\\ngini = 0.408\\nsamples = 7\\nvalue = [5, 2]'),\n",
              " Text(45.4639175257732, 216.20454545454544, 'gini = 0.0\\nsamples = 4\\nvalue = [4, 0]'),\n",
              " Text(46.948453608247426, 216.20454545454544, 'X[1] <= -0.828\\ngini = 0.444\\nsamples = 3\\nvalue = [1, 2]'),\n",
              " Text(46.20618556701031, 198.9081818181818, 'gini = 0.0\\nsamples = 2\\nvalue = [0, 2]'),\n",
              " Text(47.69072164948454, 198.9081818181818, 'gini = 0.0\\nsamples = 1\\nvalue = [1, 0]'),\n",
              " Text(51.03092783505155, 250.7972727272727, 'X[2] <= 0.583\\ngini = 0.463\\nsamples = 33\\nvalue = [12, 21]'),\n",
              " Text(49.175257731958766, 233.50090909090906, 'X[0] <= -0.7\\ngini = 0.245\\nsamples = 7\\nvalue = [1, 6]'),\n",
              " Text(48.43298969072165, 216.20454545454544, 'gini = 0.0\\nsamples = 6\\nvalue = [0, 6]'),\n",
              " Text(49.91752577319588, 216.20454545454544, 'gini = 0.0\\nsamples = 1\\nvalue = [1, 0]'),\n",
              " Text(52.886597938144334, 233.50090909090906, 'X[0] <= -0.7\\ngini = 0.488\\nsamples = 26\\nvalue = [11, 15]'),\n",
              " Text(51.402061855670105, 216.20454545454544, 'X[1] <= -0.839\\ngini = 0.32\\nsamples = 5\\nvalue = [4, 1]'),\n",
              " Text(50.659793814432994, 198.9081818181818, 'X[2] <= 0.708\\ngini = 0.444\\nsamples = 3\\nvalue = [2, 1]'),\n",
              " Text(49.91752577319588, 181.61181818181817, 'gini = 0.0\\nsamples = 2\\nvalue = [2, 0]'),\n",
              " Text(51.402061855670105, 181.61181818181817, 'gini = 0.0\\nsamples = 1\\nvalue = [0, 1]'),\n",
              " Text(52.144329896907216, 198.9081818181818, 'gini = 0.0\\nsamples = 2\\nvalue = [2, 0]'),\n",
              " Text(54.371134020618555, 216.20454545454544, 'X[0] <= -0.616\\ngini = 0.444\\nsamples = 21\\nvalue = [7, 14]'),\n",
              " Text(53.628865979381445, 198.9081818181818, 'gini = 0.0\\nsamples = 5\\nvalue = [0, 5]'),\n",
              " Text(55.11340206185567, 198.9081818181818, 'X[2] <= 2.149\\ngini = 0.492\\nsamples = 16\\nvalue = [7, 9]'),\n",
              " Text(54.371134020618555, 181.61181818181817, 'X[2] <= 0.99\\ngini = 0.459\\nsamples = 14\\nvalue = [5, 9]'),\n",
              " Text(53.628865979381445, 164.31545454545451, 'gini = 0.0\\nsamples = 3\\nvalue = [0, 3]'),\n",
              " Text(55.11340206185567, 164.31545454545451, 'X[2] <= 1.899\\ngini = 0.496\\nsamples = 11\\nvalue = [5, 6]'),\n",
              " Text(54.371134020618555, 147.0190909090909, 'X[2] <= 1.742\\ngini = 0.5\\nsamples = 10\\nvalue = [5, 5]'),\n",
              " Text(53.628865979381445, 129.72272727272724, 'X[2] <= 1.178\\ngini = 0.494\\nsamples = 9\\nvalue = [4, 5]'),\n",
              " Text(52.144329896907216, 112.42636363636359, 'X[2] <= 1.084\\ngini = 0.48\\nsamples = 5\\nvalue = [3, 2]'),\n",
              " Text(51.402061855670105, 95.13, 'X[0] <= -0.532\\ngini = 0.5\\nsamples = 4\\nvalue = [2, 2]'),\n",
              " Text(50.659793814432994, 77.83363636363634, 'gini = 0.0\\nsamples = 1\\nvalue = [0, 1]'),\n",
              " Text(52.144329896907216, 77.83363636363634, 'X[0] <= -0.448\\ngini = 0.444\\nsamples = 3\\nvalue = [2, 1]'),\n",
              " Text(51.402061855670105, 60.53727272727269, 'gini = 0.0\\nsamples = 1\\nvalue = [1, 0]'),\n",
              " Text(52.886597938144334, 60.53727272727269, 'gini = 0.5\\nsamples = 2\\nvalue = [1, 1]'),\n",
              " Text(52.886597938144334, 95.13, 'gini = 0.0\\nsamples = 1\\nvalue = [1, 0]'),\n",
              " Text(55.11340206185567, 112.42636363636359, 'X[2] <= 1.241\\ngini = 0.375\\nsamples = 4\\nvalue = [1, 3]'),\n",
              " Text(54.371134020618555, 95.13, 'gini = 0.0\\nsamples = 2\\nvalue = [0, 2]'),\n",
              " Text(55.855670103092784, 95.13, 'X[2] <= 1.491\\ngini = 0.5\\nsamples = 2\\nvalue = [1, 1]'),\n",
              " Text(55.11340206185567, 77.83363636363634, 'gini = 0.0\\nsamples = 1\\nvalue = [1, 0]'),\n",
              " Text(56.5979381443299, 77.83363636363634, 'gini = 0.0\\nsamples = 1\\nvalue = [0, 1]'),\n",
              " Text(55.11340206185567, 129.72272727272724, 'gini = 0.0\\nsamples = 1\\nvalue = [1, 0]'),\n",
              " Text(55.855670103092784, 147.0190909090909, 'gini = 0.0\\nsamples = 1\\nvalue = [0, 1]'),\n",
              " Text(55.855670103092784, 181.61181818181817, 'gini = 0.0\\nsamples = 2\\nvalue = [2, 0]'),\n",
              " Text(87.63184600515464, 302.6863636363636, 'X[2] <= 1.429\\ngini = 0.209\\nsamples = 345\\nvalue = [41, 304]'),\n",
              " Text(77.65544458762886, 285.39, 'X[0] <= 1.231\\ngini = 0.154\\nsamples = 298\\nvalue = [25, 273]'),\n",
              " Text(76.91317654639175, 268.09363636363634, 'X[2] <= -0.576\\ngini = 0.196\\nsamples = 227\\nvalue = [25, 202]'),\n",
              " Text(72.16237113402062, 250.7972727272727, 'X[2] <= -1.829\\ngini = 0.083\\nsamples = 46\\nvalue = [2, 44]'),\n",
              " Text(70.6778350515464, 233.50090909090906, 'X[0] <= 0.14\\ngini = 0.444\\nsamples = 3\\nvalue = [1, 2]'),\n",
              " Text(69.93556701030928, 216.20454545454544, 'gini = 0.0\\nsamples = 1\\nvalue = [1, 0]'),\n",
              " Text(71.4201030927835, 216.20454545454544, 'gini = 0.0\\nsamples = 2\\nvalue = [0, 2]'),\n",
              " Text(73.64690721649485, 233.50090909090906, 'X[0] <= -0.028\\ngini = 0.045\\nsamples = 43\\nvalue = [1, 42]'),\n",
              " Text(72.90463917525773, 216.20454545454544, 'X[2] <= -0.889\\ngini = 0.142\\nsamples = 13\\nvalue = [1, 12]'),\n",
              " Text(72.16237113402062, 198.9081818181818, 'X[2] <= -0.952\\ngini = 0.278\\nsamples = 6\\nvalue = [1, 5]'),\n",
              " Text(71.4201030927835, 181.61181818181817, 'gini = 0.0\\nsamples = 5\\nvalue = [0, 5]'),\n",
              " Text(72.90463917525773, 181.61181818181817, 'gini = 0.0\\nsamples = 1\\nvalue = [1, 0]'),\n",
              " Text(73.64690721649485, 198.9081818181818, 'gini = 0.0\\nsamples = 7\\nvalue = [0, 7]'),\n",
              " Text(74.38917525773196, 216.20454545454544, 'gini = 0.0\\nsamples = 30\\nvalue = [0, 30]'),\n",
              " Text(81.66398195876289, 250.7972727272727, 'X[2] <= -0.451\\ngini = 0.222\\nsamples = 181\\nvalue = [23, 158]'),\n",
              " Text(77.09149484536083, 233.50090909090906, 'X[0] <= -0.196\\ngini = 0.48\\nsamples = 5\\nvalue = [3, 2]'),\n",
              " Text(76.34922680412372, 216.20454545454544, 'gini = 0.0\\nsamples = 1\\nvalue = [0, 1]'),\n",
              " Text(77.83376288659794, 216.20454545454544, 'X[1] <= -0.818\\ngini = 0.375\\nsamples = 4\\nvalue = [3, 1]'),\n",
              " Text(77.09149484536083, 198.9081818181818, 'gini = 0.0\\nsamples = 3\\nvalue = [3, 0]'),\n",
              " Text(78.57603092783505, 198.9081818181818, 'gini = 0.0\\nsamples = 1\\nvalue = [0, 1]'),\n",
              " Text(86.23646907216495, 233.50090909090906, 'X[0] <= 1.063\\ngini = 0.201\\nsamples = 176\\nvalue = [20, 156]'),\n",
              " Text(80.8028350515464, 216.20454545454544, 'X[2] <= -0.263\\ngini = 0.189\\nsamples = 170\\nvalue = [18, 152]'),\n",
              " Text(80.06056701030928, 198.9081818181818, 'gini = 0.0\\nsamples = 14\\nvalue = [0, 14]'),\n",
              " Text(81.5451030927835, 198.9081818181818, 'X[2] <= 0.301\\ngini = 0.204\\nsamples = 156\\nvalue = [18, 138]'),\n",
              " Text(74.38917525773196, 181.61181818181817, 'X[0] <= 0.643\\ngini = 0.274\\nsamples = 61\\nvalue = [10, 51]'),\n",
              " Text(70.65463917525773, 164.31545454545451, 'X[0] <= 0.475\\ngini = 0.315\\nsamples = 46\\nvalue = [9, 37]'),\n",
              " Text(66.89690721649485, 147.0190909090909, 'X[0] <= 0.14\\ngini = 0.266\\nsamples = 38\\nvalue = [6, 32]'),\n",
              " Text(63.09278350515464, 129.72272727272724, 'X[0] <= -0.196\\ngini = 0.351\\nsamples = 22\\nvalue = [5, 17]'),\n",
              " Text(59.56701030927835, 112.42636363636359, 'X[1] <= -0.818\\ngini = 0.198\\nsamples = 9\\nvalue = [1, 8]'),\n",
              " Text(58.82474226804124, 95.13, 'X[2] <= -0.044\\ngini = 0.32\\nsamples = 5\\nvalue = [1, 4]'),\n",
              " Text(58.08247422680412, 77.83363636363634, 'gini = 0.0\\nsamples = 2\\nvalue = [0, 2]'),\n",
              " Text(59.56701030927835, 77.83363636363634, 'X[2] <= 0.05\\ngini = 0.444\\nsamples = 3\\nvalue = [1, 2]'),\n",
              " Text(58.82474226804124, 60.53727272727269, 'gini = 0.0\\nsamples = 1\\nvalue = [1, 0]'),\n",
              " Text(60.30927835051546, 60.53727272727269, 'gini = 0.0\\nsamples = 2\\nvalue = [0, 2]'),\n",
              " Text(60.30927835051546, 95.13, 'gini = 0.0\\nsamples = 4\\nvalue = [0, 4]'),\n",
              " Text(66.61855670103093, 112.42636363636359, 'X[1] <= -0.818\\ngini = 0.426\\nsamples = 13\\nvalue = [4, 9]'),\n",
              " Text(64.02061855670104, 95.13, 'X[0] <= -0.112\\ngini = 0.346\\nsamples = 9\\nvalue = [2, 7]'),\n",
              " Text(62.53608247422681, 77.83363636363634, 'X[1] <= -0.839\\ngini = 0.5\\nsamples = 2\\nvalue = [1, 1]'),\n",
              " Text(61.79381443298969, 60.53727272727269, 'gini = 0.0\\nsamples = 1\\nvalue = [1, 0]'),\n",
              " Text(63.27835051546392, 60.53727272727269, 'gini = 0.0\\nsamples = 1\\nvalue = [0, 1]'),\n",
              " Text(65.50515463917526, 77.83363636363634, 'X[0] <= 0.056\\ngini = 0.245\\nsamples = 7\\nvalue = [1, 6]'),\n",
              " Text(64.76288659793815, 60.53727272727269, 'gini = 0.0\\nsamples = 4\\nvalue = [0, 4]'),\n",
              " Text(66.24742268041237, 60.53727272727269, 'X[1] <= -0.839\\ngini = 0.444\\nsamples = 3\\nvalue = [1, 2]'),\n",
              " Text(65.50515463917526, 43.24090909090904, 'gini = 0.0\\nsamples = 1\\nvalue = [0, 1]'),\n",
              " Text(66.98969072164948, 43.24090909090904, 'gini = 0.5\\nsamples = 2\\nvalue = [1, 1]'),\n",
              " Text(69.21649484536083, 95.13, 'X[2] <= -0.012\\ngini = 0.5\\nsamples = 4\\nvalue = [2, 2]'),\n",
              " Text(68.47422680412372, 77.83363636363634, 'gini = 0.0\\nsamples = 1\\nvalue = [1, 0]'),\n",
              " Text(69.95876288659794, 77.83363636363634, 'X[0] <= -0.07\\ngini = 0.444\\nsamples = 3\\nvalue = [1, 2]'),\n",
              " Text(69.21649484536083, 60.53727272727269, 'X[2] <= 0.144\\ngini = 0.5\\nsamples = 2\\nvalue = [1, 1]'),\n",
              " Text(68.47422680412372, 43.24090909090904, 'gini = 0.0\\nsamples = 1\\nvalue = [0, 1]'),\n",
              " Text(69.95876288659794, 43.24090909090904, 'gini = 0.0\\nsamples = 1\\nvalue = [1, 0]'),\n",
              " Text(70.70103092783505, 60.53727272727269, 'gini = 0.0\\nsamples = 1\\nvalue = [0, 1]'),\n",
              " Text(70.70103092783505, 129.72272727272724, 'X[1] <= -0.818\\ngini = 0.117\\nsamples = 16\\nvalue = [1, 15]'),\n",
              " Text(69.95876288659794, 112.42636363636359, 'gini = 0.0\\nsamples = 8\\nvalue = [0, 8]'),\n",
              " Text(71.44329896907217, 112.42636363636359, 'X[2] <= 0.082\\ngini = 0.219\\nsamples = 8\\nvalue = [1, 7]'),\n",
              " Text(70.70103092783505, 95.13, 'gini = 0.0\\nsamples = 6\\nvalue = [0, 6]'),\n",
              " Text(72.18556701030928, 95.13, 'X[2] <= 0.176\\ngini = 0.5\\nsamples = 2\\nvalue = [1, 1]'),\n",
              " Text(71.44329896907217, 77.83363636363634, 'gini = 0.0\\nsamples = 1\\nvalue = [1, 0]'),\n",
              " Text(72.9278350515464, 77.83363636363634, 'gini = 0.0\\nsamples = 1\\nvalue = [0, 1]'),\n",
              " Text(74.41237113402062, 147.0190909090909, 'X[1] <= -0.839\\ngini = 0.469\\nsamples = 8\\nvalue = [3, 5]'),\n",
              " Text(73.6701030927835, 129.72272727272724, 'gini = 0.0\\nsamples = 3\\nvalue = [0, 3]'),\n",
              " Text(75.15463917525773, 129.72272727272724, 'X[0] <= 0.559\\ngini = 0.48\\nsamples = 5\\nvalue = [3, 2]'),\n",
              " Text(74.41237113402062, 112.42636363636359, 'X[1] <= -0.818\\ngini = 0.5\\nsamples = 4\\nvalue = [2, 2]'),\n",
              " Text(73.6701030927835, 95.13, 'gini = 0.5\\nsamples = 2\\nvalue = [1, 1]'),\n",
              " Text(75.15463917525773, 95.13, 'gini = 0.5\\nsamples = 2\\nvalue = [1, 1]'),\n",
              " Text(75.89690721649485, 112.42636363636359, 'gini = 0.0\\nsamples = 1\\nvalue = [1, 0]'),\n",
              " Text(78.12371134020619, 164.31545454545451, 'X[1] <= -0.839\\ngini = 0.124\\nsamples = 15\\nvalue = [1, 14]'),\n",
              " Text(77.38144329896907, 147.0190909090909, 'X[0] <= 0.727\\ngini = 0.32\\nsamples = 5\\nvalue = [1, 4]'),\n",
              " Text(76.63917525773196, 129.72272727272724, 'gini = 0.0\\nsamples = 3\\nvalue = [0, 3]'),\n",
              " Text(78.12371134020619, 129.72272727272724, 'X[0] <= 0.895\\ngini = 0.5\\nsamples = 2\\nvalue = [1, 1]'),\n",
              " Text(77.38144329896907, 112.42636363636359, 'gini = 0.0\\nsamples = 1\\nvalue = [1, 0]'),\n",
              " Text(78.8659793814433, 112.42636363636359, 'gini = 0.0\\nsamples = 1\\nvalue = [0, 1]'),\n",
              " Text(78.8659793814433, 147.0190909090909, 'gini = 0.0\\nsamples = 10\\nvalue = [0, 10]'),\n",
              " Text(88.70103092783505, 181.61181818181817, 'X[1] <= -0.818\\ngini = 0.154\\nsamples = 95\\nvalue = [8, 87]'),\n",
              " Text(82.94845360824742, 164.31545454545451, 'X[0] <= -0.28\\ngini = 0.098\\nsamples = 58\\nvalue = [3, 55]'),\n",
              " Text(80.35051546391753, 147.0190909090909, 'X[2] <= 0.834\\ngini = 0.278\\nsamples = 6\\nvalue = [1, 5]'),\n",
              " Text(79.60824742268042, 129.72272727272724, 'gini = 0.0\\nsamples = 3\\nvalue = [0, 3]'),\n",
              " Text(81.09278350515464, 129.72272727272724, 'X[2] <= 0.959\\ngini = 0.444\\nsamples = 3\\nvalue = [1, 2]'),\n",
              " Text(80.35051546391753, 112.42636363636359, 'gini = 0.0\\nsamples = 1\\nvalue = [1, 0]'),\n",
              " Text(81.83505154639175, 112.42636363636359, 'gini = 0.0\\nsamples = 2\\nvalue = [0, 2]'),\n",
              " Text(85.54639175257732, 147.0190909090909, 'X[0] <= 0.727\\ngini = 0.074\\nsamples = 52\\nvalue = [2, 50]'),\n",
              " Text(84.0618556701031, 129.72272727272724, 'X[2] <= 0.489\\ngini = 0.044\\nsamples = 44\\nvalue = [1, 43]'),\n",
              " Text(83.31958762886599, 112.42636363636359, 'X[1] <= -0.839\\ngini = 0.153\\nsamples = 12\\nvalue = [1, 11]'),\n",
              " Text(82.57731958762886, 95.13, 'gini = 0.0\\nsamples = 8\\nvalue = [0, 8]'),\n",
              " Text(84.0618556701031, 95.13, 'X[2] <= 0.395\\ngini = 0.375\\nsamples = 4\\nvalue = [1, 3]'),\n",
              " Text(83.31958762886599, 77.83363636363634, 'gini = 0.0\\nsamples = 3\\nvalue = [0, 3]'),\n",
              " Text(84.80412371134021, 77.83363636363634, 'gini = 0.0\\nsamples = 1\\nvalue = [1, 0]'),\n",
              " Text(84.80412371134021, 112.42636363636359, 'gini = 0.0\\nsamples = 32\\nvalue = [0, 32]'),\n",
              " Text(87.03092783505154, 129.72272727272724, 'X[2] <= 0.677\\ngini = 0.219\\nsamples = 8\\nvalue = [1, 7]'),\n",
              " Text(86.28865979381443, 112.42636363636359, 'X[0] <= 0.853\\ngini = 0.375\\nsamples = 4\\nvalue = [1, 3]'),\n",
              " Text(85.54639175257732, 95.13, 'gini = 0.5\\nsamples = 2\\nvalue = [1, 1]'),\n",
              " Text(87.03092783505154, 95.13, 'gini = 0.0\\nsamples = 2\\nvalue = [0, 2]'),\n",
              " Text(87.77319587628867, 112.42636363636359, 'gini = 0.0\\nsamples = 4\\nvalue = [0, 4]'),\n",
              " Text(94.45360824742268, 164.31545454545451, 'X[0] <= 0.979\\ngini = 0.234\\nsamples = 37\\nvalue = [5, 32]'),\n",
              " Text(92.22680412371135, 147.0190909090909, 'X[0] <= 0.308\\ngini = 0.208\\nsamples = 34\\nvalue = [4, 30]'),\n",
              " Text(90.0, 129.72272727272724, 'X[2] <= 0.458\\ngini = 0.305\\nsamples = 16\\nvalue = [3, 13]'),\n",
              " Text(89.25773195876289, 112.42636363636359, 'gini = 0.0\\nsamples = 4\\nvalue = [0, 4]'),\n",
              " Text(90.74226804123711, 112.42636363636359, 'X[2] <= 0.583\\ngini = 0.375\\nsamples = 12\\nvalue = [3, 9]'),\n",
              " Text(90.0, 95.13, 'gini = 0.0\\nsamples = 1\\nvalue = [1, 0]'),\n",
              " Text(91.48453608247424, 95.13, 'X[0] <= -0.154\\ngini = 0.298\\nsamples = 11\\nvalue = [2, 9]'),\n",
              " Text(90.74226804123711, 77.83363636363634, 'gini = 0.0\\nsamples = 4\\nvalue = [0, 4]'),\n",
              " Text(92.22680412371135, 77.83363636363634, 'X[0] <= 0.224\\ngini = 0.408\\nsamples = 7\\nvalue = [2, 5]'),\n",
              " Text(91.48453608247424, 60.53727272727269, 'X[0] <= 0.098\\ngini = 0.5\\nsamples = 4\\nvalue = [2, 2]'),\n",
              " Text(90.74226804123711, 43.24090909090904, 'X[0] <= -0.028\\ngini = 0.444\\nsamples = 3\\nvalue = [1, 2]'),\n",
              " Text(90.0, 25.944545454545448, 'X[2] <= 0.677\\ngini = 0.5\\nsamples = 2\\nvalue = [1, 1]'),\n",
              " Text(89.25773195876289, 8.648181818181797, 'gini = 0.0\\nsamples = 1\\nvalue = [0, 1]'),\n",
              " Text(90.74226804123711, 8.648181818181797, 'gini = 0.0\\nsamples = 1\\nvalue = [1, 0]'),\n",
              " Text(91.48453608247424, 25.944545454545448, 'gini = 0.0\\nsamples = 1\\nvalue = [0, 1]'),\n",
              " Text(92.22680412371135, 43.24090909090904, 'gini = 0.0\\nsamples = 1\\nvalue = [1, 0]'),\n",
              " Text(92.96907216494846, 60.53727272727269, 'gini = 0.0\\nsamples = 3\\nvalue = [0, 3]'),\n",
              " Text(94.45360824742268, 129.72272727272724, 'X[2] <= 0.489\\ngini = 0.105\\nsamples = 18\\nvalue = [1, 17]'),\n",
              " Text(93.71134020618557, 112.42636363636359, 'X[2] <= 0.395\\ngini = 0.444\\nsamples = 3\\nvalue = [1, 2]'),\n",
              " Text(92.96907216494846, 95.13, 'gini = 0.0\\nsamples = 1\\nvalue = [0, 1]'),\n",
              " Text(94.45360824742268, 95.13, 'X[0] <= 0.769\\ngini = 0.5\\nsamples = 2\\nvalue = [1, 1]'),\n",
              " Text(93.71134020618557, 77.83363636363634, 'gini = 0.0\\nsamples = 1\\nvalue = [1, 0]'),\n",
              " Text(95.1958762886598, 77.83363636363634, 'gini = 0.0\\nsamples = 1\\nvalue = [0, 1]'),\n",
              " Text(95.1958762886598, 112.42636363636359, 'gini = 0.0\\nsamples = 15\\nvalue = [0, 15]'),\n",
              " Text(96.68041237113403, 147.0190909090909, 'X[2] <= 0.99\\ngini = 0.444\\nsamples = 3\\nvalue = [1, 2]'),\n",
              " Text(95.93814432989691, 129.72272727272724, 'gini = 0.0\\nsamples = 2\\nvalue = [0, 2]'),\n",
              " Text(97.42268041237114, 129.72272727272724, 'gini = 0.0\\nsamples = 1\\nvalue = [1, 0]'),\n",
              " Text(91.6701030927835, 216.20454545454544, 'X[2] <= 0.458\\ngini = 0.444\\nsamples = 6\\nvalue = [2, 4]'),\n",
              " Text(90.9278350515464, 198.9081818181818, 'X[2] <= -0.388\\ngini = 0.444\\nsamples = 3\\nvalue = [2, 1]'),\n",
              " Text(90.18556701030928, 181.61181818181817, 'gini = 0.0\\nsamples = 1\\nvalue = [0, 1]'),\n",
              " Text(91.6701030927835, 181.61181818181817, 'gini = 0.0\\nsamples = 2\\nvalue = [2, 0]'),\n",
              " Text(92.41237113402062, 198.9081818181818, 'gini = 0.0\\nsamples = 3\\nvalue = [0, 3]'),\n",
              " Text(78.39771262886599, 268.09363636363634, 'gini = 0.0\\nsamples = 71\\nvalue = [0, 71]'),\n",
              " Text(97.60824742268042, 285.39, 'X[0] <= 0.308\\ngini = 0.449\\nsamples = 47\\nvalue = [16, 31]'),\n",
              " Text(94.63917525773196, 268.09363636363634, 'X[2] <= 3.12\\ngini = 0.165\\nsamples = 22\\nvalue = [2, 20]'),\n",
              " Text(93.15463917525774, 250.7972727272727, 'X[0] <= 0.056\\ngini = 0.095\\nsamples = 20\\nvalue = [1, 19]'),\n",
              " Text(92.41237113402062, 233.50090909090906, 'gini = 0.0\\nsamples = 11\\nvalue = [0, 11]'),\n",
              " Text(93.89690721649485, 233.50090909090906, 'X[0] <= 0.14\\ngini = 0.198\\nsamples = 9\\nvalue = [1, 8]'),\n",
              " Text(93.15463917525774, 216.20454545454544, 'gini = 0.0\\nsamples = 1\\nvalue = [1, 0]'),\n",
              " Text(94.63917525773196, 216.20454545454544, 'gini = 0.0\\nsamples = 8\\nvalue = [0, 8]'),\n",
              " Text(96.12371134020619, 250.7972727272727, 'X[0] <= -0.112\\ngini = 0.5\\nsamples = 2\\nvalue = [1, 1]'),\n",
              " Text(95.38144329896907, 233.50090909090906, 'gini = 0.0\\nsamples = 1\\nvalue = [0, 1]'),\n",
              " Text(96.8659793814433, 233.50090909090906, 'gini = 0.0\\nsamples = 1\\nvalue = [1, 0]'),\n",
              " Text(100.57731958762886, 268.09363636363634, 'X[2] <= 2.4\\ngini = 0.493\\nsamples = 25\\nvalue = [14, 11]'),\n",
              " Text(99.83505154639175, 250.7972727272727, 'X[2] <= 1.805\\ngini = 0.5\\nsamples = 22\\nvalue = [11, 11]'),\n",
              " Text(98.35051546391753, 233.50090909090906, 'X[2] <= 1.554\\ngini = 0.444\\nsamples = 12\\nvalue = [8, 4]'),\n",
              " Text(97.60824742268042, 216.20454545454544, 'X[0] <= 1.105\\ngini = 0.444\\nsamples = 6\\nvalue = [2, 4]'),\n",
              " Text(96.8659793814433, 198.9081818181818, 'gini = 0.0\\nsamples = 4\\nvalue = [0, 4]'),\n",
              " Text(98.35051546391753, 198.9081818181818, 'gini = 0.0\\nsamples = 2\\nvalue = [2, 0]'),\n",
              " Text(99.09278350515464, 216.20454545454544, 'gini = 0.0\\nsamples = 6\\nvalue = [6, 0]'),\n",
              " Text(101.31958762886599, 233.50090909090906, 'X[2] <= 2.055\\ngini = 0.42\\nsamples = 10\\nvalue = [3, 7]'),\n",
              " Text(100.57731958762886, 216.20454545454544, 'gini = 0.0\\nsamples = 4\\nvalue = [0, 4]'),\n",
              " Text(102.0618556701031, 216.20454545454544, 'X[0] <= 1.399\\ngini = 0.5\\nsamples = 6\\nvalue = [3, 3]'),\n",
              " Text(101.31958762886599, 198.9081818181818, 'gini = 0.0\\nsamples = 2\\nvalue = [2, 0]'),\n",
              " Text(102.80412371134021, 198.9081818181818, 'X[1] <= -0.839\\ngini = 0.375\\nsamples = 4\\nvalue = [1, 3]'),\n",
              " Text(102.0618556701031, 181.61181818181817, 'X[2] <= 2.243\\ngini = 0.5\\nsamples = 2\\nvalue = [1, 1]'),\n",
              " Text(101.31958762886599, 164.31545454545451, 'gini = 0.0\\nsamples = 1\\nvalue = [1, 0]'),\n",
              " Text(102.80412371134021, 164.31545454545451, 'gini = 0.0\\nsamples = 1\\nvalue = [0, 1]'),\n",
              " Text(103.54639175257732, 181.61181818181817, 'gini = 0.0\\nsamples = 2\\nvalue = [0, 2]'),\n",
              " Text(101.31958762886599, 250.7972727272727, 'gini = 0.0\\nsamples = 3\\nvalue = [3, 0]'),\n",
              " Text(297.8956688949742, 337.2790909090909, 'X[0] <= 0.454\\ngini = 0.49\\nsamples = 1868\\nvalue = [1069, 799]'),\n",
              " Text(195.25944346005156, 319.98272727272723, 'X[2] <= -0.138\\ngini = 0.42\\nsamples = 1141\\nvalue = [798, 343]'),\n",
              " Text(151.3929606958763, 302.6863636363636, 'X[1] <= -0.463\\ngini = 0.499\\nsamples = 358\\nvalue = [187, 171]'),\n",
              " Text(125.75499355670104, 285.39, 'X[1] <= -0.755\\ngini = 0.482\\nsamples = 303\\nvalue = [180, 123]'),\n",
              " Text(113.65979381443299, 268.09363636363634, 'X[0] <= -0.364\\ngini = 0.497\\nsamples = 63\\nvalue = [29, 34]'),\n",
              " Text(108.9278350515464, 250.7972727272727, 'X[0] <= -1.203\\ngini = 0.473\\nsamples = 39\\nvalue = [24, 15]'),\n",
              " Text(108.18556701030928, 233.50090909090906, 'gini = 0.0\\nsamples = 3\\nvalue = [0, 3]'),\n",
              " Text(109.6701030927835, 233.50090909090906, 'X[2] <= -0.388\\ngini = 0.444\\nsamples = 36\\nvalue = [24, 12]'),\n",
              " Text(107.62886597938144, 216.20454545454544, 'X[2] <= -0.764\\ngini = 0.488\\nsamples = 26\\nvalue = [15, 11]'),\n",
              " Text(105.77319587628867, 198.9081818181818, 'X[2] <= -0.889\\ngini = 0.355\\nsamples = 13\\nvalue = [10, 3]'),\n",
              " Text(105.03092783505156, 181.61181818181817, 'X[2] <= -0.952\\ngini = 0.444\\nsamples = 9\\nvalue = [6, 3]'),\n",
              " Text(104.28865979381443, 164.31545454545451, 'X[0] <= -0.784\\ngini = 0.375\\nsamples = 8\\nvalue = [6, 2]'),\n",
              " Text(103.54639175257732, 147.0190909090909, 'X[2] <= -1.453\\ngini = 0.245\\nsamples = 7\\nvalue = [6, 1]'),\n",
              " Text(102.80412371134021, 129.72272727272724, 'X[2] <= -1.767\\ngini = 0.5\\nsamples = 2\\nvalue = [1, 1]'),\n",
              " Text(102.0618556701031, 112.42636363636359, 'gini = 0.0\\nsamples = 1\\nvalue = [1, 0]'),\n",
              " Text(103.54639175257732, 112.42636363636359, 'gini = 0.0\\nsamples = 1\\nvalue = [0, 1]'),\n",
              " Text(104.28865979381443, 129.72272727272724, 'gini = 0.0\\nsamples = 5\\nvalue = [5, 0]'),\n",
              " Text(105.03092783505156, 147.0190909090909, 'gini = 0.0\\nsamples = 1\\nvalue = [0, 1]'),\n",
              " Text(105.77319587628867, 164.31545454545451, 'gini = 0.0\\nsamples = 1\\nvalue = [0, 1]'),\n",
              " Text(106.51546391752578, 181.61181818181817, 'gini = 0.0\\nsamples = 4\\nvalue = [4, 0]'),\n",
              " Text(109.48453608247424, 198.9081818181818, 'X[0] <= -0.448\\ngini = 0.473\\nsamples = 13\\nvalue = [5, 8]'),\n",
              " Text(108.74226804123711, 181.61181818181817, 'X[1] <= -0.776\\ngini = 0.444\\nsamples = 12\\nvalue = [4, 8]'),\n",
              " Text(107.25773195876289, 164.31545454545451, 'X[0] <= -0.91\\ngini = 0.278\\nsamples = 6\\nvalue = [1, 5]'),\n",
              " Text(106.51546391752578, 147.0190909090909, 'X[1] <= -0.792\\ngini = 0.444\\nsamples = 3\\nvalue = [1, 2]'),\n",
              " Text(105.77319587628867, 129.72272727272724, 'gini = 0.0\\nsamples = 1\\nvalue = [0, 1]'),\n",
              " Text(107.25773195876289, 129.72272727272724, 'X[0] <= -1.036\\ngini = 0.5\\nsamples = 2\\nvalue = [1, 1]'),\n",
              " Text(106.51546391752578, 112.42636363636359, 'gini = 0.0\\nsamples = 1\\nvalue = [0, 1]'),\n",
              " Text(108.0, 112.42636363636359, 'gini = 0.0\\nsamples = 1\\nvalue = [1, 0]'),\n",
              " Text(108.0, 147.0190909090909, 'gini = 0.0\\nsamples = 3\\nvalue = [0, 3]'),\n",
              " Text(110.22680412371135, 164.31545454545451, 'X[2] <= -0.576\\ngini = 0.5\\nsamples = 6\\nvalue = [3, 3]'),\n",
              " Text(109.48453608247424, 147.0190909090909, 'gini = 0.0\\nsamples = 2\\nvalue = [2, 0]'),\n",
              " Text(110.96907216494846, 147.0190909090909, 'X[0] <= -0.532\\ngini = 0.375\\nsamples = 4\\nvalue = [1, 3]'),\n",
              " Text(110.22680412371135, 129.72272727272724, 'gini = 0.0\\nsamples = 2\\nvalue = [0, 2]'),\n",
              " Text(111.71134020618557, 129.72272727272724, 'X[2] <= -0.451\\ngini = 0.5\\nsamples = 2\\nvalue = [1, 1]'),\n",
              " Text(110.96907216494846, 112.42636363636359, 'gini = 0.0\\nsamples = 1\\nvalue = [1, 0]'),\n",
              " Text(112.45360824742268, 112.42636363636359, 'gini = 0.0\\nsamples = 1\\nvalue = [0, 1]'),\n",
              " Text(110.22680412371135, 181.61181818181817, 'gini = 0.0\\nsamples = 1\\nvalue = [1, 0]'),\n",
              " Text(111.71134020618557, 216.20454545454544, 'X[2] <= -0.263\\ngini = 0.18\\nsamples = 10\\nvalue = [9, 1]'),\n",
              " Text(110.96907216494846, 198.9081818181818, 'gini = 0.0\\nsamples = 5\\nvalue = [5, 0]'),\n",
              " Text(112.45360824742268, 198.9081818181818, 'X[0] <= -0.868\\ngini = 0.32\\nsamples = 5\\nvalue = [4, 1]'),\n",
              " Text(111.71134020618557, 181.61181818181817, 'gini = 0.0\\nsamples = 1\\nvalue = [0, 1]'),\n",
              " Text(113.1958762886598, 181.61181818181817, 'gini = 0.0\\nsamples = 4\\nvalue = [4, 0]'),\n",
              " Text(118.3917525773196, 250.7972727272727, 'X[2] <= -0.263\\ngini = 0.33\\nsamples = 24\\nvalue = [5, 19]'),\n",
              " Text(117.64948453608248, 233.50090909090906, 'X[0] <= -0.028\\ngini = 0.236\\nsamples = 22\\nvalue = [3, 19]'),\n",
              " Text(116.16494845360825, 216.20454545454544, 'X[2] <= -1.077\\ngini = 0.124\\nsamples = 15\\nvalue = [1, 14]'),\n",
              " Text(115.42268041237114, 198.9081818181818, 'X[0] <= -0.154\\ngini = 0.444\\nsamples = 3\\nvalue = [1, 2]'),\n",
              " Text(114.68041237113403, 181.61181818181817, 'gini = 0.0\\nsamples = 1\\nvalue = [1, 0]'),\n",
              " Text(116.16494845360825, 181.61181818181817, 'gini = 0.0\\nsamples = 2\\nvalue = [0, 2]'),\n",
              " Text(116.90721649484537, 198.9081818181818, 'gini = 0.0\\nsamples = 12\\nvalue = [0, 12]'),\n",
              " Text(119.1340206185567, 216.20454545454544, 'X[0] <= 0.14\\ngini = 0.408\\nsamples = 7\\nvalue = [2, 5]'),\n",
              " Text(118.3917525773196, 198.9081818181818, 'X[2] <= -0.795\\ngini = 0.444\\nsamples = 3\\nvalue = [2, 1]'),\n",
              " Text(117.64948453608248, 181.61181818181817, 'gini = 0.0\\nsamples = 1\\nvalue = [0, 1]'),\n",
              " Text(119.1340206185567, 181.61181818181817, 'gini = 0.0\\nsamples = 2\\nvalue = [2, 0]'),\n",
              " Text(119.87628865979381, 198.9081818181818, 'gini = 0.0\\nsamples = 4\\nvalue = [0, 4]'),\n",
              " Text(119.1340206185567, 233.50090909090906, 'gini = 0.0\\nsamples = 2\\nvalue = [2, 0]'),\n",
              " Text(137.8501932989691, 268.09363636363634, 'X[2] <= -0.764\\ngini = 0.467\\nsamples = 240\\nvalue = [151, 89]'),\n",
              " Text(126.83505154639175, 250.7972727272727, 'X[0] <= -0.868\\ngini = 0.496\\nsamples = 92\\nvalue = [50, 42]'),\n",
              " Text(123.58762886597938, 233.50090909090906, 'X[1] <= -0.651\\ngini = 0.384\\nsamples = 27\\nvalue = [20, 7]'),\n",
              " Text(122.10309278350516, 216.20454545454544, 'X[2] <= -0.827\\ngini = 0.117\\nsamples = 16\\nvalue = [15, 1]'),\n",
              " Text(121.36082474226805, 198.9081818181818, 'gini = 0.0\\nsamples = 14\\nvalue = [14, 0]'),\n",
              " Text(122.84536082474227, 198.9081818181818, 'X[0] <= -1.078\\ngini = 0.5\\nsamples = 2\\nvalue = [1, 1]'),\n",
              " Text(122.10309278350516, 181.61181818181817, 'gini = 0.0\\nsamples = 1\\nvalue = [0, 1]'),\n",
              " Text(123.58762886597938, 181.61181818181817, 'gini = 0.0\\nsamples = 1\\nvalue = [1, 0]'),\n",
              " Text(125.07216494845362, 216.20454545454544, 'X[2] <= -0.952\\ngini = 0.496\\nsamples = 11\\nvalue = [5, 6]'),\n",
              " Text(124.3298969072165, 198.9081818181818, 'gini = 0.0\\nsamples = 6\\nvalue = [0, 6]'),\n",
              " Text(125.81443298969073, 198.9081818181818, 'gini = 0.0\\nsamples = 5\\nvalue = [5, 0]'),\n",
              " Text(130.08247422680412, 233.50090909090906, 'X[2] <= -1.673\\ngini = 0.497\\nsamples = 65\\nvalue = [30, 35]'),\n",
              " Text(128.04123711340208, 216.20454545454544, 'X[0] <= -0.784\\ngini = 0.397\\nsamples = 11\\nvalue = [8, 3]'),\n",
              " Text(127.29896907216495, 198.9081818181818, 'X[2] <= -1.892\\ngini = 0.375\\nsamples = 4\\nvalue = [1, 3]'),\n",
              " Text(126.55670103092784, 181.61181818181817, 'gini = 0.0\\nsamples = 3\\nvalue = [0, 3]'),\n",
              " Text(128.04123711340208, 181.61181818181817, 'gini = 0.0\\nsamples = 1\\nvalue = [1, 0]'),\n",
              " Text(128.7835051546392, 198.9081818181818, 'gini = 0.0\\nsamples = 7\\nvalue = [7, 0]'),\n",
              " Text(132.1237113402062, 216.20454545454544, 'X[2] <= -1.516\\ngini = 0.483\\nsamples = 54\\nvalue = [22, 32]'),\n",
              " Text(131.3814432989691, 198.9081818181818, 'gini = 0.0\\nsamples = 3\\nvalue = [0, 3]'),\n",
              " Text(132.8659793814433, 198.9081818181818, 'X[2] <= -1.015\\ngini = 0.491\\nsamples = 51\\nvalue = [22, 29]'),\n",
              " Text(129.5257731958763, 181.61181818181817, 'X[0] <= -0.616\\ngini = 0.497\\nsamples = 28\\nvalue = [15, 13]'),\n",
              " Text(128.7835051546392, 164.31545454545451, 'gini = 0.0\\nsamples = 4\\nvalue = [4, 0]'),\n",
              " Text(130.2680412371134, 164.31545454545451, 'X[1] <= -0.578\\ngini = 0.497\\nsamples = 24\\nvalue = [11, 13]'),\n",
              " Text(129.5257731958763, 147.0190909090909, 'X[2] <= -1.077\\ngini = 0.499\\nsamples = 21\\nvalue = [11, 10]'),\n",
              " Text(127.29896907216495, 129.72272727272724, 'X[1] <= -0.672\\ngini = 0.459\\nsamples = 14\\nvalue = [9, 5]'),\n",
              " Text(125.07216494845362, 112.42636363636359, 'X[0] <= -0.154\\ngini = 0.346\\nsamples = 9\\nvalue = [7, 2]'),\n",
              " Text(124.3298969072165, 95.13, 'gini = 0.0\\nsamples = 5\\nvalue = [5, 0]'),\n",
              " Text(125.81443298969073, 95.13, 'X[1] <= -0.693\\ngini = 0.5\\nsamples = 4\\nvalue = [2, 2]'),\n",
              " Text(125.07216494845362, 77.83363636363634, 'gini = 0.0\\nsamples = 2\\nvalue = [0, 2]'),\n",
              " Text(126.55670103092784, 77.83363636363634, 'gini = 0.0\\nsamples = 2\\nvalue = [2, 0]'),\n",
              " Text(129.5257731958763, 112.42636363636359, 'X[1] <= -0.609\\ngini = 0.48\\nsamples = 5\\nvalue = [2, 3]'),\n",
              " Text(128.7835051546392, 95.13, 'X[2] <= -1.265\\ngini = 0.375\\nsamples = 4\\nvalue = [1, 3]'),\n",
              " Text(128.04123711340208, 77.83363636363634, 'gini = 0.0\\nsamples = 3\\nvalue = [0, 3]'),\n",
              " Text(129.5257731958763, 77.83363636363634, 'gini = 0.0\\nsamples = 1\\nvalue = [1, 0]'),\n",
              " Text(130.2680412371134, 95.13, 'gini = 0.0\\nsamples = 1\\nvalue = [1, 0]'),\n",
              " Text(131.75257731958763, 129.72272727272724, 'X[1] <= -0.661\\ngini = 0.408\\nsamples = 7\\nvalue = [2, 5]'),\n",
              " Text(131.01030927835052, 112.42636363636359, 'gini = 0.0\\nsamples = 5\\nvalue = [0, 5]'),\n",
              " Text(132.49484536082474, 112.42636363636359, 'gini = 0.0\\nsamples = 2\\nvalue = [2, 0]'),\n",
              " Text(131.01030927835052, 147.0190909090909, 'gini = 0.0\\nsamples = 3\\nvalue = [0, 3]'),\n",
              " Text(136.20618556701032, 181.61181818181817, 'X[0] <= -0.49\\ngini = 0.423\\nsamples = 23\\nvalue = [7, 16]'),\n",
              " Text(135.4639175257732, 164.31545454545451, 'gini = 0.0\\nsamples = 8\\nvalue = [0, 8]'),\n",
              " Text(136.94845360824743, 164.31545454545451, 'X[2] <= -0.889\\ngini = 0.498\\nsamples = 15\\nvalue = [7, 8]'),\n",
              " Text(135.4639175257732, 147.0190909090909, 'X[0] <= 0.056\\ngini = 0.42\\nsamples = 10\\nvalue = [3, 7]'),\n",
              " Text(134.7216494845361, 129.72272727272724, 'X[1] <= -0.64\\ngini = 0.48\\nsamples = 5\\nvalue = [3, 2]'),\n",
              " Text(133.97938144329896, 112.42636363636359, 'X[1] <= -0.672\\ngini = 0.444\\nsamples = 3\\nvalue = [1, 2]'),\n",
              " Text(133.23711340206185, 95.13, 'gini = 0.0\\nsamples = 1\\nvalue = [1, 0]'),\n",
              " Text(134.7216494845361, 95.13, 'gini = 0.0\\nsamples = 2\\nvalue = [0, 2]'),\n",
              " Text(135.4639175257732, 112.42636363636359, 'gini = 0.0\\nsamples = 2\\nvalue = [2, 0]'),\n",
              " Text(136.20618556701032, 129.72272727272724, 'gini = 0.0\\nsamples = 5\\nvalue = [0, 5]'),\n",
              " Text(138.43298969072166, 147.0190909090909, 'X[0] <= -0.364\\ngini = 0.32\\nsamples = 5\\nvalue = [4, 1]'),\n",
              " Text(137.69072164948454, 129.72272727272724, 'X[1] <= -0.734\\ngini = 0.5\\nsamples = 2\\nvalue = [1, 1]'),\n",
              " Text(136.94845360824743, 112.42636363636359, 'gini = 0.0\\nsamples = 1\\nvalue = [1, 0]'),\n",
              " Text(138.43298969072166, 112.42636363636359, 'gini = 0.0\\nsamples = 1\\nvalue = [0, 1]'),\n",
              " Text(139.17525773195877, 129.72272727272724, 'gini = 0.0\\nsamples = 3\\nvalue = [3, 0]'),\n",
              " Text(148.8653350515464, 250.7972727272727, 'X[0] <= -0.952\\ngini = 0.433\\nsamples = 148\\nvalue = [101, 47]'),\n",
              " Text(140.659793814433, 233.50090909090906, 'X[1] <= -0.521\\ngini = 0.32\\nsamples = 20\\nvalue = [16, 4]'),\n",
              " Text(139.91752577319588, 216.20454545454544, 'X[1] <= -0.651\\ngini = 0.266\\nsamples = 19\\nvalue = [16, 3]'),\n",
              " Text(139.17525773195877, 198.9081818181818, 'gini = 0.0\\nsamples = 9\\nvalue = [9, 0]'),\n",
              " Text(140.659793814433, 198.9081818181818, 'X[1] <= -0.63\\ngini = 0.42\\nsamples = 10\\nvalue = [7, 3]'),\n",
              " Text(139.91752577319588, 181.61181818181817, 'X[2] <= -0.67\\ngini = 0.375\\nsamples = 4\\nvalue = [1, 3]'),\n",
              " Text(139.17525773195877, 164.31545454545451, 'gini = 0.0\\nsamples = 2\\nvalue = [0, 2]'),\n",
              " Text(140.659793814433, 164.31545454545451, 'X[2] <= -0.419\\ngini = 0.5\\nsamples = 2\\nvalue = [1, 1]'),\n",
              " Text(139.91752577319588, 147.0190909090909, 'gini = 0.0\\nsamples = 1\\nvalue = [1, 0]'),\n",
              " Text(141.4020618556701, 147.0190909090909, 'gini = 0.0\\nsamples = 1\\nvalue = [0, 1]'),\n",
              " Text(141.4020618556701, 181.61181818181817, 'gini = 0.0\\nsamples = 6\\nvalue = [6, 0]'),\n",
              " Text(141.4020618556701, 216.20454545454544, 'gini = 0.0\\nsamples = 1\\nvalue = [0, 1]'),\n",
              " Text(157.0708762886598, 233.50090909090906, 'X[0] <= -0.868\\ngini = 0.446\\nsamples = 128\\nvalue = [85, 43]'),\n",
              " Text(146.5979381443299, 216.20454545454544, 'X[2] <= -0.2\\ngini = 0.497\\nsamples = 13\\nvalue = [6, 7]'),\n",
              " Text(145.8556701030928, 198.9081818181818, 'X[2] <= -0.451\\ngini = 0.486\\nsamples = 12\\nvalue = [5, 7]'),\n",
              " Text(144.37113402061857, 181.61181818181817, 'X[2] <= -0.607\\ngini = 0.48\\nsamples = 5\\nvalue = [3, 2]'),\n",
              " Text(143.62886597938146, 164.31545454545451, 'X[1] <= -0.64\\ngini = 0.444\\nsamples = 3\\nvalue = [1, 2]'),\n",
              " Text(142.88659793814435, 147.0190909090909, 'gini = 0.0\\nsamples = 1\\nvalue = [1, 0]'),\n",
              " Text(144.37113402061857, 147.0190909090909, 'gini = 0.0\\nsamples = 2\\nvalue = [0, 2]'),\n",
              " Text(145.11340206185568, 164.31545454545451, 'gini = 0.0\\nsamples = 2\\nvalue = [2, 0]'),\n",
              " Text(147.340206185567, 181.61181818181817, 'X[2] <= -0.388\\ngini = 0.408\\nsamples = 7\\nvalue = [2, 5]'),\n",
              " Text(146.5979381443299, 164.31545454545451, 'gini = 0.0\\nsamples = 2\\nvalue = [0, 2]'),\n",
              " Text(148.08247422680412, 164.31545454545451, 'X[2] <= -0.326\\ngini = 0.48\\nsamples = 5\\nvalue = [2, 3]'),\n",
              " Text(147.340206185567, 147.0190909090909, 'gini = 0.0\\nsamples = 1\\nvalue = [1, 0]'),\n",
              " Text(148.82474226804123, 147.0190909090909, 'X[2] <= -0.263\\ngini = 0.375\\nsamples = 4\\nvalue = [1, 3]'),\n",
              " Text(148.08247422680412, 129.72272727272724, 'gini = 0.0\\nsamples = 2\\nvalue = [0, 2]'),\n",
              " Text(149.56701030927834, 129.72272727272724, 'gini = 0.5\\nsamples = 2\\nvalue = [1, 1]'),\n",
              " Text(147.340206185567, 198.9081818181818, 'gini = 0.0\\nsamples = 1\\nvalue = [1, 0]'),\n",
              " Text(167.5438144329897, 216.20454545454544, 'X[2] <= -0.2\\ngini = 0.43\\nsamples = 115\\nvalue = [79, 36]'),\n",
              " Text(163.25257731958763, 198.9081818181818, 'X[1] <= -0.536\\ngini = 0.408\\nsamples = 98\\nvalue = [70, 28]'),\n",
              " Text(158.3814432989691, 181.61181818181817, 'X[0] <= -0.532\\ngini = 0.394\\nsamples = 89\\nvalue = [65, 24]'),\n",
              " Text(153.27835051546393, 164.31545454545451, 'X[1] <= -0.693\\ngini = 0.26\\nsamples = 26\\nvalue = [22, 4]'),\n",
              " Text(151.7938144329897, 147.0190909090909, 'X[2] <= -0.576\\ngini = 0.49\\nsamples = 7\\nvalue = [4, 3]'),\n",
              " Text(151.0515463917526, 129.72272727272724, 'gini = 0.0\\nsamples = 2\\nvalue = [0, 2]'),\n",
              " Text(152.53608247422682, 129.72272727272724, 'X[1] <= -0.713\\ngini = 0.32\\nsamples = 5\\nvalue = [4, 1]'),\n",
              " Text(151.7938144329897, 112.42636363636359, 'gini = 0.0\\nsamples = 4\\nvalue = [4, 0]'),\n",
              " Text(153.27835051546393, 112.42636363636359, 'gini = 0.0\\nsamples = 1\\nvalue = [0, 1]'),\n",
              " Text(154.76288659793815, 147.0190909090909, 'X[2] <= -0.263\\ngini = 0.1\\nsamples = 19\\nvalue = [18, 1]'),\n",
              " Text(154.02061855670104, 129.72272727272724, 'gini = 0.0\\nsamples = 16\\nvalue = [16, 0]'),\n",
              " Text(155.50515463917526, 129.72272727272724, 'X[1] <= -0.661\\ngini = 0.444\\nsamples = 3\\nvalue = [2, 1]'),\n",
              " Text(154.76288659793815, 112.42636363636359, 'gini = 0.0\\nsamples = 2\\nvalue = [2, 0]'),\n",
              " Text(156.24742268041237, 112.42636363636359, 'gini = 0.0\\nsamples = 1\\nvalue = [0, 1]'),\n",
              " Text(163.48453608247422, 164.31545454545451, 'X[1] <= -0.588\\ngini = 0.433\\nsamples = 63\\nvalue = [43, 20]'),\n",
              " Text(160.3298969072165, 147.0190909090909, 'X[0] <= -0.112\\ngini = 0.464\\nsamples = 52\\nvalue = [33, 19]'),\n",
              " Text(158.47422680412373, 129.72272727272724, 'X[1] <= -0.672\\ngini = 0.499\\nsamples = 19\\nvalue = [9, 10]'),\n",
              " Text(157.7319587628866, 112.42636363636359, 'X[2] <= -0.357\\ngini = 0.459\\nsamples = 14\\nvalue = [9, 5]'),\n",
              " Text(156.98969072164948, 95.13, 'X[2] <= -0.451\\ngini = 0.5\\nsamples = 10\\nvalue = [5, 5]'),\n",
              " Text(156.24742268041237, 77.83363636363634, 'X[2] <= -0.545\\ngini = 0.408\\nsamples = 7\\nvalue = [5, 2]'),\n",
              " Text(155.50515463917526, 60.53727272727269, 'X[0] <= -0.28\\ngini = 0.48\\nsamples = 5\\nvalue = [3, 2]'),\n",
              " Text(154.76288659793815, 43.24090909090904, 'gini = 0.0\\nsamples = 2\\nvalue = [2, 0]'),\n",
              " Text(156.24742268041237, 43.24090909090904, 'X[2] <= -0.67\\ngini = 0.444\\nsamples = 3\\nvalue = [1, 2]'),\n",
              " Text(155.50515463917526, 25.944545454545448, 'X[0] <= -0.196\\ngini = 0.5\\nsamples = 2\\nvalue = [1, 1]'),\n",
              " Text(154.76288659793815, 8.648181818181797, 'gini = 0.0\\nsamples = 1\\nvalue = [0, 1]'),\n",
              " Text(156.24742268041237, 8.648181818181797, 'gini = 0.0\\nsamples = 1\\nvalue = [1, 0]'),\n",
              " Text(156.98969072164948, 25.944545454545448, 'gini = 0.0\\nsamples = 1\\nvalue = [0, 1]'),\n",
              " Text(156.98969072164948, 60.53727272727269, 'gini = 0.0\\nsamples = 2\\nvalue = [2, 0]'),\n",
              " Text(157.7319587628866, 77.83363636363634, 'gini = 0.0\\nsamples = 3\\nvalue = [0, 3]'),\n",
              " Text(158.47422680412373, 95.13, 'gini = 0.0\\nsamples = 4\\nvalue = [4, 0]'),\n",
              " Text(159.21649484536084, 112.42636363636359, 'gini = 0.0\\nsamples = 5\\nvalue = [0, 5]'),\n",
              " Text(162.18556701030928, 129.72272727272724, 'X[2] <= -0.388\\ngini = 0.397\\nsamples = 33\\nvalue = [24, 9]'),\n",
              " Text(160.70103092783506, 112.42636363636359, 'X[1] <= -0.672\\ngini = 0.255\\nsamples = 20\\nvalue = [17, 3]'),\n",
              " Text(159.95876288659795, 95.13, 'X[1] <= -0.693\\ngini = 0.397\\nsamples = 11\\nvalue = [8, 3]'),\n",
              " Text(159.21649484536084, 77.83363636363634, 'X[1] <= -0.713\\ngini = 0.32\\nsamples = 10\\nvalue = [8, 2]'),\n",
              " Text(158.47422680412373, 60.53727272727269, 'X[0] <= -0.028\\ngini = 0.444\\nsamples = 6\\nvalue = [4, 2]'),\n",
              " Text(157.7319587628866, 43.24090909090904, 'gini = 0.0\\nsamples = 2\\nvalue = [2, 0]'),\n",
              " Text(159.21649484536084, 43.24090909090904, 'X[2] <= -0.451\\ngini = 0.5\\nsamples = 4\\nvalue = [2, 2]'),\n",
              " Text(158.47422680412373, 25.944545454545448, 'gini = 0.0\\nsamples = 2\\nvalue = [0, 2]'),\n",
              " Text(159.95876288659795, 25.944545454545448, 'gini = 0.0\\nsamples = 2\\nvalue = [2, 0]'),\n",
              " Text(159.95876288659795, 60.53727272727269, 'gini = 0.0\\nsamples = 4\\nvalue = [4, 0]'),\n",
              " Text(160.70103092783506, 77.83363636363634, 'gini = 0.0\\nsamples = 1\\nvalue = [0, 1]'),\n",
              " Text(161.44329896907217, 95.13, 'gini = 0.0\\nsamples = 9\\nvalue = [9, 0]'),\n",
              " Text(163.6701030927835, 112.42636363636359, 'X[0] <= 0.014\\ngini = 0.497\\nsamples = 13\\nvalue = [7, 6]'),\n",
              " Text(162.9278350515464, 95.13, 'gini = 0.0\\nsamples = 2\\nvalue = [2, 0]'),\n",
              " Text(164.41237113402062, 95.13, 'X[0] <= 0.182\\ngini = 0.496\\nsamples = 11\\nvalue = [5, 6]'),\n",
              " Text(162.9278350515464, 77.83363636363634, 'X[1] <= -0.651\\ngini = 0.375\\nsamples = 4\\nvalue = [1, 3]'),\n",
              " Text(162.18556701030928, 60.53727272727269, 'gini = 0.0\\nsamples = 3\\nvalue = [0, 3]'),\n",
              " Text(163.6701030927835, 60.53727272727269, 'gini = 0.0\\nsamples = 1\\nvalue = [1, 0]'),\n",
              " Text(165.89690721649484, 77.83363636363634, 'X[0] <= 0.308\\ngini = 0.49\\nsamples = 7\\nvalue = [4, 3]'),\n",
              " Text(165.15463917525773, 60.53727272727269, 'gini = 0.0\\nsamples = 2\\nvalue = [2, 0]'),\n",
              " Text(166.63917525773198, 60.53727272727269, 'X[0] <= 0.392\\ngini = 0.48\\nsamples = 5\\nvalue = [2, 3]'),\n",
              " Text(165.89690721649484, 43.24090909090904, 'gini = 0.0\\nsamples = 2\\nvalue = [0, 2]'),\n",
              " Text(167.3814432989691, 43.24090909090904, 'X[1] <= -0.651\\ngini = 0.444\\nsamples = 3\\nvalue = [2, 1]'),\n",
              " Text(166.63917525773198, 25.944545454545448, 'gini = 0.0\\nsamples = 1\\nvalue = [0, 1]'),\n",
              " Text(168.1237113402062, 25.944545454545448, 'gini = 0.0\\nsamples = 2\\nvalue = [2, 0]'),\n",
              " Text(166.63917525773198, 147.0190909090909, 'X[2] <= -0.701\\ngini = 0.165\\nsamples = 11\\nvalue = [10, 1]'),\n",
              " Text(165.89690721649484, 129.72272727272724, 'X[1] <= -0.567\\ngini = 0.444\\nsamples = 3\\nvalue = [2, 1]'),\n",
              " Text(165.15463917525773, 112.42636363636359, 'gini = 0.0\\nsamples = 1\\nvalue = [0, 1]'),\n",
              " Text(166.63917525773198, 112.42636363636359, 'gini = 0.0\\nsamples = 2\\nvalue = [2, 0]'),\n",
              " Text(167.3814432989691, 129.72272727272724, 'gini = 0.0\\nsamples = 8\\nvalue = [8, 0]'),\n",
              " Text(168.1237113402062, 181.61181818181817, 'X[2] <= -0.451\\ngini = 0.494\\nsamples = 9\\nvalue = [5, 4]'),\n",
              " Text(167.3814432989691, 164.31545454545451, 'gini = 0.0\\nsamples = 2\\nvalue = [0, 2]'),\n",
              " Text(168.8659793814433, 164.31545454545451, 'X[2] <= -0.388\\ngini = 0.408\\nsamples = 7\\nvalue = [5, 2]'),\n",
              " Text(168.1237113402062, 147.0190909090909, 'gini = 0.0\\nsamples = 3\\nvalue = [3, 0]'),\n",
              " Text(169.60824742268042, 147.0190909090909, 'X[2] <= -0.326\\ngini = 0.5\\nsamples = 4\\nvalue = [2, 2]'),\n",
              " Text(168.8659793814433, 129.72272727272724, 'gini = 0.0\\nsamples = 2\\nvalue = [0, 2]'),\n",
              " Text(170.35051546391753, 129.72272727272724, 'gini = 0.0\\nsamples = 2\\nvalue = [2, 0]'),\n",
              " Text(171.83505154639175, 198.9081818181818, 'X[1] <= -0.656\\ngini = 0.498\\nsamples = 17\\nvalue = [9, 8]'),\n",
              " Text(171.09278350515464, 181.61181818181817, 'X[0] <= -0.7\\ngini = 0.397\\nsamples = 11\\nvalue = [3, 8]'),\n",
              " Text(170.35051546391753, 164.31545454545451, 'gini = 0.0\\nsamples = 3\\nvalue = [3, 0]'),\n",
              " Text(171.83505154639175, 164.31545454545451, 'gini = 0.0\\nsamples = 8\\nvalue = [0, 8]'),\n",
              " Text(172.57731958762886, 181.61181818181817, 'gini = 0.0\\nsamples = 6\\nvalue = [6, 0]'),\n",
              " Text(177.03092783505156, 285.39, 'X[2] <= -2.706\\ngini = 0.222\\nsamples = 55\\nvalue = [7, 48]'),\n",
              " Text(176.28865979381445, 268.09363636363634, 'gini = 0.0\\nsamples = 1\\nvalue = [1, 0]'),\n",
              " Text(177.77319587628867, 268.09363636363634, 'X[2] <= -1.328\\ngini = 0.198\\nsamples = 54\\nvalue = [6, 48]'),\n",
              " Text(177.03092783505156, 250.7972727272727, 'gini = 0.0\\nsamples = 12\\nvalue = [0, 12]'),\n",
              " Text(178.51546391752578, 250.7972727272727, 'X[2] <= -0.451\\ngini = 0.245\\nsamples = 42\\nvalue = [6, 36]'),\n",
              " Text(177.77319587628867, 233.50090909090906, 'X[0] <= -0.7\\ngini = 0.32\\nsamples = 30\\nvalue = [6, 24]'),\n",
              " Text(176.28865979381445, 216.20454545454544, 'X[0] <= -0.784\\ngini = 0.401\\nsamples = 18\\nvalue = [5, 13]'),\n",
              " Text(175.54639175257734, 198.9081818181818, 'X[2] <= -0.639\\ngini = 0.305\\nsamples = 16\\nvalue = [3, 13]'),\n",
              " Text(174.06185567010309, 181.61181818181817, 'X[1] <= -0.296\\ngini = 0.142\\nsamples = 13\\nvalue = [1, 12]'),\n",
              " Text(173.31958762886597, 164.31545454545451, 'gini = 0.0\\nsamples = 11\\nvalue = [0, 11]'),\n",
              " Text(174.80412371134022, 164.31545454545451, 'X[2] <= -0.983\\ngini = 0.5\\nsamples = 2\\nvalue = [1, 1]'),\n",
              " Text(174.06185567010309, 147.0190909090909, 'gini = 0.0\\nsamples = 1\\nvalue = [1, 0]'),\n",
              " Text(175.54639175257734, 147.0190909090909, 'gini = 0.0\\nsamples = 1\\nvalue = [0, 1]'),\n",
              " Text(177.03092783505156, 181.61181818181817, 'X[1] <= -0.307\\ngini = 0.444\\nsamples = 3\\nvalue = [2, 1]'),\n",
              " Text(176.28865979381445, 164.31545454545451, 'gini = 0.0\\nsamples = 2\\nvalue = [2, 0]'),\n",
              " Text(177.77319587628867, 164.31545454545451, 'gini = 0.0\\nsamples = 1\\nvalue = [0, 1]'),\n",
              " Text(177.03092783505156, 198.9081818181818, 'gini = 0.0\\nsamples = 2\\nvalue = [2, 0]'),\n",
              " Text(179.2577319587629, 216.20454545454544, 'X[2] <= -1.14\\ngini = 0.153\\nsamples = 12\\nvalue = [1, 11]'),\n",
              " Text(178.51546391752578, 198.9081818181818, 'gini = 0.0\\nsamples = 1\\nvalue = [1, 0]'),\n",
              " Text(180.0, 198.9081818181818, 'gini = 0.0\\nsamples = 11\\nvalue = [0, 11]'),\n",
              " Text(179.2577319587629, 233.50090909090906, 'gini = 0.0\\nsamples = 12\\nvalue = [0, 12]'),\n",
              " Text(239.12592622422682, 302.6863636363636, 'X[0] <= -0.427\\ngini = 0.343\\nsamples = 783\\nvalue = [611, 172]'),\n",
              " Text(211.58118556701032, 285.39, 'X[1] <= -0.317\\ngini = 0.191\\nsamples = 374\\nvalue = [334, 40]'),\n",
              " Text(204.37886597938146, 268.09363636363634, 'X[1] <= -0.588\\ngini = 0.157\\nsamples = 362\\nvalue = [331, 31]'),\n",
              " Text(194.4278350515464, 250.7972727272727, 'X[0] <= -0.532\\ngini = 0.117\\nsamples = 304\\nvalue = [285, 19]'),\n",
              " Text(186.58762886597938, 233.50090909090906, 'X[0] <= -1.287\\ngini = 0.095\\nsamples = 280\\nvalue = [266, 14]'),\n",
              " Text(182.5979381443299, 216.20454545454544, 'X[2] <= 0.583\\ngini = 0.5\\nsamples = 2\\nvalue = [1, 1]'),\n",
              " Text(181.8556701030928, 198.9081818181818, 'gini = 0.0\\nsamples = 1\\nvalue = [0, 1]'),\n",
              " Text(183.340206185567, 198.9081818181818, 'gini = 0.0\\nsamples = 1\\nvalue = [1, 0]'),\n",
              " Text(190.57731958762886, 216.20454545454544, 'X[2] <= 1.303\\ngini = 0.089\\nsamples = 278\\nvalue = [265, 13]'),\n",
              " Text(184.82474226804123, 198.9081818181818, 'X[0] <= -0.616\\ngini = 0.064\\nsamples = 210\\nvalue = [203, 7]'),\n",
              " Text(181.48453608247422, 181.61181818181817, 'X[1] <= -0.755\\ngini = 0.043\\nsamples = 183\\nvalue = [179, 4]'),\n",
              " Text(179.2577319587629, 164.31545454545451, 'X[0] <= -0.952\\ngini = 0.142\\nsamples = 39\\nvalue = [36, 3]'),\n",
              " Text(178.51546391752578, 147.0190909090909, 'gini = 0.0\\nsamples = 9\\nvalue = [9, 0]'),\n",
              " Text(180.0, 147.0190909090909, 'X[2] <= 1.053\\ngini = 0.18\\nsamples = 30\\nvalue = [27, 3]'),\n",
              " Text(179.2577319587629, 129.72272727272724, 'X[2] <= 0.896\\ngini = 0.236\\nsamples = 22\\nvalue = [19, 3]'),\n",
              " Text(177.77319587628867, 112.42636363636359, 'X[2] <= 0.144\\ngini = 0.18\\nsamples = 20\\nvalue = [18, 2]'),\n",
              " Text(177.03092783505156, 95.13, 'gini = 0.0\\nsamples = 6\\nvalue = [6, 0]'),\n",
              " Text(178.51546391752578, 95.13, 'X[2] <= 0.238\\ngini = 0.245\\nsamples = 14\\nvalue = [12, 2]'),\n",
              " Text(177.77319587628867, 77.83363636363634, 'gini = 0.0\\nsamples = 1\\nvalue = [0, 1]'),\n",
              " Text(179.2577319587629, 77.83363636363634, 'X[1] <= -0.776\\ngini = 0.142\\nsamples = 13\\nvalue = [12, 1]'),\n",
              " Text(178.51546391752578, 60.53727272727269, 'X[0] <= -0.868\\ngini = 0.375\\nsamples = 4\\nvalue = [3, 1]'),\n",
              " Text(177.77319587628867, 43.24090909090904, 'gini = 0.0\\nsamples = 2\\nvalue = [2, 0]'),\n",
              " Text(179.2577319587629, 43.24090909090904, 'gini = 0.5\\nsamples = 2\\nvalue = [1, 1]'),\n",
              " Text(180.0, 60.53727272727269, 'gini = 0.0\\nsamples = 9\\nvalue = [9, 0]'),\n",
              " Text(180.7422680412371, 112.42636363636359, 'X[0] <= -0.826\\ngini = 0.5\\nsamples = 2\\nvalue = [1, 1]'),\n",
              " Text(180.0, 95.13, 'gini = 0.0\\nsamples = 1\\nvalue = [0, 1]'),\n",
              " Text(181.48453608247422, 95.13, 'gini = 0.0\\nsamples = 1\\nvalue = [1, 0]'),\n",
              " Text(180.7422680412371, 129.72272727272724, 'gini = 0.0\\nsamples = 8\\nvalue = [8, 0]'),\n",
              " Text(183.71134020618558, 164.31545454545451, 'X[1] <= -0.713\\ngini = 0.014\\nsamples = 144\\nvalue = [143, 1]'),\n",
              " Text(182.96907216494847, 147.0190909090909, 'X[1] <= -0.734\\ngini = 0.033\\nsamples = 60\\nvalue = [59, 1]'),\n",
              " Text(182.22680412371136, 129.72272727272724, 'gini = 0.0\\nsamples = 31\\nvalue = [31, 0]'),\n",
              " Text(183.71134020618558, 129.72272727272724, 'X[2] <= 0.614\\ngini = 0.067\\nsamples = 29\\nvalue = [28, 1]'),\n",
              " Text(182.96907216494847, 112.42636363636359, 'gini = 0.0\\nsamples = 17\\nvalue = [17, 0]'),\n",
              " Text(184.4536082474227, 112.42636363636359, 'X[2] <= 0.677\\ngini = 0.153\\nsamples = 12\\nvalue = [11, 1]'),\n",
              " Text(183.71134020618558, 95.13, 'X[0] <= -0.868\\ngini = 0.5\\nsamples = 2\\nvalue = [1, 1]'),\n",
              " Text(182.96907216494847, 77.83363636363634, 'gini = 0.0\\nsamples = 1\\nvalue = [0, 1]'),\n",
              " Text(184.4536082474227, 77.83363636363634, 'gini = 0.0\\nsamples = 1\\nvalue = [1, 0]'),\n",
              " Text(185.1958762886598, 95.13, 'gini = 0.0\\nsamples = 10\\nvalue = [10, 0]'),\n",
              " Text(184.4536082474227, 147.0190909090909, 'gini = 0.0\\nsamples = 84\\nvalue = [84, 0]'),\n",
              " Text(188.16494845360825, 181.61181818181817, 'X[2] <= 0.113\\ngini = 0.198\\nsamples = 27\\nvalue = [24, 3]'),\n",
              " Text(186.68041237113403, 164.31545454545451, 'X[1] <= -0.651\\ngini = 0.444\\nsamples = 3\\nvalue = [1, 2]'),\n",
              " Text(185.93814432989691, 147.0190909090909, 'gini = 0.0\\nsamples = 2\\nvalue = [0, 2]'),\n",
              " Text(187.42268041237114, 147.0190909090909, 'gini = 0.0\\nsamples = 1\\nvalue = [1, 0]'),\n",
              " Text(189.64948453608247, 164.31545454545451, 'X[1] <= -0.63\\ngini = 0.08\\nsamples = 24\\nvalue = [23, 1]'),\n",
              " Text(188.90721649484536, 147.0190909090909, 'gini = 0.0\\nsamples = 21\\nvalue = [21, 0]'),\n",
              " Text(190.3917525773196, 147.0190909090909, 'X[2] <= 0.364\\ngini = 0.444\\nsamples = 3\\nvalue = [2, 1]'),\n",
              " Text(189.64948453608247, 129.72272727272724, 'gini = 0.0\\nsamples = 1\\nvalue = [0, 1]'),\n",
              " Text(191.13402061855672, 129.72272727272724, 'gini = 0.0\\nsamples = 2\\nvalue = [2, 0]'),\n",
              " Text(196.3298969072165, 198.9081818181818, 'X[0] <= -1.036\\ngini = 0.161\\nsamples = 68\\nvalue = [62, 6]'),\n",
              " Text(194.84536082474227, 181.61181818181817, 'X[1] <= -0.64\\ngini = 0.42\\nsamples = 10\\nvalue = [7, 3]'),\n",
              " Text(194.10309278350516, 164.31545454545451, 'X[1] <= -0.755\\ngini = 0.346\\nsamples = 9\\nvalue = [7, 2]'),\n",
              " Text(193.36082474226805, 147.0190909090909, 'X[0] <= -1.119\\ngini = 0.5\\nsamples = 4\\nvalue = [2, 2]'),\n",
              " Text(192.61855670103094, 129.72272727272724, 'X[2] <= 1.366\\ngini = 0.444\\nsamples = 3\\nvalue = [2, 1]'),\n",
              " Text(191.87628865979383, 112.42636363636359, 'gini = 0.0\\nsamples = 1\\nvalue = [0, 1]'),\n",
              " Text(193.36082474226805, 112.42636363636359, 'gini = 0.0\\nsamples = 2\\nvalue = [2, 0]'),\n",
              " Text(194.10309278350516, 129.72272727272724, 'gini = 0.0\\nsamples = 1\\nvalue = [0, 1]'),\n",
              " Text(194.84536082474227, 147.0190909090909, 'gini = 0.0\\nsamples = 5\\nvalue = [5, 0]'),\n",
              " Text(195.58762886597938, 164.31545454545451, 'gini = 0.0\\nsamples = 1\\nvalue = [0, 1]'),\n",
              " Text(197.81443298969072, 181.61181818181817, 'X[2] <= 1.805\\ngini = 0.098\\nsamples = 58\\nvalue = [55, 3]'),\n",
              " Text(197.0721649484536, 164.31545454545451, 'X[2] <= 1.679\\ngini = 0.17\\nsamples = 32\\nvalue = [29, 3]'),\n",
              " Text(196.3298969072165, 147.0190909090909, 'gini = 0.0\\nsamples = 25\\nvalue = [25, 0]'),\n",
              " Text(197.81443298969072, 147.0190909090909, 'X[2] <= 1.742\\ngini = 0.49\\nsamples = 7\\nvalue = [4, 3]'),\n",
              " Text(197.0721649484536, 129.72272727272724, 'gini = 0.0\\nsamples = 2\\nvalue = [0, 2]'),\n",
              " Text(198.55670103092785, 129.72272727272724, 'X[1] <= -0.651\\ngini = 0.32\\nsamples = 5\\nvalue = [4, 1]'),\n",
              " Text(197.81443298969072, 112.42636363636359, 'gini = 0.0\\nsamples = 2\\nvalue = [2, 0]'),\n",
              " Text(199.29896907216497, 112.42636363636359, 'X[1] <= -0.63\\ngini = 0.444\\nsamples = 3\\nvalue = [2, 1]'),\n",
              " Text(198.55670103092785, 95.13, 'gini = 0.0\\nsamples = 1\\nvalue = [0, 1]'),\n",
              " Text(200.04123711340208, 95.13, 'gini = 0.0\\nsamples = 2\\nvalue = [2, 0]'),\n",
              " Text(198.55670103092785, 164.31545454545451, 'gini = 0.0\\nsamples = 26\\nvalue = [26, 0]'),\n",
              " Text(202.2680412371134, 233.50090909090906, 'X[2] <= 1.084\\ngini = 0.33\\nsamples = 24\\nvalue = [19, 5]'),\n",
              " Text(201.5257731958763, 216.20454545454544, 'X[1] <= -0.734\\ngini = 0.459\\nsamples = 14\\nvalue = [9, 5]'),\n",
              " Text(200.7835051546392, 198.9081818181818, 'gini = 0.0\\nsamples = 2\\nvalue = [0, 2]'),\n",
              " Text(202.2680412371134, 198.9081818181818, 'X[1] <= -0.677\\ngini = 0.375\\nsamples = 12\\nvalue = [9, 3]'),\n",
              " Text(200.7835051546392, 181.61181818181817, 'X[2] <= -0.012\\ngini = 0.198\\nsamples = 9\\nvalue = [8, 1]'),\n",
              " Text(200.04123711340208, 164.31545454545451, 'X[1] <= -0.713\\ngini = 0.375\\nsamples = 4\\nvalue = [3, 1]'),\n",
              " Text(199.29896907216497, 147.0190909090909, 'gini = 0.0\\nsamples = 3\\nvalue = [3, 0]'),\n",
              " Text(200.7835051546392, 147.0190909090909, 'gini = 0.0\\nsamples = 1\\nvalue = [0, 1]'),\n",
              " Text(201.5257731958763, 164.31545454545451, 'gini = 0.0\\nsamples = 5\\nvalue = [5, 0]'),\n",
              " Text(203.75257731958763, 181.61181818181817, 'X[1] <= -0.609\\ngini = 0.444\\nsamples = 3\\nvalue = [1, 2]'),\n",
              " Text(203.01030927835052, 164.31545454545451, 'gini = 0.0\\nsamples = 2\\nvalue = [0, 2]'),\n",
              " Text(204.49484536082474, 164.31545454545451, 'gini = 0.0\\nsamples = 1\\nvalue = [1, 0]'),\n",
              " Text(203.01030927835052, 216.20454545454544, 'gini = 0.0\\nsamples = 10\\nvalue = [10, 0]'),\n",
              " Text(214.3298969072165, 250.7972727272727, 'X[2] <= 1.366\\ngini = 0.328\\nsamples = 58\\nvalue = [46, 12]'),\n",
              " Text(213.58762886597938, 233.50090909090906, 'X[2] <= 0.834\\ngini = 0.36\\nsamples = 51\\nvalue = [39, 12]'),\n",
              " Text(210.0618556701031, 216.20454545454544, 'X[1] <= -0.567\\ngini = 0.292\\nsamples = 45\\nvalue = [37, 8]'),\n",
              " Text(207.4639175257732, 198.9081818181818, 'X[2] <= 0.614\\ngini = 0.463\\nsamples = 11\\nvalue = [7, 4]'),\n",
              " Text(206.7216494845361, 181.61181818181817, 'X[0] <= -0.868\\ngini = 0.346\\nsamples = 9\\nvalue = [7, 2]'),\n",
              " Text(205.979381443299, 164.31545454545451, 'gini = 0.0\\nsamples = 3\\nvalue = [3, 0]'),\n",
              " Text(207.4639175257732, 164.31545454545451, 'X[2] <= 0.458\\ngini = 0.444\\nsamples = 6\\nvalue = [4, 2]'),\n",
              " Text(206.7216494845361, 147.0190909090909, 'X[0] <= -0.784\\ngini = 0.32\\nsamples = 5\\nvalue = [4, 1]'),\n",
              " Text(205.979381443299, 129.72272727272724, 'X[2] <= 0.238\\ngini = 0.5\\nsamples = 2\\nvalue = [1, 1]'),\n",
              " Text(205.23711340206185, 112.42636363636359, 'gini = 0.0\\nsamples = 1\\nvalue = [1, 0]'),\n",
              " Text(206.7216494845361, 112.42636363636359, 'gini = 0.0\\nsamples = 1\\nvalue = [0, 1]'),\n",
              " Text(207.4639175257732, 129.72272727272724, 'gini = 0.0\\nsamples = 3\\nvalue = [3, 0]'),\n",
              " Text(208.20618556701032, 147.0190909090909, 'gini = 0.0\\nsamples = 1\\nvalue = [0, 1]'),\n",
              " Text(208.20618556701032, 181.61181818181817, 'gini = 0.0\\nsamples = 2\\nvalue = [0, 2]'),\n",
              " Text(212.659793814433, 198.9081818181818, 'X[0] <= -0.7\\ngini = 0.208\\nsamples = 34\\nvalue = [30, 4]'),\n",
              " Text(211.17525773195877, 181.61181818181817, 'X[2] <= 0.019\\ngini = 0.083\\nsamples = 23\\nvalue = [22, 1]'),\n",
              " Text(210.43298969072166, 164.31545454545451, 'X[2] <= -0.075\\ngini = 0.444\\nsamples = 3\\nvalue = [2, 1]'),\n",
              " Text(209.69072164948454, 147.0190909090909, 'gini = 0.0\\nsamples = 2\\nvalue = [2, 0]'),\n",
              " Text(211.17525773195877, 147.0190909090909, 'gini = 0.0\\nsamples = 1\\nvalue = [0, 1]'),\n",
              " Text(211.91752577319588, 164.31545454545451, 'gini = 0.0\\nsamples = 20\\nvalue = [20, 0]'),\n",
              " Text(214.14432989690724, 181.61181818181817, 'X[1] <= -0.385\\ngini = 0.397\\nsamples = 11\\nvalue = [8, 3]'),\n",
              " Text(213.4020618556701, 164.31545454545451, 'X[1] <= -0.515\\ngini = 0.32\\nsamples = 10\\nvalue = [8, 2]'),\n",
              " Text(212.659793814433, 147.0190909090909, 'X[2] <= 0.113\\ngini = 0.48\\nsamples = 5\\nvalue = [3, 2]'),\n",
              " Text(211.91752577319588, 129.72272727272724, 'gini = 0.0\\nsamples = 1\\nvalue = [1, 0]'),\n",
              " Text(213.4020618556701, 129.72272727272724, 'X[0] <= -0.532\\ngini = 0.5\\nsamples = 4\\nvalue = [2, 2]'),\n",
              " Text(212.659793814433, 112.42636363636359, 'X[2] <= 0.426\\ngini = 0.444\\nsamples = 3\\nvalue = [1, 2]'),\n",
              " Text(211.91752577319588, 95.13, 'gini = 0.0\\nsamples = 2\\nvalue = [0, 2]'),\n",
              " Text(213.4020618556701, 95.13, 'gini = 0.0\\nsamples = 1\\nvalue = [1, 0]'),\n",
              " Text(214.14432989690724, 112.42636363636359, 'gini = 0.0\\nsamples = 1\\nvalue = [1, 0]'),\n",
              " Text(214.14432989690724, 147.0190909090909, 'gini = 0.0\\nsamples = 5\\nvalue = [5, 0]'),\n",
              " Text(214.88659793814435, 164.31545454545451, 'gini = 0.0\\nsamples = 1\\nvalue = [0, 1]'),\n",
              " Text(217.11340206185568, 216.20454545454544, 'X[1] <= -0.494\\ngini = 0.444\\nsamples = 6\\nvalue = [2, 4]'),\n",
              " Text(216.37113402061857, 198.9081818181818, 'X[1] <= -0.536\\ngini = 0.444\\nsamples = 3\\nvalue = [2, 1]'),\n",
              " Text(215.62886597938146, 181.61181818181817, 'gini = 0.0\\nsamples = 1\\nvalue = [0, 1]'),\n",
              " Text(217.11340206185568, 181.61181818181817, 'gini = 0.0\\nsamples = 2\\nvalue = [2, 0]'),\n",
              " Text(217.8556701030928, 198.9081818181818, 'gini = 0.0\\nsamples = 3\\nvalue = [0, 3]'),\n",
              " Text(215.0721649484536, 233.50090909090906, 'gini = 0.0\\nsamples = 7\\nvalue = [7, 0]'),\n",
              " Text(218.7835051546392, 268.09363636363634, 'X[1] <= -0.255\\ngini = 0.375\\nsamples = 12\\nvalue = [3, 9]'),\n",
              " Text(217.29896907216497, 250.7972727272727, 'X[2] <= 1.397\\ngini = 0.198\\nsamples = 9\\nvalue = [1, 8]'),\n",
              " Text(216.55670103092785, 233.50090909090906, 'gini = 0.0\\nsamples = 8\\nvalue = [0, 8]'),\n",
              " Text(218.04123711340208, 233.50090909090906, 'gini = 0.0\\nsamples = 1\\nvalue = [1, 0]'),\n",
              " Text(220.2680412371134, 250.7972727272727, 'X[2] <= 0.395\\ngini = 0.444\\nsamples = 3\\nvalue = [2, 1]'),\n",
              " Text(219.5257731958763, 233.50090909090906, 'gini = 0.0\\nsamples = 2\\nvalue = [2, 0]'),\n",
              " Text(221.01030927835052, 233.50090909090906, 'gini = 0.0\\nsamples = 1\\nvalue = [0, 1]'),\n",
              " Text(266.6706668814433, 285.39, 'X[2] <= 0.426\\ngini = 0.437\\nsamples = 409\\nvalue = [277, 132]'),\n",
              " Text(235.43814432989691, 268.09363636363634, 'X[1] <= -0.63\\ngini = 0.499\\nsamples = 106\\nvalue = [51, 55]'),\n",
              " Text(227.04123711340208, 250.7972727272727, 'X[1] <= -0.755\\ngini = 0.455\\nsamples = 63\\nvalue = [22, 41]'),\n",
              " Text(222.49484536082474, 233.50090909090906, 'X[0] <= 0.308\\ngini = 0.266\\nsamples = 19\\nvalue = [3, 16]'),\n",
              " Text(221.01030927835052, 216.20454545454544, 'X[2] <= 0.113\\ngini = 0.208\\nsamples = 17\\nvalue = [2, 15]'),\n",
              " Text(220.2680412371134, 198.9081818181818, 'X[1] <= -0.776\\ngini = 0.32\\nsamples = 10\\nvalue = [2, 8]'),\n",
              " Text(218.7835051546392, 181.61181818181817, 'X[2] <= 0.05\\ngini = 0.245\\nsamples = 7\\nvalue = [1, 6]'),\n",
              " Text(218.04123711340208, 164.31545454545451, 'gini = 0.0\\nsamples = 6\\nvalue = [0, 6]'),\n",
              " Text(219.5257731958763, 164.31545454545451, 'gini = 0.0\\nsamples = 1\\nvalue = [1, 0]'),\n",
              " Text(221.75257731958763, 181.61181818181817, 'X[2] <= 0.019\\ngini = 0.444\\nsamples = 3\\nvalue = [1, 2]'),\n",
              " Text(221.01030927835052, 164.31545454545451, 'gini = 0.0\\nsamples = 1\\nvalue = [1, 0]'),\n",
              " Text(222.49484536082474, 164.31545454545451, 'gini = 0.0\\nsamples = 2\\nvalue = [0, 2]'),\n",
              " Text(221.75257731958763, 198.9081818181818, 'gini = 0.0\\nsamples = 7\\nvalue = [0, 7]'),\n",
              " Text(223.979381443299, 216.20454545454544, 'X[1] <= -0.776\\ngini = 0.5\\nsamples = 2\\nvalue = [1, 1]'),\n",
              " Text(223.23711340206185, 198.9081818181818, 'gini = 0.0\\nsamples = 1\\nvalue = [1, 0]'),\n",
              " Text(224.7216494845361, 198.9081818181818, 'gini = 0.0\\nsamples = 1\\nvalue = [0, 1]'),\n",
              " Text(231.58762886597938, 233.50090909090906, 'X[0] <= -0.196\\ngini = 0.491\\nsamples = 44\\nvalue = [19, 25]'),\n",
              " Text(227.69072164948454, 216.20454545454544, 'X[2] <= 0.019\\ngini = 0.459\\nsamples = 14\\nvalue = [9, 5]'),\n",
              " Text(226.20618556701032, 198.9081818181818, 'X[0] <= -0.322\\ngini = 0.444\\nsamples = 6\\nvalue = [2, 4]'),\n",
              " Text(225.4639175257732, 181.61181818181817, 'gini = 0.0\\nsamples = 3\\nvalue = [0, 3]'),\n",
              " Text(226.94845360824743, 181.61181818181817, 'X[2] <= -0.075\\ngini = 0.444\\nsamples = 3\\nvalue = [2, 1]'),\n",
              " Text(226.20618556701032, 164.31545454545451, 'gini = 0.0\\nsamples = 1\\nvalue = [1, 0]'),\n",
              " Text(227.69072164948454, 164.31545454545451, 'X[1] <= -0.713\\ngini = 0.5\\nsamples = 2\\nvalue = [1, 1]'),\n",
              " Text(226.94845360824743, 147.0190909090909, 'gini = 0.0\\nsamples = 1\\nvalue = [0, 1]'),\n",
              " Text(228.43298969072166, 147.0190909090909, 'gini = 0.0\\nsamples = 1\\nvalue = [1, 0]'),\n",
              " Text(229.17525773195877, 198.9081818181818, 'X[2] <= 0.332\\ngini = 0.219\\nsamples = 8\\nvalue = [7, 1]'),\n",
              " Text(228.43298969072166, 181.61181818181817, 'gini = 0.0\\nsamples = 6\\nvalue = [6, 0]'),\n",
              " Text(229.91752577319588, 181.61181818181817, 'X[0] <= -0.322\\ngini = 0.5\\nsamples = 2\\nvalue = [1, 1]'),\n",
              " Text(229.17525773195877, 164.31545454545451, 'gini = 0.0\\nsamples = 1\\nvalue = [1, 0]'),\n",
              " Text(230.659793814433, 164.31545454545451, 'gini = 0.0\\nsamples = 1\\nvalue = [0, 1]'),\n",
              " Text(235.48453608247422, 216.20454545454544, 'X[2] <= 0.113\\ngini = 0.444\\nsamples = 30\\nvalue = [10, 20]'),\n",
              " Text(233.62886597938146, 198.9081818181818, 'X[2] <= -0.012\\ngini = 0.18\\nsamples = 10\\nvalue = [1, 9]'),\n",
              " Text(232.88659793814435, 181.61181818181817, 'X[2] <= -0.075\\ngini = 0.375\\nsamples = 4\\nvalue = [1, 3]'),\n",
              " Text(232.14432989690724, 164.31545454545451, 'gini = 0.0\\nsamples = 2\\nvalue = [0, 2]'),\n",
              " Text(233.62886597938146, 164.31545454545451, 'X[0] <= 0.224\\ngini = 0.5\\nsamples = 2\\nvalue = [1, 1]'),\n",
              " Text(232.88659793814435, 147.0190909090909, 'gini = 0.0\\nsamples = 1\\nvalue = [0, 1]'),\n",
              " Text(234.37113402061857, 147.0190909090909, 'gini = 0.0\\nsamples = 1\\nvalue = [1, 0]'),\n",
              " Text(234.37113402061857, 181.61181818181817, 'gini = 0.0\\nsamples = 6\\nvalue = [0, 6]'),\n",
              " Text(237.340206185567, 198.9081818181818, 'X[0] <= -0.112\\ngini = 0.495\\nsamples = 20\\nvalue = [9, 11]'),\n",
              " Text(236.5979381443299, 181.61181818181817, 'gini = 0.0\\nsamples = 3\\nvalue = [0, 3]'),\n",
              " Text(238.08247422680412, 181.61181818181817, 'X[0] <= 0.224\\ngini = 0.498\\nsamples = 17\\nvalue = [9, 8]'),\n",
              " Text(236.5979381443299, 164.31545454545451, 'X[1] <= -0.651\\ngini = 0.444\\nsamples = 9\\nvalue = [6, 3]'),\n",
              " Text(235.8556701030928, 147.0190909090909, 'X[0] <= -0.028\\ngini = 0.375\\nsamples = 8\\nvalue = [6, 2]'),\n",
              " Text(235.11340206185568, 129.72272727272724, 'X[1] <= -0.703\\ngini = 0.444\\nsamples = 3\\nvalue = [1, 2]'),\n",
              " Text(234.37113402061857, 112.42636363636359, 'gini = 0.0\\nsamples = 2\\nvalue = [0, 2]'),\n",
              " Text(235.8556701030928, 112.42636363636359, 'gini = 0.0\\nsamples = 1\\nvalue = [1, 0]'),\n",
              " Text(236.5979381443299, 129.72272727272724, 'gini = 0.0\\nsamples = 5\\nvalue = [5, 0]'),\n",
              " Text(237.340206185567, 147.0190909090909, 'gini = 0.0\\nsamples = 1\\nvalue = [0, 1]'),\n",
              " Text(239.56701030927837, 164.31545454545451, 'X[1] <= -0.672\\ngini = 0.469\\nsamples = 8\\nvalue = [3, 5]'),\n",
              " Text(238.82474226804123, 147.0190909090909, 'gini = 0.0\\nsamples = 4\\nvalue = [0, 4]'),\n",
              " Text(240.30927835051548, 147.0190909090909, 'X[0] <= 0.392\\ngini = 0.375\\nsamples = 4\\nvalue = [3, 1]'),\n",
              " Text(239.56701030927837, 129.72272727272724, 'X[2] <= 0.176\\ngini = 0.5\\nsamples = 2\\nvalue = [1, 1]'),\n",
              " Text(238.82474226804123, 112.42636363636359, 'gini = 0.0\\nsamples = 1\\nvalue = [1, 0]'),\n",
              " Text(240.30927835051548, 112.42636363636359, 'gini = 0.0\\nsamples = 1\\nvalue = [0, 1]'),\n",
              " Text(241.0515463917526, 129.72272727272724, 'gini = 0.0\\nsamples = 2\\nvalue = [2, 0]'),\n",
              " Text(243.83505154639175, 250.7972727272727, 'X[2] <= 0.05\\ngini = 0.439\\nsamples = 43\\nvalue = [29, 14]'),\n",
              " Text(241.0515463917526, 233.50090909090906, 'X[1] <= -0.609\\ngini = 0.231\\nsamples = 15\\nvalue = [13, 2]'),\n",
              " Text(240.30927835051548, 216.20454545454544, 'gini = 0.0\\nsamples = 1\\nvalue = [0, 1]'),\n",
              " Text(241.7938144329897, 216.20454545454544, 'X[1] <= -0.588\\ngini = 0.133\\nsamples = 14\\nvalue = [13, 1]'),\n",
              " Text(241.0515463917526, 198.9081818181818, 'X[2] <= -0.012\\ngini = 0.278\\nsamples = 6\\nvalue = [5, 1]'),\n",
              " Text(240.30927835051548, 181.61181818181817, 'gini = 0.0\\nsamples = 4\\nvalue = [4, 0]'),\n",
              " Text(241.7938144329897, 181.61181818181817, 'gini = 0.5\\nsamples = 2\\nvalue = [1, 1]'),\n",
              " Text(242.53608247422682, 198.9081818181818, 'gini = 0.0\\nsamples = 8\\nvalue = [8, 0]'),\n",
              " Text(246.61855670103094, 233.50090909090906, 'X[1] <= -0.567\\ngini = 0.49\\nsamples = 28\\nvalue = [16, 12]'),\n",
              " Text(244.76288659793815, 216.20454545454544, 'X[2] <= 0.238\\ngini = 0.298\\nsamples = 11\\nvalue = [9, 2]'),\n",
              " Text(244.02061855670104, 198.9081818181818, 'X[2] <= 0.176\\ngini = 0.444\\nsamples = 6\\nvalue = [4, 2]'),\n",
              " Text(243.27835051546393, 181.61181818181817, 'X[2] <= 0.113\\ngini = 0.32\\nsamples = 5\\nvalue = [4, 1]'),\n",
              " Text(242.53608247422682, 164.31545454545451, 'X[1] <= -0.609\\ngini = 0.5\\nsamples = 2\\nvalue = [1, 1]'),\n",
              " Text(241.7938144329897, 147.0190909090909, 'gini = 0.0\\nsamples = 1\\nvalue = [0, 1]'),\n",
              " Text(243.27835051546393, 147.0190909090909, 'gini = 0.0\\nsamples = 1\\nvalue = [1, 0]'),\n",
              " Text(244.02061855670104, 164.31545454545451, 'gini = 0.0\\nsamples = 3\\nvalue = [3, 0]'),\n",
              " Text(244.76288659793815, 181.61181818181817, 'gini = 0.0\\nsamples = 1\\nvalue = [0, 1]'),\n",
              " Text(245.50515463917526, 198.9081818181818, 'gini = 0.0\\nsamples = 5\\nvalue = [5, 0]'),\n",
              " Text(248.47422680412373, 216.20454545454544, 'X[0] <= -0.28\\ngini = 0.484\\nsamples = 17\\nvalue = [7, 10]'),\n",
              " Text(246.98969072164948, 198.9081818181818, 'X[1] <= -0.494\\ngini = 0.444\\nsamples = 6\\nvalue = [4, 2]'),\n",
              " Text(246.24742268041237, 181.61181818181817, 'gini = 0.0\\nsamples = 2\\nvalue = [0, 2]'),\n",
              " Text(247.73195876288662, 181.61181818181817, 'gini = 0.0\\nsamples = 4\\nvalue = [4, 0]'),\n",
              " Text(249.95876288659795, 198.9081818181818, 'X[1] <= -0.432\\ngini = 0.397\\nsamples = 11\\nvalue = [3, 8]'),\n",
              " Text(249.21649484536084, 181.61181818181817, 'X[2] <= 0.176\\ngini = 0.49\\nsamples = 7\\nvalue = [3, 4]'),\n",
              " Text(248.47422680412373, 164.31545454545451, 'gini = 0.0\\nsamples = 2\\nvalue = [2, 0]'),\n",
              " Text(249.95876288659795, 164.31545454545451, 'X[0] <= 0.35\\ngini = 0.32\\nsamples = 5\\nvalue = [1, 4]'),\n",
              " Text(249.21649484536084, 147.0190909090909, 'gini = 0.0\\nsamples = 3\\nvalue = [0, 3]'),\n",
              " Text(250.70103092783506, 147.0190909090909, 'X[2] <= 0.238\\ngini = 0.5\\nsamples = 2\\nvalue = [1, 1]'),\n",
              " Text(249.95876288659795, 129.72272727272724, 'gini = 0.0\\nsamples = 1\\nvalue = [0, 1]'),\n",
              " Text(251.44329896907217, 129.72272727272724, 'gini = 0.0\\nsamples = 1\\nvalue = [1, 0]'),\n",
              " Text(250.70103092783506, 181.61181818181817, 'gini = 0.0\\nsamples = 4\\nvalue = [0, 4]'),\n",
              " Text(297.9031894329897, 268.09363636363634, 'X[2] <= 2.494\\ngini = 0.379\\nsamples = 303\\nvalue = [226, 77]'),\n",
              " Text(286.09503865979383, 250.7972727272727, 'X[1] <= -0.296\\ngini = 0.358\\nsamples = 291\\nvalue = [223, 68]'),\n",
              " Text(285.3527706185567, 233.50090909090906, 'X[2] <= 1.178\\ngini = 0.347\\nsamples = 287\\nvalue = [223, 64]'),\n",
              " Text(276.44265463917526, 216.20454545454544, 'X[1] <= -0.38\\ngini = 0.269\\nsamples = 187\\nvalue = [157, 30]'),\n",
              " Text(270.6378865979382, 198.9081818181818, 'X[1] <= -0.672\\ngini = 0.259\\nsamples = 183\\nvalue = [155, 28]'),\n",
              " Text(261.25515463917526, 181.61181818181817, 'X[0] <= -0.112\\ngini = 0.318\\nsamples = 111\\nvalue = [89, 22]'),\n",
              " Text(255.15463917525773, 164.31545454545451, 'X[2] <= 0.646\\ngini = 0.142\\nsamples = 39\\nvalue = [36, 3]'),\n",
              " Text(254.41237113402062, 147.0190909090909, 'X[0] <= -0.28\\ngini = 0.337\\nsamples = 14\\nvalue = [11, 3]'),\n",
              " Text(252.9278350515464, 129.72272727272724, 'X[1] <= -0.734\\ngini = 0.165\\nsamples = 11\\nvalue = [10, 1]'),\n",
              " Text(252.18556701030928, 112.42636363636359, 'X[0] <= -0.364\\ngini = 0.444\\nsamples = 3\\nvalue = [2, 1]'),\n",
              " Text(251.44329896907217, 95.13, 'gini = 0.0\\nsamples = 2\\nvalue = [2, 0]'),\n",
              " Text(252.9278350515464, 95.13, 'gini = 0.0\\nsamples = 1\\nvalue = [0, 1]'),\n",
              " Text(253.6701030927835, 112.42636363636359, 'gini = 0.0\\nsamples = 8\\nvalue = [8, 0]'),\n",
              " Text(255.89690721649487, 129.72272727272724, 'X[2] <= 0.552\\ngini = 0.444\\nsamples = 3\\nvalue = [1, 2]'),\n",
              " Text(255.15463917525773, 112.42636363636359, 'X[0] <= -0.196\\ngini = 0.5\\nsamples = 2\\nvalue = [1, 1]'),\n",
              " Text(254.41237113402062, 95.13, 'gini = 0.0\\nsamples = 1\\nvalue = [0, 1]'),\n",
              " Text(255.89690721649487, 95.13, 'gini = 0.0\\nsamples = 1\\nvalue = [1, 0]'),\n",
              " Text(256.63917525773195, 112.42636363636359, 'gini = 0.0\\nsamples = 1\\nvalue = [0, 1]'),\n",
              " Text(255.89690721649487, 147.0190909090909, 'gini = 0.0\\nsamples = 25\\nvalue = [25, 0]'),\n",
              " Text(267.3556701030928, 164.31545454545451, 'X[2] <= 1.115\\ngini = 0.389\\nsamples = 72\\nvalue = [53, 19]'),\n",
              " Text(266.61340206185565, 147.0190909090909, 'X[1] <= -0.734\\ngini = 0.414\\nsamples = 65\\nvalue = [46, 19]'),\n",
              " Text(260.62886597938143, 129.72272727272724, 'X[2] <= 0.489\\ngini = 0.326\\nsamples = 39\\nvalue = [31, 8]'),\n",
              " Text(258.12371134020617, 112.42636363636359, 'X[0] <= 0.14\\ngini = 0.444\\nsamples = 3\\nvalue = [1, 2]'),\n",
              " Text(257.3814432989691, 95.13, 'gini = 0.0\\nsamples = 2\\nvalue = [0, 2]'),\n",
              " Text(258.8659793814433, 95.13, 'gini = 0.0\\nsamples = 1\\nvalue = [1, 0]'),\n",
              " Text(263.1340206185567, 112.42636363636359, 'X[1] <= -0.755\\ngini = 0.278\\nsamples = 36\\nvalue = [30, 6]'),\n",
              " Text(260.35051546391753, 95.13, 'X[0] <= -0.028\\ngini = 0.351\\nsamples = 22\\nvalue = [17, 5]'),\n",
              " Text(257.75257731958766, 77.83363636363634, 'X[2] <= 0.802\\ngini = 0.5\\nsamples = 4\\nvalue = [2, 2]'),\n",
              " Text(257.0103092783505, 60.53727272727269, 'gini = 0.0\\nsamples = 1\\nvalue = [0, 1]'),\n",
              " Text(258.49484536082474, 60.53727272727269, 'X[2] <= 1.021\\ngini = 0.444\\nsamples = 3\\nvalue = [2, 1]'),\n",
              " Text(257.75257731958766, 43.24090909090904, 'gini = 0.0\\nsamples = 2\\nvalue = [2, 0]'),\n",
              " Text(259.2371134020619, 43.24090909090904, 'gini = 0.0\\nsamples = 1\\nvalue = [0, 1]'),\n",
              " Text(262.9484536082474, 77.83363636363634, 'X[0] <= 0.14\\ngini = 0.278\\nsamples = 18\\nvalue = [15, 3]'),\n",
              " Text(261.4639175257732, 60.53727272727269, 'X[0] <= 0.077\\ngini = 0.133\\nsamples = 14\\nvalue = [13, 1]'),\n",
              " Text(260.7216494845361, 43.24090909090904, 'gini = 0.0\\nsamples = 8\\nvalue = [8, 0]'),\n",
              " Text(262.2061855670103, 43.24090909090904, 'X[2] <= 0.99\\ngini = 0.278\\nsamples = 6\\nvalue = [5, 1]'),\n",
              " Text(261.4639175257732, 25.944545454545448, 'X[2] <= 0.771\\ngini = 0.5\\nsamples = 2\\nvalue = [1, 1]'),\n",
              " Text(260.7216494845361, 8.648181818181797, 'gini = 0.0\\nsamples = 1\\nvalue = [1, 0]'),\n",
              " Text(262.2061855670103, 8.648181818181797, 'gini = 0.0\\nsamples = 1\\nvalue = [0, 1]'),\n",
              " Text(262.9484536082474, 25.944545454545448, 'gini = 0.0\\nsamples = 4\\nvalue = [4, 0]'),\n",
              " Text(264.4329896907217, 60.53727272727269, 'X[0] <= 0.308\\ngini = 0.5\\nsamples = 4\\nvalue = [2, 2]'),\n",
              " Text(263.69072164948454, 43.24090909090904, 'gini = 0.0\\nsamples = 2\\nvalue = [0, 2]'),\n",
              " Text(265.17525773195877, 43.24090909090904, 'gini = 0.0\\nsamples = 2\\nvalue = [2, 0]'),\n",
              " Text(265.9175257731959, 95.13, 'X[0] <= 0.392\\ngini = 0.133\\nsamples = 14\\nvalue = [13, 1]'),\n",
              " Text(265.17525773195877, 77.83363636363634, 'gini = 0.0\\nsamples = 11\\nvalue = [11, 0]'),\n",
              " Text(266.659793814433, 77.83363636363634, 'X[2] <= 0.708\\ngini = 0.444\\nsamples = 3\\nvalue = [2, 1]'),\n",
              " Text(265.9175257731959, 60.53727272727269, 'gini = 0.0\\nsamples = 1\\nvalue = [1, 0]'),\n",
              " Text(267.4020618556701, 60.53727272727269, 'X[2] <= 0.865\\ngini = 0.5\\nsamples = 2\\nvalue = [1, 1]'),\n",
              " Text(266.659793814433, 43.24090909090904, 'gini = 0.0\\nsamples = 1\\nvalue = [0, 1]'),\n",
              " Text(268.1443298969072, 43.24090909090904, 'gini = 0.0\\nsamples = 1\\nvalue = [1, 0]'),\n",
              " Text(272.59793814432993, 129.72272727272724, 'X[2] <= 0.928\\ngini = 0.488\\nsamples = 26\\nvalue = [15, 11]'),\n",
              " Text(271.11340206185565, 112.42636363636359, 'X[0] <= 0.266\\ngini = 0.401\\nsamples = 18\\nvalue = [13, 5]'),\n",
              " Text(270.37113402061857, 95.13, 'X[0] <= 0.056\\ngini = 0.5\\nsamples = 10\\nvalue = [5, 5]'),\n",
              " Text(269.62886597938143, 77.83363636363634, 'X[2] <= 0.552\\ngini = 0.278\\nsamples = 6\\nvalue = [5, 1]'),\n",
              " Text(268.88659793814435, 60.53727272727269, 'gini = 0.0\\nsamples = 1\\nvalue = [0, 1]'),\n",
              " Text(270.37113402061857, 60.53727272727269, 'gini = 0.0\\nsamples = 5\\nvalue = [5, 0]'),\n",
              " Text(271.11340206185565, 77.83363636363634, 'gini = 0.0\\nsamples = 4\\nvalue = [0, 4]'),\n",
              " Text(271.8556701030928, 95.13, 'gini = 0.0\\nsamples = 8\\nvalue = [8, 0]'),\n",
              " Text(274.08247422680415, 112.42636363636359, 'X[1] <= -0.713\\ngini = 0.375\\nsamples = 8\\nvalue = [2, 6]'),\n",
              " Text(273.340206185567, 95.13, 'gini = 0.0\\nsamples = 5\\nvalue = [0, 5]'),\n",
              " Text(274.82474226804123, 95.13, 'X[1] <= -0.693\\ngini = 0.444\\nsamples = 3\\nvalue = [2, 1]'),\n",
              " Text(274.08247422680415, 77.83363636363634, 'gini = 0.0\\nsamples = 2\\nvalue = [2, 0]'),\n",
              " Text(275.5670103092784, 77.83363636363634, 'gini = 0.0\\nsamples = 1\\nvalue = [0, 1]'),\n",
              " Text(268.09793814432993, 147.0190909090909, 'gini = 0.0\\nsamples = 7\\nvalue = [7, 0]'),\n",
              " Text(280.02061855670104, 181.61181818181817, 'X[0] <= -0.196\\ngini = 0.153\\nsamples = 72\\nvalue = [66, 6]'),\n",
              " Text(277.7938144329897, 164.31545454545451, 'X[1] <= -0.588\\ngini = 0.375\\nsamples = 20\\nvalue = [15, 5]'),\n",
              " Text(277.0515463917526, 147.0190909090909, 'gini = 0.0\\nsamples = 11\\nvalue = [11, 0]'),\n",
              " Text(278.5360824742268, 147.0190909090909, 'X[1] <= -0.474\\ngini = 0.494\\nsamples = 9\\nvalue = [4, 5]'),\n",
              " Text(277.7938144329897, 129.72272727272724, 'X[1] <= -0.536\\ngini = 0.408\\nsamples = 7\\nvalue = [2, 5]'),\n",
              " Text(277.0515463917526, 112.42636363636359, 'X[0] <= -0.28\\ngini = 0.444\\nsamples = 3\\nvalue = [2, 1]'),\n",
              " Text(276.30927835051546, 95.13, 'gini = 0.0\\nsamples = 2\\nvalue = [2, 0]'),\n",
              " Text(277.7938144329897, 95.13, 'gini = 0.0\\nsamples = 1\\nvalue = [0, 1]'),\n",
              " Text(278.5360824742268, 112.42636363636359, 'gini = 0.0\\nsamples = 4\\nvalue = [0, 4]'),\n",
              " Text(279.27835051546396, 129.72272727272724, 'gini = 0.0\\nsamples = 2\\nvalue = [2, 0]'),\n",
              " Text(282.2474226804124, 164.31545454545451, 'X[2] <= 0.552\\ngini = 0.038\\nsamples = 52\\nvalue = [51, 1]'),\n",
              " Text(281.50515463917526, 147.0190909090909, 'X[0] <= 0.266\\ngini = 0.32\\nsamples = 5\\nvalue = [4, 1]'),\n",
              " Text(280.7628865979382, 129.72272727272724, 'gini = 0.0\\nsamples = 4\\nvalue = [4, 0]'),\n",
              " Text(282.2474226804124, 129.72272727272724, 'gini = 0.0\\nsamples = 1\\nvalue = [0, 1]'),\n",
              " Text(282.9896907216495, 147.0190909090909, 'gini = 0.0\\nsamples = 47\\nvalue = [47, 0]'),\n",
              " Text(282.2474226804124, 198.9081818181818, 'X[1] <= -0.317\\ngini = 0.5\\nsamples = 4\\nvalue = [2, 2]'),\n",
              " Text(281.50515463917526, 181.61181818181817, 'gini = 0.0\\nsamples = 2\\nvalue = [0, 2]'),\n",
              " Text(282.9896907216495, 181.61181818181817, 'gini = 0.0\\nsamples = 2\\nvalue = [2, 0]'),\n",
              " Text(294.2628865979382, 216.20454545454544, 'X[1] <= -0.776\\ngini = 0.449\\nsamples = 100\\nvalue = [66, 34]'),\n",
              " Text(286.70103092783506, 198.9081818181818, 'X[2] <= 1.805\\ngini = 0.459\\nsamples = 14\\nvalue = [5, 9]'),\n",
              " Text(285.9587628865979, 181.61181818181817, 'X[2] <= 1.429\\ngini = 0.375\\nsamples = 12\\nvalue = [3, 9]'),\n",
              " Text(285.21649484536084, 164.31545454545451, 'X[0] <= -0.112\\ngini = 0.48\\nsamples = 5\\nvalue = [3, 2]'),\n",
              " Text(284.4742268041237, 147.0190909090909, 'gini = 0.0\\nsamples = 2\\nvalue = [2, 0]'),\n",
              " Text(285.9587628865979, 147.0190909090909, 'X[2] <= 1.366\\ngini = 0.444\\nsamples = 3\\nvalue = [1, 2]'),\n",
              " Text(285.21649484536084, 129.72272727272724, 'gini = 0.0\\nsamples = 1\\nvalue = [0, 1]'),\n",
              " Text(286.70103092783506, 129.72272727272724, 'X[0] <= -0.007\\ngini = 0.5\\nsamples = 2\\nvalue = [1, 1]'),\n",
              " Text(285.9587628865979, 112.42636363636359, 'gini = 0.0\\nsamples = 1\\nvalue = [0, 1]'),\n",
              " Text(287.4432989690722, 112.42636363636359, 'gini = 0.0\\nsamples = 1\\nvalue = [1, 0]'),\n",
              " Text(286.70103092783506, 164.31545454545451, 'gini = 0.0\\nsamples = 7\\nvalue = [0, 7]'),\n",
              " Text(287.4432989690722, 181.61181818181817, 'gini = 0.0\\nsamples = 2\\nvalue = [2, 0]'),\n",
              " Text(301.82474226804123, 198.9081818181818, 'X[0] <= 0.14\\ngini = 0.412\\nsamples = 86\\nvalue = [61, 25]'),\n",
              " Text(296.9072164948454, 181.61181818181817, 'X[1] <= -0.494\\ngini = 0.46\\nsamples = 53\\nvalue = [34, 19]'),\n",
              " Text(296.16494845360825, 164.31545454545451, 'X[0] <= -0.196\\ngini = 0.444\\nsamples = 51\\nvalue = [34, 17]'),\n",
              " Text(291.5257731958763, 147.0190909090909, 'X[1] <= -0.693\\ngini = 0.346\\nsamples = 27\\nvalue = [21, 6]'),\n",
              " Text(289.6701030927835, 129.72272727272724, 'X[2] <= 1.366\\ngini = 0.473\\nsamples = 13\\nvalue = [8, 5]'),\n",
              " Text(288.9278350515464, 112.42636363636359, 'gini = 0.0\\nsamples = 2\\nvalue = [2, 0]'),\n",
              " Text(290.41237113402065, 112.42636363636359, 'X[2] <= 1.961\\ngini = 0.496\\nsamples = 11\\nvalue = [6, 5]'),\n",
              " Text(288.9278350515464, 95.13, 'X[1] <= -0.755\\ngini = 0.444\\nsamples = 6\\nvalue = [2, 4]'),\n",
              " Text(288.1855670103093, 77.83363636363634, 'gini = 0.0\\nsamples = 2\\nvalue = [0, 2]'),\n",
              " Text(289.6701030927835, 77.83363636363634, 'X[0] <= -0.28\\ngini = 0.5\\nsamples = 4\\nvalue = [2, 2]'),\n",
              " Text(288.9278350515464, 60.53727272727269, 'gini = 0.0\\nsamples = 1\\nvalue = [1, 0]'),\n",
              " Text(290.41237113402065, 60.53727272727269, 'X[1] <= -0.734\\ngini = 0.444\\nsamples = 3\\nvalue = [1, 2]'),\n",
              " Text(289.6701030927835, 43.24090909090904, 'gini = 0.0\\nsamples = 1\\nvalue = [1, 0]'),\n",
              " Text(291.1546391752577, 43.24090909090904, 'gini = 0.0\\nsamples = 2\\nvalue = [0, 2]'),\n",
              " Text(291.89690721649487, 95.13, 'X[2] <= 2.243\\ngini = 0.32\\nsamples = 5\\nvalue = [4, 1]'),\n",
              " Text(291.1546391752577, 77.83363636363634, 'gini = 0.0\\nsamples = 2\\nvalue = [2, 0]'),\n",
              " Text(292.63917525773195, 77.83363636363634, 'X[2] <= 2.306\\ngini = 0.444\\nsamples = 3\\nvalue = [2, 1]'),\n",
              " Text(291.89690721649487, 60.53727272727269, 'gini = 0.0\\nsamples = 1\\nvalue = [0, 1]'),\n",
              " Text(293.3814432989691, 60.53727272727269, 'gini = 0.0\\nsamples = 2\\nvalue = [2, 0]'),\n",
              " Text(293.3814432989691, 129.72272727272724, 'X[2] <= 1.679\\ngini = 0.133\\nsamples = 14\\nvalue = [13, 1]'),\n",
              " Text(292.63917525773195, 112.42636363636359, 'gini = 0.0\\nsamples = 9\\nvalue = [9, 0]'),\n",
              " Text(294.12371134020617, 112.42636363636359, 'X[2] <= 1.773\\ngini = 0.32\\nsamples = 5\\nvalue = [4, 1]'),\n",
              " Text(293.3814432989691, 95.13, 'gini = 0.0\\nsamples = 1\\nvalue = [0, 1]'),\n",
              " Text(294.8659793814433, 95.13, 'gini = 0.0\\nsamples = 4\\nvalue = [4, 0]'),\n",
              " Text(300.8041237113402, 147.0190909090909, 'X[1] <= -0.651\\ngini = 0.497\\nsamples = 24\\nvalue = [13, 11]'),\n",
              " Text(299.319587628866, 129.72272727272724, 'X[1] <= -0.693\\ngini = 0.43\\nsamples = 16\\nvalue = [11, 5]'),\n",
              " Text(298.5773195876289, 112.42636363636359, 'X[1] <= -0.713\\ngini = 0.486\\nsamples = 12\\nvalue = [7, 5]'),\n",
              " Text(297.83505154639175, 95.13, 'X[2] <= 1.335\\ngini = 0.42\\nsamples = 10\\nvalue = [7, 3]'),\n",
              " Text(295.60824742268045, 77.83363636363634, 'X[0] <= -0.028\\ngini = 0.444\\nsamples = 3\\nvalue = [1, 2]'),\n",
              " Text(294.8659793814433, 60.53727272727269, 'gini = 0.0\\nsamples = 1\\nvalue = [0, 1]'),\n",
              " Text(296.35051546391753, 60.53727272727269, 'X[1] <= -0.755\\ngini = 0.5\\nsamples = 2\\nvalue = [1, 1]'),\n",
              " Text(295.60824742268045, 43.24090909090904, 'gini = 0.0\\nsamples = 1\\nvalue = [1, 0]'),\n",
              " Text(297.09278350515467, 43.24090909090904, 'gini = 0.0\\nsamples = 1\\nvalue = [0, 1]'),\n",
              " Text(300.0618556701031, 77.83363636363634, 'X[1] <= -0.755\\ngini = 0.245\\nsamples = 7\\nvalue = [6, 1]'),\n",
              " Text(299.319587628866, 60.53727272727269, 'X[0] <= -0.028\\ngini = 0.32\\nsamples = 5\\nvalue = [4, 1]'),\n",
              " Text(298.5773195876289, 43.24090909090904, 'gini = 0.0\\nsamples = 2\\nvalue = [2, 0]'),\n",
              " Text(300.0618556701031, 43.24090909090904, 'gini = 0.444\\nsamples = 3\\nvalue = [2, 1]'),\n",
              " Text(300.8041237113402, 60.53727272727269, 'gini = 0.0\\nsamples = 2\\nvalue = [2, 0]'),\n",
              " Text(299.319587628866, 95.13, 'gini = 0.0\\nsamples = 2\\nvalue = [0, 2]'),\n",
              " Text(300.0618556701031, 112.42636363636359, 'gini = 0.0\\nsamples = 4\\nvalue = [4, 0]'),\n",
              " Text(302.2886597938144, 129.72272727272724, 'X[1] <= -0.547\\ngini = 0.375\\nsamples = 8\\nvalue = [2, 6]'),\n",
              " Text(301.54639175257734, 112.42636363636359, 'X[2] <= 1.805\\ngini = 0.245\\nsamples = 7\\nvalue = [1, 6]'),\n",
              " Text(300.8041237113402, 95.13, 'gini = 0.0\\nsamples = 5\\nvalue = [0, 5]'),\n",
              " Text(302.2886597938144, 95.13, 'X[1] <= -0.63\\ngini = 0.5\\nsamples = 2\\nvalue = [1, 1]'),\n",
              " Text(301.54639175257734, 77.83363636363634, 'gini = 0.0\\nsamples = 1\\nvalue = [0, 1]'),\n",
              " Text(303.03092783505156, 77.83363636363634, 'gini = 0.0\\nsamples = 1\\nvalue = [1, 0]'),\n",
              " Text(303.03092783505156, 112.42636363636359, 'gini = 0.0\\nsamples = 1\\nvalue = [1, 0]'),\n",
              " Text(297.64948453608247, 164.31545454545451, 'gini = 0.0\\nsamples = 2\\nvalue = [0, 2]'),\n",
              " Text(306.74226804123714, 181.61181818181817, 'X[2] <= 1.491\\ngini = 0.298\\nsamples = 33\\nvalue = [27, 6]'),\n",
              " Text(306.0, 164.31545454545451, 'X[1] <= -0.693\\ngini = 0.457\\nsamples = 17\\nvalue = [11, 6]'),\n",
              " Text(304.5154639175258, 147.0190909090909, 'X[2] <= 1.366\\ngini = 0.408\\nsamples = 7\\nvalue = [2, 5]'),\n",
              " Text(303.7731958762887, 129.72272727272724, 'gini = 0.0\\nsamples = 4\\nvalue = [0, 4]'),\n",
              " Text(305.2577319587629, 129.72272727272724, 'X[0] <= 0.224\\ngini = 0.444\\nsamples = 3\\nvalue = [2, 1]'),\n",
              " Text(304.5154639175258, 112.42636363636359, 'gini = 0.0\\nsamples = 1\\nvalue = [0, 1]'),\n",
              " Text(306.0, 112.42636363636359, 'gini = 0.0\\nsamples = 2\\nvalue = [2, 0]'),\n",
              " Text(307.4845360824742, 147.0190909090909, 'X[1] <= -0.505\\ngini = 0.18\\nsamples = 10\\nvalue = [9, 1]'),\n",
              " Text(306.74226804123714, 129.72272727272724, 'gini = 0.0\\nsamples = 9\\nvalue = [9, 0]'),\n",
              " Text(308.22680412371136, 129.72272727272724, 'gini = 0.0\\nsamples = 1\\nvalue = [0, 1]'),\n",
              " Text(307.4845360824742, 164.31545454545451, 'gini = 0.0\\nsamples = 16\\nvalue = [16, 0]'),\n",
              " Text(286.8373067010309, 233.50090909090906, 'gini = 0.0\\nsamples = 4\\nvalue = [0, 4]'),\n",
              " Text(309.7113402061856, 250.7972727272727, 'X[1] <= -0.448\\ngini = 0.375\\nsamples = 12\\nvalue = [3, 9]'),\n",
              " Text(308.96907216494844, 233.50090909090906, 'X[0] <= -0.028\\ngini = 0.298\\nsamples = 11\\nvalue = [2, 9]'),\n",
              " Text(308.22680412371136, 216.20454545454544, 'gini = 0.0\\nsamples = 5\\nvalue = [0, 5]'),\n",
              " Text(309.7113402061856, 216.20454545454544, 'X[2] <= 3.058\\ngini = 0.444\\nsamples = 6\\nvalue = [2, 4]'),\n",
              " Text(308.96907216494844, 198.9081818181818, 'X[1] <= -0.693\\ngini = 0.444\\nsamples = 3\\nvalue = [2, 1]'),\n",
              " Text(308.22680412371136, 181.61181818181817, 'gini = 0.0\\nsamples = 2\\nvalue = [2, 0]'),\n",
              " Text(309.7113402061856, 181.61181818181817, 'gini = 0.0\\nsamples = 1\\nvalue = [0, 1]'),\n",
              " Text(310.45360824742266, 198.9081818181818, 'gini = 0.0\\nsamples = 3\\nvalue = [0, 3]'),\n",
              " Text(310.45360824742266, 233.50090909090906, 'gini = 0.0\\nsamples = 1\\nvalue = [1, 0]'),\n",
              " Text(400.53189432989694, 319.98272727272723, 'X[2] <= 0.489\\ngini = 0.468\\nsamples = 727\\nvalue = [271, 456]'),\n",
              " Text(353.4529639175258, 302.6863636363636, 'X[2] <= -0.639\\ngini = 0.354\\nsamples = 452\\nvalue = [104, 348]'),\n",
              " Text(322.5154639175258, 285.39, 'X[1] <= -0.713\\ngini = 0.155\\nsamples = 154\\nvalue = [13, 141]'),\n",
              " Text(321.7731958762887, 268.09363636363634, 'gini = 0.0\\nsamples = 40\\nvalue = [0, 40]'),\n",
              " Text(323.2577319587629, 268.09363636363634, 'X[0] <= 1.147\\ngini = 0.202\\nsamples = 114\\nvalue = [13, 101]'),\n",
              " Text(317.1340206185567, 250.7972727272727, 'X[1] <= -0.63\\ngini = 0.282\\nsamples = 59\\nvalue = [10, 49]'),\n",
              " Text(314.16494845360825, 233.50090909090906, 'X[2] <= -0.827\\ngini = 0.444\\nsamples = 15\\nvalue = [5, 10]'),\n",
              " Text(312.680412371134, 216.20454545454544, 'X[2] <= -1.015\\ngini = 0.298\\nsamples = 11\\nvalue = [2, 9]'),\n",
              " Text(311.93814432989694, 198.9081818181818, 'gini = 0.0\\nsamples = 5\\nvalue = [0, 5]'),\n",
              " Text(313.42268041237116, 198.9081818181818, 'X[1] <= -0.687\\ngini = 0.444\\nsamples = 6\\nvalue = [2, 4]'),\n",
              " Text(312.680412371134, 181.61181818181817, 'gini = 0.0\\nsamples = 1\\nvalue = [1, 0]'),\n",
              " Text(314.16494845360825, 181.61181818181817, 'X[0] <= 0.727\\ngini = 0.32\\nsamples = 5\\nvalue = [1, 4]'),\n",
              " Text(313.42268041237116, 164.31545454545451, 'gini = 0.0\\nsamples = 3\\nvalue = [0, 3]'),\n",
              " Text(314.9072164948454, 164.31545454545451, 'X[0] <= 0.937\\ngini = 0.5\\nsamples = 2\\nvalue = [1, 1]'),\n",
              " Text(314.16494845360825, 147.0190909090909, 'gini = 0.0\\nsamples = 1\\nvalue = [1, 0]'),\n",
              " Text(315.64948453608247, 147.0190909090909, 'gini = 0.0\\nsamples = 1\\nvalue = [0, 1]'),\n",
              " Text(315.64948453608247, 216.20454545454544, 'X[0] <= 0.685\\ngini = 0.375\\nsamples = 4\\nvalue = [3, 1]'),\n",
              " Text(314.9072164948454, 198.9081818181818, 'gini = 0.0\\nsamples = 1\\nvalue = [0, 1]'),\n",
              " Text(316.3917525773196, 198.9081818181818, 'gini = 0.0\\nsamples = 3\\nvalue = [3, 0]'),\n",
              " Text(320.1030927835052, 233.50090909090906, 'X[2] <= -1.579\\ngini = 0.201\\nsamples = 44\\nvalue = [5, 39]'),\n",
              " Text(318.6185567010309, 216.20454545454544, 'X[0] <= 0.643\\ngini = 0.49\\nsamples = 7\\nvalue = [3, 4]'),\n",
              " Text(317.87628865979383, 198.9081818181818, 'X[1] <= -0.463\\ngini = 0.375\\nsamples = 4\\nvalue = [3, 1]'),\n",
              " Text(317.1340206185567, 181.61181818181817, 'gini = 0.0\\nsamples = 1\\nvalue = [0, 1]'),\n",
              " Text(318.6185567010309, 181.61181818181817, 'gini = 0.0\\nsamples = 3\\nvalue = [3, 0]'),\n",
              " Text(319.36082474226805, 198.9081818181818, 'gini = 0.0\\nsamples = 3\\nvalue = [0, 3]'),\n",
              " Text(321.5876288659794, 216.20454545454544, 'X[0] <= 0.755\\ngini = 0.102\\nsamples = 37\\nvalue = [2, 35]'),\n",
              " Text(320.8453608247423, 198.9081818181818, 'gini = 0.0\\nsamples = 20\\nvalue = [0, 20]'),\n",
              " Text(322.3298969072165, 198.9081818181818, 'X[0] <= 0.895\\ngini = 0.208\\nsamples = 17\\nvalue = [2, 15]'),\n",
              " Text(321.5876288659794, 181.61181818181817, 'X[2] <= -1.015\\ngini = 0.408\\nsamples = 7\\nvalue = [2, 5]'),\n",
              " Text(320.8453608247423, 164.31545454545451, 'X[2] <= -1.171\\ngini = 0.5\\nsamples = 4\\nvalue = [2, 2]'),\n",
              " Text(320.1030927835052, 147.0190909090909, 'gini = 0.0\\nsamples = 2\\nvalue = [0, 2]'),\n",
              " Text(321.5876288659794, 147.0190909090909, 'gini = 0.0\\nsamples = 2\\nvalue = [2, 0]'),\n",
              " Text(322.3298969072165, 164.31545454545451, 'gini = 0.0\\nsamples = 3\\nvalue = [0, 3]'),\n",
              " Text(323.07216494845363, 181.61181818181817, 'gini = 0.0\\nsamples = 10\\nvalue = [0, 10]'),\n",
              " Text(329.3814432989691, 250.7972727272727, 'X[2] <= -0.701\\ngini = 0.103\\nsamples = 55\\nvalue = [3, 52]'),\n",
              " Text(327.5257731958763, 233.50090909090906, 'X[0] <= 2.364\\ngini = 0.075\\nsamples = 51\\nvalue = [2, 49]'),\n",
              " Text(326.0412371134021, 216.20454545454544, 'X[0] <= 1.301\\ngini = 0.042\\nsamples = 47\\nvalue = [1, 46]'),\n",
              " Text(325.29896907216494, 198.9081818181818, 'X[1] <= -0.536\\ngini = 0.153\\nsamples = 12\\nvalue = [1, 11]'),\n",
              " Text(324.55670103092785, 181.61181818181817, 'gini = 0.0\\nsamples = 6\\nvalue = [0, 6]'),\n",
              " Text(326.0412371134021, 181.61181818181817, 'X[1] <= -0.505\\ngini = 0.278\\nsamples = 6\\nvalue = [1, 5]'),\n",
              " Text(325.29896907216494, 164.31545454545451, 'gini = 0.0\\nsamples = 1\\nvalue = [1, 0]'),\n",
              " Text(326.7835051546392, 164.31545454545451, 'gini = 0.0\\nsamples = 5\\nvalue = [0, 5]'),\n",
              " Text(326.7835051546392, 198.9081818181818, 'gini = 0.0\\nsamples = 35\\nvalue = [0, 35]'),\n",
              " Text(329.0103092783505, 216.20454545454544, 'X[1] <= -0.432\\ngini = 0.375\\nsamples = 4\\nvalue = [1, 3]'),\n",
              " Text(328.26804123711344, 198.9081818181818, 'gini = 0.0\\nsamples = 3\\nvalue = [0, 3]'),\n",
              " Text(329.75257731958766, 198.9081818181818, 'gini = 0.0\\nsamples = 1\\nvalue = [1, 0]'),\n",
              " Text(331.2371134020619, 233.50090909090906, 'X[1] <= -0.693\\ngini = 0.375\\nsamples = 4\\nvalue = [1, 3]'),\n",
              " Text(330.49484536082474, 216.20454545454544, 'gini = 0.0\\nsamples = 1\\nvalue = [1, 0]'),\n",
              " Text(331.97938144329896, 216.20454545454544, 'gini = 0.0\\nsamples = 3\\nvalue = [0, 3]'),\n",
              " Text(384.3904639175258, 285.39, 'X[0] <= 1.735\\ngini = 0.424\\nsamples = 298\\nvalue = [91, 207]'),\n",
              " Text(369.44072164948454, 268.09363636363634, 'X[1] <= -0.521\\ngini = 0.475\\nsamples = 216\\nvalue = [84, 132]'),\n",
              " Text(348.6340206185567, 250.7972727272727, 'X[1] <= -0.734\\ngini = 0.497\\nsamples = 161\\nvalue = [74, 87]'),\n",
              " Text(334.94845360824746, 233.50090909090906, 'X[2] <= -0.451\\ngini = 0.387\\nsamples = 42\\nvalue = [11, 31]'),\n",
              " Text(333.4639175257732, 216.20454545454544, 'X[0] <= 1.063\\ngini = 0.444\\nsamples = 6\\nvalue = [4, 2]'),\n",
              " Text(332.7216494845361, 198.9081818181818, 'gini = 0.0\\nsamples = 4\\nvalue = [4, 0]'),\n",
              " Text(334.2061855670103, 198.9081818181818, 'gini = 0.0\\nsamples = 2\\nvalue = [0, 2]'),\n",
              " Text(336.4329896907217, 216.20454545454544, 'X[1] <= -0.776\\ngini = 0.313\\nsamples = 36\\nvalue = [7, 29]'),\n",
              " Text(335.69072164948454, 198.9081818181818, 'gini = 0.0\\nsamples = 14\\nvalue = [0, 14]'),\n",
              " Text(337.17525773195877, 198.9081818181818, 'X[0] <= 0.685\\ngini = 0.434\\nsamples = 22\\nvalue = [7, 15]'),\n",
              " Text(336.4329896907217, 181.61181818181817, 'gini = 0.0\\nsamples = 2\\nvalue = [2, 0]'),\n",
              " Text(337.9175257731959, 181.61181818181817, 'X[2] <= 0.176\\ngini = 0.375\\nsamples = 20\\nvalue = [5, 15]'),\n",
              " Text(337.17525773195877, 164.31545454545451, 'X[0] <= 1.231\\ngini = 0.473\\nsamples = 13\\nvalue = [5, 8]'),\n",
              " Text(335.69072164948454, 147.0190909090909, 'X[0] <= 0.895\\ngini = 0.346\\nsamples = 9\\nvalue = [2, 7]'),\n",
              " Text(334.94845360824746, 129.72272727272724, 'X[2] <= -0.169\\ngini = 0.5\\nsamples = 4\\nvalue = [2, 2]'),\n",
              " Text(334.2061855670103, 112.42636363636359, 'gini = 0.0\\nsamples = 1\\nvalue = [1, 0]'),\n",
              " Text(335.69072164948454, 112.42636363636359, 'X[2] <= 0.113\\ngini = 0.444\\nsamples = 3\\nvalue = [1, 2]'),\n",
              " Text(334.94845360824746, 95.13, 'gini = 0.0\\nsamples = 2\\nvalue = [0, 2]'),\n",
              " Text(336.4329896907217, 95.13, 'gini = 0.0\\nsamples = 1\\nvalue = [1, 0]'),\n",
              " Text(336.4329896907217, 129.72272727272724, 'gini = 0.0\\nsamples = 5\\nvalue = [0, 5]'),\n",
              " Text(338.659793814433, 147.0190909090909, 'X[2] <= -0.2\\ngini = 0.375\\nsamples = 4\\nvalue = [3, 1]'),\n",
              " Text(337.9175257731959, 129.72272727272724, 'gini = 0.0\\nsamples = 1\\nvalue = [0, 1]'),\n",
              " Text(339.4020618556701, 129.72272727272724, 'gini = 0.0\\nsamples = 3\\nvalue = [3, 0]'),\n",
              " Text(338.659793814433, 164.31545454545451, 'gini = 0.0\\nsamples = 7\\nvalue = [0, 7]'),\n",
              " Text(362.319587628866, 233.50090909090906, 'X[0] <= 1.483\\ngini = 0.498\\nsamples = 119\\nvalue = [63, 56]'),\n",
              " Text(350.35051546391753, 216.20454545454544, 'X[1] <= -0.708\\ngini = 0.489\\nsamples = 89\\nvalue = [51, 38]'),\n",
              " Text(344.59793814432993, 198.9081818181818, 'X[2] <= -0.075\\ngini = 0.388\\nsamples = 19\\nvalue = [14, 5]'),\n",
              " Text(343.1134020618557, 181.61181818181817, 'X[2] <= -0.263\\ngini = 0.5\\nsamples = 8\\nvalue = [4, 4]'),\n",
              " Text(342.37113402061857, 164.31545454545451, 'X[0] <= 0.895\\ngini = 0.444\\nsamples = 6\\nvalue = [4, 2]'),\n",
              " Text(341.62886597938143, 147.0190909090909, 'X[2] <= -0.513\\ngini = 0.32\\nsamples = 5\\nvalue = [4, 1]'),\n",
              " ...]"
            ]
          },
          "metadata": {},
          "execution_count": 55
        },
        {
          "output_type": "display_data",
          "data": {
            "image/png": "[encoded data removed]",
            "text/plain": [
              "<Figure size 720x504 with 1 Axes>"
            ]
          },
          "metadata": {
            "needs_background": "light"
          }
        }
      ]
    },
    {
      "cell_type": "code",
      "metadata": {
        "colab": {
          "base_uri": "https://localhost:8080/",
          "height": 533
        },
        "id": "IKN0oYpY8SqY",
        "outputId": "6427ce97-cd13-40c7-f6fb-38e3db608de6"
      },
      "source": [
        "# gini는 혼란스러운 정도를 표현, 낮을수록 좋음\n",
        "plt.figure(figsize=(10,7))\n",
        "plot_tree(dt,max_depth=1)"
      ],
      "execution_count": 56,
      "outputs": [
        {
          "output_type": "execute_result",
          "data": {
            "text/plain": [
              "[Text(279.0, 317.09999999999997, 'X[1] <= -0.239\\ngini = 0.367\\nsamples = 5197\\nvalue = [1258, 3939]'),\n",
              " Text(139.5, 190.26, 'X[1] <= -0.802\\ngini = 0.481\\nsamples = 2922\\nvalue = [1177, 1745]'),\n",
              " Text(69.75, 63.420000000000016, '\\n  (...)  \\n'),\n",
              " Text(209.25, 63.420000000000016, '\\n  (...)  \\n'),\n",
              " Text(418.5, 190.26, 'X[1] <= 0.204\\ngini = 0.069\\nsamples = 2275\\nvalue = [81, 2194]'),\n",
              " Text(348.75, 63.420000000000016, '\\n  (...)  \\n'),\n",
              " Text(488.25, 63.420000000000016, '\\n  (...)  \\n')]"
            ]
          },
          "metadata": {},
          "execution_count": 56
        },
        {
          "output_type": "display_data",
          "data": {
            "image/png": "[encoded data removed]",
            "text/plain": [
              "<Figure size 720x504 with 1 Axes>"
            ]
          },
          "metadata": {
            "needs_background": "light"
          }
        }
      ]
    },
    {
      "cell_type": "code",
      "metadata": {
        "colab": {
          "base_uri": "https://localhost:8080/",
          "height": 533
        },
        "id": "A37K2MHs9Y3r",
        "outputId": "89b05bdf-2582-456e-8e4b-db4f55946da2"
      },
      "source": [
        "plt.figure(figsize=(10,7))\n",
        "plot_tree(dt,max_depth=1, feature_names=['alcohol','sugar','pH'])"
      ],
      "execution_count": 57,
      "outputs": [
        {
          "output_type": "execute_result",
          "data": {
            "text/plain": [
              "[Text(279.0, 317.09999999999997, 'sugar <= -0.239\\ngini = 0.367\\nsamples = 5197\\nvalue = [1258, 3939]'),\n",
              " Text(139.5, 190.26, 'sugar <= -0.802\\ngini = 0.481\\nsamples = 2922\\nvalue = [1177, 1745]'),\n",
              " Text(69.75, 63.420000000000016, '\\n  (...)  \\n'),\n",
              " Text(209.25, 63.420000000000016, '\\n  (...)  \\n'),\n",
              " Text(418.5, 190.26, 'sugar <= 0.204\\ngini = 0.069\\nsamples = 2275\\nvalue = [81, 2194]'),\n",
              " Text(348.75, 63.420000000000016, '\\n  (...)  \\n'),\n",
              " Text(488.25, 63.420000000000016, '\\n  (...)  \\n')]"
            ]
          },
          "metadata": {},
          "execution_count": 57
        },
        {
          "output_type": "display_data",
          "data": {
            "image/png": "[encoded data removed]",
            "text/plain": [
              "<Figure size 720x504 with 1 Axes>"
            ]
          },
          "metadata": {
            "needs_background": "light"
          }
        }
      ]
    },
    {
      "cell_type": "code",
      "metadata": {
        "colab": {
          "base_uri": "https://localhost:8080/"
        },
        "id": "khQIXZ0m-ryu",
        "outputId": "692ce8a5-9275-4800-e194-1ca75e50b1d7"
      },
      "source": [
        "dt = DecisionTreeClassifier(max_depth=3, random_state=42)\n",
        "dt.fit(train_scaled, train_target)\n",
        "print(dt.score(train_scaled,train_target))\n",
        "print(dt.score(test_scaled,test_target))"
      ],
      "execution_count": 58,
      "outputs": [
        {
          "output_type": "stream",
          "name": "stdout",
          "text": [
            "0.8454877814123533\n",
            "0.8415384615384616\n"
          ]
        }
      ]
    },
    {
      "cell_type": "code",
      "metadata": {
        "colab": {
          "base_uri": "https://localhost:8080/",
          "height": 575
        },
        "id": "0BEQYDQ1--U1",
        "outputId": "88bd1bba-7933-49c9-a7bb-24ed86f9e4eb"
      },
      "source": [
        "plt.figure(figsize=(15,10))\n",
        "plot_tree(dt, filled=True, feature_names=['alcohol', 'sugar', 'pH'])\n",
        "plt.show()"
      ],
      "execution_count": 61,
      "outputs": [
        {
          "output_type": "display_data",
          "data": {
            "image/png": "[encoded data removed]",
            "text/plain": [
              "<Figure size 1080x720 with 1 Axes>"
            ]
          },
          "metadata": {
            "needs_background": "light"
          }
        }
      ]
    },
    {
      "cell_type": "code",
      "metadata": {
        "id": "Fr7H5qD3_Sd5"
      },
      "source": [
        ""
      ],
      "execution_count": null,
      "outputs": []
    }
  ]
}