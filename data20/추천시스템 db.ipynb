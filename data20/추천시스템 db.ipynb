{
 "cells": [
  {
   "cell_type": "code",
   "execution_count": 1,
   "id": "848d73d9",
   "metadata": {},
   "outputs": [],
   "source": [
    "import pymysql"
   ]
  },
  {
   "cell_type": "code",
   "execution_count": 2,
   "id": "03ad197f",
   "metadata": {},
   "outputs": [],
   "source": [
    "def connect():\n",
    "    con = pymysql.connect(\n",
    "        host = 'localhost',\n",
    "        port = 3306,\n",
    "        user = 'root',\n",
    "        password = 'gkdks120',\n",
    "        db = 'ML_DB',\n",
    "        charset = 'utf8'\n",
    "    )\n",
    "    print('1. 연결성공')\n",
    "    cur = con.cursor()\n",
    "    print('2. 커서 객체 획득')\n",
    "    return cur,con"
   ]
  },
  {
   "cell_type": "code",
   "execution_count": 3,
   "id": "72ec7c29",
   "metadata": {},
   "outputs": [
    {
     "name": "stdout",
     "output_type": "stream",
     "text": [
      "1. 연결성공\n",
      "2. 커서 객체 획득\n"
     ]
    },
    {
     "data": {
      "text/plain": [
       "<pymysql.cursors.Cursor at 0x7fc289462cd0>"
      ]
     },
     "execution_count": 3,
     "metadata": {},
     "output_type": "execute_result"
    }
   ],
   "source": [
    "cur2, con = connect()\n",
    "cur2"
   ]
  },
  {
   "cell_type": "code",
   "execution_count": 4,
   "id": "239595fb",
   "metadata": {},
   "outputs": [],
   "source": [
    "# select라 con 안써줌.. con은 commit용 (데이터가 변경될때)\n",
    "def sql_execute(cur2, data):\n",
    "    sql = '''\n",
    "    select o2.orderid, m.name, o2.productid, o2.totalprice\n",
    "    from orderlist o2\n",
    "    inner join `member` m\n",
    "    on o2.memberid = m.id and m.id = %s\n",
    "    order by productid desc\n",
    "    '''\n",
    "    result = cur2.execute(sql,data)\n",
    "    return result"
   ]
  },
  {
   "cell_type": "code",
   "execution_count": 5,
   "id": "1a5cb472",
   "metadata": {},
   "outputs": [
    {
     "data": {
      "text/plain": [
       "5"
      ]
     },
     "execution_count": 5,
     "metadata": {},
     "output_type": "execute_result"
    }
   ],
   "source": [
    "sql_result = sql_execute(cur2, 'park')\n",
    "sql_result"
   ]
  },
  {
   "cell_type": "code",
   "execution_count": 6,
   "id": "57775ac8",
   "metadata": {},
   "outputs": [],
   "source": [
    "## 1. 누가 어떤 물건을 얼마나 샀는가?"
   ]
  },
  {
   "cell_type": "code",
   "execution_count": 7,
   "id": "58025bf7",
   "metadata": {},
   "outputs": [
    {
     "name": "stdout",
     "output_type": "stream",
     "text": [
      "누가?? >> park\n"
     ]
    }
   ],
   "source": [
    "who = input('누가?? >> ')"
   ]
  },
  {
   "cell_type": "code",
   "execution_count": 8,
   "id": "ecf04632",
   "metadata": {},
   "outputs": [
    {
     "data": {
      "text/plain": [
       "5"
      ]
     },
     "execution_count": 8,
     "metadata": {},
     "output_type": "execute_result"
    }
   ],
   "source": [
    "sql_result2 = sql_execute(cur2,who)\n",
    "sql_result2"
   ]
  },
  {
   "cell_type": "code",
   "execution_count": 9,
   "id": "7e6cc8cd",
   "metadata": {},
   "outputs": [],
   "source": [
    "def out_data(cur2):\n",
    "    rows = cur2.fetchall()\n",
    "    return rows"
   ]
  },
  {
   "cell_type": "code",
   "execution_count": 10,
   "id": "96ff411b",
   "metadata": {},
   "outputs": [
    {
     "data": {
      "text/plain": [
       "((2, 'park', '101', 6000),\n",
       " (1, 'park', '100', 5000),\n",
       " (3, 'park', '100', 10000),\n",
       " (4, 'park', '100', 3000),\n",
       " (8, 'park', '100', 1000))"
      ]
     },
     "execution_count": 10,
     "metadata": {},
     "output_type": "execute_result"
    }
   ],
   "source": [
    "result_rows = out_data(cur2)\n",
    "result_rows"
   ]
  },
  {
   "cell_type": "code",
   "execution_count": 11,
   "id": "b3859eec",
   "metadata": {},
   "outputs": [],
   "source": [
    "def db_close(con):\n",
    "    con.close()"
   ]
  },
  {
   "cell_type": "code",
   "execution_count": 12,
   "id": "7abcac05",
   "metadata": {},
   "outputs": [],
   "source": [
    "db_close(con)"
   ]
  },
  {
   "cell_type": "code",
   "execution_count": 13,
   "id": "85c6fbb4",
   "metadata": {},
   "outputs": [],
   "source": [
    "## 제일 높은 금액은?"
   ]
  },
  {
   "cell_type": "code",
   "execution_count": 14,
   "id": "833bb5a6",
   "metadata": {},
   "outputs": [
    {
     "data": {
      "text/plain": [
       "[6000, 5000, 10000, 3000, 1000]"
      ]
     },
     "execution_count": 14,
     "metadata": {},
     "output_type": "execute_result"
    }
   ],
   "source": [
    "[x[3] for x in result_rows]"
   ]
  },
  {
   "cell_type": "code",
   "execution_count": 15,
   "id": "99ea35cc",
   "metadata": {},
   "outputs": [
    {
     "data": {
      "text/plain": [
       "10000"
      ]
     },
     "execution_count": 15,
     "metadata": {},
     "output_type": "execute_result"
    }
   ],
   "source": [
    "max([x[3] for x in result_rows])"
   ]
  },
  {
   "cell_type": "code",
   "execution_count": 16,
   "id": "64d590b8",
   "metadata": {},
   "outputs": [],
   "source": [
    "## 제일 많이 산 물건의 id는?"
   ]
  },
  {
   "cell_type": "code",
   "execution_count": 17,
   "id": "1ea0e092",
   "metadata": {},
   "outputs": [],
   "source": [
    "import pandas as pd"
   ]
  },
  {
   "cell_type": "code",
   "execution_count": 18,
   "id": "e795aea1",
   "metadata": {},
   "outputs": [],
   "source": [
    "result_df = pd.DataFrame(data=result_rows,\n",
    "                        columns=['주문id','name','제품id','주문총가격'])"
   ]
  },
  {
   "cell_type": "code",
   "execution_count": 19,
   "id": "d9a1a857",
   "metadata": {},
   "outputs": [
    {
     "data": {
      "text/html": [
       "<div>\n",
       "<style scoped>\n",
       "    .dataframe tbody tr th:only-of-type {\n",
       "        vertical-align: middle;\n",
       "    }\n",
       "\n",
       "    .dataframe tbody tr th {\n",
       "        vertical-align: top;\n",
       "    }\n",
       "\n",
       "    .dataframe thead th {\n",
       "        text-align: right;\n",
       "    }\n",
       "</style>\n",
       "<table border=\"1\" class=\"dataframe\">\n",
       "  <thead>\n",
       "    <tr style=\"text-align: right;\">\n",
       "      <th></th>\n",
       "      <th>주문id</th>\n",
       "      <th>name</th>\n",
       "      <th>제품id</th>\n",
       "      <th>주문총가격</th>\n",
       "    </tr>\n",
       "  </thead>\n",
       "  <tbody>\n",
       "    <tr>\n",
       "      <th>0</th>\n",
       "      <td>2</td>\n",
       "      <td>park</td>\n",
       "      <td>101</td>\n",
       "      <td>6000</td>\n",
       "    </tr>\n",
       "    <tr>\n",
       "      <th>1</th>\n",
       "      <td>1</td>\n",
       "      <td>park</td>\n",
       "      <td>100</td>\n",
       "      <td>5000</td>\n",
       "    </tr>\n",
       "    <tr>\n",
       "      <th>2</th>\n",
       "      <td>3</td>\n",
       "      <td>park</td>\n",
       "      <td>100</td>\n",
       "      <td>10000</td>\n",
       "    </tr>\n",
       "    <tr>\n",
       "      <th>3</th>\n",
       "      <td>4</td>\n",
       "      <td>park</td>\n",
       "      <td>100</td>\n",
       "      <td>3000</td>\n",
       "    </tr>\n",
       "    <tr>\n",
       "      <th>4</th>\n",
       "      <td>8</td>\n",
       "      <td>park</td>\n",
       "      <td>100</td>\n",
       "      <td>1000</td>\n",
       "    </tr>\n",
       "  </tbody>\n",
       "</table>\n",
       "</div>"
      ],
      "text/plain": [
       "   주문id  name 제품id  주문총가격\n",
       "0     2  park  101   6000\n",
       "1     1  park  100   5000\n",
       "2     3  park  100  10000\n",
       "3     4  park  100   3000\n",
       "4     8  park  100   1000"
      ]
     },
     "execution_count": 19,
     "metadata": {},
     "output_type": "execute_result"
    }
   ],
   "source": [
    "result_df"
   ]
  },
  {
   "cell_type": "code",
   "execution_count": 20,
   "id": "2810ec1f",
   "metadata": {},
   "outputs": [
    {
     "data": {
      "text/plain": [
       "['101', '100', '100', '100', '100']"
      ]
     },
     "execution_count": 20,
     "metadata": {},
     "output_type": "execute_result"
    }
   ],
   "source": [
    "[x for x in result_df['제품id']]"
   ]
  },
  {
   "cell_type": "code",
   "execution_count": 21,
   "id": "e6b785d7",
   "metadata": {},
   "outputs": [],
   "source": [
    "from collections import Counter"
   ]
  },
  {
   "cell_type": "code",
   "execution_count": 22,
   "id": "b871f232",
   "metadata": {},
   "outputs": [],
   "source": [
    "counter_id = Counter(result_df['제품id'])"
   ]
  },
  {
   "cell_type": "code",
   "execution_count": 23,
   "id": "12c03e17",
   "metadata": {},
   "outputs": [
    {
     "data": {
      "text/plain": [
       "Counter({'101': 1, '100': 4})"
      ]
     },
     "execution_count": 23,
     "metadata": {},
     "output_type": "execute_result"
    }
   ],
   "source": [
    "counter_id"
   ]
  },
  {
   "cell_type": "code",
   "execution_count": 24,
   "id": "fdf41899",
   "metadata": {},
   "outputs": [
    {
     "name": "stdout",
     "output_type": "stream",
     "text": [
      "[('100', 4)]\n",
      "100\n"
     ]
    },
    {
     "data": {
      "text/plain": [
       "'100'"
      ]
     },
     "execution_count": 24,
     "metadata": {},
     "output_type": "execute_result"
    }
   ],
   "source": [
    "max_id = counter_id.most_common(n=1)\n",
    "print(max_id)\n",
    "print(max_id[0][0])\n",
    "max_id_result = max_id[0][0]\n",
    "max_id_result"
   ]
  },
  {
   "cell_type": "code",
   "execution_count": 25,
   "id": "35be25f9",
   "metadata": {},
   "outputs": [],
   "source": [
    "def sql_execute2(cur2,data):\n",
    "    sql = '''\n",
    "    select * from product\n",
    "    where id = %s\n",
    "    '''\n",
    "    result2 = cur2.execute(sql,data)\n",
    "    return result2"
   ]
  },
  {
   "cell_type": "code",
   "execution_count": 26,
   "id": "6eaeab79",
   "metadata": {},
   "outputs": [
    {
     "name": "stdout",
     "output_type": "stream",
     "text": [
      "1. 연결성공\n",
      "2. 커서 객체 획득\n"
     ]
    },
    {
     "data": {
      "text/plain": [
       "<pymysql.cursors.Cursor at 0x7fc2895b1ee0>"
      ]
     },
     "execution_count": 26,
     "metadata": {},
     "output_type": "execute_result"
    }
   ],
   "source": [
    "cur2, con = connect()\n",
    "cur2"
   ]
  },
  {
   "cell_type": "code",
   "execution_count": 27,
   "id": "554b8ce3",
   "metadata": {},
   "outputs": [
    {
     "data": {
      "text/plain": [
       "1"
      ]
     },
     "execution_count": 27,
     "metadata": {},
     "output_type": "execute_result"
    }
   ],
   "source": [
    "sql_result2 = sql_execute2(cur2, max_id_result)\n",
    "sql_result2"
   ]
  },
  {
   "cell_type": "code",
   "execution_count": 28,
   "id": "e06820d9",
   "metadata": {},
   "outputs": [
    {
     "data": {
      "text/plain": [
       "('100', 'java', 'fun java', '1000')"
      ]
     },
     "execution_count": 28,
     "metadata": {},
     "output_type": "execute_result"
    }
   ],
   "source": [
    "result_rows = out_data(cur2)\n",
    "result_rows[0]"
   ]
  },
  {
   "cell_type": "code",
   "execution_count": 29,
   "id": "2205c9ea",
   "metadata": {},
   "outputs": [
    {
     "name": "stdout",
     "output_type": "stream",
     "text": [
      "당신에게 추천하고 싶은 물건은 다음과 같습니다.\n",
      "------------------------------------\n",
      "물건의 이름은  java\n",
      "물건의 내용은 fun java\n",
      "물건의 가격은 1000\n"
     ]
    }
   ],
   "source": [
    "print('당신에게 추천하고 싶은 물건은 다음과 같습니다.')\n",
    "print('------------------------------------')\n",
    "print('물건의 이름은 ',result_rows[0][1])\n",
    "print('물건의 내용은', result_rows[0][2])\n",
    "print('물건의 가격은', result_rows[0][3])"
   ]
  },
  {
   "cell_type": "code",
   "execution_count": 30,
   "id": "114a9912",
   "metadata": {},
   "outputs": [],
   "source": [
    "# select라 con 안써줌.. con은 commit용 (데이터가 변경될때)\n",
    "def sql_execute3(con,cur2,data):\n",
    "    sql = '''\n",
    "    insert into orderlist values (null,%s,%s,%s)\n",
    "    '''\n",
    "    result2 = cur2.execute(sql,data)\n",
    "    con.commit()\n",
    "    return result2"
   ]
  },
  {
   "cell_type": "code",
   "execution_count": 31,
   "id": "eee4eb10",
   "metadata": {},
   "outputs": [
    {
     "name": "stdout",
     "output_type": "stream",
     "text": [
      "구매하시겠습니까?(yes/no)no\n"
     ]
    }
   ],
   "source": [
    "order_question = input('구매하시겠습니까?(yes/no)')\n",
    "if order_question == 'yes':\n",
    "    print('---------구매를 진행합니다.----------')\n",
    "    your_id = input('당신의 id는 ')\n",
    "    data_list = [your_id, result_rows[0][0], int(result_rows[0][3])]\n",
    "    result3 = sql_execute3(con,cur2,data_list)\n",
    "    if result3 == 1:\n",
    "        print('---구매가 완료되었습니다.')\n",
    "    else:\n",
    "        print('---구매에 문제가 발생했습니다.')"
   ]
  },
  {
   "cell_type": "code",
   "execution_count": 32,
   "id": "e9eacd5a",
   "metadata": {},
   "outputs": [],
   "source": [
    "con.close()"
   ]
  },
  {
   "cell_type": "code",
   "execution_count": 33,
   "id": "24144ee5",
   "metadata": {},
   "outputs": [],
   "source": [
    "# 추천을 하고자 하는 컨텐츠기반 룰을 정하고,\n",
    "### 고객이 쓴 게시글 제목기반으로 상품 추천\n",
    "\n",
    "# 물건을 3개 이상 추천하는 추천시스템을 완성하시오\n",
    "### counter_id.most_common(n=3)\n",
    "\n",
    "# db의 데이터를 임의로 추가할 수 있음"
   ]
  },
  {
   "cell_type": "code",
   "execution_count": 55,
   "id": "eed91d0a",
   "metadata": {},
   "outputs": [
    {
     "name": "stdout",
     "output_type": "stream",
     "text": [
      "1. 연결성공\n",
      "2. 커서 객체 획득\n"
     ]
    }
   ],
   "source": [
    "cur3, con = connect()"
   ]
  },
  {
   "cell_type": "code",
   "execution_count": 56,
   "id": "b12d712c",
   "metadata": {},
   "outputs": [],
   "source": [
    "def yb_execute(cur, data):\n",
    "    sql = '''\n",
    "    select b.title, p.price, p.id ,b.writer\n",
    "    from board b\n",
    "    inner join product p\n",
    "    on b.title = p.name and b.writer = %s\n",
    "    '''\n",
    "    result = cur.execute(sql,data)\n",
    "    return result"
   ]
  },
  {
   "cell_type": "code",
   "execution_count": 57,
   "id": "41f510fe",
   "metadata": {},
   "outputs": [
    {
     "name": "stdout",
     "output_type": "stream",
     "text": [
      "누가?? >> apple\n"
     ]
    }
   ],
   "source": [
    "who = input('누가?? >> ')"
   ]
  },
  {
   "cell_type": "code",
   "execution_count": 58,
   "id": "54fa4cca",
   "metadata": {},
   "outputs": [
    {
     "data": {
      "text/plain": [
       "4"
      ]
     },
     "execution_count": 58,
     "metadata": {},
     "output_type": "execute_result"
    }
   ],
   "source": [
    "sql_result3 = yb_execute(cur3,who)\n",
    "sql_result3"
   ]
  },
  {
   "cell_type": "code",
   "execution_count": 59,
   "id": "1adb6a9e",
   "metadata": {},
   "outputs": [
    {
     "data": {
      "text/plain": [
       "[('java', '1000', '100', 'apple'),\n",
       " ('spring', '3000', '102', 'apple'),\n",
       " ('android', '4000', '103', 'apple')]"
      ]
     },
     "execution_count": 59,
     "metadata": {},
     "output_type": "execute_result"
    }
   ],
   "source": [
    "result_rows = out_data(cur3)\n",
    "result_rows2 = list(set(result_rows))\n",
    "result_rows2"
   ]
  },
  {
   "cell_type": "code",
   "execution_count": 60,
   "id": "42deb2de",
   "metadata": {},
   "outputs": [],
   "source": [
    "result_df = pd.DataFrame(data=result_rows,\n",
    "                        columns=['title','price','p_id','writer'])"
   ]
  },
  {
   "cell_type": "code",
   "execution_count": 61,
   "id": "8048eeac",
   "metadata": {},
   "outputs": [
    {
     "data": {
      "text/html": [
       "<div>\n",
       "<style scoped>\n",
       "    .dataframe tbody tr th:only-of-type {\n",
       "        vertical-align: middle;\n",
       "    }\n",
       "\n",
       "    .dataframe tbody tr th {\n",
       "        vertical-align: top;\n",
       "    }\n",
       "\n",
       "    .dataframe thead th {\n",
       "        text-align: right;\n",
       "    }\n",
       "</style>\n",
       "<table border=\"1\" class=\"dataframe\">\n",
       "  <thead>\n",
       "    <tr style=\"text-align: right;\">\n",
       "      <th></th>\n",
       "      <th>title</th>\n",
       "      <th>price</th>\n",
       "      <th>p_id</th>\n",
       "      <th>writer</th>\n",
       "    </tr>\n",
       "  </thead>\n",
       "  <tbody>\n",
       "    <tr>\n",
       "      <th>0</th>\n",
       "      <td>java</td>\n",
       "      <td>1000</td>\n",
       "      <td>100</td>\n",
       "      <td>apple</td>\n",
       "    </tr>\n",
       "    <tr>\n",
       "      <th>1</th>\n",
       "      <td>java</td>\n",
       "      <td>1000</td>\n",
       "      <td>100</td>\n",
       "      <td>apple</td>\n",
       "    </tr>\n",
       "    <tr>\n",
       "      <th>2</th>\n",
       "      <td>spring</td>\n",
       "      <td>3000</td>\n",
       "      <td>102</td>\n",
       "      <td>apple</td>\n",
       "    </tr>\n",
       "    <tr>\n",
       "      <th>3</th>\n",
       "      <td>android</td>\n",
       "      <td>4000</td>\n",
       "      <td>103</td>\n",
       "      <td>apple</td>\n",
       "    </tr>\n",
       "  </tbody>\n",
       "</table>\n",
       "</div>"
      ],
      "text/plain": [
       "     title price p_id writer\n",
       "0     java  1000  100  apple\n",
       "1     java  1000  100  apple\n",
       "2   spring  3000  102  apple\n",
       "3  android  4000  103  apple"
      ]
     },
     "execution_count": 61,
     "metadata": {},
     "output_type": "execute_result"
    }
   ],
   "source": [
    "result_df"
   ]
  },
  {
   "cell_type": "code",
   "execution_count": 62,
   "id": "64198605",
   "metadata": {},
   "outputs": [
    {
     "data": {
      "text/plain": [
       "Counter({'java': 2, 'spring': 1, 'android': 1})"
      ]
     },
     "execution_count": 62,
     "metadata": {},
     "output_type": "execute_result"
    }
   ],
   "source": [
    "counter_id = Counter(result_df['title'])\n",
    "counter_id"
   ]
  },
  {
   "cell_type": "code",
   "execution_count": 63,
   "id": "0cc58486",
   "metadata": {},
   "outputs": [
    {
     "name": "stdout",
     "output_type": "stream",
     "text": [
      "[('java', 2), ('spring', 1), ('android', 1)]\n",
      "java\n"
     ]
    },
    {
     "data": {
      "text/plain": [
       "'java'"
      ]
     },
     "execution_count": 63,
     "metadata": {},
     "output_type": "execute_result"
    }
   ],
   "source": [
    "max_id = counter_id.most_common(n=3)\n",
    "print(max_id)\n",
    "print(max_id[0][0])\n",
    "max_id_result = max_id[0][0]\n",
    "max_id_result"
   ]
  },
  {
   "cell_type": "code",
   "execution_count": 64,
   "id": "e9d33240",
   "metadata": {},
   "outputs": [
    {
     "name": "stdout",
     "output_type": "stream",
     "text": [
      "1. 연결성공\n",
      "2. 커서 객체 획득\n"
     ]
    },
    {
     "data": {
      "text/plain": [
       "<pymysql.cursors.Cursor at 0x7fc28a960610>"
      ]
     },
     "execution_count": 64,
     "metadata": {},
     "output_type": "execute_result"
    }
   ],
   "source": [
    "cur3, con = connect()\n",
    "cur3"
   ]
  },
  {
   "cell_type": "code",
   "execution_count": 65,
   "id": "281fa7df",
   "metadata": {},
   "outputs": [
    {
     "name": "stdout",
     "output_type": "stream",
     "text": [
      "당신에게 추천하고 싶은 물건은 다음과 같습니다.\n",
      "------------------------------------\n",
      "물건의 이름은 java 물건의 고유번호는 100\n",
      "가격은 1000\n",
      "당신이 관련 게시글을 쓴 횟수 2\n",
      "\n",
      "물건의 이름은 spring 물건의 고유번호는 102\n",
      "가격은 3000\n",
      "당신이 관련 게시글을 쓴 횟수 1\n",
      "\n",
      "물건의 이름은 android 물건의 고유번호는 103\n",
      "가격은 4000\n",
      "당신이 관련 게시글을 쓴 횟수 1\n",
      "\n"
     ]
    }
   ],
   "source": [
    "print('당신에게 추천하고 싶은 물건은 다음과 같습니다.')\n",
    "print('------------------------------------')\n",
    "for i in range(3):    \n",
    "    print('물건의 이름은',result_rows2[i][0], \"물건의 고유번호는\",result_df['p_id'][result_df[\"title\"] == result_rows2[i][0]].values[0] )\n",
    "    print('가격은', result_rows2[i][1])\n",
    "    print('당신이 관련 게시글을 쓴 횟수',result_df['title'][result_df[\"title\"] == result_rows2[i][0]].value_counts().values[0], end=\"\\n\\n\" )"
   ]
  },
  {
   "cell_type": "code",
   "execution_count": 66,
   "id": "d431aee9",
   "metadata": {},
   "outputs": [
    {
     "name": "stdout",
     "output_type": "stream",
     "text": [
      "사고싶은 물건의 고유번호를 입력하세요: 100\n"
     ]
    }
   ],
   "source": [
    "purchase = input(\"사고싶은 물건의 고유번호를 입력하세요: \")"
   ]
  },
  {
   "cell_type": "code",
   "execution_count": 67,
   "id": "d8dd89f2",
   "metadata": {},
   "outputs": [],
   "source": [
    "# select라 con 안써줌.. con은 commit용 (데이터가 변경될때)\n",
    "def sql_execute3(con,cur,data):\n",
    "    sql = '''\n",
    "    insert into orderlist values (null,%s,%s,%s)\n",
    "    '''\n",
    "    result2 = cur.execute(sql,data)\n",
    "    con.commit()\n",
    "    return result2"
   ]
  },
  {
   "cell_type": "code",
   "execution_count": 68,
   "id": "f0e1f44d",
   "metadata": {},
   "outputs": [
    {
     "data": {
      "text/plain": [
       "'1000'"
      ]
     },
     "execution_count": 68,
     "metadata": {},
     "output_type": "execute_result"
    }
   ],
   "source": [
    "result_df['price'][result_df['p_id']==purchase].values[0]"
   ]
  },
  {
   "cell_type": "code",
   "execution_count": 70,
   "id": "7fa9286e",
   "metadata": {},
   "outputs": [
    {
     "name": "stdout",
     "output_type": "stream",
     "text": [
      "구매하시겠습니까?(yes/no)yes\n",
      "---------구매를 진행합니다.----------\n",
      "당신의 id는 apple\n",
      "---구매가 완료되었습니다.\n"
     ]
    }
   ],
   "source": [
    "order_question = input('구매하시겠습니까?(yes/no)')\n",
    "if order_question == 'yes':\n",
    "    print('---------구매를 진행합니다.----------')\n",
    "    your_id = input('당신의 id는 ')\n",
    "    data_list = [your_id, purchase, int(result_df['price'][result_df['p_id']==purchase].values[0])]\n",
    "    result3 = sql_execute3(con,cur3,data_list)\n",
    "    if result3 == 1:\n",
    "        print('---구매가 완료되었습니다.')\n",
    "    else:\n",
    "        print('---구매에 문제가 발생했습니다.')"
   ]
  },
  {
   "cell_type": "code",
   "execution_count": null,
   "id": "a2af040d",
   "metadata": {},
   "outputs": [],
   "source": [
    "con.close()"
   ]
  }
 ],
 "metadata": {
  "kernelspec": {
   "display_name": "Python 3",
   "language": "python",
   "name": "python3"
  },
  "language_info": {
   "codemirror_mode": {
    "name": "ipython",
    "version": 3
   },
   "file_extension": ".py",
   "mimetype": "text/x-python",
   "name": "python",
   "nbconvert_exporter": "python",
   "pygments_lexer": "ipython3",
   "version": "3.8.8"
  },
  "toc": {
   "base_numbering": 1,
   "nav_menu": {},
   "number_sections": true,
   "sideBar": true,
   "skip_h1_title": false,
   "title_cell": "Table of Contents",
   "title_sidebar": "Contents",
   "toc_cell": false,
   "toc_position": {},
   "toc_section_display": true,
   "toc_window_display": false
  }
 },
 "nbformat": 4,
 "nbformat_minor": 5
}
