{
  "nbformat": 4,
  "nbformat_minor": 0,
  "metadata": {
    "colab": {
      "name": "한글_자연어_다른기사추가.ipynb",
      "provenance": [],
      "collapsed_sections": [],
      "authorship_tag": "ABX9TyMPU3MC3UO0czbjGpHjlyJm",
      "include_colab_link": true
    },
    "kernelspec": {
      "name": "python3",
      "display_name": "Python 3"
    },
    "language_info": {
      "name": "python"
    }
  },
  "cells": [
    {
      "cell_type": "markdown",
      "metadata": {
        "id": "view-in-github",
        "colab_type": "text"
      },
      "source": [
        "<a href=\"https://colab.research.google.com/github/Kim-yongbeom/machine-learning/blob/main/data15/%ED%95%9C%EA%B8%80_%EC%9E%90%EC%97%B0%EC%96%B4_%EB%8B%A4%EB%A5%B8%EA%B8%B0%EC%82%AC%EC%B6%94%EA%B0%80.ipynb\" target=\"_parent\"><img src=\"https://colab.research.google.com/assets/colab-badge.svg\" alt=\"Open In Colab\"/></a>"
      ]
    },
    {
      "cell_type": "code",
      "execution_count": null,
      "metadata": {
        "colab": {
          "base_uri": "https://localhost:8080/"
        },
        "id": "bqnItk2UlHfq",
        "outputId": "f6524018-b75c-4034-9f24-898d30d0bdaf"
      },
      "outputs": [
        {
          "output_type": "stream",
          "name": "stdout",
          "text": [
            "123\n"
          ]
        }
      ],
      "source": [
        "str = ''\n",
        "data_list = ['1','2','3']\n",
        "str = str.join(data_list)\n",
        "print(str)"
      ]
    },
    {
      "cell_type": "code",
      "source": [
        "# ! 는 터미널처럼 쓸 때 사용\n",
        "!ls"
      ],
      "metadata": {
        "colab": {
          "base_uri": "https://localhost:8080/"
        },
        "id": "1GZDkeTplmDF",
        "outputId": "59c01e2a-d9c9-442e-c9b9-47a52fb7f792"
      },
      "execution_count": null,
      "outputs": [
        {
          "output_type": "stream",
          "name": "stdout",
          "text": [
            "'etnews.kr_facebook_2016-01-01_2018-08-01_4차 산업혁명.json'   sample_data\n"
          ]
        }
      ]
    },
    {
      "cell_type": "code",
      "source": [
        "!pip install konlpy"
      ],
      "metadata": {
        "colab": {
          "base_uri": "https://localhost:8080/"
        },
        "id": "9qqJXnvvmLLX",
        "outputId": "7c2709d4-67e5-4531-c186-d9f8b4f86a55"
      },
      "execution_count": null,
      "outputs": [
        {
          "output_type": "stream",
          "name": "stdout",
          "text": [
            "Requirement already satisfied: konlpy in /usr/local/lib/python3.7/dist-packages (0.5.2)\n",
            "Requirement already satisfied: numpy>=1.6 in /usr/local/lib/python3.7/dist-packages (from konlpy) (1.19.5)\n",
            "Requirement already satisfied: JPype1>=0.7.0 in /usr/local/lib/python3.7/dist-packages (from konlpy) (1.3.0)\n",
            "Requirement already satisfied: colorama in /usr/local/lib/python3.7/dist-packages (from konlpy) (0.4.4)\n",
            "Requirement already satisfied: tweepy>=3.7.0 in /usr/local/lib/python3.7/dist-packages (from konlpy) (3.10.0)\n",
            "Requirement already satisfied: beautifulsoup4==4.6.0 in /usr/local/lib/python3.7/dist-packages (from konlpy) (4.6.0)\n",
            "Requirement already satisfied: lxml>=4.1.0 in /usr/local/lib/python3.7/dist-packages (from konlpy) (4.2.6)\n",
            "Requirement already satisfied: typing-extensions in /usr/local/lib/python3.7/dist-packages (from JPype1>=0.7.0->konlpy) (3.10.0.2)\n",
            "Requirement already satisfied: requests[socks]>=2.11.1 in /usr/local/lib/python3.7/dist-packages (from tweepy>=3.7.0->konlpy) (2.23.0)\n",
            "Requirement already satisfied: requests-oauthlib>=0.7.0 in /usr/local/lib/python3.7/dist-packages (from tweepy>=3.7.0->konlpy) (1.3.0)\n",
            "Requirement already satisfied: six>=1.10.0 in /usr/local/lib/python3.7/dist-packages (from tweepy>=3.7.0->konlpy) (1.15.0)\n",
            "Requirement already satisfied: oauthlib>=3.0.0 in /usr/local/lib/python3.7/dist-packages (from requests-oauthlib>=0.7.0->tweepy>=3.7.0->konlpy) (3.1.1)\n",
            "Requirement already satisfied: urllib3!=1.25.0,!=1.25.1,<1.26,>=1.21.1 in /usr/local/lib/python3.7/dist-packages (from requests[socks]>=2.11.1->tweepy>=3.7.0->konlpy) (1.24.3)\n",
            "Requirement already satisfied: certifi>=2017.4.17 in /usr/local/lib/python3.7/dist-packages (from requests[socks]>=2.11.1->tweepy>=3.7.0->konlpy) (2021.10.8)\n",
            "Requirement already satisfied: chardet<4,>=3.0.2 in /usr/local/lib/python3.7/dist-packages (from requests[socks]>=2.11.1->tweepy>=3.7.0->konlpy) (3.0.4)\n",
            "Requirement already satisfied: idna<3,>=2.5 in /usr/local/lib/python3.7/dist-packages (from requests[socks]>=2.11.1->tweepy>=3.7.0->konlpy) (2.10)\n",
            "Requirement already satisfied: PySocks!=1.5.7,>=1.5.6 in /usr/local/lib/python3.7/dist-packages (from requests[socks]>=2.11.1->tweepy>=3.7.0->konlpy) (1.7.1)\n"
          ]
        }
      ]
    },
    {
      "cell_type": "code",
      "source": [
        "# 한글 자연어처리\n",
        "from konlpy.tag import Okt"
      ],
      "metadata": {
        "id": "iNuq4823mAyQ"
      },
      "execution_count": null,
      "outputs": []
    },
    {
      "cell_type": "code",
      "source": [
        "okt = Okt()\n",
        "okt"
      ],
      "metadata": {
        "colab": {
          "base_uri": "https://localhost:8080/"
        },
        "id": "lq_BBKsUmJKc",
        "outputId": "29378f63-99ff-4a40-97b2-aac793443338"
      },
      "execution_count": null,
      "outputs": [
        {
          "output_type": "execute_result",
          "data": {
            "text/plain": [
              "<konlpy.tag._okt.Okt at 0x7fab72a57990>"
            ]
          },
          "metadata": {},
          "execution_count": 5
        }
      ]
    },
    {
      "cell_type": "code",
      "source": [
        "words = '나는 한글이다!!!!!!!!! 너는 한글 game 뭐야?'\n",
        "words"
      ],
      "metadata": {
        "colab": {
          "base_uri": "https://localhost:8080/",
          "height": 35
        },
        "id": "G_DF2l6JmvSV",
        "outputId": "4ee409d2-c0e8-4dd7-e980-80238ccf4497"
      },
      "execution_count": null,
      "outputs": [
        {
          "output_type": "execute_result",
          "data": {
            "application/vnd.google.colaboratory.intrinsic+json": {
              "type": "string"
            },
            "text/plain": [
              "'나는 한글이다!!!!!!!!! 너는 한글 game 뭐야?'"
            ]
          },
          "metadata": {},
          "execution_count": 6
        }
      ]
    },
    {
      "cell_type": "code",
      "source": [
        "noun_list = okt.nouns(words)\n",
        "noun_list"
      ],
      "metadata": {
        "colab": {
          "base_uri": "https://localhost:8080/"
        },
        "id": "u2c29PRxnC_Y",
        "outputId": "694ce1cb-2e98-4eae-fd6c-d1bf05c6bedb"
      },
      "execution_count": null,
      "outputs": [
        {
          "output_type": "execute_result",
          "data": {
            "text/plain": [
              "['나', '한글', '너', '한글', '뭐']"
            ]
          },
          "metadata": {},
          "execution_count": 7
        }
      ]
    },
    {
      "cell_type": "code",
      "source": [
        "from collections import Counter"
      ],
      "metadata": {
        "id": "xhad_DUynReD"
      },
      "execution_count": null,
      "outputs": []
    },
    {
      "cell_type": "code",
      "source": [
        "count = Counter(noun_list)\n",
        "count"
      ],
      "metadata": {
        "colab": {
          "base_uri": "https://localhost:8080/"
        },
        "id": "8-IUqNmfnkee",
        "outputId": "0877be46-0d98-4a1d-8147-98c77b555a4e"
      },
      "execution_count": null,
      "outputs": [
        {
          "output_type": "execute_result",
          "data": {
            "text/plain": [
              "Counter({'나': 1, '너': 1, '뭐': 1, '한글': 2})"
            ]
          },
          "metadata": {},
          "execution_count": 9
        }
      ]
    },
    {
      "cell_type": "code",
      "source": [
        "count.most_common(2)"
      ],
      "metadata": {
        "colab": {
          "base_uri": "https://localhost:8080/"
        },
        "id": "Rcj8MpsUnpsd",
        "outputId": "fcbf5d95-1f04-4a20-9f4b-c53395fd6da6"
      },
      "execution_count": null,
      "outputs": [
        {
          "output_type": "execute_result",
          "data": {
            "text/plain": [
              "[('한글', 2), ('나', 1)]"
            ]
          },
          "metadata": {},
          "execution_count": 10
        }
      ]
    },
    {
      "cell_type": "code",
      "source": [
        "news = '''\n",
        "[파이낸셜뉴스] 제주 서귀포시 서남서쪽 41㎞ 해역에서 규모 4.9의 지진이 발생했다. 올들어 한반도에서 발생한 지진 중에 규모가 가장 크다. 제주 인근 해역에서 발생한 지진 중에서도 최대 규모다. 제주도 전역에선 \"쿵\" 하는 소리와 함께 수초 정도 흔들림이 느껴졌고, 가까운 전남은 물론 경기·서울에서도 일부 진동이 감지됐다. 행정안전부는 지진 발생 직후 중앙재난안전대책본부(중대본) 1단계를 가동했다.\n",
        "\n",
        "■제주 인근해역 지진 중 역대 최대\n",
        "기상청은 14일 오후 5시19분14초 제주 서귀포시 서남서쪽 41㎞ 해역에서 규모 4.9의 지진이 발생했다고 밝혔다. 진앙은 북위 33.09도, 동경 126.16도이며 지진 발생 깊이는 17㎞다.\n",
        "\n",
        "이날 지진은 오후 5시19분14초에 발생했다. 기상청이 마라도에서 발생 4초 후에 최초로 관측했고, 지진조기경보를 최초 관측 후 12초 만에 발동(오후 5시19분30초)했다. 기상청은 최초 신속경보시 지진 규모 5.3, 서남서쪽 32km로 발표한 후 상세 경보시 정정(규모 3.9, 41㎞)했다.\n",
        "\n",
        "기상청은 \"이번 지진은 한반도 주변 남해와 서해 해역에서 주로 발생하는 주향이동단층 운동으로 분석된다. 지진해일 발생 가능성은 없다\"고 밝혔다.\n",
        "\n",
        "규모 4.9 지진 이후 이날 오후 7시30분 현재 규모 1.6~1.7의 여진이 9회 발생했다.\n",
        "\n",
        "지역별 계기진도는 제주 5, 전남 3, 경남과 광주, 전북이 2다. 진도 5는 거의 모든 사람이 진동을 느끼고 그릇, 창문 등이 깨지기도 하는 정도다.\n",
        "\n",
        "소방청에 따르면 이번 제주 지진 관련 신고는 오후 7시 현재 총 169건이다. 진동을 느꼈다는 유감 신고는 제주 108건, 전남 37건, 대전 6건, 경기 남부 4건, 부산·서울 각 2건 등이다. 소방청은 \"제주 앞바다 지진 관련 유감 신고는 전국적으로 많았다. 19시 기준 아파트 베란다 타일 갈라짐, 연립주택 창문 깨짐 등 2건의 피해신고가 접수됐다\"고 밝혔다.\n",
        "\n",
        "현재 제주시 제주국제공항은 항공편이 지연, 결항없이 정상 운항하고 있다. 부산 기장군에 있는 고리원자력발전소는 정상 가동 중이다. 다만 진원지 근처인 모슬포 인근 도로가 갈라지고, 일부 주택의 창문이 깨지는 등 지진 피해가 일부 확인된 것으로 전해진다.\n",
        "\n",
        "제주 앞바다 4.9 규모 지진..\"지진해일 가능성 없어\"(종합)\n",
        "© News1 최수아 디자이너 /사진=뉴스1\n",
        "\n",
        "\n",
        "이날 지진은 올해 한반도에서 발생한 지진 중에 규모가 가장 크다. 올들어 한반도에서 발생한 지진은 이번 지진을 포함해 총 65건. 이 중 규모 3.0 미만이 61건으로 가장 많다. 규모 4.0에서 5.0 지진은 이번 제주 서귀포 해역 지진을 포함해 2건이다.\n",
        "\n",
        "이번 지진은 기상청 계기관측(1978년) 이후 역대 11번째 규모다. 지난 2016년 9월12일 경주지진(규모 5.8), 2017년 11월15일 포항 지진(규모 5.4)이 역대 한반도 발생 지진 중에 규모로는 1,2위다.\n",
        "\n",
        "이번 지진의 진앙 50km 이내에서 규모 2.0 이상 지진은 1978년 이후 총 31회 발생했다. 이 중에 2005년 6월15일 제주 고산 남쪽 26㎞ 해역에서 발생한 3.9 규모 지진이 두번째로 컸다.\n",
        "\n",
        "■시민·관광객들 건물 흔들려 크게 놀라\n",
        "지진의 직접 영향권인 제주도는 전역에서 크고 작은 진동이 확인됐다. 시민과 관광객들은 땅과 건물이 흔들리는 등의 진동에 크게 놀랐다. 일부 특급호텔에선 투숙객들이 대피하는 소동도 벌어졌다.\n",
        "\n",
        "서귀포시에 있는 제주컨벤션센터 일대에선 실내 면세점 등에 있던 사람들이 흔들림을 느끼고 밖으로 뛰쳐 나왔다. 크게 놀란 이들은 당황스러움을 감추지 못했다. 또 서귀포시에 있는 한 학원에서도 수업 중 건물이 흔들려 교사와 학생들이 밖으로 급하게 뛰어나왔다.\n",
        "\n",
        "길을 걷다가 흔들림에 넘어지는 일도 있었다. 서귀포시 중문동에 사는 A씨는 \"길을 걷는 중에 순간적인 흔들림이 느껴지면서 앞으로 고꾸라졌다. 제주에 평생 살면서 이런 적은 처음\"이라고 했다.\n",
        "'''"
      ],
      "metadata": {
        "id": "BT6qiLFXnzqx"
      },
      "execution_count": null,
      "outputs": []
    },
    {
      "cell_type": "code",
      "source": [
        "noun_list2 = okt.nouns(news)\n",
        "noun_list2[:5]"
      ],
      "metadata": {
        "colab": {
          "base_uri": "https://localhost:8080/"
        },
        "id": "gtZNWozxoIud",
        "outputId": "f3f76ef8-b24c-407b-8737-a317b5425bbc"
      },
      "execution_count": null,
      "outputs": [
        {
          "output_type": "execute_result",
          "data": {
            "text/plain": [
              "['파이낸셜뉴스', '제주', '서귀포시', '남서쪽', '해역']"
            ]
          },
          "metadata": {},
          "execution_count": 12
        }
      ]
    },
    {
      "cell_type": "code",
      "source": [
        "count2 = Counter(noun_list2)\n",
        "count2"
      ],
      "metadata": {
        "colab": {
          "base_uri": "https://localhost:8080/"
        },
        "id": "M6Exgn3YoS5U",
        "outputId": "01f07ce4-3d24-4ae2-e12b-7a929129532e"
      },
      "execution_count": null,
      "outputs": [
        {
          "output_type": "execute_result",
          "data": {
            "text/plain": [
              "Counter({'가능성': 2,\n",
              "         '가동': 2,\n",
              "         '가장': 3,\n",
              "         '각': 1,\n",
              "         '감지': 1,\n",
              "         '객': 1,\n",
              "         '거의': 1,\n",
              "         '건': 9,\n",
              "         '건물': 3,\n",
              "         '건의': 1,\n",
              "         '것': 1,\n",
              "         '결항': 1,\n",
              "         '경기': 2,\n",
              "         '경남': 1,\n",
              "         '경보': 1,\n",
              "         '경주': 1,\n",
              "         '계기': 2,\n",
              "         '고': 2,\n",
              "         '고리': 1,\n",
              "         '고산': 1,\n",
              "         '관광객': 2,\n",
              "         '관련': 2,\n",
              "         '관측': 3,\n",
              "         '광주': 1,\n",
              "         '교사': 1,\n",
              "         '국제공항': 1,\n",
              "         '규모': 18,\n",
              "         '그릇': 1,\n",
              "         '근처': 1,\n",
              "         '기도': 1,\n",
              "         '기상청': 5,\n",
              "         '기장군': 1,\n",
              "         '기준': 1,\n",
              "         '길': 2,\n",
              "         '깊이': 1,\n",
              "         '날': 3,\n",
              "         '남부': 1,\n",
              "         '남서쪽': 3,\n",
              "         '남쪽': 1,\n",
              "         '남해': 1,\n",
              "         '놀란': 1,\n",
              "         '뉴스': 1,\n",
              "         '다만': 1,\n",
              "         '단계': 1,\n",
              "         '당황': 1,\n",
              "         '대본': 1,\n",
              "         '대전': 1,\n",
              "         '대책': 1,\n",
              "         '대피': 1,\n",
              "         '도': 2,\n",
              "         '도로': 1,\n",
              "         '동경': 1,\n",
              "         '두번째': 1,\n",
              "         '등': 6,\n",
              "         '디자이너': 1,\n",
              "         '땅': 1,\n",
              "         '또': 1,\n",
              "         '로': 1,\n",
              "         '립': 1,\n",
              "         '마라도': 1,\n",
              "         '면세점': 1,\n",
              "         '모든': 1,\n",
              "         '모슬포': 1,\n",
              "         '미만': 1,\n",
              "         '밖': 2,\n",
              "         '발동': 1,\n",
              "         '발생': 16,\n",
              "         '발표': 1,\n",
              "         '베란다': 1,\n",
              "         '보시': 2,\n",
              "         '본부': 1,\n",
              "         '부산': 2,\n",
              "         '북위': 1,\n",
              "         '분석': 1,\n",
              "         '사람': 2,\n",
              "         '사진': 1,\n",
              "         '상세': 1,\n",
              "         '서귀포': 1,\n",
              "         '서귀포시': 5,\n",
              "         '서울': 2,\n",
              "         '서해': 1,\n",
              "         '센터': 1,\n",
              "         '소동': 1,\n",
              "         '소리': 1,\n",
              "         '소방청': 2,\n",
              "         '수아': 1,\n",
              "         '수업': 1,\n",
              "         '수초': 1,\n",
              "         '순간': 1,\n",
              "         '시민': 2,\n",
              "         '신고': 4,\n",
              "         '실내': 1,\n",
              "         '씨': 1,\n",
              "         '아파트': 1,\n",
              "         '안전': 1,\n",
              "         '앞': 1,\n",
              "         '앞바다': 2,\n",
              "         '여진': 1,\n",
              "         '역대': 3,\n",
              "         '영향': 1,\n",
              "         '오후': 5,\n",
              "         '올해': 1,\n",
              "         '운동': 1,\n",
              "         '운항': 1,\n",
              "         '움': 1,\n",
              "         '원자력발전소': 1,\n",
              "         '위': 1,\n",
              "         '유감': 2,\n",
              "         '의': 3,\n",
              "         '이': 4,\n",
              "         '이내': 1,\n",
              "         '이번': 6,\n",
              "         '이상': 1,\n",
              "         '이후': 3,\n",
              "         '인근': 3,\n",
              "         '일대': 1,\n",
              "         '일도': 1,\n",
              "         '일부': 4,\n",
              "         '재난': 1,\n",
              "         '전국': 1,\n",
              "         '전남': 3,\n",
              "         '전북': 1,\n",
              "         '전역': 2,\n",
              "         '접수': 1,\n",
              "         '정도': 2,\n",
              "         '정상': 2,\n",
              "         '정정': 1,\n",
              "         '제주': 13,\n",
              "         '제주도': 2,\n",
              "         '제주시': 1,\n",
              "         '조기': 1,\n",
              "         '종합': 1,\n",
              "         '주로': 1,\n",
              "         '주변': 1,\n",
              "         '주택': 2,\n",
              "         '주향이동단층': 1,\n",
              "         '중': 10,\n",
              "         '중문동': 1,\n",
              "         '중앙': 1,\n",
              "         '중이': 1,\n",
              "         '지난': 1,\n",
              "         '지역별': 1,\n",
              "         '지연': 1,\n",
              "         '지진': 30,\n",
              "         '지진해일': 2,\n",
              "         '직접': 1,\n",
              "         '직후': 1,\n",
              "         '진도': 2,\n",
              "         '진동': 5,\n",
              "         '진앙': 2,\n",
              "         '진원': 1,\n",
              "         '창문': 3,\n",
              "         '처음': 1,\n",
              "         '총': 3,\n",
              "         '최': 1,\n",
              "         '최대': 2,\n",
              "         '최초': 3,\n",
              "         '컨벤션': 1,\n",
              "         '쿵': 1,\n",
              "         '크게': 3,\n",
              "         '타일': 1,\n",
              "         '투숙': 1,\n",
              "         '특급': 1,\n",
              "         '파이낸셜뉴스': 1,\n",
              "         '편이': 1,\n",
              "         '평생': 1,\n",
              "         '포함': 2,\n",
              "         '포항': 1,\n",
              "         '피해': 2,\n",
              "         '학생': 1,\n",
              "         '학원': 1,\n",
              "         '한반도': 5,\n",
              "         '항공': 1,\n",
              "         '해역': 7,\n",
              "         '행정안전부': 1,\n",
              "         '현재': 3,\n",
              "         '호텔': 1,\n",
              "         '확인': 2,\n",
              "         '후': 3})"
            ]
          },
          "metadata": {},
          "execution_count": 13
        }
      ]
    },
    {
      "cell_type": "code",
      "source": [
        "count2.most_common(5)"
      ],
      "metadata": {
        "colab": {
          "base_uri": "https://localhost:8080/"
        },
        "id": "T5XqU2KhoeCk",
        "outputId": "9e9cbda2-3833-49a3-c2a3-280aaf52c3c0"
      },
      "execution_count": null,
      "outputs": [
        {
          "output_type": "execute_result",
          "data": {
            "text/plain": [
              "[('지진', 30), ('규모', 18), ('발생', 16), ('제주', 13), ('중', 10)]"
            ]
          },
          "metadata": {},
          "execution_count": 14
        }
      ]
    },
    {
      "cell_type": "code",
      "source": [
        "word_count = dict()\n",
        "for tag, count2 in count2.most_common(15):\n",
        "    if (len(tag)>1):\n",
        "        word_count[tag] = count2\n",
        "print(word_count)"
      ],
      "metadata": {
        "colab": {
          "base_uri": "https://localhost:8080/"
        },
        "id": "PPKXuJymolsu",
        "outputId": "f3523d77-0d80-4d27-95fb-57a1132b2de1"
      },
      "execution_count": null,
      "outputs": [
        {
          "output_type": "stream",
          "name": "stdout",
          "text": [
            "{'지진': 30, '규모': 18, '발생': 16, '제주': 13, '해역': 7, '이번': 6, '서귀포시': 5, '한반도': 5, '진동': 5, '기상청': 5, '오후': 5, '일부': 4}\n"
          ]
        }
      ]
    },
    {
      "cell_type": "code",
      "source": [
        "import json\n",
        "# xml -> <money>1000</money>\n",
        "# eXtensible Markup Languages(확장가능한 ML)\n",
        "\n",
        "# json -> {'money':1000}\n",
        "# JavaScript Object Notation(JSON)\n",
        "import re"
      ],
      "metadata": {
        "id": "SGtSM6j9rtCi"
      },
      "execution_count": null,
      "outputs": []
    },
    {
      "cell_type": "code",
      "source": [
        "file_name = '/content/etnews.kr_facebook_2016-01-01_2018-08-01_4차 산업혁명.json'\n",
        "json_data = json.loads(open(file_name, 'r', encoding='utf-8').read())\n",
        "json_data"
      ],
      "metadata": {
        "colab": {
          "base_uri": "https://localhost:8080/"
        },
        "id": "hg_ziHVAvLLh",
        "outputId": "d8fac836-d334-4978-ed75-fa27fef6061b"
      },
      "execution_count": null,
      "outputs": [
        {
          "output_type": "execute_result",
          "data": {
            "text/plain": [
              "[{'created_time': '2018-06-20 18:06:39',\n",
              "  'link': 'https://www.facebook.com/etnews.kr/videos/1981346601899735/',\n",
              "  'message': '6월의 스파크포럼 - \"미래 시대, 조직의 변화도 시작됐다!\"\\n\\n스파크포럼은 현 사회의 사회문제 및 이슈를 제기하고, 그 이슈를 혁신적으로 해결하고자 하는 소셜이노베이터를 발굴, 지원하여 우리 사회 따뜻한 변화를 확산시키지 위해 만들어진 도전과 만남의 자리입니다.\\n\\n6월의 스파크포럼에서는 4차 산업혁명 시대의 기업조직과 조직문화를 살펴보고, 조직의 변화를 받아들이고 실험해나가는 사례를 통해 미래 시대 조직이 나아가야 할 방향을 함께 생각해보고자 합니다.',\n",
              "  'name': '6월의 스파크포럼 - \"미래 시대, 조직의 변화도 시작됐다!\"',\n",
              "  'post_id': '407886705912407_1981346601899735',\n",
              "  'total_comments': 3},\n",
              " {'created_time': '2018-06-14 10:41:16',\n",
              "  'link': 'http://www.etnews.com/20180612000347',\n",
              "  'message': '로봇이 4차 산업혁명 주요 성장 동력으로 떠오르면서 국내 로봇 기업에 재평가가 이뤄지고 있다는 분석입니다.',\n",
              "  'name': '기술력 갖춘 로봇기업 몸값 치솟는다',\n",
              "  'post_id': '407886705912407_1971252229575839',\n",
              "  'total_comments': 0},\n",
              " {'created_time': '2018-04-10 17:42:00',\n",
              "  'link': 'http://www.etnews.com/20180409000360?mc=em_002_00001',\n",
              "  'message': '4차 산업혁명 시대 금융 산업 전반 점검해야 한다는...',\n",
              "  'name': \"휘청거리는 대한민국 '금융'...서민도 기업도 ICT도 실종\",\n",
              "  'post_id': '407886705912407_1900738133293916',\n",
              "  'total_comments': 0},\n",
              " {'created_time': '2018-03-05 12:05:00',\n",
              "  'link': 'https://goo.gl/qPEyAJ',\n",
              "  'message': \"공통 간판 공약은 '4차 산업혁명 선도 도시 구현'과 '가상화폐·블록체인 기술 활용' 등입니다. https://goo.gl/qPEyAJ\",\n",
              "  'name': \"지방선거 D-100 정책 공약 '4차산업혁명'에 초점\",\n",
              "  'post_id': '407886705912407_1859978837369846',\n",
              "  'total_comments': 0},\n",
              " {'created_time': '2018-02-05 17:20:01',\n",
              "  'link': 'http://www.etnews.com/20180205000237',\n",
              "  'message': '이번 과정은 4차 산업혁명 핵심 기술인 AI에 대한 통찰력과 알파고를 통해 우리 일상과 익숙해진 로봇, 빅데이터 산업 흐름을 알려줍니다. #인공지능 #최고위과정 #산학연최고전문가 https://goo.gl/jSZSNX',\n",
              "  'name': '[알림]제2기 인공지능 최고위 과정 모집',\n",
              "  'post_id': '407886705912407_1829059807128416',\n",
              "  'total_comments': 0},\n",
              " {'created_time': '2018-01-29 23:39:00',\n",
              "  'link': 'http://www.etnews.com/20180129000403?mc=em_003_00001',\n",
              "  'message': '4차 산업혁명 모든 기술과 서비스 구현',\n",
              "  'name': \"첫 스마트시티 '부산·세종' 낙점...규제 프리존으로\",\n",
              "  'post_id': '407886705912407_1821177084583355',\n",
              "  'total_comments': 0},\n",
              " {'created_time': '2017-11-09 18:11:43',\n",
              "  'link': 'http://www.sek.co.kr/2017/nbf',\n",
              "  'message': '산업혁명의 나라, 영국엔 4차 산업혁명이 없다?\\n한국-영국 경험과 지혜를 모으는 ‘미래비즈니스포럼 2017’ 개최',\n",
              "  'name': '미래비즈니스포럼 2017 : 손에 잡히는 4차 산업혁명',\n",
              "  'post_id': '407886705912407_1735224763178588',\n",
              "  'total_comments': 0},\n",
              " {'created_time': '2017-10-25 13:08:49',\n",
              "  'link': 'https://www.facebook.com/etnews.kr/videos/1720053844695680/',\n",
              "  'message': \"[전자신문TV 라이브] SBA 신직업위크\\n\\n4차 산업혁명 시대의 경쟁력 확보와 일자리 창출의 해법을 신직업에서 찾고 있는 서울산업진흥원(SBA)이 자신들의 역량과 노력을 모두 담은 '제 2회 신직업위크'를 진행하고 있습니다.\\n\\n이번 전자신문TV라이브는 서울 대치동 SBA 신직업교육센터에서 강만구 신직업교육팀장과 서지윤 신직업리서치팀수석, 윤석원 테스트웍스 대표 등과 함께 '제 2회 신직업위크'와 최신 신직업트렌드를 알아보는 시간으로 마련했습니다. 많은 시청 바랍니다. \\n\\n#전자신문 #전자신문엔터 #전자신문TV #라이브 #소셜방송 #현장라이브 #손보련 #신직업위크 #서울산업진흥원 #SBA #신직업 #서울 #강만구 #서지윤 #윤석원 #테스트웍스 #소프트웨어 #테스터 #소프트웨어테스터\",\n",
              "  'name': '[전자신문TV 라이브] SBA 신직업위크',\n",
              "  'post_id': '407886705912407_1720053844695680',\n",
              "  'total_comments': 0},\n",
              " {'created_time': '2017-10-06 11:50:00',\n",
              "  'link': 'http://www.etnews.com/20171005000056?mc=em_011_00001',\n",
              "  'message': '혹시 우리나라도?~~4차 산업혁명 시대 떠오르는 일자리 전략으로 강추~~',\n",
              "  'name': '日, 인공지능 활용능력 자격시험 만든다',\n",
              "  'post_id': '407886705912407_1700789646622100',\n",
              "  'total_comments': 1},\n",
              " {'created_time': '2017-09-25 15:30:00',\n",
              "  'link': 'http://www.etnews.com/20170924000106?mc=em_003_00001',\n",
              "  'message': '4차 산업혁명 대응에 가장 강점 분야는 5세대 이동통신...건강한 산업 생태계 조성 노력 강조',\n",
              "  'name': \"김상조 공정위원장 “기업집단국, 조사국과 달라…'존경받는 기업' 만드는 게 핵심”\",\n",
              "  'post_id': '407886705912407_1691461310888267',\n",
              "  'total_comments': 0},\n",
              " {'created_time': '2017-08-29 00:54:00',\n",
              "  'link': 'http://www.etnews.com/20170825000162?mc=em_009_00001',\n",
              "  'message': \"중앙부처 공무원 51.3% '4차 산업혁명 관련 가장 시급히 대응해야 할 기술적 과제'로 빅데이터 활용 꼽\",\n",
              "  'name': '현직 공무원들 \"빅데이터·AI, 정책에 적극 활용\"…4차 산업혁명 인식 높아',\n",
              "  'post_id': '407886705912407_1665258370175228',\n",
              "  'total_comments': 1},\n",
              " {'created_time': '2017-08-17 15:37:14',\n",
              "  'link': 'https://www.facebook.com/etnews.kr/videos/1655135431187522/',\n",
              "  'message': '[전자신문TV 라이브] 직격인터뷰 - 서울산업진흥원(SBA) 주형철 대표이사\\n\\n최근 각급 공공기관들이 4차 산업혁명기를 맞은 국내 중소기업의 경쟁력과 일자리 창출을 위해 노력하고 있는데요.\\n\\n이번 전자신문TV 라이브는 중소기업 활성화와 일자리 창출에 앞장서는 공공기관 중 대표적 사례로 꼽히는 서울산업진흥원 주형철 대표이사를 모시고 다양한 이야기를 듣는 시간으로 진행됩니다.\\n\\n#전자신문 #전자신문TV #서울산업진흥원 #SBA #주형철 #소성렬',\n",
              "  'name': '[전자신문TV 라이브] 직격인터뷰 - 서울산업진흥원(SBA) 주형철 대표이사',\n",
              "  'post_id': '407886705912407_1655135431187522',\n",
              "  'total_comments': 15},\n",
              " {'created_time': '2017-08-12 17:48:00',\n",
              "  'link': 'http://www.etnews.com/20170810000414?mc=em_009_00001',\n",
              "  'message': '4차 산업혁명 대응은 일자리 창출과 함께 문재인 정부 주요 국정 과제인 데도 우선순위에서 밀렸다는 지적',\n",
              "  'name': '4차 산업혁명위 출범 후순위로 밀렸다',\n",
              "  'post_id': '407886705912407_1648865381814527',\n",
              "  'total_comments': 0},\n",
              " {'created_time': '2017-06-09 22:00:00',\n",
              "  'link': 'http://www.etnews.com/20170608000300?mc=em_009_00001',\n",
              "  'message': '통합·개혁 행보에서 빠른 움직임을 보였지만 4차 산업혁명 등 신성장동력 창출에서는 한 발짝도 못 나갔다는 평입니다...',\n",
              "  'name': \"새정부 출범 한 달...'통합·개혁'엔 진일보, '4차 산업혁명 대응' 한발짝도 못 나가\",\n",
              "  'post_id': '407886705912407_1579376925430040',\n",
              "  'total_comments': 4},\n",
              " {'created_time': '2017-05-24 18:30:00',\n",
              "  'link': 'http://www.etnews.com/20170524000281?mc=em_001_00001',\n",
              "  'message': \"미래창조과학부가 주최하고 전자신문사, 한국경제신문, 한국정보통신진흥협회(KAIT) 주관으로 24일 서울 강남구 삼성동 코엑스에서 개막된 '월드IT쇼(WIS) 2017'은 4차 산업혁명이 더 이상 개념이 아니라 현실로 다가왔음을 입증했습니다~\",\n",
              "  'name': '[WIS 2017]4차 산업혁명, 현실과 마주한 날',\n",
              "  'post_id': '407886705912407_1562807837086949',\n",
              "  'total_comments': 0},\n",
              " {'created_time': '2017-05-17 18:38:04',\n",
              "  'link': 'https://www.facebook.com/etnews.kr/photos/a.409377469096664/1556319464402453/?type=3',\n",
              "  'message': '[전자신문TV 라이브 예고]\\n이번 전자신문TV는 4차 산업혁명과 과학기술 영상컨퍼런스를 생중계합니다~! 광운대학교 이승현 교수님을 모시고 진행하는 이번 행사는 VR. AR 기술과 몰힙형 미디어에 대해 설명해 주신다고 합니다!\\n\\n이번 행사는 전자신문 Entertainment와 가상현실 스튜디오 솔루션을 제작한 다림비젼, 중견기업TV와 함께  4차 산업 정보 채널 IBSB(IT Tech. & Business SNS Broadcast)를 통해 진행합니다.\\n\\nIBSB는 전세계 4차 산업 혁명의 현장의 생생한 IT 소식과 정보, 컨퍼런스의 강연, VOD정보를 VR 기술과 원격 Live방송 기술을 중심으로 시간과 거리를 초월하는 실시간 TELE-Presentation 기술의 새로운 방송 서비스입니다.\\n\\n이런 유익한 강의를 전자신문 페이스북을 통해서 시청하실 수 있습니다~ 많은 관심부탁드립니다♥',\n",
              "  'name': 'Timeline Photos',\n",
              "  'post_id': '407886705912407_1556319464402453',\n",
              "  'total_comments': 1},\n",
              " {'created_time': '2017-04-05 07:00:00',\n",
              "  'link': 'http://www.etnews.com/20170404000230',\n",
              "  'message': '대선 국면이지만 법안의 시급성 때문에 4차 산업혁명 대비 법제 개편 논의가 불붙을 전망입니다...',\n",
              "  'name': \"'4차 산업혁명 기본법' 나왔다…대선 기간 법제화 논의 불붙을듯\",\n",
              "  'post_id': '407886705912407_1505222409512159',\n",
              "  'total_comments': 1},\n",
              " {'created_time': '2017-02-14 08:30:01',\n",
              "  'link': 'http://www.etnews.com/20170213000307',\n",
              "  'message': '4차 산업혁명 시대 대비!!!',\n",
              "  'name': '[차기 정부 거버넌스 개편 방향 좌담회]\"400조 정부, 혁신부총리가 답이다\"',\n",
              "  'post_id': '407886705912407_1452393468128387',\n",
              "  'total_comments': 0},\n",
              " {'created_time': '2016-01-25 06:00:00',\n",
              "  'link': 'http://www.etnews.com/20160124000075',\n",
              "  'message': '‘#4차산업혁명 의 이해(Mastering the Fourth Industrial Revolution)’...\\n23일 폐막한 #다보스포럼 에서는  4차 산업혁명 기대와 우려가 교차했는데요. 구글, 애플, 페이스북, 삼성전자, LG전자가 앞다퉈 4차 산업혁명 흐름에 뛰어 들고 있습니다.',\n",
              "  'name': '[이슈분석]다보스포럼, 4차 산업혁명 기대와 우려 교차',\n",
              "  'post_id': '407886705912407_1106254916075579',\n",
              "  'total_comments': 0}]"
            ]
          },
          "metadata": {},
          "execution_count": 17
        }
      ]
    },
    {
      "cell_type": "code",
      "source": [
        "all_data = ''"
      ],
      "metadata": {
        "id": "SNRSu0yXvxtW"
      },
      "execution_count": null,
      "outputs": []
    },
    {
      "cell_type": "code",
      "source": [
        "for item in json_data: # dic의 리스트\n",
        "  if 'message' in item.keys():\n",
        "    all_data = all_data + re.sub(r'[^\\w]',' ',item['message'])+' '\n",
        "print(all_data) "
      ],
      "metadata": {
        "colab": {
          "base_uri": "https://localhost:8080/"
        },
        "id": "Xy74CQS3w2zN",
        "outputId": "7f21aa40-333e-4821-ca12-ae37524c1eea"
      },
      "execution_count": null,
      "outputs": [
        {
          "output_type": "stream",
          "name": "stdout",
          "text": [
            "6월의 스파크포럼    미래 시대  조직의 변화도 시작됐다    스파크포럼은 현 사회의 사회문제 및 이슈를 제기하고  그 이슈를 혁신적으로 해결하고자 하는 소셜이노베이터를 발굴  지원하여 우리 사회 따뜻한 변화를 확산시키지 위해 만들어진 도전과 만남의 자리입니다   6월의 스파크포럼에서는 4차 산업혁명 시대의 기업조직과 조직문화를 살펴보고  조직의 변화를 받아들이고 실험해나가는 사례를 통해 미래 시대 조직이 나아가야 할 방향을 함께 생각해보고자 합니다  로봇이 4차 산업혁명 주요 성장 동력으로 떠오르면서 국내 로봇 기업에 재평가가 이뤄지고 있다는 분석입니다  4차 산업혁명 시대 금융 산업 전반 점검해야 한다는    공통 간판 공약은  4차 산업혁명 선도 도시 구현 과  가상화폐 블록체인 기술 활용  등입니다  https   goo gl qPEyAJ 이번 과정은 4차 산업혁명 핵심 기술인 AI에 대한 통찰력과 알파고를 통해 우리 일상과 익숙해진 로봇  빅데이터 산업 흐름을 알려줍니다   인공지능  최고위과정  산학연최고전문가 https   goo gl jSZSNX 4차 산업혁명 모든 기술과 서비스 구현 산업혁명의 나라  영국엔 4차 산업혁명이 없다  한국 영국 경험과 지혜를 모으는  미래비즈니스포럼 2017  개최  전자신문TV 라이브  SBA 신직업위크  4차 산업혁명 시대의 경쟁력 확보와 일자리 창출의 해법을 신직업에서 찾고 있는 서울산업진흥원 SBA 이 자신들의 역량과 노력을 모두 담은  제 2회 신직업위크 를 진행하고 있습니다   이번 전자신문TV라이브는 서울 대치동 SBA 신직업교육센터에서 강만구 신직업교육팀장과 서지윤 신직업리서치팀수석  윤석원 테스트웍스 대표 등과 함께  제 2회 신직업위크 와 최신 신직업트렌드를 알아보는 시간으로 마련했습니다  많은 시청 바랍니다     전자신문  전자신문엔터  전자신문TV  라이브  소셜방송  현장라이브  손보련  신직업위크  서울산업진흥원  SBA  신직업  서울  강만구  서지윤  윤석원  테스트웍스  소프트웨어  테스터  소프트웨어테스터 혹시 우리나라도   4차 산업혁명 시대 떠오르는 일자리 전략으로 강추   4차 산업혁명 대응에 가장 강점 분야는 5세대 이동통신   건강한 산업 생태계 조성 노력 강조 중앙부처 공무원 51 3   4차 산업혁명 관련 가장 시급히 대응해야 할 기술적 과제 로 빅데이터 활용 꼽  전자신문TV 라이브  직격인터뷰   서울산업진흥원 SBA  주형철 대표이사  최근 각급 공공기관들이 4차 산업혁명기를 맞은 국내 중소기업의 경쟁력과 일자리 창출을 위해 노력하고 있는데요   이번 전자신문TV 라이브는 중소기업 활성화와 일자리 창출에 앞장서는 공공기관 중 대표적 사례로 꼽히는 서울산업진흥원 주형철 대표이사를 모시고 다양한 이야기를 듣는 시간으로 진행됩니다    전자신문  전자신문TV  서울산업진흥원  SBA  주형철  소성렬 4차 산업혁명 대응은 일자리 창출과 함께 문재인 정부 주요 국정 과제인 데도 우선순위에서 밀렸다는 지적 통합 개혁 행보에서 빠른 움직임을 보였지만 4차 산업혁명 등 신성장동력 창출에서는 한 발짝도 못 나갔다는 평입니다    미래창조과학부가 주최하고 전자신문사  한국경제신문  한국정보통신진흥협회 KAIT  주관으로 24일 서울 강남구 삼성동 코엑스에서 개막된  월드IT쇼 WIS  2017 은 4차 산업혁명이 더 이상 개념이 아니라 현실로 다가왔음을 입증했습니다   전자신문TV 라이브 예고  이번 전자신문TV는 4차 산업혁명과 과학기술 영상컨퍼런스를 생중계합니다   광운대학교 이승현 교수님을 모시고 진행하는 이번 행사는 VR  AR 기술과 몰힙형 미디어에 대해 설명해 주신다고 합니다   이번 행사는 전자신문 Entertainment와 가상현실 스튜디오 솔루션을 제작한 다림비젼  중견기업TV와 함께  4차 산업 정보 채널 IBSB IT Tech    Business SNS Broadcast 를 통해 진행합니다   IBSB는 전세계 4차 산업 혁명의 현장의 생생한 IT 소식과 정보  컨퍼런스의 강연  VOD정보를 VR 기술과 원격 Live방송 기술을 중심으로 시간과 거리를 초월하는 실시간 TELE Presentation 기술의 새로운 방송 서비스입니다   이런 유익한 강의를 전자신문 페이스북을 통해서 시청하실 수 있습니다  많은 관심부탁드립니다  대선 국면이지만 법안의 시급성 때문에 4차 산업혁명 대비 법제 개편 논의가 불붙을 전망입니다    4차 산업혁명 시대 대비      4차산업혁명 의 이해 Mastering the Fourth Industrial Revolution      23일 폐막한  다보스포럼 에서는  4차 산업혁명 기대와 우려가 교차했는데요  구글  애플  페이스북  삼성전자  LG전자가 앞다퉈 4차 산업혁명 흐름에 뛰어 들고 있습니다  \n"
          ]
        }
      ]
    },
    {
      "cell_type": "code",
      "source": [
        "noun_list3 = okt.nouns(all_data)\n",
        "noun_list3"
      ],
      "metadata": {
        "colab": {
          "base_uri": "https://localhost:8080/"
        },
        "id": "KAKRTBj0zcTC",
        "outputId": "eb303bdf-af2c-4208-ee13-5421a7f45533"
      },
      "execution_count": null,
      "outputs": [
        {
          "output_type": "execute_result",
          "data": {
            "text/plain": [
              "['스파크',\n",
              " '포럼',\n",
              " '미래',\n",
              " '시대',\n",
              " '조직',\n",
              " '변화',\n",
              " '시작',\n",
              " '스파크',\n",
              " '포럼',\n",
              " '현',\n",
              " '사회',\n",
              " '사회',\n",
              " '문제',\n",
              " '및',\n",
              " '이슈',\n",
              " '제기',\n",
              " '그',\n",
              " '이슈',\n",
              " '혁신',\n",
              " '해결',\n",
              " '소셜',\n",
              " '이노',\n",
              " '베이',\n",
              " '터',\n",
              " '발굴',\n",
              " '지원',\n",
              " '우리',\n",
              " '사회',\n",
              " '변화',\n",
              " '확산',\n",
              " '위해',\n",
              " '도전',\n",
              " '만남',\n",
              " '자리',\n",
              " '스파크',\n",
              " '포럼',\n",
              " '차',\n",
              " '산업혁명',\n",
              " '시대',\n",
              " '기업',\n",
              " '조직',\n",
              " '직문',\n",
              " '조직',\n",
              " '변화',\n",
              " '실험',\n",
              " '사례',\n",
              " '통해',\n",
              " '미래',\n",
              " '시대',\n",
              " '조직',\n",
              " '방향',\n",
              " '생각',\n",
              " '로봇',\n",
              " '차',\n",
              " '산업혁명',\n",
              " '주요',\n",
              " '성장',\n",
              " '동력',\n",
              " '국내',\n",
              " '로봇',\n",
              " '기업',\n",
              " '재',\n",
              " '평가',\n",
              " '분석',\n",
              " '차',\n",
              " '산업혁명',\n",
              " '시대',\n",
              " '금융',\n",
              " '산업',\n",
              " '전반',\n",
              " '점검',\n",
              " '공통',\n",
              " '간판',\n",
              " '공약',\n",
              " '차',\n",
              " '산업혁명',\n",
              " '선도',\n",
              " '도시',\n",
              " '구현',\n",
              " '과',\n",
              " '가상',\n",
              " '화폐',\n",
              " '블록',\n",
              " '체인',\n",
              " '기술',\n",
              " '활용',\n",
              " '등',\n",
              " '이번',\n",
              " '과정',\n",
              " '차',\n",
              " '산업혁명',\n",
              " '핵심',\n",
              " '기술',\n",
              " '대한',\n",
              " '통찰',\n",
              " '알파',\n",
              " '통해',\n",
              " '우리',\n",
              " '일상',\n",
              " '로봇',\n",
              " '빅데이터',\n",
              " '산업',\n",
              " '흐름',\n",
              " '인공',\n",
              " '지능',\n",
              " '최고',\n",
              " '위',\n",
              " '과정',\n",
              " '산학',\n",
              " '최고',\n",
              " '전문가',\n",
              " '차',\n",
              " '산업혁명',\n",
              " '모든',\n",
              " '기술',\n",
              " '서비스',\n",
              " '구현',\n",
              " '산업혁명',\n",
              " '나라',\n",
              " '영국',\n",
              " '차',\n",
              " '산업혁명',\n",
              " '한국',\n",
              " '영국',\n",
              " '경험',\n",
              " '지혜',\n",
              " '미래',\n",
              " '비즈니스',\n",
              " '포럼',\n",
              " '개최',\n",
              " '전자신문',\n",
              " '라이브',\n",
              " '직업',\n",
              " '위',\n",
              " '차',\n",
              " '산업혁명',\n",
              " '시대',\n",
              " '경쟁력',\n",
              " '확보',\n",
              " '일자리',\n",
              " '창',\n",
              " '해법',\n",
              " '직업',\n",
              " '산업',\n",
              " '진흥',\n",
              " '이',\n",
              " '자신',\n",
              " '역량',\n",
              " '노력',\n",
              " '모두',\n",
              " '제',\n",
              " '직업',\n",
              " '위',\n",
              " '를',\n",
              " '진행',\n",
              " '이번',\n",
              " '전자신문',\n",
              " '라이브',\n",
              " '서울',\n",
              " '대치동',\n",
              " '직업',\n",
              " '교육',\n",
              " '센터',\n",
              " '강',\n",
              " '만구',\n",
              " '직업',\n",
              " '교육',\n",
              " '팀',\n",
              " '지윤',\n",
              " '직업',\n",
              " '리서치',\n",
              " '팀',\n",
              " '수석',\n",
              " '윤석',\n",
              " '테스트',\n",
              " '웍스',\n",
              " '대표',\n",
              " '등',\n",
              " '제',\n",
              " '직업',\n",
              " '위',\n",
              " '최신',\n",
              " '직업',\n",
              " '트렌드',\n",
              " '시간',\n",
              " '마련',\n",
              " '시청',\n",
              " '전자신문',\n",
              " '전자신문',\n",
              " '터',\n",
              " '전자신문',\n",
              " '라이브',\n",
              " '소셜',\n",
              " '방송',\n",
              " '현장',\n",
              " '라이브',\n",
              " '손',\n",
              " '보련',\n",
              " '직업',\n",
              " '위',\n",
              " '산업',\n",
              " '진흥',\n",
              " '직업',\n",
              " '서울',\n",
              " '강',\n",
              " '만구',\n",
              " '지윤',\n",
              " '윤석',\n",
              " '테스트',\n",
              " '웍스',\n",
              " '소프트웨어',\n",
              " '테스',\n",
              " '터',\n",
              " '소프트웨어',\n",
              " '테스',\n",
              " '터',\n",
              " '혹시',\n",
              " '우리나라',\n",
              " '차',\n",
              " '산업혁명',\n",
              " '시대',\n",
              " '일자리',\n",
              " '전략',\n",
              " '강추',\n",
              " '차',\n",
              " '산업혁명',\n",
              " '대응',\n",
              " '가장',\n",
              " '강점',\n",
              " '분야',\n",
              " '세대',\n",
              " '이동통신',\n",
              " '산업',\n",
              " '생태계',\n",
              " '조성',\n",
              " '노력',\n",
              " '강조',\n",
              " '중앙',\n",
              " '부처',\n",
              " '공무원',\n",
              " '차',\n",
              " '산업혁명',\n",
              " '관련',\n",
              " '가장',\n",
              " '대응',\n",
              " '기술',\n",
              " '과제',\n",
              " '로',\n",
              " '빅데이터',\n",
              " '활용',\n",
              " '꼽',\n",
              " '전자신문',\n",
              " '라이브',\n",
              " '직',\n",
              " '격인',\n",
              " '터뷰',\n",
              " '산업',\n",
              " '진흥',\n",
              " '주형',\n",
              " '철',\n",
              " '대표이사',\n",
              " '최근',\n",
              " '급',\n",
              " '공공기관',\n",
              " '차',\n",
              " '산업혁명',\n",
              " '국내',\n",
              " '중소기업',\n",
              " '경쟁력',\n",
              " '일자리',\n",
              " '창',\n",
              " '위해',\n",
              " '노력',\n",
              " '이번',\n",
              " '전자신문',\n",
              " '라이브',\n",
              " '중소기업',\n",
              " '활성화',\n",
              " '일자리',\n",
              " '창',\n",
              " '공공기관',\n",
              " '중',\n",
              " '대표',\n",
              " '사례',\n",
              " '산업',\n",
              " '진흥',\n",
              " '주형',\n",
              " '철',\n",
              " '대표이사',\n",
              " '모시',\n",
              " '이야기',\n",
              " '시간',\n",
              " '진행',\n",
              " '전자신문',\n",
              " '전자신문',\n",
              " '산업',\n",
              " '진흥',\n",
              " '주형',\n",
              " '철',\n",
              " '렬',\n",
              " '차',\n",
              " '산업혁명',\n",
              " '대응',\n",
              " '일자리',\n",
              " '창',\n",
              " '문재인',\n",
              " '정부',\n",
              " '주요',\n",
              " '국정',\n",
              " '과제',\n",
              " '우선',\n",
              " '순위',\n",
              " '지적',\n",
              " '통합',\n",
              " '개혁',\n",
              " '행보',\n",
              " '움직임',\n",
              " '차',\n",
              " '산업혁명',\n",
              " '등',\n",
              " '성장동력',\n",
              " '창',\n",
              " '발짝',\n",
              " '못',\n",
              " '평',\n",
              " '미래창조과학부',\n",
              " '주최',\n",
              " '전자',\n",
              " '신문사',\n",
              " '한국',\n",
              " '경제',\n",
              " '신문',\n",
              " '국정',\n",
              " '보통신',\n",
              " '진흥',\n",
              " '협회',\n",
              " '주관',\n",
              " '서울',\n",
              " '강남구',\n",
              " '삼성동',\n",
              " '코엑스',\n",
              " '개막',\n",
              " '월드',\n",
              " '쇼',\n",
              " '은',\n",
              " '차',\n",
              " '산업혁명',\n",
              " '더',\n",
              " '이상',\n",
              " '개념',\n",
              " '현실',\n",
              " '음',\n",
              " '입증',\n",
              " '전자신문',\n",
              " '라이브',\n",
              " '예고',\n",
              " '이번',\n",
              " '전자신문',\n",
              " '차',\n",
              " '산업혁명',\n",
              " '과학기술',\n",
              " '영상',\n",
              " '컨퍼런스',\n",
              " '생중계',\n",
              " '광운대',\n",
              " '학교',\n",
              " '이승현',\n",
              " '교수',\n",
              " '모시',\n",
              " '진행',\n",
              " '이번',\n",
              " '행사',\n",
              " '기술',\n",
              " '몰힙형',\n",
              " '미디어',\n",
              " '대해',\n",
              " '설명',\n",
              " '이번',\n",
              " '행사',\n",
              " '전자신문',\n",
              " '가상현실',\n",
              " '스튜디오',\n",
              " '솔루션',\n",
              " '제작',\n",
              " '다림',\n",
              " '비젼',\n",
              " '중견',\n",
              " '기업',\n",
              " '차',\n",
              " '산업',\n",
              " '정보',\n",
              " '채널',\n",
              " '를',\n",
              " '통해',\n",
              " '진행',\n",
              " '전세계',\n",
              " '차',\n",
              " '산업',\n",
              " '혁명',\n",
              " '현장',\n",
              " '소식',\n",
              " '정보',\n",
              " '컨퍼런스',\n",
              " '강연',\n",
              " '정보',\n",
              " '기술',\n",
              " '원격',\n",
              " '방송',\n",
              " '기술',\n",
              " '중심',\n",
              " '시간',\n",
              " '거리',\n",
              " '초월',\n",
              " '실시간',\n",
              " '기술',\n",
              " '방송',\n",
              " '서비스',\n",
              " '강의',\n",
              " '전자신문',\n",
              " '페이스북',\n",
              " '통해',\n",
              " '시청',\n",
              " '수',\n",
              " '관심',\n",
              " '대선',\n",
              " '국면',\n",
              " '법안',\n",
              " '시급',\n",
              " '때문',\n",
              " '차',\n",
              " '산업혁명',\n",
              " '대비',\n",
              " '법제',\n",
              " '개편',\n",
              " '논의',\n",
              " '불',\n",
              " '전망',\n",
              " '차',\n",
              " '산업혁명',\n",
              " '시대',\n",
              " '대비',\n",
              " '차',\n",
              " '산업혁명',\n",
              " '의',\n",
              " '이해',\n",
              " '폐막',\n",
              " '다보스',\n",
              " '포럼',\n",
              " '차',\n",
              " '산업혁명',\n",
              " '기대',\n",
              " '우려',\n",
              " '교차',\n",
              " '구글',\n",
              " '애플',\n",
              " '페이스북',\n",
              " '삼성',\n",
              " '전자',\n",
              " '전자',\n",
              " '앞',\n",
              " '차',\n",
              " '산업혁명',\n",
              " '흐름']"
            ]
          },
          "metadata": {},
          "execution_count": 20
        }
      ]
    },
    {
      "cell_type": "code",
      "source": [
        "count3 = Counter(noun_list3)\n",
        "count3"
      ],
      "metadata": {
        "colab": {
          "base_uri": "https://localhost:8080/"
        },
        "id": "BEip92YGzqKZ",
        "outputId": "8b8ea094-5c7a-4d05-f1bc-4c91747ed81d"
      },
      "execution_count": null,
      "outputs": [
        {
          "output_type": "execute_result",
          "data": {
            "text/plain": [
              "Counter({'가상': 1,\n",
              "         '가상현실': 1,\n",
              "         '가장': 2,\n",
              "         '간판': 1,\n",
              "         '강': 2,\n",
              "         '강남구': 1,\n",
              "         '강연': 1,\n",
              "         '강의': 1,\n",
              "         '강점': 1,\n",
              "         '강조': 1,\n",
              "         '강추': 1,\n",
              "         '개념': 1,\n",
              "         '개막': 1,\n",
              "         '개최': 1,\n",
              "         '개편': 1,\n",
              "         '개혁': 1,\n",
              "         '거리': 1,\n",
              "         '격인': 1,\n",
              "         '경쟁력': 2,\n",
              "         '경제': 1,\n",
              "         '경험': 1,\n",
              "         '공공기관': 2,\n",
              "         '공무원': 1,\n",
              "         '공약': 1,\n",
              "         '공통': 1,\n",
              "         '과': 1,\n",
              "         '과정': 2,\n",
              "         '과제': 2,\n",
              "         '과학기술': 1,\n",
              "         '관련': 1,\n",
              "         '관심': 1,\n",
              "         '광운대': 1,\n",
              "         '교수': 1,\n",
              "         '교육': 2,\n",
              "         '교차': 1,\n",
              "         '구글': 1,\n",
              "         '구현': 2,\n",
              "         '국내': 2,\n",
              "         '국면': 1,\n",
              "         '국정': 2,\n",
              "         '그': 1,\n",
              "         '금융': 1,\n",
              "         '급': 1,\n",
              "         '기대': 1,\n",
              "         '기술': 8,\n",
              "         '기업': 3,\n",
              "         '꼽': 1,\n",
              "         '나라': 1,\n",
              "         '노력': 3,\n",
              "         '논의': 1,\n",
              "         '다림': 1,\n",
              "         '다보스': 1,\n",
              "         '대비': 2,\n",
              "         '대선': 1,\n",
              "         '대응': 3,\n",
              "         '대치동': 1,\n",
              "         '대표': 2,\n",
              "         '대표이사': 2,\n",
              "         '대한': 1,\n",
              "         '대해': 1,\n",
              "         '더': 1,\n",
              "         '도시': 1,\n",
              "         '도전': 1,\n",
              "         '동력': 1,\n",
              "         '등': 3,\n",
              "         '때문': 1,\n",
              "         '라이브': 7,\n",
              "         '렬': 1,\n",
              "         '로': 1,\n",
              "         '로봇': 3,\n",
              "         '를': 2,\n",
              "         '리서치': 1,\n",
              "         '마련': 1,\n",
              "         '만구': 2,\n",
              "         '만남': 1,\n",
              "         '모두': 1,\n",
              "         '모든': 1,\n",
              "         '모시': 2,\n",
              "         '몰힙형': 1,\n",
              "         '못': 1,\n",
              "         '문재인': 1,\n",
              "         '문제': 1,\n",
              "         '미디어': 1,\n",
              "         '미래': 3,\n",
              "         '미래창조과학부': 1,\n",
              "         '및': 1,\n",
              "         '발굴': 1,\n",
              "         '발짝': 1,\n",
              "         '방송': 3,\n",
              "         '방향': 1,\n",
              "         '법안': 1,\n",
              "         '법제': 1,\n",
              "         '베이': 1,\n",
              "         '변화': 3,\n",
              "         '보련': 1,\n",
              "         '보통신': 1,\n",
              "         '부처': 1,\n",
              "         '분석': 1,\n",
              "         '분야': 1,\n",
              "         '불': 1,\n",
              "         '블록': 1,\n",
              "         '비젼': 1,\n",
              "         '비즈니스': 1,\n",
              "         '빅데이터': 2,\n",
              "         '사례': 2,\n",
              "         '사회': 3,\n",
              "         '산업': 10,\n",
              "         '산업혁명': 22,\n",
              "         '산학': 1,\n",
              "         '삼성': 1,\n",
              "         '삼성동': 1,\n",
              "         '생각': 1,\n",
              "         '생중계': 1,\n",
              "         '생태계': 1,\n",
              "         '서비스': 2,\n",
              "         '서울': 3,\n",
              "         '선도': 1,\n",
              "         '설명': 1,\n",
              "         '성장': 1,\n",
              "         '성장동력': 1,\n",
              "         '세대': 1,\n",
              "         '센터': 1,\n",
              "         '소셜': 2,\n",
              "         '소식': 1,\n",
              "         '소프트웨어': 2,\n",
              "         '손': 1,\n",
              "         '솔루션': 1,\n",
              "         '쇼': 1,\n",
              "         '수': 1,\n",
              "         '수석': 1,\n",
              "         '순위': 1,\n",
              "         '스튜디오': 1,\n",
              "         '스파크': 3,\n",
              "         '시간': 3,\n",
              "         '시급': 1,\n",
              "         '시대': 7,\n",
              "         '시작': 1,\n",
              "         '시청': 2,\n",
              "         '신문': 1,\n",
              "         '신문사': 1,\n",
              "         '실시간': 1,\n",
              "         '실험': 1,\n",
              "         '알파': 1,\n",
              "         '앞': 1,\n",
              "         '애플': 1,\n",
              "         '역량': 1,\n",
              "         '영국': 2,\n",
              "         '영상': 1,\n",
              "         '예고': 1,\n",
              "         '우려': 1,\n",
              "         '우리': 2,\n",
              "         '우리나라': 1,\n",
              "         '우선': 1,\n",
              "         '움직임': 1,\n",
              "         '웍스': 2,\n",
              "         '원격': 1,\n",
              "         '월드': 1,\n",
              "         '위': 5,\n",
              "         '위해': 2,\n",
              "         '윤석': 2,\n",
              "         '은': 1,\n",
              "         '음': 1,\n",
              "         '의': 1,\n",
              "         '이': 1,\n",
              "         '이노': 1,\n",
              "         '이동통신': 1,\n",
              "         '이번': 6,\n",
              "         '이상': 1,\n",
              "         '이슈': 2,\n",
              "         '이승현': 1,\n",
              "         '이야기': 1,\n",
              "         '이해': 1,\n",
              "         '인공': 1,\n",
              "         '일상': 1,\n",
              "         '일자리': 5,\n",
              "         '입증': 1,\n",
              "         '자리': 1,\n",
              "         '자신': 1,\n",
              "         '재': 1,\n",
              "         '전략': 1,\n",
              "         '전망': 1,\n",
              "         '전문가': 1,\n",
              "         '전반': 1,\n",
              "         '전세계': 1,\n",
              "         '전자': 3,\n",
              "         '전자신문': 13,\n",
              "         '점검': 1,\n",
              "         '정보': 3,\n",
              "         '정부': 1,\n",
              "         '제': 2,\n",
              "         '제기': 1,\n",
              "         '제작': 1,\n",
              "         '조성': 1,\n",
              "         '조직': 4,\n",
              "         '주관': 1,\n",
              "         '주요': 2,\n",
              "         '주최': 1,\n",
              "         '주형': 3,\n",
              "         '중': 1,\n",
              "         '중견': 1,\n",
              "         '중소기업': 2,\n",
              "         '중심': 1,\n",
              "         '중앙': 1,\n",
              "         '지능': 1,\n",
              "         '지원': 1,\n",
              "         '지윤': 2,\n",
              "         '지적': 1,\n",
              "         '지혜': 1,\n",
              "         '직': 1,\n",
              "         '직문': 1,\n",
              "         '직업': 10,\n",
              "         '진행': 4,\n",
              "         '진흥': 6,\n",
              "         '차': 23,\n",
              "         '창': 5,\n",
              "         '채널': 1,\n",
              "         '철': 3,\n",
              "         '체인': 1,\n",
              "         '초월': 1,\n",
              "         '최고': 2,\n",
              "         '최근': 1,\n",
              "         '최신': 1,\n",
              "         '컨퍼런스': 2,\n",
              "         '코엑스': 1,\n",
              "         '터': 4,\n",
              "         '터뷰': 1,\n",
              "         '테스': 2,\n",
              "         '테스트': 2,\n",
              "         '통찰': 1,\n",
              "         '통합': 1,\n",
              "         '통해': 4,\n",
              "         '트렌드': 1,\n",
              "         '팀': 2,\n",
              "         '페이스북': 2,\n",
              "         '평': 1,\n",
              "         '평가': 1,\n",
              "         '폐막': 1,\n",
              "         '포럼': 5,\n",
              "         '학교': 1,\n",
              "         '한국': 2,\n",
              "         '해결': 1,\n",
              "         '해법': 1,\n",
              "         '핵심': 1,\n",
              "         '행보': 1,\n",
              "         '행사': 2,\n",
              "         '혁명': 1,\n",
              "         '혁신': 1,\n",
              "         '현': 1,\n",
              "         '현실': 1,\n",
              "         '현장': 2,\n",
              "         '협회': 1,\n",
              "         '혹시': 1,\n",
              "         '화폐': 1,\n",
              "         '확보': 1,\n",
              "         '확산': 1,\n",
              "         '활성화': 1,\n",
              "         '활용': 2,\n",
              "         '흐름': 2})"
            ]
          },
          "metadata": {},
          "execution_count": 21
        }
      ]
    },
    {
      "cell_type": "code",
      "source": [
        "count3.most_common(5)"
      ],
      "metadata": {
        "colab": {
          "base_uri": "https://localhost:8080/"
        },
        "id": "ECv3GWULz0_m",
        "outputId": "7d1ca69c-c2ea-468c-f256-1545dcfb1c78"
      },
      "execution_count": null,
      "outputs": [
        {
          "output_type": "execute_result",
          "data": {
            "text/plain": [
              "[('차', 23), ('산업혁명', 22), ('전자신문', 13), ('산업', 10), ('직업', 10)]"
            ]
          },
          "metadata": {},
          "execution_count": 22
        }
      ]
    },
    {
      "cell_type": "code",
      "source": [
        "word_count2 = dict()\n",
        "for tag, count in count3.most_common(15):\n",
        "  if(len(tag) >1):\n",
        "    word_count2[tag] = count\n",
        "word_count2"
      ],
      "metadata": {
        "colab": {
          "base_uri": "https://localhost:8080/"
        },
        "id": "fe1UJz2q7w0b",
        "outputId": "eb2e4558-5660-4767-c682-e1e8452a6293"
      },
      "execution_count": null,
      "outputs": [
        {
          "output_type": "execute_result",
          "data": {
            "text/plain": [
              "{'기술': 8,\n",
              " '라이브': 7,\n",
              " '산업': 10,\n",
              " '산업혁명': 22,\n",
              " '시대': 7,\n",
              " '이번': 6,\n",
              " '일자리': 5,\n",
              " '전자신문': 13,\n",
              " '조직': 4,\n",
              " '직업': 10,\n",
              " '진흥': 6,\n",
              " '포럼': 5}"
            ]
          },
          "metadata": {},
          "execution_count": 23
        }
      ]
    },
    {
      "cell_type": "code",
      "source": [
        "import matplotlib.pyplot as plt"
      ],
      "metadata": {
        "id": "p_EL-JG6z6Xf"
      },
      "execution_count": null,
      "outputs": []
    },
    {
      "cell_type": "code",
      "source": [
        "!sudo apt-get install -y fonts-nanum\n",
        "!sudo fc-cache -fv\n",
        "!rm ~/.cache/matplotlib -rf"
      ],
      "metadata": {
        "colab": {
          "base_uri": "https://localhost:8080/"
        },
        "id": "SXqb9fh40CSu",
        "outputId": "95f9366e-2960-4406-a886-79b702fc2098"
      },
      "execution_count": null,
      "outputs": [
        {
          "output_type": "stream",
          "name": "stdout",
          "text": [
            "Reading package lists... Done\n",
            "Building dependency tree       \n",
            "Reading state information... Done\n",
            "fonts-nanum is already the newest version (20170925-1).\n",
            "0 upgraded, 0 newly installed, 0 to remove and 37 not upgraded.\n",
            "/usr/share/fonts: caching, new cache contents: 0 fonts, 1 dirs\n",
            "/usr/share/fonts/truetype: caching, new cache contents: 0 fonts, 3 dirs\n",
            "/usr/share/fonts/truetype/humor-sans: caching, new cache contents: 1 fonts, 0 dirs\n",
            "/usr/share/fonts/truetype/liberation: caching, new cache contents: 16 fonts, 0 dirs\n",
            "/usr/share/fonts/truetype/nanum: caching, new cache contents: 10 fonts, 0 dirs\n",
            "/usr/local/share/fonts: caching, new cache contents: 0 fonts, 0 dirs\n",
            "/root/.local/share/fonts: skipping, no such directory\n",
            "/root/.fonts: skipping, no such directory\n",
            "/var/cache/fontconfig: cleaning cache directory\n",
            "/root/.cache/fontconfig: not cleaning non-existent cache directory\n",
            "/root/.fontconfig: not cleaning non-existent cache directory\n",
            "fc-cache: succeeded\n"
          ]
        }
      ]
    },
    {
      "cell_type": "code",
      "source": [
        "plt.rc('font',family='NanumGothic')"
      ],
      "metadata": {
        "id": "_6wcor0P1OBo"
      },
      "execution_count": null,
      "outputs": []
    },
    {
      "cell_type": "code",
      "source": [
        "# 히스토그램 표시 옵션\n",
        "plt.figure(figsize=(12,5))\n",
        "plt.xlabel('키워드')\n",
        "plt.ylabel('빈도수')\n",
        "# 격자무늬\n",
        "plt.grid(True)\n",
        "\n",
        "plt.bar(range(len(word_count2)),word_count2.values())\n",
        "plt.xticks(range(len(word_count2)),word_count2.keys(),rotation='85')\n",
        "plt.show()"
      ],
      "metadata": {
        "colab": {
          "base_uri": "https://localhost:8080/",
          "height": 361
        },
        "id": "vjMsHewm2o78",
        "outputId": "a9be9356-5a55-46da-d685-3c4d4e8afe14"
      },
      "execution_count": null,
      "outputs": [
        {
          "output_type": "display_data",
          "data": {
            "image/png": "[encoded data removed]",
            "text/plain": [
              "<Figure size 864x360 with 1 Axes>"
            ]
          },
          "metadata": {
            "needs_background": "light"
          }
        }
      ]
    },
    {
      "cell_type": "code",
      "source": [
        "file_name = '/content/여행.json'\n",
        "json_data = json.loads(open(file_name, 'r', encoding='utf-8').read())\n",
        "json_data"
      ],
      "metadata": {
        "id": "aH0SkhDz6mX7",
        "colab": {
          "base_uri": "https://localhost:8080/"
        },
        "outputId": "2c903b7a-c544-4493-d959-3fffd5fb393b"
      },
      "execution_count": 28,
      "outputs": [
        {
          "output_type": "execute_result",
          "data": {
            "text/plain": [
              "{'feed': {'author': '',\n",
              "  'description': '동아닷컴::RSS 서비스 | 동아일보 여행 뉴스',\n",
              "  'image': 'http://www.donga.com/news/04img/logo_com.gif',\n",
              "  'link': 'https://www.donga.com/',\n",
              "  'title': '동아닷컴 : 동아일보 여행 뉴스',\n",
              "  'url': 'https://rss.donga.com/travel.xml'},\n",
              " 'items': [{'author': '',\n",
              "   'categories': [],\n",
              "   'content': '\\n<img src=\"https://dimg.donga.com/i/150/150/90/wps/NEWS/IMAGE/2021/12/15/110799777.1.jpg\" align=\"left\" vspace=\"10\" hspace=\"10\">국내 최초 글로벌 테마파크로 내년 어린이날 개장 예정인 레고랜드코리아리조트(레고랜드코리아)는 연말 시즌을 맞아 ‘크리스마스 스페셜 1일 예매권’을 판매한다고 15일 밝혔다.  해당 예매권은 일명 ‘오픈 티켓’으로 이달 말까지 레고랜드코리아 공식 홈페이지에서 판매된다. 예매권 구매 시점에 레고랜드 방문 일자를 미리 지정하지 않아도 되는 1일 이용권으로 사용 유효기간은 내년 개장일(2022년 5월 5일)부터 2022년 12월 31일까지다. 레고랜드는 오픈 후 예약제로 운영된다. 이번 스페셜 예매권을 구매한 소비자는 구입 후 발송된 예약 링크를 통해 원하는 방문 일자를 정할 수 있다. 예약을 완료하면 QR코드가 전송된다. 방문 시에는 현장 직원에게 QR코드를 보여준 후 입장하면 된다. 스페셜 예매권 가격은 성인 및 13세 이상 청소년은 5만 원, 만 2세~12세 어린이는 4만 원이다. 정상가보다 각각 1만 원씩 저렴하다.레고랜드코리아는 오는 25일까지 스타필드 안성에서 ‘레고코리아 로드쇼’를 팝업스토어 방식으',\n",
              "   'description': '\\n<img src=\"https://dimg.donga.com/i/150/150/90/wps/NEWS/IMAGE/2021/12/15/110799777.1.jpg\" align=\"left\" vspace=\"10\" hspace=\"10\">국내 최초 글로벌 테마파크로 내년 어린이날 개장 예정인 레고랜드코리아리조트(레고랜드코리아)는 연말 시즌을 맞아 ‘크리스마스 스페셜 1일 예매권’을 판매한다고 15일 밝혔다.  해당 예매권은 일명 ‘오픈 티켓’으로 이달 말까지 레고랜드코리아 공식 홈페이지에서 판매된다. 예매권 구매 시점에 레고랜드 방문 일자를 미리 지정하지 않아도 되는 1일 이용권으로 사용 유효기간은 내년 개장일(2022년 5월 5일)부터 2022년 12월 31일까지다. 레고랜드는 오픈 후 예약제로 운영된다. 이번 스페셜 예매권을 구매한 소비자는 구입 후 발송된 예약 링크를 통해 원하는 방문 일자를 정할 수 있다. 예약을 완료하면 QR코드가 전송된다. 방문 시에는 현장 직원에게 QR코드를 보여준 후 입장하면 된다. 스페셜 예매권 가격은 성인 및 13세 이상 청소년은 5만 원, 만 2세~12세 어린이는 4만 원이다. 정상가보다 각각 1만 원씩 저렴하다.레고랜드코리아는 오는 25일까지 스타필드 안성에서 ‘레고코리아 로드쇼’를 팝업스토어 방식으',\n",
              "   'enclosure': {'link': 'https://dimg.donga.com/i/150/150/90/wps/NEWS/IMAGE/2021/12/15/110799777.1.jpg',\n",
              "    'type': 'image/jpg'},\n",
              "   'guid': '870c46d23cae8040d31305b66d89684e',\n",
              "   'link': 'https://www.donga.com/news/Culture/article/all/20211215/110799816/1',\n",
              "   'pubDate': '2021-12-15 06:10:00',\n",
              "   'thumbnail': 'https://dimg.donga.com/i/150/150/90/wps/NEWS/IMAGE/2021/12/15/110799777.1.jpg',\n",
              "   'title': '레고랜드코리아, ‘오픈 티켓’ 스페셜 1일 예매권 출시'},\n",
              "  {'author': '',\n",
              "   'categories': [],\n",
              "   'content': '\\n<img src=\"https://dimg.donga.com/i/150/150/90/wps/NEWS/IMAGE/2021/12/14/110784416.2.jpg\" align=\"left\" vspace=\"10\" hspace=\"10\">미국 질병통제예방센터(CDC)가 코로나19 신종 변이 오미크론 확산 우려에 이탈리아 등 3곳을 여행경보 4단계 국가에 추가했다.  14일(현지시간) 미국 CNN에 따르면 CDC는 코로나19 주간 여행 경보 업데이트를 통해 이탈리아, 그린란드, 모리셔스를 기존 3단계에서 4단계로 격상했다.  CDC는 여행경보를 1~4단계로 나눠 해당 국가 여행자에 대한 권고를 내리고 있다. 1단계는 여행 전 백신 접종 완료, 2단계는 중증 위험 있는 비접종자의 비필수적 여행 자제를 권고한다.  3단계는 중증 위험과 관계없이 비접종자의 비필수 여행 자제를 권하며, 최고 단계인 4단계는 여행을 피할 것을 권고한다. 일반적으로 4단계는 최근 28일간 인구 10만명당 확진자가 500명 이상인 지역에 내려진다.  앞서 CDC는 지난주 프랑스·안도라·키프로스·요르단·리히텐슈타인·포르투갈·탄자니아 등 7개 국가를 4단계로 격상했다.  유럽에선 오미크론이 빠른 속도로 확산하고 있어 각국에 비상이 걸린 상태다.  보리스 존슨 영국 총리는',\n",
              "   'description': '\\n<img src=\"https://dimg.donga.com/i/150/150/90/wps/NEWS/IMAGE/2021/12/14/110784416.2.jpg\" align=\"left\" vspace=\"10\" hspace=\"10\">미국 질병통제예방센터(CDC)가 코로나19 신종 변이 오미크론 확산 우려에 이탈리아 등 3곳을 여행경보 4단계 국가에 추가했다.  14일(현지시간) 미국 CNN에 따르면 CDC는 코로나19 주간 여행 경보 업데이트를 통해 이탈리아, 그린란드, 모리셔스를 기존 3단계에서 4단계로 격상했다.  CDC는 여행경보를 1~4단계로 나눠 해당 국가 여행자에 대한 권고를 내리고 있다. 1단계는 여행 전 백신 접종 완료, 2단계는 중증 위험 있는 비접종자의 비필수적 여행 자제를 권고한다.  3단계는 중증 위험과 관계없이 비접종자의 비필수 여행 자제를 권하며, 최고 단계인 4단계는 여행을 피할 것을 권고한다. 일반적으로 4단계는 최근 28일간 인구 10만명당 확진자가 500명 이상인 지역에 내려진다.  앞서 CDC는 지난주 프랑스·안도라·키프로스·요르단·리히텐슈타인·포르투갈·탄자니아 등 7개 국가를 4단계로 격상했다.  유럽에선 오미크론이 빠른 속도로 확산하고 있어 각국에 비상이 걸린 상태다.  보리스 존슨 영국 총리는',\n",
              "   'enclosure': {'link': 'https://dimg.donga.com/i/150/150/90/wps/NEWS/IMAGE/2021/12/14/110784416.2.jpg',\n",
              "    'type': 'image/jpg'},\n",
              "   'guid': 'ad13e1fa0fde761d2a5fed0499c54015',\n",
              "   'link': 'https://www.donga.com/news/Inter/article/all/20211214/110784661/1',\n",
              "   'pubDate': '2021-12-14 08:38:00',\n",
              "   'thumbnail': 'https://dimg.donga.com/i/150/150/90/wps/NEWS/IMAGE/2021/12/14/110784416.2.jpg',\n",
              "   'title': '美CDC, 오미크론 우려에 伊 등 여행경보 ‘4단계’ 상향'},\n",
              "  {'author': '',\n",
              "   'categories': [],\n",
              "   'content': '\\n<img src=\"https://dimg.donga.com/i/150/150/90/wps/NEWS/IMAGE/2021/12/14/110777955.2.jpg\" align=\"left\" vspace=\"10\" hspace=\"10\">신종 코로나바이러스 감염증(코로나19) 시대에 대부분 전망은 엇나갔고 내년을 전망하는 누구라도 확신하기는 힘들 것이다. 이코노미스트들 역시 경제를 전망하기 그 어느 때보다 부담스러운 모습이다. 많은 이코노미스트들은 내년 물가압박은 줄고 경제회복은 견조하며 통화정책도 정상화로 전환할 것이라고 기본적으로 전망한다.   하지만 언제나 돌발 변수는 존재하고 팬데믹 시대에 돌발 변수들은 차고 넘친다. 블룸버그는 13일 ‘내년 경제를 위협하는 최대 위험’이라며 오미크론 변이, 지속적 인플레이션, 미국의 금리인상, 중국 헝다그룹(에버그란데) 파산, 하드 브렉시트, 새로운 유로위기, 식품가격 상승, 중동 지역위기 등을 거론했다.   오미크론 변이가 높은 전염성에도 치명률은 낮은 것으로 판명되면 세계 성장률은 기존 예상 4.7%보다 높은 5.1%까지 상승할 수 있다고 통신은 예상했다. 하지만 오미크론이 치명률까지 높인다면 얘기는 달라진다. 올해 최고수준의 제한조치를 3개월만 지속해도 내년 세계 경제성장률은 4.2%로 내',\n",
              "   'description': '\\n<img src=\"https://dimg.donga.com/i/150/150/90/wps/NEWS/IMAGE/2021/12/14/110777955.2.jpg\" align=\"left\" vspace=\"10\" hspace=\"10\">신종 코로나바이러스 감염증(코로나19) 시대에 대부분 전망은 엇나갔고 내년을 전망하는 누구라도 확신하기는 힘들 것이다. 이코노미스트들 역시 경제를 전망하기 그 어느 때보다 부담스러운 모습이다. 많은 이코노미스트들은 내년 물가압박은 줄고 경제회복은 견조하며 통화정책도 정상화로 전환할 것이라고 기본적으로 전망한다.   하지만 언제나 돌발 변수는 존재하고 팬데믹 시대에 돌발 변수들은 차고 넘친다. 블룸버그는 13일 ‘내년 경제를 위협하는 최대 위험’이라며 오미크론 변이, 지속적 인플레이션, 미국의 금리인상, 중국 헝다그룹(에버그란데) 파산, 하드 브렉시트, 새로운 유로위기, 식품가격 상승, 중동 지역위기 등을 거론했다.   오미크론 변이가 높은 전염성에도 치명률은 낮은 것으로 판명되면 세계 성장률은 기존 예상 4.7%보다 높은 5.1%까지 상승할 수 있다고 통신은 예상했다. 하지만 오미크론이 치명률까지 높인다면 얘기는 달라진다. 올해 최고수준의 제한조치를 3개월만 지속해도 내년 세계 경제성장률은 4.2%로 내',\n",
              "   'enclosure': {'link': 'https://dimg.donga.com/i/150/150/90/wps/NEWS/IMAGE/2021/12/14/110777955.2.jpg',\n",
              "    'type': 'image/jpg'},\n",
              "   'guid': 'a7af8d1a8fd661656e4511e514aef652',\n",
              "   'link': 'https://www.donga.com/news/Inter/article/all/20211214/110777960/1',\n",
              "   'pubDate': '2021-12-14 04:14:00',\n",
              "   'thumbnail': 'https://dimg.donga.com/i/150/150/90/wps/NEWS/IMAGE/2021/12/14/110777955.2.jpg',\n",
              "   'title': '“오미크론에 여행업계 다시 위축되면 스태그플레이션”'},\n",
              "  {'author': '',\n",
              "   'categories': [],\n",
              "   'content': '\\n<img src=\"https://dimg.donga.com/i/150/150/90/wps/NEWS/IMAGE/2021/12/10/110732456.1.jpg\" align=\"left\" vspace=\"10\" hspace=\"10\">《경남 진주시를 흠뻑 적시며 흘러가는 남강은 물길의 방향이 예사롭지 않다. 한강, 금강, 영산강 등 우리나라 강은 동쪽이 높고 서쪽이 낮은 지형적 조건에 따라 대체로 동쪽에서 서쪽으로 흐른다. 반면 남강은 서쪽에서 동쪽으로 흐르는 서출동류(西出東流) 물길이다. 동양 인문지리학에서는 동고서저(東高西低) 지형에서 서출동류를 귀하게 여긴다. 산과 물이 음양의 조화를 이뤄 땅에서 좋은 기운을 맺을 수 있기 때문이다. 남강 오백리 물길을 따라 삼성가, LG가, 효성가 등 한국을 대표하는 재벌이 탄생했다는 풍수적 진단의 근거이기도 하다. 풍요의 상징인 남강 물길을 따라가다 보면 가슴 찡한 우리 역사와 신비한 전설도 만나는 체험을 할 수 있다.》',\n",
              "   'description': '\\n<img src=\"https://dimg.donga.com/i/150/150/90/wps/NEWS/IMAGE/2021/12/10/110732456.1.jpg\" align=\"left\" vspace=\"10\" hspace=\"10\">《경남 진주시를 흠뻑 적시며 흘러가는 남강은 물길의 방향이 예사롭지 않다. 한강, 금강, 영산강 등 우리나라 강은 동쪽이 높고 서쪽이 낮은 지형적 조건에 따라 대체로 동쪽에서 서쪽으로 흐른다. 반면 남강은 서쪽에서 동쪽으로 흐르는 서출동류(西出東流) 물길이다. 동양 인문지리학에서는 동고서저(東高西低) 지형에서 서출동류를 귀하게 여긴다. 산과 물이 음양의 조화를 이뤄 땅에서 좋은 기운을 맺을 수 있기 때문이다. 남강 오백리 물길을 따라 삼성가, LG가, 효성가 등 한국을 대표하는 재벌이 탄생했다는 풍수적 진단의 근거이기도 하다. 풍요의 상징인 남강 물길을 따라가다 보면 가슴 찡한 우리 역사와 신비한 전설도 만나는 체험을 할 수 있다.》',\n",
              "   'enclosure': {'link': 'https://dimg.donga.com/i/150/150/90/wps/NEWS/IMAGE/2021/12/10/110732456.1.jpg',\n",
              "    'type': 'image/jpg'},\n",
              "   'guid': '05e0f269dd64f38c801e4e5cdace33c7',\n",
              "   'link': 'https://www.donga.com/news/Culture/article/all/20211210/110732481/1',\n",
              "   'pubDate': '2021-12-10 18:00:00',\n",
              "   'thumbnail': 'https://dimg.donga.com/i/150/150/90/wps/NEWS/IMAGE/2021/12/10/110732456.1.jpg',\n",
              "   'title': '꽃보다 붉은 충절의 물결따라 巨富의 황금빛 전설이 흐른다'},\n",
              "  {'author': '',\n",
              "   'categories': [],\n",
              "   'content': '\\n<img src=\"https://dimg.donga.com/i/150/150/90/wps/NEWS/IMAGE/2021/12/10/110730664.1.jpg\" align=\"left\" vspace=\"10\" hspace=\"10\">롯데관광개발은 제주 드림타워 복합리조트 내 그랜드하얏트 제주 스위트(130㎡, 40평)에서 호캉스를 즐길 수 있는 ‘럭셔리 스위트스테이(Luxury Suite Stay) 패키지’를 10일 선보였다.  럭셔리 스위트스테이 패키지는 스위트 룸 1박을 기본으로 그랜드 스위트와 프리미어 스위트, 코너 스위트 등을 선택할 수 있다. 객실 내에서 바다와 한라산, 공항과 도심까지 제주의 아름다운 풍광을 2.7m 높이 통유리를 통해 파노라믹 뷰로 즐길 수 있다고 소개했다.  성인 3인까지 무료 투숙이 가능하고 객실 상황에 따라 오후 3시 레이트 체크아웃이 가능해 여유롭게 패키지를 이용할 수 있다고 한다. 가격은 50만 원대부터다.투숙객은 탁 트인 뷰를 즐길 수 있어 핫플레이스로 꼽히는 ‘야외 풀데크’를 이용할 수 있다. 연면적 4290㎡ 규모로 제주지역에서 가장 수영시설이라고 한다. 온수풀을 운영해 사계절 내내 이용할 수 있도록 했다. 아시아·태평양지역 최대 규모 하얏트 라운지인 ‘그랜드클럽’ 이용 혜택도 추가할 수',\n",
              "   'description': '\\n<img src=\"https://dimg.donga.com/i/150/150/90/wps/NEWS/IMAGE/2021/12/10/110730664.1.jpg\" align=\"left\" vspace=\"10\" hspace=\"10\">롯데관광개발은 제주 드림타워 복합리조트 내 그랜드하얏트 제주 스위트(130㎡, 40평)에서 호캉스를 즐길 수 있는 ‘럭셔리 스위트스테이(Luxury Suite Stay) 패키지’를 10일 선보였다.  럭셔리 스위트스테이 패키지는 스위트 룸 1박을 기본으로 그랜드 스위트와 프리미어 스위트, 코너 스위트 등을 선택할 수 있다. 객실 내에서 바다와 한라산, 공항과 도심까지 제주의 아름다운 풍광을 2.7m 높이 통유리를 통해 파노라믹 뷰로 즐길 수 있다고 소개했다.  성인 3인까지 무료 투숙이 가능하고 객실 상황에 따라 오후 3시 레이트 체크아웃이 가능해 여유롭게 패키지를 이용할 수 있다고 한다. 가격은 50만 원대부터다.투숙객은 탁 트인 뷰를 즐길 수 있어 핫플레이스로 꼽히는 ‘야외 풀데크’를 이용할 수 있다. 연면적 4290㎡ 규모로 제주지역에서 가장 수영시설이라고 한다. 온수풀을 운영해 사계절 내내 이용할 수 있도록 했다. 아시아·태평양지역 최대 규모 하얏트 라운지인 ‘그랜드클럽’ 이용 혜택도 추가할 수',\n",
              "   'enclosure': {'link': 'https://dimg.donga.com/i/150/150/90/wps/NEWS/IMAGE/2021/12/10/110730664.1.jpg',\n",
              "    'type': 'image/jpg'},\n",
              "   'guid': 'e61adb6ce9369ff0ffb57972f2adbeb0',\n",
              "   'link': 'https://www.donga.com/news/Culture/article/all/20211210/110730675/1',\n",
              "   'pubDate': '2021-12-10 09:33:00',\n",
              "   'thumbnail': 'https://dimg.donga.com/i/150/150/90/wps/NEWS/IMAGE/2021/12/10/110730664.1.jpg',\n",
              "   'title': '롯데관광개발, 제주 드림타워 ‘그랜드하얏트 럭셔리 스위트스테이 패키지’ 출시'},\n",
              "  {'author': '',\n",
              "   'categories': [],\n",
              "   'content': '\\n<img src=\"https://dimg.donga.com/i/150/150/90/wps/NEWS/IMAGE/2021/12/10/110717805.1.jpg\" align=\"left\" vspace=\"10\" hspace=\"10\">신종 코로나바이러스 감염증(코로나19)이 확산되면서 한동안 주춤했던 제주지역 크루즈 관광이 다시 손님 맞을 준비가 한창이다. ‘오미크론 변이’가 새로운 변수로 등장했지만 크루즈 업체와 관광업계 등은 관광 정상화에 대비해 해외 마케팅에 적극 나서고 있다. 제주도와 제주관광공사는 7일 일본 크루즈 관계자를 대상으로 온라인 설명회를 가졌다. 대만 여행업계에 이어 두 번째로 가진 설명회다. 국내 크루즈 관광이 다시 정상화되면 대만과 일본에서 출발하는 크루즈 선박이 제주도로 들어올 가능성이 높아 두 나라를 대상으로 사전 마케팅에 나선 것이다. 크루즈관광은 지난해 3월 사실상 중단됐다. 하지만 방역 안전 지역에 대한 여행과 크루즈 방역 협약이 구축됨에 따라 대만은 4개월여 만에 다시 시작됐다. 일본도 올해 연안 크루즈 관광을 허용했다. 설명회는 크루즈 선사, 여행사 관계자 등을 대상으로 진행했다. 대만·일본 관광객이 선호하는 △꽃 테마 관광지 △코로나19 이후 새로 발굴한 관광지 △이색 체험',\n",
              "   'description': '\\n<img src=\"https://dimg.donga.com/i/150/150/90/wps/NEWS/IMAGE/2021/12/10/110717805.1.jpg\" align=\"left\" vspace=\"10\" hspace=\"10\">신종 코로나바이러스 감염증(코로나19)이 확산되면서 한동안 주춤했던 제주지역 크루즈 관광이 다시 손님 맞을 준비가 한창이다. ‘오미크론 변이’가 새로운 변수로 등장했지만 크루즈 업체와 관광업계 등은 관광 정상화에 대비해 해외 마케팅에 적극 나서고 있다. 제주도와 제주관광공사는 7일 일본 크루즈 관계자를 대상으로 온라인 설명회를 가졌다. 대만 여행업계에 이어 두 번째로 가진 설명회다. 국내 크루즈 관광이 다시 정상화되면 대만과 일본에서 출발하는 크루즈 선박이 제주도로 들어올 가능성이 높아 두 나라를 대상으로 사전 마케팅에 나선 것이다. 크루즈관광은 지난해 3월 사실상 중단됐다. 하지만 방역 안전 지역에 대한 여행과 크루즈 방역 협약이 구축됨에 따라 대만은 4개월여 만에 다시 시작됐다. 일본도 올해 연안 크루즈 관광을 허용했다. 설명회는 크루즈 선사, 여행사 관계자 등을 대상으로 진행했다. 대만·일본 관광객이 선호하는 △꽃 테마 관광지 △코로나19 이후 새로 발굴한 관광지 △이색 체험',\n",
              "   'enclosure': {'link': 'https://dimg.donga.com/i/150/150/90/wps/NEWS/IMAGE/2021/12/10/110717805.1.jpg',\n",
              "    'type': 'image/jpg'},\n",
              "   'guid': '08514eeafa5b68fc6d69cd41cdca12b2',\n",
              "   'link': 'https://www.donga.com/news/Society/article/all/20211209/110717075/1',\n",
              "   'pubDate': '2021-12-09 18:00:00',\n",
              "   'thumbnail': 'https://dimg.donga.com/i/150/150/90/wps/NEWS/IMAGE/2021/12/10/110717805.1.jpg',\n",
              "   'title': '제주도, 크루즈관광 재개 대비해 해외 마케팅 기지개'},\n",
              "  {'author': '',\n",
              "   'categories': [],\n",
              "   'content': '\\n<img src=\"https://dimg.donga.com/i/150/150/90/wps/NEWS/IMAGE/2021/12/09/110710233.2.jpg\" align=\"left\" vspace=\"10\" hspace=\"10\">지난해 코로나19 팬데믹(세계적 대유행) 영향으로 임원 규모를 축소했던 호텔신라가 올해는 임원 4명을 승진시키는 인사를 단행했다.  호텔신라는 2022년 정기 임원인사를 통해 김보연 TR(면세점)한국이커머스 팀장 등 4명을 상무로 승진하는 인사를 실시했다고 9일 밝혔다.   김보연 팀장과 함께 김지훈 경영전략 팀장과 성윤기 호텔&amp;레저지원 팀장, 신창하 면세점 홍콩법인장 등이 상무로 승진했다.  어려운 경영환경 속에서 성과 창출에 대한 기여가 크고 리더십과 전문성을 보유해 향후 성장성이 높은 우수인력을 이번 승진 대상자로 선정했다고 한다.  호텔신라 관계자는 “이번 인사를 기반으로 코로나19 안정화 이후 미래를 대비하고 회사의 중장기 지속 성장을 위해 더욱 매진해 나갈 것”이라고 말했다.동아닷컴 김민범 기자 mbkim@donga.com',\n",
              "   'description': '\\n<img src=\"https://dimg.donga.com/i/150/150/90/wps/NEWS/IMAGE/2021/12/09/110710233.2.jpg\" align=\"left\" vspace=\"10\" hspace=\"10\">지난해 코로나19 팬데믹(세계적 대유행) 영향으로 임원 규모를 축소했던 호텔신라가 올해는 임원 4명을 승진시키는 인사를 단행했다.  호텔신라는 2022년 정기 임원인사를 통해 김보연 TR(면세점)한국이커머스 팀장 등 4명을 상무로 승진하는 인사를 실시했다고 9일 밝혔다.   김보연 팀장과 함께 김지훈 경영전략 팀장과 성윤기 호텔&amp;레저지원 팀장, 신창하 면세점 홍콩법인장 등이 상무로 승진했다.  어려운 경영환경 속에서 성과 창출에 대한 기여가 크고 리더십과 전문성을 보유해 향후 성장성이 높은 우수인력을 이번 승진 대상자로 선정했다고 한다.  호텔신라 관계자는 “이번 인사를 기반으로 코로나19 안정화 이후 미래를 대비하고 회사의 중장기 지속 성장을 위해 더욱 매진해 나갈 것”이라고 말했다.동아닷컴 김민범 기자 mbkim@donga.com',\n",
              "   'enclosure': {'link': 'https://dimg.donga.com/i/150/150/90/wps/NEWS/IMAGE/2021/12/09/110710233.2.jpg',\n",
              "    'type': 'image/jpg'},\n",
              "   'guid': 'f478fbda571da6e8199b1dcd86a504bd',\n",
              "   'link': 'https://www.donga.com/news/Culture/article/all/20211209/110710270/1',\n",
              "   'pubDate': '2021-12-09 06:36:00',\n",
              "   'thumbnail': 'https://dimg.donga.com/i/150/150/90/wps/NEWS/IMAGE/2021/12/09/110710233.2.jpg',\n",
              "   'title': '호텔신라, 올해 임원 4명 승진… “포스트 코로나 대비”'},\n",
              "  {'author': '',\n",
              "   'categories': [],\n",
              "   'content': '\\n<img src=\"https://dimg.donga.com/i/150/150/90/wps/NEWS/IMAGE/2021/12/09/110708717.2.jpg\" align=\"left\" vspace=\"10\" hspace=\"10\">체코관광청이 한국 여행객을 대상으로 ‘크리스마스 선물 이벤트’를 실시한다고 9일 밝혔다.   이번 이벤트는 크리스마스이브 전날인 23일까지 매일 한 명을 추첨해 체코천연 유기농 화장품인 ‘므첼리 부케’를 선물을 증정하는 행사다.    참여 방법은 우선 체코관광청 공식 인스타그램을 팔로우하고 매일 올라오는 체코관광청 피드(게시물)에 ‘좋아요’를 누르면 된다. 그리고 해당 피드에서 던지는 질문에 대한 대답을 남기면 응모가 완료된다. 친구를 소환하면 당첨 확률이 올라간다.   당첨자 발표는 피드가 올라간 다음 날, 인스타 스토리에서 공개한다.  아울러 관광청은 이벤트 기간 매주 화요일과 금요일에 추가 이벤트를 연다. 자세한 이벤트는 인스타그램 피드를 통해 깜짝 공개할 예정이다.    관광청이 준비한 선물은 ‘므첼리 부케’로 프라하 인기 5성급 호텔인 고성 호텔 샤토 므첼리에서 만들어진 천연 유기농 화장품이다. 호텔만의 전통 비법으로 제조하는 것이 특징이며 웰니스, 스파 등에 사용 및 판매 중이다.  이벤트 당',\n",
              "   'description': '\\n<img src=\"https://dimg.donga.com/i/150/150/90/wps/NEWS/IMAGE/2021/12/09/110708717.2.jpg\" align=\"left\" vspace=\"10\" hspace=\"10\">체코관광청이 한국 여행객을 대상으로 ‘크리스마스 선물 이벤트’를 실시한다고 9일 밝혔다.   이번 이벤트는 크리스마스이브 전날인 23일까지 매일 한 명을 추첨해 체코천연 유기농 화장품인 ‘므첼리 부케’를 선물을 증정하는 행사다.    참여 방법은 우선 체코관광청 공식 인스타그램을 팔로우하고 매일 올라오는 체코관광청 피드(게시물)에 ‘좋아요’를 누르면 된다. 그리고 해당 피드에서 던지는 질문에 대한 대답을 남기면 응모가 완료된다. 친구를 소환하면 당첨 확률이 올라간다.   당첨자 발표는 피드가 올라간 다음 날, 인스타 스토리에서 공개한다.  아울러 관광청은 이벤트 기간 매주 화요일과 금요일에 추가 이벤트를 연다. 자세한 이벤트는 인스타그램 피드를 통해 깜짝 공개할 예정이다.    관광청이 준비한 선물은 ‘므첼리 부케’로 프라하 인기 5성급 호텔인 고성 호텔 샤토 므첼리에서 만들어진 천연 유기농 화장품이다. 호텔만의 전통 비법으로 제조하는 것이 특징이며 웰니스, 스파 등에 사용 및 판매 중이다.  이벤트 당',\n",
              "   'enclosure': {'link': 'https://dimg.donga.com/i/150/150/90/wps/NEWS/IMAGE/2021/12/09/110708717.2.jpg',\n",
              "    'type': 'image/jpg'},\n",
              "   'guid': '6104dc830163a354a03f66b5e565da9b',\n",
              "   'link': 'https://www.donga.com/news/Culture/article/all/20211209/110708822/1',\n",
              "   'pubDate': '2021-12-09 06:04:00',\n",
              "   'thumbnail': 'https://dimg.donga.com/i/150/150/90/wps/NEWS/IMAGE/2021/12/09/110708717.2.jpg',\n",
              "   'title': '체코관광청, 매일 하루에 하나씩  ‘크리스마스 선물’ 준다'},\n",
              "  {'author': '',\n",
              "   'categories': [],\n",
              "   'content': '\\n<img src=\"https://dimg.donga.com/i/150/150/90/wps/NEWS/IMAGE/2021/12/08/110679110.2.jpg\" align=\"left\" vspace=\"10\" hspace=\"10\">전남 순천시가 ‘2021 여름휴가 여행지 만족도 조사’에서 전국 1위를 차지했다.  8일 순천시에 따르면 여행 전문 리서치기관인 ‘컨슈머인사이트’는 올해 1박 이상 국내 여름휴가를 6~8월 다녀왔다고 응답한 1만8081명을 대상으로 여름휴가지 만족도와 휴가지로의 추천 의사 여부에 대해 ‘2021년 국내 여름휴가 만족도’를 조사했다.  순천시는 이번 조사에서 만족도 합산 결과 805점으로 1위에 올랐다. 순천시는 지난 2018년 1위 이후 하락세를 보이다 올해 전국 시군 중 가장 큰 상승폭인 85점을 기록하며 지난해 23위에서 단숨에 1위로 올라섰다.  코로나19 이후 도심을 벗어나 자연에서 휴식을 선호하는 언택트 소규모 여행 경향이 지속되는 가운데 순천시의 대표 관광지인 순천만국가정원과 습지, 낙안읍성, 와온해변 등 다양한 언택트 여행을 즐길 수 있다는 것이 순천의 매력으로 분석됐다.  순천시 관계자는 “이번 만족도 조사는 위드코로나 여행 트렌드인 느림, 멈춤, 여유, 힐링에 어울리는 도시는 순천이라는',\n",
              "   'description': '\\n<img src=\"https://dimg.donga.com/i/150/150/90/wps/NEWS/IMAGE/2021/12/08/110679110.2.jpg\" align=\"left\" vspace=\"10\" hspace=\"10\">전남 순천시가 ‘2021 여름휴가 여행지 만족도 조사’에서 전국 1위를 차지했다.  8일 순천시에 따르면 여행 전문 리서치기관인 ‘컨슈머인사이트’는 올해 1박 이상 국내 여름휴가를 6~8월 다녀왔다고 응답한 1만8081명을 대상으로 여름휴가지 만족도와 휴가지로의 추천 의사 여부에 대해 ‘2021년 국내 여름휴가 만족도’를 조사했다.  순천시는 이번 조사에서 만족도 합산 결과 805점으로 1위에 올랐다. 순천시는 지난 2018년 1위 이후 하락세를 보이다 올해 전국 시군 중 가장 큰 상승폭인 85점을 기록하며 지난해 23위에서 단숨에 1위로 올라섰다.  코로나19 이후 도심을 벗어나 자연에서 휴식을 선호하는 언택트 소규모 여행 경향이 지속되는 가운데 순천시의 대표 관광지인 순천만국가정원과 습지, 낙안읍성, 와온해변 등 다양한 언택트 여행을 즐길 수 있다는 것이 순천의 매력으로 분석됐다.  순천시 관계자는 “이번 만족도 조사는 위드코로나 여행 트렌드인 느림, 멈춤, 여유, 힐링에 어울리는 도시는 순천이라는',\n",
              "   'enclosure': {'link': 'https://dimg.donga.com/i/150/150/90/wps/NEWS/IMAGE/2021/12/08/110679110.2.jpg',\n",
              "    'type': 'image/jpg'},\n",
              "   'guid': '342a4487f7640bd816b4a44779e9bb58',\n",
              "   'link': 'https://www.donga.com/news/Society/article/all/20211208/110679264/1',\n",
              "   'pubDate': '2021-12-08 05:47:00',\n",
              "   'thumbnail': 'https://dimg.donga.com/i/150/150/90/wps/NEWS/IMAGE/2021/12/08/110679110.2.jpg',\n",
              "   'title': '올해 여름휴가 여행지 만족도 전국 1위 지자체는…순천시'},\n",
              "  {'author': '',\n",
              "   'categories': [],\n",
              "   'content': '\\n<img src=\"https://dimg.donga.com/i/150/150/90/wps/NEWS/IMAGE/2021/12/06/110623040.1.jpg\" align=\"left\" vspace=\"10\" hspace=\"10\">‘야간(夜間)에서 관광의 답(答)을 찾다.’ 대전시와 충남 공주시·부여군, 전북 익산시 등 금강이 흐르는 백제권 지방자치단체들이 관광 활성화를 위해 ‘야간’으로 눈을 돌리기 시작했다. ‘부울경(부산·울산·경남)’ 등 신라역사권에 비해 상대적으로 열악한 관광 여건을 헤쳐 나가기 위해 ‘야간관광’에서 답을 찾겠다는 것이다. 문화체육관광부가 국내 관광 활성화를 위해 추진하는 ‘대한민국 테마여행 10선’ 제9권역인 이 4개 지자체와 9권역 사업단(단장 정강환 배재대 관광축제대학원장)은 3일 대전에서 ‘백제권 관광 활성화를 위한 백제루트 개발’을 주제로 제5차 금강역사 관광포럼을 열고 ‘백제권 야간관광 시범지구’ 지정을 추진하기로 결의했다. 또 내년 3월 대선 후보와 각 정당 선거대책위원회, 6월 지방선거 출마예정자에게 이를 공약으로 채택해 줄 것을 공동 건의하기로 했다.●관광, 이제는 야간이다‘야간관광’은 세계적인 관광 트렌드로 떠오르고 있다. 런던과 암스테르담, 뉴욕 등 20여 개 해외',\n",
              "   'description': '\\n<img src=\"https://dimg.donga.com/i/150/150/90/wps/NEWS/IMAGE/2021/12/06/110623040.1.jpg\" align=\"left\" vspace=\"10\" hspace=\"10\">‘야간(夜間)에서 관광의 답(答)을 찾다.’ 대전시와 충남 공주시·부여군, 전북 익산시 등 금강이 흐르는 백제권 지방자치단체들이 관광 활성화를 위해 ‘야간’으로 눈을 돌리기 시작했다. ‘부울경(부산·울산·경남)’ 등 신라역사권에 비해 상대적으로 열악한 관광 여건을 헤쳐 나가기 위해 ‘야간관광’에서 답을 찾겠다는 것이다. 문화체육관광부가 국내 관광 활성화를 위해 추진하는 ‘대한민국 테마여행 10선’ 제9권역인 이 4개 지자체와 9권역 사업단(단장 정강환 배재대 관광축제대학원장)은 3일 대전에서 ‘백제권 관광 활성화를 위한 백제루트 개발’을 주제로 제5차 금강역사 관광포럼을 열고 ‘백제권 야간관광 시범지구’ 지정을 추진하기로 결의했다. 또 내년 3월 대선 후보와 각 정당 선거대책위원회, 6월 지방선거 출마예정자에게 이를 공약으로 채택해 줄 것을 공동 건의하기로 했다.●관광, 이제는 야간이다‘야간관광’은 세계적인 관광 트렌드로 떠오르고 있다. 런던과 암스테르담, 뉴욕 등 20여 개 해외',\n",
              "   'enclosure': {'link': 'https://dimg.donga.com/i/150/150/90/wps/NEWS/IMAGE/2021/12/06/110623040.1.jpg',\n",
              "    'type': 'image/jpg'},\n",
              "   'guid': '58c9695fa6392ec153d78aa75d37639a',\n",
              "   'link': 'https://www.donga.com/news/Society/article/all/20211206/110622725/1',\n",
              "   'pubDate': '2021-12-05 18:00:00',\n",
              "   'thumbnail': 'https://dimg.donga.com/i/150/150/90/wps/NEWS/IMAGE/2021/12/06/110623040.1.jpg',\n",
              "   'title': '백제권 4개 지자체, 글로벌 추세 맞춰 ‘야간관광’에서 답을 찾다'}],\n",
              " 'status': 'ok'}"
            ]
          },
          "metadata": {},
          "execution_count": 28
        }
      ]
    },
    {
      "cell_type": "code",
      "source": [
        "json_data.keys()"
      ],
      "metadata": {
        "colab": {
          "base_uri": "https://localhost:8080/"
        },
        "id": "Us7COOy5EHRq",
        "outputId": "342f493d-88f9-4905-9949-981ab665aca7"
      },
      "execution_count": 67,
      "outputs": [
        {
          "output_type": "execute_result",
          "data": {
            "text/plain": [
              "dict_keys(['status', 'feed', 'items'])"
            ]
          },
          "metadata": {},
          "execution_count": 67
        }
      ]
    },
    {
      "cell_type": "code",
      "source": [
        "json_data.values()"
      ],
      "metadata": {
        "colab": {
          "base_uri": "https://localhost:8080/"
        },
        "id": "pAT-F25XBiZw",
        "outputId": "58c42672-6277-49bf-96d4-4cf589492101"
      },
      "execution_count": 64,
      "outputs": [
        {
          "output_type": "execute_result",
          "data": {
            "text/plain": [
              "dict_values(['ok', {'url': 'https://rss.donga.com/travel.xml', 'title': '동아닷컴 : 동아일보 여행 뉴스', 'link': 'https://www.donga.com/', 'author': '', 'description': '동아닷컴::RSS 서비스 | 동아일보 여행 뉴스', 'image': 'http://www.donga.com/news/04img/logo_com.gif'}, [{'title': '레고랜드코리아, ‘오픈 티켓’ 스페셜 1일 예매권 출시', 'pubDate': '2021-12-15 06:10:00', 'link': 'https://www.donga.com/news/Culture/article/all/20211215/110799816/1', 'guid': '870c46d23cae8040d31305b66d89684e', 'author': '', 'thumbnail': 'https://dimg.donga.com/i/150/150/90/wps/NEWS/IMAGE/2021/12/15/110799777.1.jpg', 'description': '\\n<img src=\"https://dimg.donga.com/i/150/150/90/wps/NEWS/IMAGE/2021/12/15/110799777.1.jpg\" align=\"left\" vspace=\"10\" hspace=\"10\">국내 최초 글로벌 테마파크로 내년 어린이날 개장 예정인 레고랜드코리아리조트(레고랜드코리아)는 연말 시즌을 맞아 ‘크리스마스 스페셜 1일 예매권’을 판매한다고 15일 밝혔다.  해당 예매권은 일명 ‘오픈 티켓’으로 이달 말까지 레고랜드코리아 공식 홈페이지에서 판매된다. 예매권 구매 시점에 레고랜드 방문 일자를 미리 지정하지 않아도 되는 1일 이용권으로 사용 유효기간은 내년 개장일(2022년 5월 5일)부터 2022년 12월 31일까지다. 레고랜드는 오픈 후 예약제로 운영된다. 이번 스페셜 예매권을 구매한 소비자는 구입 후 발송된 예약 링크를 통해 원하는 방문 일자를 정할 수 있다. 예약을 완료하면 QR코드가 전송된다. 방문 시에는 현장 직원에게 QR코드를 보여준 후 입장하면 된다. 스페셜 예매권 가격은 성인 및 13세 이상 청소년은 5만 원, 만 2세~12세 어린이는 4만 원이다. 정상가보다 각각 1만 원씩 저렴하다.레고랜드코리아는 오는 25일까지 스타필드 안성에서 ‘레고코리아 로드쇼’를 팝업스토어 방식으', 'content': '\\n<img src=\"https://dimg.donga.com/i/150/150/90/wps/NEWS/IMAGE/2021/12/15/110799777.1.jpg\" align=\"left\" vspace=\"10\" hspace=\"10\">국내 최초 글로벌 테마파크로 내년 어린이날 개장 예정인 레고랜드코리아리조트(레고랜드코리아)는 연말 시즌을 맞아 ‘크리스마스 스페셜 1일 예매권’을 판매한다고 15일 밝혔다.  해당 예매권은 일명 ‘오픈 티켓’으로 이달 말까지 레고랜드코리아 공식 홈페이지에서 판매된다. 예매권 구매 시점에 레고랜드 방문 일자를 미리 지정하지 않아도 되는 1일 이용권으로 사용 유효기간은 내년 개장일(2022년 5월 5일)부터 2022년 12월 31일까지다. 레고랜드는 오픈 후 예약제로 운영된다. 이번 스페셜 예매권을 구매한 소비자는 구입 후 발송된 예약 링크를 통해 원하는 방문 일자를 정할 수 있다. 예약을 완료하면 QR코드가 전송된다. 방문 시에는 현장 직원에게 QR코드를 보여준 후 입장하면 된다. 스페셜 예매권 가격은 성인 및 13세 이상 청소년은 5만 원, 만 2세~12세 어린이는 4만 원이다. 정상가보다 각각 1만 원씩 저렴하다.레고랜드코리아는 오는 25일까지 스타필드 안성에서 ‘레고코리아 로드쇼’를 팝업스토어 방식으', 'enclosure': {'link': 'https://dimg.donga.com/i/150/150/90/wps/NEWS/IMAGE/2021/12/15/110799777.1.jpg', 'type': 'image/jpg'}, 'categories': []}, {'title': '美CDC, 오미크론 우려에 伊 등 여행경보 ‘4단계’ 상향', 'pubDate': '2021-12-14 08:38:00', 'link': 'https://www.donga.com/news/Inter/article/all/20211214/110784661/1', 'guid': 'ad13e1fa0fde761d2a5fed0499c54015', 'author': '', 'thumbnail': 'https://dimg.donga.com/i/150/150/90/wps/NEWS/IMAGE/2021/12/14/110784416.2.jpg', 'description': '\\n<img src=\"https://dimg.donga.com/i/150/150/90/wps/NEWS/IMAGE/2021/12/14/110784416.2.jpg\" align=\"left\" vspace=\"10\" hspace=\"10\">미국 질병통제예방센터(CDC)가 코로나19 신종 변이 오미크론 확산 우려에 이탈리아 등 3곳을 여행경보 4단계 국가에 추가했다.  14일(현지시간) 미국 CNN에 따르면 CDC는 코로나19 주간 여행 경보 업데이트를 통해 이탈리아, 그린란드, 모리셔스를 기존 3단계에서 4단계로 격상했다.  CDC는 여행경보를 1~4단계로 나눠 해당 국가 여행자에 대한 권고를 내리고 있다. 1단계는 여행 전 백신 접종 완료, 2단계는 중증 위험 있는 비접종자의 비필수적 여행 자제를 권고한다.  3단계는 중증 위험과 관계없이 비접종자의 비필수 여행 자제를 권하며, 최고 단계인 4단계는 여행을 피할 것을 권고한다. 일반적으로 4단계는 최근 28일간 인구 10만명당 확진자가 500명 이상인 지역에 내려진다.  앞서 CDC는 지난주 프랑스·안도라·키프로스·요르단·리히텐슈타인·포르투갈·탄자니아 등 7개 국가를 4단계로 격상했다.  유럽에선 오미크론이 빠른 속도로 확산하고 있어 각국에 비상이 걸린 상태다.  보리스 존슨 영국 총리는', 'content': '\\n<img src=\"https://dimg.donga.com/i/150/150/90/wps/NEWS/IMAGE/2021/12/14/110784416.2.jpg\" align=\"left\" vspace=\"10\" hspace=\"10\">미국 질병통제예방센터(CDC)가 코로나19 신종 변이 오미크론 확산 우려에 이탈리아 등 3곳을 여행경보 4단계 국가에 추가했다.  14일(현지시간) 미국 CNN에 따르면 CDC는 코로나19 주간 여행 경보 업데이트를 통해 이탈리아, 그린란드, 모리셔스를 기존 3단계에서 4단계로 격상했다.  CDC는 여행경보를 1~4단계로 나눠 해당 국가 여행자에 대한 권고를 내리고 있다. 1단계는 여행 전 백신 접종 완료, 2단계는 중증 위험 있는 비접종자의 비필수적 여행 자제를 권고한다.  3단계는 중증 위험과 관계없이 비접종자의 비필수 여행 자제를 권하며, 최고 단계인 4단계는 여행을 피할 것을 권고한다. 일반적으로 4단계는 최근 28일간 인구 10만명당 확진자가 500명 이상인 지역에 내려진다.  앞서 CDC는 지난주 프랑스·안도라·키프로스·요르단·리히텐슈타인·포르투갈·탄자니아 등 7개 국가를 4단계로 격상했다.  유럽에선 오미크론이 빠른 속도로 확산하고 있어 각국에 비상이 걸린 상태다.  보리스 존슨 영국 총리는', 'enclosure': {'link': 'https://dimg.donga.com/i/150/150/90/wps/NEWS/IMAGE/2021/12/14/110784416.2.jpg', 'type': 'image/jpg'}, 'categories': []}, {'title': '“오미크론에 여행업계 다시 위축되면 스태그플레이션”', 'pubDate': '2021-12-14 04:14:00', 'link': 'https://www.donga.com/news/Inter/article/all/20211214/110777960/1', 'guid': 'a7af8d1a8fd661656e4511e514aef652', 'author': '', 'thumbnail': 'https://dimg.donga.com/i/150/150/90/wps/NEWS/IMAGE/2021/12/14/110777955.2.jpg', 'description': '\\n<img src=\"https://dimg.donga.com/i/150/150/90/wps/NEWS/IMAGE/2021/12/14/110777955.2.jpg\" align=\"left\" vspace=\"10\" hspace=\"10\">신종 코로나바이러스 감염증(코로나19) 시대에 대부분 전망은 엇나갔고 내년을 전망하는 누구라도 확신하기는 힘들 것이다. 이코노미스트들 역시 경제를 전망하기 그 어느 때보다 부담스러운 모습이다. 많은 이코노미스트들은 내년 물가압박은 줄고 경제회복은 견조하며 통화정책도 정상화로 전환할 것이라고 기본적으로 전망한다.   하지만 언제나 돌발 변수는 존재하고 팬데믹 시대에 돌발 변수들은 차고 넘친다. 블룸버그는 13일 ‘내년 경제를 위협하는 최대 위험’이라며 오미크론 변이, 지속적 인플레이션, 미국의 금리인상, 중국 헝다그룹(에버그란데) 파산, 하드 브렉시트, 새로운 유로위기, 식품가격 상승, 중동 지역위기 등을 거론했다.   오미크론 변이가 높은 전염성에도 치명률은 낮은 것으로 판명되면 세계 성장률은 기존 예상 4.7%보다 높은 5.1%까지 상승할 수 있다고 통신은 예상했다. 하지만 오미크론이 치명률까지 높인다면 얘기는 달라진다. 올해 최고수준의 제한조치를 3개월만 지속해도 내년 세계 경제성장률은 4.2%로 내', 'content': '\\n<img src=\"https://dimg.donga.com/i/150/150/90/wps/NEWS/IMAGE/2021/12/14/110777955.2.jpg\" align=\"left\" vspace=\"10\" hspace=\"10\">신종 코로나바이러스 감염증(코로나19) 시대에 대부분 전망은 엇나갔고 내년을 전망하는 누구라도 확신하기는 힘들 것이다. 이코노미스트들 역시 경제를 전망하기 그 어느 때보다 부담스러운 모습이다. 많은 이코노미스트들은 내년 물가압박은 줄고 경제회복은 견조하며 통화정책도 정상화로 전환할 것이라고 기본적으로 전망한다.   하지만 언제나 돌발 변수는 존재하고 팬데믹 시대에 돌발 변수들은 차고 넘친다. 블룸버그는 13일 ‘내년 경제를 위협하는 최대 위험’이라며 오미크론 변이, 지속적 인플레이션, 미국의 금리인상, 중국 헝다그룹(에버그란데) 파산, 하드 브렉시트, 새로운 유로위기, 식품가격 상승, 중동 지역위기 등을 거론했다.   오미크론 변이가 높은 전염성에도 치명률은 낮은 것으로 판명되면 세계 성장률은 기존 예상 4.7%보다 높은 5.1%까지 상승할 수 있다고 통신은 예상했다. 하지만 오미크론이 치명률까지 높인다면 얘기는 달라진다. 올해 최고수준의 제한조치를 3개월만 지속해도 내년 세계 경제성장률은 4.2%로 내', 'enclosure': {'link': 'https://dimg.donga.com/i/150/150/90/wps/NEWS/IMAGE/2021/12/14/110777955.2.jpg', 'type': 'image/jpg'}, 'categories': []}, {'title': '꽃보다 붉은 충절의 물결따라 巨富의 황금빛 전설이 흐른다', 'pubDate': '2021-12-10 18:00:00', 'link': 'https://www.donga.com/news/Culture/article/all/20211210/110732481/1', 'guid': '05e0f269dd64f38c801e4e5cdace33c7', 'author': '', 'thumbnail': 'https://dimg.donga.com/i/150/150/90/wps/NEWS/IMAGE/2021/12/10/110732456.1.jpg', 'description': '\\n<img src=\"https://dimg.donga.com/i/150/150/90/wps/NEWS/IMAGE/2021/12/10/110732456.1.jpg\" align=\"left\" vspace=\"10\" hspace=\"10\">《경남 진주시를 흠뻑 적시며 흘러가는 남강은 물길의 방향이 예사롭지 않다. 한강, 금강, 영산강 등 우리나라 강은 동쪽이 높고 서쪽이 낮은 지형적 조건에 따라 대체로 동쪽에서 서쪽으로 흐른다. 반면 남강은 서쪽에서 동쪽으로 흐르는 서출동류(西出東流) 물길이다. 동양 인문지리학에서는 동고서저(東高西低) 지형에서 서출동류를 귀하게 여긴다. 산과 물이 음양의 조화를 이뤄 땅에서 좋은 기운을 맺을 수 있기 때문이다. 남강 오백리 물길을 따라 삼성가, LG가, 효성가 등 한국을 대표하는 재벌이 탄생했다는 풍수적 진단의 근거이기도 하다. 풍요의 상징인 남강 물길을 따라가다 보면 가슴 찡한 우리 역사와 신비한 전설도 만나는 체험을 할 수 있다.》', 'content': '\\n<img src=\"https://dimg.donga.com/i/150/150/90/wps/NEWS/IMAGE/2021/12/10/110732456.1.jpg\" align=\"left\" vspace=\"10\" hspace=\"10\">《경남 진주시를 흠뻑 적시며 흘러가는 남강은 물길의 방향이 예사롭지 않다. 한강, 금강, 영산강 등 우리나라 강은 동쪽이 높고 서쪽이 낮은 지형적 조건에 따라 대체로 동쪽에서 서쪽으로 흐른다. 반면 남강은 서쪽에서 동쪽으로 흐르는 서출동류(西出東流) 물길이다. 동양 인문지리학에서는 동고서저(東高西低) 지형에서 서출동류를 귀하게 여긴다. 산과 물이 음양의 조화를 이뤄 땅에서 좋은 기운을 맺을 수 있기 때문이다. 남강 오백리 물길을 따라 삼성가, LG가, 효성가 등 한국을 대표하는 재벌이 탄생했다는 풍수적 진단의 근거이기도 하다. 풍요의 상징인 남강 물길을 따라가다 보면 가슴 찡한 우리 역사와 신비한 전설도 만나는 체험을 할 수 있다.》', 'enclosure': {'link': 'https://dimg.donga.com/i/150/150/90/wps/NEWS/IMAGE/2021/12/10/110732456.1.jpg', 'type': 'image/jpg'}, 'categories': []}, {'title': '롯데관광개발, 제주 드림타워 ‘그랜드하얏트 럭셔리 스위트스테이 패키지’ 출시', 'pubDate': '2021-12-10 09:33:00', 'link': 'https://www.donga.com/news/Culture/article/all/20211210/110730675/1', 'guid': 'e61adb6ce9369ff0ffb57972f2adbeb0', 'author': '', 'thumbnail': 'https://dimg.donga.com/i/150/150/90/wps/NEWS/IMAGE/2021/12/10/110730664.1.jpg', 'description': '\\n<img src=\"https://dimg.donga.com/i/150/150/90/wps/NEWS/IMAGE/2021/12/10/110730664.1.jpg\" align=\"left\" vspace=\"10\" hspace=\"10\">롯데관광개발은 제주 드림타워 복합리조트 내 그랜드하얏트 제주 스위트(130㎡, 40평)에서 호캉스를 즐길 수 있는 ‘럭셔리 스위트스테이(Luxury Suite Stay) 패키지’를 10일 선보였다.  럭셔리 스위트스테이 패키지는 스위트 룸 1박을 기본으로 그랜드 스위트와 프리미어 스위트, 코너 스위트 등을 선택할 수 있다. 객실 내에서 바다와 한라산, 공항과 도심까지 제주의 아름다운 풍광을 2.7m 높이 통유리를 통해 파노라믹 뷰로 즐길 수 있다고 소개했다.  성인 3인까지 무료 투숙이 가능하고 객실 상황에 따라 오후 3시 레이트 체크아웃이 가능해 여유롭게 패키지를 이용할 수 있다고 한다. 가격은 50만 원대부터다.투숙객은 탁 트인 뷰를 즐길 수 있어 핫플레이스로 꼽히는 ‘야외 풀데크’를 이용할 수 있다. 연면적 4290㎡ 규모로 제주지역에서 가장 수영시설이라고 한다. 온수풀을 운영해 사계절 내내 이용할 수 있도록 했다. 아시아·태평양지역 최대 규모 하얏트 라운지인 ‘그랜드클럽’ 이용 혜택도 추가할 수', 'content': '\\n<img src=\"https://dimg.donga.com/i/150/150/90/wps/NEWS/IMAGE/2021/12/10/110730664.1.jpg\" align=\"left\" vspace=\"10\" hspace=\"10\">롯데관광개발은 제주 드림타워 복합리조트 내 그랜드하얏트 제주 스위트(130㎡, 40평)에서 호캉스를 즐길 수 있는 ‘럭셔리 스위트스테이(Luxury Suite Stay) 패키지’를 10일 선보였다.  럭셔리 스위트스테이 패키지는 스위트 룸 1박을 기본으로 그랜드 스위트와 프리미어 스위트, 코너 스위트 등을 선택할 수 있다. 객실 내에서 바다와 한라산, 공항과 도심까지 제주의 아름다운 풍광을 2.7m 높이 통유리를 통해 파노라믹 뷰로 즐길 수 있다고 소개했다.  성인 3인까지 무료 투숙이 가능하고 객실 상황에 따라 오후 3시 레이트 체크아웃이 가능해 여유롭게 패키지를 이용할 수 있다고 한다. 가격은 50만 원대부터다.투숙객은 탁 트인 뷰를 즐길 수 있어 핫플레이스로 꼽히는 ‘야외 풀데크’를 이용할 수 있다. 연면적 4290㎡ 규모로 제주지역에서 가장 수영시설이라고 한다. 온수풀을 운영해 사계절 내내 이용할 수 있도록 했다. 아시아·태평양지역 최대 규모 하얏트 라운지인 ‘그랜드클럽’ 이용 혜택도 추가할 수', 'enclosure': {'link': 'https://dimg.donga.com/i/150/150/90/wps/NEWS/IMAGE/2021/12/10/110730664.1.jpg', 'type': 'image/jpg'}, 'categories': []}, {'title': '제주도, 크루즈관광 재개 대비해 해외 마케팅 기지개', 'pubDate': '2021-12-09 18:00:00', 'link': 'https://www.donga.com/news/Society/article/all/20211209/110717075/1', 'guid': '08514eeafa5b68fc6d69cd41cdca12b2', 'author': '', 'thumbnail': 'https://dimg.donga.com/i/150/150/90/wps/NEWS/IMAGE/2021/12/10/110717805.1.jpg', 'description': '\\n<img src=\"https://dimg.donga.com/i/150/150/90/wps/NEWS/IMAGE/2021/12/10/110717805.1.jpg\" align=\"left\" vspace=\"10\" hspace=\"10\">신종 코로나바이러스 감염증(코로나19)이 확산되면서 한동안 주춤했던 제주지역 크루즈 관광이 다시 손님 맞을 준비가 한창이다. ‘오미크론 변이’가 새로운 변수로 등장했지만 크루즈 업체와 관광업계 등은 관광 정상화에 대비해 해외 마케팅에 적극 나서고 있다. 제주도와 제주관광공사는 7일 일본 크루즈 관계자를 대상으로 온라인 설명회를 가졌다. 대만 여행업계에 이어 두 번째로 가진 설명회다. 국내 크루즈 관광이 다시 정상화되면 대만과 일본에서 출발하는 크루즈 선박이 제주도로 들어올 가능성이 높아 두 나라를 대상으로 사전 마케팅에 나선 것이다. 크루즈관광은 지난해 3월 사실상 중단됐다. 하지만 방역 안전 지역에 대한 여행과 크루즈 방역 협약이 구축됨에 따라 대만은 4개월여 만에 다시 시작됐다. 일본도 올해 연안 크루즈 관광을 허용했다. 설명회는 크루즈 선사, 여행사 관계자 등을 대상으로 진행했다. 대만·일본 관광객이 선호하는 △꽃 테마 관광지 △코로나19 이후 새로 발굴한 관광지 △이색 체험', 'content': '\\n<img src=\"https://dimg.donga.com/i/150/150/90/wps/NEWS/IMAGE/2021/12/10/110717805.1.jpg\" align=\"left\" vspace=\"10\" hspace=\"10\">신종 코로나바이러스 감염증(코로나19)이 확산되면서 한동안 주춤했던 제주지역 크루즈 관광이 다시 손님 맞을 준비가 한창이다. ‘오미크론 변이’가 새로운 변수로 등장했지만 크루즈 업체와 관광업계 등은 관광 정상화에 대비해 해외 마케팅에 적극 나서고 있다. 제주도와 제주관광공사는 7일 일본 크루즈 관계자를 대상으로 온라인 설명회를 가졌다. 대만 여행업계에 이어 두 번째로 가진 설명회다. 국내 크루즈 관광이 다시 정상화되면 대만과 일본에서 출발하는 크루즈 선박이 제주도로 들어올 가능성이 높아 두 나라를 대상으로 사전 마케팅에 나선 것이다. 크루즈관광은 지난해 3월 사실상 중단됐다. 하지만 방역 안전 지역에 대한 여행과 크루즈 방역 협약이 구축됨에 따라 대만은 4개월여 만에 다시 시작됐다. 일본도 올해 연안 크루즈 관광을 허용했다. 설명회는 크루즈 선사, 여행사 관계자 등을 대상으로 진행했다. 대만·일본 관광객이 선호하는 △꽃 테마 관광지 △코로나19 이후 새로 발굴한 관광지 △이색 체험', 'enclosure': {'link': 'https://dimg.donga.com/i/150/150/90/wps/NEWS/IMAGE/2021/12/10/110717805.1.jpg', 'type': 'image/jpg'}, 'categories': []}, {'title': '호텔신라, 올해 임원 4명 승진… “포스트 코로나 대비”', 'pubDate': '2021-12-09 06:36:00', 'link': 'https://www.donga.com/news/Culture/article/all/20211209/110710270/1', 'guid': 'f478fbda571da6e8199b1dcd86a504bd', 'author': '', 'thumbnail': 'https://dimg.donga.com/i/150/150/90/wps/NEWS/IMAGE/2021/12/09/110710233.2.jpg', 'description': '\\n<img src=\"https://dimg.donga.com/i/150/150/90/wps/NEWS/IMAGE/2021/12/09/110710233.2.jpg\" align=\"left\" vspace=\"10\" hspace=\"10\">지난해 코로나19 팬데믹(세계적 대유행) 영향으로 임원 규모를 축소했던 호텔신라가 올해는 임원 4명을 승진시키는 인사를 단행했다.  호텔신라는 2022년 정기 임원인사를 통해 김보연 TR(면세점)한국이커머스 팀장 등 4명을 상무로 승진하는 인사를 실시했다고 9일 밝혔다.   김보연 팀장과 함께 김지훈 경영전략 팀장과 성윤기 호텔&amp;레저지원 팀장, 신창하 면세점 홍콩법인장 등이 상무로 승진했다.  어려운 경영환경 속에서 성과 창출에 대한 기여가 크고 리더십과 전문성을 보유해 향후 성장성이 높은 우수인력을 이번 승진 대상자로 선정했다고 한다.  호텔신라 관계자는 “이번 인사를 기반으로 코로나19 안정화 이후 미래를 대비하고 회사의 중장기 지속 성장을 위해 더욱 매진해 나갈 것”이라고 말했다.동아닷컴 김민범 기자 mbkim@donga.com', 'content': '\\n<img src=\"https://dimg.donga.com/i/150/150/90/wps/NEWS/IMAGE/2021/12/09/110710233.2.jpg\" align=\"left\" vspace=\"10\" hspace=\"10\">지난해 코로나19 팬데믹(세계적 대유행) 영향으로 임원 규모를 축소했던 호텔신라가 올해는 임원 4명을 승진시키는 인사를 단행했다.  호텔신라는 2022년 정기 임원인사를 통해 김보연 TR(면세점)한국이커머스 팀장 등 4명을 상무로 승진하는 인사를 실시했다고 9일 밝혔다.   김보연 팀장과 함께 김지훈 경영전략 팀장과 성윤기 호텔&amp;레저지원 팀장, 신창하 면세점 홍콩법인장 등이 상무로 승진했다.  어려운 경영환경 속에서 성과 창출에 대한 기여가 크고 리더십과 전문성을 보유해 향후 성장성이 높은 우수인력을 이번 승진 대상자로 선정했다고 한다.  호텔신라 관계자는 “이번 인사를 기반으로 코로나19 안정화 이후 미래를 대비하고 회사의 중장기 지속 성장을 위해 더욱 매진해 나갈 것”이라고 말했다.동아닷컴 김민범 기자 mbkim@donga.com', 'enclosure': {'link': 'https://dimg.donga.com/i/150/150/90/wps/NEWS/IMAGE/2021/12/09/110710233.2.jpg', 'type': 'image/jpg'}, 'categories': []}, {'title': '체코관광청, 매일 하루에 하나씩  ‘크리스마스 선물’ 준다', 'pubDate': '2021-12-09 06:04:00', 'link': 'https://www.donga.com/news/Culture/article/all/20211209/110708822/1', 'guid': '6104dc830163a354a03f66b5e565da9b', 'author': '', 'thumbnail': 'https://dimg.donga.com/i/150/150/90/wps/NEWS/IMAGE/2021/12/09/110708717.2.jpg', 'description': '\\n<img src=\"https://dimg.donga.com/i/150/150/90/wps/NEWS/IMAGE/2021/12/09/110708717.2.jpg\" align=\"left\" vspace=\"10\" hspace=\"10\">체코관광청이 한국 여행객을 대상으로 ‘크리스마스 선물 이벤트’를 실시한다고 9일 밝혔다.   이번 이벤트는 크리스마스이브 전날인 23일까지 매일 한 명을 추첨해 체코천연 유기농 화장품인 ‘므첼리 부케’를 선물을 증정하는 행사다.    참여 방법은 우선 체코관광청 공식 인스타그램을 팔로우하고 매일 올라오는 체코관광청 피드(게시물)에 ‘좋아요’를 누르면 된다. 그리고 해당 피드에서 던지는 질문에 대한 대답을 남기면 응모가 완료된다. 친구를 소환하면 당첨 확률이 올라간다.   당첨자 발표는 피드가 올라간 다음 날, 인스타 스토리에서 공개한다.  아울러 관광청은 이벤트 기간 매주 화요일과 금요일에 추가 이벤트를 연다. 자세한 이벤트는 인스타그램 피드를 통해 깜짝 공개할 예정이다.    관광청이 준비한 선물은 ‘므첼리 부케’로 프라하 인기 5성급 호텔인 고성 호텔 샤토 므첼리에서 만들어진 천연 유기농 화장품이다. 호텔만의 전통 비법으로 제조하는 것이 특징이며 웰니스, 스파 등에 사용 및 판매 중이다.  이벤트 당', 'content': '\\n<img src=\"https://dimg.donga.com/i/150/150/90/wps/NEWS/IMAGE/2021/12/09/110708717.2.jpg\" align=\"left\" vspace=\"10\" hspace=\"10\">체코관광청이 한국 여행객을 대상으로 ‘크리스마스 선물 이벤트’를 실시한다고 9일 밝혔다.   이번 이벤트는 크리스마스이브 전날인 23일까지 매일 한 명을 추첨해 체코천연 유기농 화장품인 ‘므첼리 부케’를 선물을 증정하는 행사다.    참여 방법은 우선 체코관광청 공식 인스타그램을 팔로우하고 매일 올라오는 체코관광청 피드(게시물)에 ‘좋아요’를 누르면 된다. 그리고 해당 피드에서 던지는 질문에 대한 대답을 남기면 응모가 완료된다. 친구를 소환하면 당첨 확률이 올라간다.   당첨자 발표는 피드가 올라간 다음 날, 인스타 스토리에서 공개한다.  아울러 관광청은 이벤트 기간 매주 화요일과 금요일에 추가 이벤트를 연다. 자세한 이벤트는 인스타그램 피드를 통해 깜짝 공개할 예정이다.    관광청이 준비한 선물은 ‘므첼리 부케’로 프라하 인기 5성급 호텔인 고성 호텔 샤토 므첼리에서 만들어진 천연 유기농 화장품이다. 호텔만의 전통 비법으로 제조하는 것이 특징이며 웰니스, 스파 등에 사용 및 판매 중이다.  이벤트 당', 'enclosure': {'link': 'https://dimg.donga.com/i/150/150/90/wps/NEWS/IMAGE/2021/12/09/110708717.2.jpg', 'type': 'image/jpg'}, 'categories': []}, {'title': '올해 여름휴가 여행지 만족도 전국 1위 지자체는…순천시', 'pubDate': '2021-12-08 05:47:00', 'link': 'https://www.donga.com/news/Society/article/all/20211208/110679264/1', 'guid': '342a4487f7640bd816b4a44779e9bb58', 'author': '', 'thumbnail': 'https://dimg.donga.com/i/150/150/90/wps/NEWS/IMAGE/2021/12/08/110679110.2.jpg', 'description': '\\n<img src=\"https://dimg.donga.com/i/150/150/90/wps/NEWS/IMAGE/2021/12/08/110679110.2.jpg\" align=\"left\" vspace=\"10\" hspace=\"10\">전남 순천시가 ‘2021 여름휴가 여행지 만족도 조사’에서 전국 1위를 차지했다.  8일 순천시에 따르면 여행 전문 리서치기관인 ‘컨슈머인사이트’는 올해 1박 이상 국내 여름휴가를 6~8월 다녀왔다고 응답한 1만8081명을 대상으로 여름휴가지 만족도와 휴가지로의 추천 의사 여부에 대해 ‘2021년 국내 여름휴가 만족도’를 조사했다.  순천시는 이번 조사에서 만족도 합산 결과 805점으로 1위에 올랐다. 순천시는 지난 2018년 1위 이후 하락세를 보이다 올해 전국 시군 중 가장 큰 상승폭인 85점을 기록하며 지난해 23위에서 단숨에 1위로 올라섰다.  코로나19 이후 도심을 벗어나 자연에서 휴식을 선호하는 언택트 소규모 여행 경향이 지속되는 가운데 순천시의 대표 관광지인 순천만국가정원과 습지, 낙안읍성, 와온해변 등 다양한 언택트 여행을 즐길 수 있다는 것이 순천의 매력으로 분석됐다.  순천시 관계자는 “이번 만족도 조사는 위드코로나 여행 트렌드인 느림, 멈춤, 여유, 힐링에 어울리는 도시는 순천이라는', 'content': '\\n<img src=\"https://dimg.donga.com/i/150/150/90/wps/NEWS/IMAGE/2021/12/08/110679110.2.jpg\" align=\"left\" vspace=\"10\" hspace=\"10\">전남 순천시가 ‘2021 여름휴가 여행지 만족도 조사’에서 전국 1위를 차지했다.  8일 순천시에 따르면 여행 전문 리서치기관인 ‘컨슈머인사이트’는 올해 1박 이상 국내 여름휴가를 6~8월 다녀왔다고 응답한 1만8081명을 대상으로 여름휴가지 만족도와 휴가지로의 추천 의사 여부에 대해 ‘2021년 국내 여름휴가 만족도’를 조사했다.  순천시는 이번 조사에서 만족도 합산 결과 805점으로 1위에 올랐다. 순천시는 지난 2018년 1위 이후 하락세를 보이다 올해 전국 시군 중 가장 큰 상승폭인 85점을 기록하며 지난해 23위에서 단숨에 1위로 올라섰다.  코로나19 이후 도심을 벗어나 자연에서 휴식을 선호하는 언택트 소규모 여행 경향이 지속되는 가운데 순천시의 대표 관광지인 순천만국가정원과 습지, 낙안읍성, 와온해변 등 다양한 언택트 여행을 즐길 수 있다는 것이 순천의 매력으로 분석됐다.  순천시 관계자는 “이번 만족도 조사는 위드코로나 여행 트렌드인 느림, 멈춤, 여유, 힐링에 어울리는 도시는 순천이라는', 'enclosure': {'link': 'https://dimg.donga.com/i/150/150/90/wps/NEWS/IMAGE/2021/12/08/110679110.2.jpg', 'type': 'image/jpg'}, 'categories': []}, {'title': '백제권 4개 지자체, 글로벌 추세 맞춰 ‘야간관광’에서 답을 찾다', 'pubDate': '2021-12-05 18:00:00', 'link': 'https://www.donga.com/news/Society/article/all/20211206/110622725/1', 'guid': '58c9695fa6392ec153d78aa75d37639a', 'author': '', 'thumbnail': 'https://dimg.donga.com/i/150/150/90/wps/NEWS/IMAGE/2021/12/06/110623040.1.jpg', 'description': '\\n<img src=\"https://dimg.donga.com/i/150/150/90/wps/NEWS/IMAGE/2021/12/06/110623040.1.jpg\" align=\"left\" vspace=\"10\" hspace=\"10\">‘야간(夜間)에서 관광의 답(答)을 찾다.’ 대전시와 충남 공주시·부여군, 전북 익산시 등 금강이 흐르는 백제권 지방자치단체들이 관광 활성화를 위해 ‘야간’으로 눈을 돌리기 시작했다. ‘부울경(부산·울산·경남)’ 등 신라역사권에 비해 상대적으로 열악한 관광 여건을 헤쳐 나가기 위해 ‘야간관광’에서 답을 찾겠다는 것이다. 문화체육관광부가 국내 관광 활성화를 위해 추진하는 ‘대한민국 테마여행 10선’ 제9권역인 이 4개 지자체와 9권역 사업단(단장 정강환 배재대 관광축제대학원장)은 3일 대전에서 ‘백제권 관광 활성화를 위한 백제루트 개발’을 주제로 제5차 금강역사 관광포럼을 열고 ‘백제권 야간관광 시범지구’ 지정을 추진하기로 결의했다. 또 내년 3월 대선 후보와 각 정당 선거대책위원회, 6월 지방선거 출마예정자에게 이를 공약으로 채택해 줄 것을 공동 건의하기로 했다.●관광, 이제는 야간이다‘야간관광’은 세계적인 관광 트렌드로 떠오르고 있다. 런던과 암스테르담, 뉴욕 등 20여 개 해외', 'content': '\\n<img src=\"https://dimg.donga.com/i/150/150/90/wps/NEWS/IMAGE/2021/12/06/110623040.1.jpg\" align=\"left\" vspace=\"10\" hspace=\"10\">‘야간(夜間)에서 관광의 답(答)을 찾다.’ 대전시와 충남 공주시·부여군, 전북 익산시 등 금강이 흐르는 백제권 지방자치단체들이 관광 활성화를 위해 ‘야간’으로 눈을 돌리기 시작했다. ‘부울경(부산·울산·경남)’ 등 신라역사권에 비해 상대적으로 열악한 관광 여건을 헤쳐 나가기 위해 ‘야간관광’에서 답을 찾겠다는 것이다. 문화체육관광부가 국내 관광 활성화를 위해 추진하는 ‘대한민국 테마여행 10선’ 제9권역인 이 4개 지자체와 9권역 사업단(단장 정강환 배재대 관광축제대학원장)은 3일 대전에서 ‘백제권 관광 활성화를 위한 백제루트 개발’을 주제로 제5차 금강역사 관광포럼을 열고 ‘백제권 야간관광 시범지구’ 지정을 추진하기로 결의했다. 또 내년 3월 대선 후보와 각 정당 선거대책위원회, 6월 지방선거 출마예정자에게 이를 공약으로 채택해 줄 것을 공동 건의하기로 했다.●관광, 이제는 야간이다‘야간관광’은 세계적인 관광 트렌드로 떠오르고 있다. 런던과 암스테르담, 뉴욕 등 20여 개 해외', 'enclosure': {'link': 'https://dimg.donga.com/i/150/150/90/wps/NEWS/IMAGE/2021/12/06/110623040.1.jpg', 'type': 'image/jpg'}, 'categories': []}]])"
            ]
          },
          "metadata": {},
          "execution_count": 64
        }
      ]
    },
    {
      "cell_type": "code",
      "source": [
        "json_data.items()"
      ],
      "metadata": {
        "colab": {
          "base_uri": "https://localhost:8080/"
        },
        "id": "IdmMQx8gEHAE",
        "outputId": "1c51e7df-c755-4520-c2bb-db5c7627b72a"
      },
      "execution_count": 79,
      "outputs": [
        {
          "output_type": "execute_result",
          "data": {
            "text/plain": [
              "dict_items([('status', 'ok'), ('feed', {'url': 'https://rss.donga.com/travel.xml', 'title': '동아닷컴 : 동아일보 여행 뉴스', 'link': 'https://www.donga.com/', 'author': '', 'description': '동아닷컴::RSS 서비스 | 동아일보 여행 뉴스', 'image': 'http://www.donga.com/news/04img/logo_com.gif'}), ('items', [{'title': '레고랜드코리아, ‘오픈 티켓’ 스페셜 1일 예매권 출시', 'pubDate': '2021-12-15 06:10:00', 'link': 'https://www.donga.com/news/Culture/article/all/20211215/110799816/1', 'guid': '870c46d23cae8040d31305b66d89684e', 'author': '', 'thumbnail': 'https://dimg.donga.com/i/150/150/90/wps/NEWS/IMAGE/2021/12/15/110799777.1.jpg', 'description': '\\n<img src=\"https://dimg.donga.com/i/150/150/90/wps/NEWS/IMAGE/2021/12/15/110799777.1.jpg\" align=\"left\" vspace=\"10\" hspace=\"10\">국내 최초 글로벌 테마파크로 내년 어린이날 개장 예정인 레고랜드코리아리조트(레고랜드코리아)는 연말 시즌을 맞아 ‘크리스마스 스페셜 1일 예매권’을 판매한다고 15일 밝혔다.  해당 예매권은 일명 ‘오픈 티켓’으로 이달 말까지 레고랜드코리아 공식 홈페이지에서 판매된다. 예매권 구매 시점에 레고랜드 방문 일자를 미리 지정하지 않아도 되는 1일 이용권으로 사용 유효기간은 내년 개장일(2022년 5월 5일)부터 2022년 12월 31일까지다. 레고랜드는 오픈 후 예약제로 운영된다. 이번 스페셜 예매권을 구매한 소비자는 구입 후 발송된 예약 링크를 통해 원하는 방문 일자를 정할 수 있다. 예약을 완료하면 QR코드가 전송된다. 방문 시에는 현장 직원에게 QR코드를 보여준 후 입장하면 된다. 스페셜 예매권 가격은 성인 및 13세 이상 청소년은 5만 원, 만 2세~12세 어린이는 4만 원이다. 정상가보다 각각 1만 원씩 저렴하다.레고랜드코리아는 오는 25일까지 스타필드 안성에서 ‘레고코리아 로드쇼’를 팝업스토어 방식으', 'content': '\\n<img src=\"https://dimg.donga.com/i/150/150/90/wps/NEWS/IMAGE/2021/12/15/110799777.1.jpg\" align=\"left\" vspace=\"10\" hspace=\"10\">국내 최초 글로벌 테마파크로 내년 어린이날 개장 예정인 레고랜드코리아리조트(레고랜드코리아)는 연말 시즌을 맞아 ‘크리스마스 스페셜 1일 예매권’을 판매한다고 15일 밝혔다.  해당 예매권은 일명 ‘오픈 티켓’으로 이달 말까지 레고랜드코리아 공식 홈페이지에서 판매된다. 예매권 구매 시점에 레고랜드 방문 일자를 미리 지정하지 않아도 되는 1일 이용권으로 사용 유효기간은 내년 개장일(2022년 5월 5일)부터 2022년 12월 31일까지다. 레고랜드는 오픈 후 예약제로 운영된다. 이번 스페셜 예매권을 구매한 소비자는 구입 후 발송된 예약 링크를 통해 원하는 방문 일자를 정할 수 있다. 예약을 완료하면 QR코드가 전송된다. 방문 시에는 현장 직원에게 QR코드를 보여준 후 입장하면 된다. 스페셜 예매권 가격은 성인 및 13세 이상 청소년은 5만 원, 만 2세~12세 어린이는 4만 원이다. 정상가보다 각각 1만 원씩 저렴하다.레고랜드코리아는 오는 25일까지 스타필드 안성에서 ‘레고코리아 로드쇼’를 팝업스토어 방식으', 'enclosure': {'link': 'https://dimg.donga.com/i/150/150/90/wps/NEWS/IMAGE/2021/12/15/110799777.1.jpg', 'type': 'image/jpg'}, 'categories': []}, {'title': '美CDC, 오미크론 우려에 伊 등 여행경보 ‘4단계’ 상향', 'pubDate': '2021-12-14 08:38:00', 'link': 'https://www.donga.com/news/Inter/article/all/20211214/110784661/1', 'guid': 'ad13e1fa0fde761d2a5fed0499c54015', 'author': '', 'thumbnail': 'https://dimg.donga.com/i/150/150/90/wps/NEWS/IMAGE/2021/12/14/110784416.2.jpg', 'description': '\\n<img src=\"https://dimg.donga.com/i/150/150/90/wps/NEWS/IMAGE/2021/12/14/110784416.2.jpg\" align=\"left\" vspace=\"10\" hspace=\"10\">미국 질병통제예방센터(CDC)가 코로나19 신종 변이 오미크론 확산 우려에 이탈리아 등 3곳을 여행경보 4단계 국가에 추가했다.  14일(현지시간) 미국 CNN에 따르면 CDC는 코로나19 주간 여행 경보 업데이트를 통해 이탈리아, 그린란드, 모리셔스를 기존 3단계에서 4단계로 격상했다.  CDC는 여행경보를 1~4단계로 나눠 해당 국가 여행자에 대한 권고를 내리고 있다. 1단계는 여행 전 백신 접종 완료, 2단계는 중증 위험 있는 비접종자의 비필수적 여행 자제를 권고한다.  3단계는 중증 위험과 관계없이 비접종자의 비필수 여행 자제를 권하며, 최고 단계인 4단계는 여행을 피할 것을 권고한다. 일반적으로 4단계는 최근 28일간 인구 10만명당 확진자가 500명 이상인 지역에 내려진다.  앞서 CDC는 지난주 프랑스·안도라·키프로스·요르단·리히텐슈타인·포르투갈·탄자니아 등 7개 국가를 4단계로 격상했다.  유럽에선 오미크론이 빠른 속도로 확산하고 있어 각국에 비상이 걸린 상태다.  보리스 존슨 영국 총리는', 'content': '\\n<img src=\"https://dimg.donga.com/i/150/150/90/wps/NEWS/IMAGE/2021/12/14/110784416.2.jpg\" align=\"left\" vspace=\"10\" hspace=\"10\">미국 질병통제예방센터(CDC)가 코로나19 신종 변이 오미크론 확산 우려에 이탈리아 등 3곳을 여행경보 4단계 국가에 추가했다.  14일(현지시간) 미국 CNN에 따르면 CDC는 코로나19 주간 여행 경보 업데이트를 통해 이탈리아, 그린란드, 모리셔스를 기존 3단계에서 4단계로 격상했다.  CDC는 여행경보를 1~4단계로 나눠 해당 국가 여행자에 대한 권고를 내리고 있다. 1단계는 여행 전 백신 접종 완료, 2단계는 중증 위험 있는 비접종자의 비필수적 여행 자제를 권고한다.  3단계는 중증 위험과 관계없이 비접종자의 비필수 여행 자제를 권하며, 최고 단계인 4단계는 여행을 피할 것을 권고한다. 일반적으로 4단계는 최근 28일간 인구 10만명당 확진자가 500명 이상인 지역에 내려진다.  앞서 CDC는 지난주 프랑스·안도라·키프로스·요르단·리히텐슈타인·포르투갈·탄자니아 등 7개 국가를 4단계로 격상했다.  유럽에선 오미크론이 빠른 속도로 확산하고 있어 각국에 비상이 걸린 상태다.  보리스 존슨 영국 총리는', 'enclosure': {'link': 'https://dimg.donga.com/i/150/150/90/wps/NEWS/IMAGE/2021/12/14/110784416.2.jpg', 'type': 'image/jpg'}, 'categories': []}, {'title': '“오미크론에 여행업계 다시 위축되면 스태그플레이션”', 'pubDate': '2021-12-14 04:14:00', 'link': 'https://www.donga.com/news/Inter/article/all/20211214/110777960/1', 'guid': 'a7af8d1a8fd661656e4511e514aef652', 'author': '', 'thumbnail': 'https://dimg.donga.com/i/150/150/90/wps/NEWS/IMAGE/2021/12/14/110777955.2.jpg', 'description': '\\n<img src=\"https://dimg.donga.com/i/150/150/90/wps/NEWS/IMAGE/2021/12/14/110777955.2.jpg\" align=\"left\" vspace=\"10\" hspace=\"10\">신종 코로나바이러스 감염증(코로나19) 시대에 대부분 전망은 엇나갔고 내년을 전망하는 누구라도 확신하기는 힘들 것이다. 이코노미스트들 역시 경제를 전망하기 그 어느 때보다 부담스러운 모습이다. 많은 이코노미스트들은 내년 물가압박은 줄고 경제회복은 견조하며 통화정책도 정상화로 전환할 것이라고 기본적으로 전망한다.   하지만 언제나 돌발 변수는 존재하고 팬데믹 시대에 돌발 변수들은 차고 넘친다. 블룸버그는 13일 ‘내년 경제를 위협하는 최대 위험’이라며 오미크론 변이, 지속적 인플레이션, 미국의 금리인상, 중국 헝다그룹(에버그란데) 파산, 하드 브렉시트, 새로운 유로위기, 식품가격 상승, 중동 지역위기 등을 거론했다.   오미크론 변이가 높은 전염성에도 치명률은 낮은 것으로 판명되면 세계 성장률은 기존 예상 4.7%보다 높은 5.1%까지 상승할 수 있다고 통신은 예상했다. 하지만 오미크론이 치명률까지 높인다면 얘기는 달라진다. 올해 최고수준의 제한조치를 3개월만 지속해도 내년 세계 경제성장률은 4.2%로 내', 'content': '\\n<img src=\"https://dimg.donga.com/i/150/150/90/wps/NEWS/IMAGE/2021/12/14/110777955.2.jpg\" align=\"left\" vspace=\"10\" hspace=\"10\">신종 코로나바이러스 감염증(코로나19) 시대에 대부분 전망은 엇나갔고 내년을 전망하는 누구라도 확신하기는 힘들 것이다. 이코노미스트들 역시 경제를 전망하기 그 어느 때보다 부담스러운 모습이다. 많은 이코노미스트들은 내년 물가압박은 줄고 경제회복은 견조하며 통화정책도 정상화로 전환할 것이라고 기본적으로 전망한다.   하지만 언제나 돌발 변수는 존재하고 팬데믹 시대에 돌발 변수들은 차고 넘친다. 블룸버그는 13일 ‘내년 경제를 위협하는 최대 위험’이라며 오미크론 변이, 지속적 인플레이션, 미국의 금리인상, 중국 헝다그룹(에버그란데) 파산, 하드 브렉시트, 새로운 유로위기, 식품가격 상승, 중동 지역위기 등을 거론했다.   오미크론 변이가 높은 전염성에도 치명률은 낮은 것으로 판명되면 세계 성장률은 기존 예상 4.7%보다 높은 5.1%까지 상승할 수 있다고 통신은 예상했다. 하지만 오미크론이 치명률까지 높인다면 얘기는 달라진다. 올해 최고수준의 제한조치를 3개월만 지속해도 내년 세계 경제성장률은 4.2%로 내', 'enclosure': {'link': 'https://dimg.donga.com/i/150/150/90/wps/NEWS/IMAGE/2021/12/14/110777955.2.jpg', 'type': 'image/jpg'}, 'categories': []}, {'title': '꽃보다 붉은 충절의 물결따라 巨富의 황금빛 전설이 흐른다', 'pubDate': '2021-12-10 18:00:00', 'link': 'https://www.donga.com/news/Culture/article/all/20211210/110732481/1', 'guid': '05e0f269dd64f38c801e4e5cdace33c7', 'author': '', 'thumbnail': 'https://dimg.donga.com/i/150/150/90/wps/NEWS/IMAGE/2021/12/10/110732456.1.jpg', 'description': '\\n<img src=\"https://dimg.donga.com/i/150/150/90/wps/NEWS/IMAGE/2021/12/10/110732456.1.jpg\" align=\"left\" vspace=\"10\" hspace=\"10\">《경남 진주시를 흠뻑 적시며 흘러가는 남강은 물길의 방향이 예사롭지 않다. 한강, 금강, 영산강 등 우리나라 강은 동쪽이 높고 서쪽이 낮은 지형적 조건에 따라 대체로 동쪽에서 서쪽으로 흐른다. 반면 남강은 서쪽에서 동쪽으로 흐르는 서출동류(西出東流) 물길이다. 동양 인문지리학에서는 동고서저(東高西低) 지형에서 서출동류를 귀하게 여긴다. 산과 물이 음양의 조화를 이뤄 땅에서 좋은 기운을 맺을 수 있기 때문이다. 남강 오백리 물길을 따라 삼성가, LG가, 효성가 등 한국을 대표하는 재벌이 탄생했다는 풍수적 진단의 근거이기도 하다. 풍요의 상징인 남강 물길을 따라가다 보면 가슴 찡한 우리 역사와 신비한 전설도 만나는 체험을 할 수 있다.》', 'content': '\\n<img src=\"https://dimg.donga.com/i/150/150/90/wps/NEWS/IMAGE/2021/12/10/110732456.1.jpg\" align=\"left\" vspace=\"10\" hspace=\"10\">《경남 진주시를 흠뻑 적시며 흘러가는 남강은 물길의 방향이 예사롭지 않다. 한강, 금강, 영산강 등 우리나라 강은 동쪽이 높고 서쪽이 낮은 지형적 조건에 따라 대체로 동쪽에서 서쪽으로 흐른다. 반면 남강은 서쪽에서 동쪽으로 흐르는 서출동류(西出東流) 물길이다. 동양 인문지리학에서는 동고서저(東高西低) 지형에서 서출동류를 귀하게 여긴다. 산과 물이 음양의 조화를 이뤄 땅에서 좋은 기운을 맺을 수 있기 때문이다. 남강 오백리 물길을 따라 삼성가, LG가, 효성가 등 한국을 대표하는 재벌이 탄생했다는 풍수적 진단의 근거이기도 하다. 풍요의 상징인 남강 물길을 따라가다 보면 가슴 찡한 우리 역사와 신비한 전설도 만나는 체험을 할 수 있다.》', 'enclosure': {'link': 'https://dimg.donga.com/i/150/150/90/wps/NEWS/IMAGE/2021/12/10/110732456.1.jpg', 'type': 'image/jpg'}, 'categories': []}, {'title': '롯데관광개발, 제주 드림타워 ‘그랜드하얏트 럭셔리 스위트스테이 패키지’ 출시', 'pubDate': '2021-12-10 09:33:00', 'link': 'https://www.donga.com/news/Culture/article/all/20211210/110730675/1', 'guid': 'e61adb6ce9369ff0ffb57972f2adbeb0', 'author': '', 'thumbnail': 'https://dimg.donga.com/i/150/150/90/wps/NEWS/IMAGE/2021/12/10/110730664.1.jpg', 'description': '\\n<img src=\"https://dimg.donga.com/i/150/150/90/wps/NEWS/IMAGE/2021/12/10/110730664.1.jpg\" align=\"left\" vspace=\"10\" hspace=\"10\">롯데관광개발은 제주 드림타워 복합리조트 내 그랜드하얏트 제주 스위트(130㎡, 40평)에서 호캉스를 즐길 수 있는 ‘럭셔리 스위트스테이(Luxury Suite Stay) 패키지’를 10일 선보였다.  럭셔리 스위트스테이 패키지는 스위트 룸 1박을 기본으로 그랜드 스위트와 프리미어 스위트, 코너 스위트 등을 선택할 수 있다. 객실 내에서 바다와 한라산, 공항과 도심까지 제주의 아름다운 풍광을 2.7m 높이 통유리를 통해 파노라믹 뷰로 즐길 수 있다고 소개했다.  성인 3인까지 무료 투숙이 가능하고 객실 상황에 따라 오후 3시 레이트 체크아웃이 가능해 여유롭게 패키지를 이용할 수 있다고 한다. 가격은 50만 원대부터다.투숙객은 탁 트인 뷰를 즐길 수 있어 핫플레이스로 꼽히는 ‘야외 풀데크’를 이용할 수 있다. 연면적 4290㎡ 규모로 제주지역에서 가장 수영시설이라고 한다. 온수풀을 운영해 사계절 내내 이용할 수 있도록 했다. 아시아·태평양지역 최대 규모 하얏트 라운지인 ‘그랜드클럽’ 이용 혜택도 추가할 수', 'content': '\\n<img src=\"https://dimg.donga.com/i/150/150/90/wps/NEWS/IMAGE/2021/12/10/110730664.1.jpg\" align=\"left\" vspace=\"10\" hspace=\"10\">롯데관광개발은 제주 드림타워 복합리조트 내 그랜드하얏트 제주 스위트(130㎡, 40평)에서 호캉스를 즐길 수 있는 ‘럭셔리 스위트스테이(Luxury Suite Stay) 패키지’를 10일 선보였다.  럭셔리 스위트스테이 패키지는 스위트 룸 1박을 기본으로 그랜드 스위트와 프리미어 스위트, 코너 스위트 등을 선택할 수 있다. 객실 내에서 바다와 한라산, 공항과 도심까지 제주의 아름다운 풍광을 2.7m 높이 통유리를 통해 파노라믹 뷰로 즐길 수 있다고 소개했다.  성인 3인까지 무료 투숙이 가능하고 객실 상황에 따라 오후 3시 레이트 체크아웃이 가능해 여유롭게 패키지를 이용할 수 있다고 한다. 가격은 50만 원대부터다.투숙객은 탁 트인 뷰를 즐길 수 있어 핫플레이스로 꼽히는 ‘야외 풀데크’를 이용할 수 있다. 연면적 4290㎡ 규모로 제주지역에서 가장 수영시설이라고 한다. 온수풀을 운영해 사계절 내내 이용할 수 있도록 했다. 아시아·태평양지역 최대 규모 하얏트 라운지인 ‘그랜드클럽’ 이용 혜택도 추가할 수', 'enclosure': {'link': 'https://dimg.donga.com/i/150/150/90/wps/NEWS/IMAGE/2021/12/10/110730664.1.jpg', 'type': 'image/jpg'}, 'categories': []}, {'title': '제주도, 크루즈관광 재개 대비해 해외 마케팅 기지개', 'pubDate': '2021-12-09 18:00:00', 'link': 'https://www.donga.com/news/Society/article/all/20211209/110717075/1', 'guid': '08514eeafa5b68fc6d69cd41cdca12b2', 'author': '', 'thumbnail': 'https://dimg.donga.com/i/150/150/90/wps/NEWS/IMAGE/2021/12/10/110717805.1.jpg', 'description': '\\n<img src=\"https://dimg.donga.com/i/150/150/90/wps/NEWS/IMAGE/2021/12/10/110717805.1.jpg\" align=\"left\" vspace=\"10\" hspace=\"10\">신종 코로나바이러스 감염증(코로나19)이 확산되면서 한동안 주춤했던 제주지역 크루즈 관광이 다시 손님 맞을 준비가 한창이다. ‘오미크론 변이’가 새로운 변수로 등장했지만 크루즈 업체와 관광업계 등은 관광 정상화에 대비해 해외 마케팅에 적극 나서고 있다. 제주도와 제주관광공사는 7일 일본 크루즈 관계자를 대상으로 온라인 설명회를 가졌다. 대만 여행업계에 이어 두 번째로 가진 설명회다. 국내 크루즈 관광이 다시 정상화되면 대만과 일본에서 출발하는 크루즈 선박이 제주도로 들어올 가능성이 높아 두 나라를 대상으로 사전 마케팅에 나선 것이다. 크루즈관광은 지난해 3월 사실상 중단됐다. 하지만 방역 안전 지역에 대한 여행과 크루즈 방역 협약이 구축됨에 따라 대만은 4개월여 만에 다시 시작됐다. 일본도 올해 연안 크루즈 관광을 허용했다. 설명회는 크루즈 선사, 여행사 관계자 등을 대상으로 진행했다. 대만·일본 관광객이 선호하는 △꽃 테마 관광지 △코로나19 이후 새로 발굴한 관광지 △이색 체험', 'content': '\\n<img src=\"https://dimg.donga.com/i/150/150/90/wps/NEWS/IMAGE/2021/12/10/110717805.1.jpg\" align=\"left\" vspace=\"10\" hspace=\"10\">신종 코로나바이러스 감염증(코로나19)이 확산되면서 한동안 주춤했던 제주지역 크루즈 관광이 다시 손님 맞을 준비가 한창이다. ‘오미크론 변이’가 새로운 변수로 등장했지만 크루즈 업체와 관광업계 등은 관광 정상화에 대비해 해외 마케팅에 적극 나서고 있다. 제주도와 제주관광공사는 7일 일본 크루즈 관계자를 대상으로 온라인 설명회를 가졌다. 대만 여행업계에 이어 두 번째로 가진 설명회다. 국내 크루즈 관광이 다시 정상화되면 대만과 일본에서 출발하는 크루즈 선박이 제주도로 들어올 가능성이 높아 두 나라를 대상으로 사전 마케팅에 나선 것이다. 크루즈관광은 지난해 3월 사실상 중단됐다. 하지만 방역 안전 지역에 대한 여행과 크루즈 방역 협약이 구축됨에 따라 대만은 4개월여 만에 다시 시작됐다. 일본도 올해 연안 크루즈 관광을 허용했다. 설명회는 크루즈 선사, 여행사 관계자 등을 대상으로 진행했다. 대만·일본 관광객이 선호하는 △꽃 테마 관광지 △코로나19 이후 새로 발굴한 관광지 △이색 체험', 'enclosure': {'link': 'https://dimg.donga.com/i/150/150/90/wps/NEWS/IMAGE/2021/12/10/110717805.1.jpg', 'type': 'image/jpg'}, 'categories': []}, {'title': '호텔신라, 올해 임원 4명 승진… “포스트 코로나 대비”', 'pubDate': '2021-12-09 06:36:00', 'link': 'https://www.donga.com/news/Culture/article/all/20211209/110710270/1', 'guid': 'f478fbda571da6e8199b1dcd86a504bd', 'author': '', 'thumbnail': 'https://dimg.donga.com/i/150/150/90/wps/NEWS/IMAGE/2021/12/09/110710233.2.jpg', 'description': '\\n<img src=\"https://dimg.donga.com/i/150/150/90/wps/NEWS/IMAGE/2021/12/09/110710233.2.jpg\" align=\"left\" vspace=\"10\" hspace=\"10\">지난해 코로나19 팬데믹(세계적 대유행) 영향으로 임원 규모를 축소했던 호텔신라가 올해는 임원 4명을 승진시키는 인사를 단행했다.  호텔신라는 2022년 정기 임원인사를 통해 김보연 TR(면세점)한국이커머스 팀장 등 4명을 상무로 승진하는 인사를 실시했다고 9일 밝혔다.   김보연 팀장과 함께 김지훈 경영전략 팀장과 성윤기 호텔&amp;레저지원 팀장, 신창하 면세점 홍콩법인장 등이 상무로 승진했다.  어려운 경영환경 속에서 성과 창출에 대한 기여가 크고 리더십과 전문성을 보유해 향후 성장성이 높은 우수인력을 이번 승진 대상자로 선정했다고 한다.  호텔신라 관계자는 “이번 인사를 기반으로 코로나19 안정화 이후 미래를 대비하고 회사의 중장기 지속 성장을 위해 더욱 매진해 나갈 것”이라고 말했다.동아닷컴 김민범 기자 mbkim@donga.com', 'content': '\\n<img src=\"https://dimg.donga.com/i/150/150/90/wps/NEWS/IMAGE/2021/12/09/110710233.2.jpg\" align=\"left\" vspace=\"10\" hspace=\"10\">지난해 코로나19 팬데믹(세계적 대유행) 영향으로 임원 규모를 축소했던 호텔신라가 올해는 임원 4명을 승진시키는 인사를 단행했다.  호텔신라는 2022년 정기 임원인사를 통해 김보연 TR(면세점)한국이커머스 팀장 등 4명을 상무로 승진하는 인사를 실시했다고 9일 밝혔다.   김보연 팀장과 함께 김지훈 경영전략 팀장과 성윤기 호텔&amp;레저지원 팀장, 신창하 면세점 홍콩법인장 등이 상무로 승진했다.  어려운 경영환경 속에서 성과 창출에 대한 기여가 크고 리더십과 전문성을 보유해 향후 성장성이 높은 우수인력을 이번 승진 대상자로 선정했다고 한다.  호텔신라 관계자는 “이번 인사를 기반으로 코로나19 안정화 이후 미래를 대비하고 회사의 중장기 지속 성장을 위해 더욱 매진해 나갈 것”이라고 말했다.동아닷컴 김민범 기자 mbkim@donga.com', 'enclosure': {'link': 'https://dimg.donga.com/i/150/150/90/wps/NEWS/IMAGE/2021/12/09/110710233.2.jpg', 'type': 'image/jpg'}, 'categories': []}, {'title': '체코관광청, 매일 하루에 하나씩  ‘크리스마스 선물’ 준다', 'pubDate': '2021-12-09 06:04:00', 'link': 'https://www.donga.com/news/Culture/article/all/20211209/110708822/1', 'guid': '6104dc830163a354a03f66b5e565da9b', 'author': '', 'thumbnail': 'https://dimg.donga.com/i/150/150/90/wps/NEWS/IMAGE/2021/12/09/110708717.2.jpg', 'description': '\\n<img src=\"https://dimg.donga.com/i/150/150/90/wps/NEWS/IMAGE/2021/12/09/110708717.2.jpg\" align=\"left\" vspace=\"10\" hspace=\"10\">체코관광청이 한국 여행객을 대상으로 ‘크리스마스 선물 이벤트’를 실시한다고 9일 밝혔다.   이번 이벤트는 크리스마스이브 전날인 23일까지 매일 한 명을 추첨해 체코천연 유기농 화장품인 ‘므첼리 부케’를 선물을 증정하는 행사다.    참여 방법은 우선 체코관광청 공식 인스타그램을 팔로우하고 매일 올라오는 체코관광청 피드(게시물)에 ‘좋아요’를 누르면 된다. 그리고 해당 피드에서 던지는 질문에 대한 대답을 남기면 응모가 완료된다. 친구를 소환하면 당첨 확률이 올라간다.   당첨자 발표는 피드가 올라간 다음 날, 인스타 스토리에서 공개한다.  아울러 관광청은 이벤트 기간 매주 화요일과 금요일에 추가 이벤트를 연다. 자세한 이벤트는 인스타그램 피드를 통해 깜짝 공개할 예정이다.    관광청이 준비한 선물은 ‘므첼리 부케’로 프라하 인기 5성급 호텔인 고성 호텔 샤토 므첼리에서 만들어진 천연 유기농 화장품이다. 호텔만의 전통 비법으로 제조하는 것이 특징이며 웰니스, 스파 등에 사용 및 판매 중이다.  이벤트 당', 'content': '\\n<img src=\"https://dimg.donga.com/i/150/150/90/wps/NEWS/IMAGE/2021/12/09/110708717.2.jpg\" align=\"left\" vspace=\"10\" hspace=\"10\">체코관광청이 한국 여행객을 대상으로 ‘크리스마스 선물 이벤트’를 실시한다고 9일 밝혔다.   이번 이벤트는 크리스마스이브 전날인 23일까지 매일 한 명을 추첨해 체코천연 유기농 화장품인 ‘므첼리 부케’를 선물을 증정하는 행사다.    참여 방법은 우선 체코관광청 공식 인스타그램을 팔로우하고 매일 올라오는 체코관광청 피드(게시물)에 ‘좋아요’를 누르면 된다. 그리고 해당 피드에서 던지는 질문에 대한 대답을 남기면 응모가 완료된다. 친구를 소환하면 당첨 확률이 올라간다.   당첨자 발표는 피드가 올라간 다음 날, 인스타 스토리에서 공개한다.  아울러 관광청은 이벤트 기간 매주 화요일과 금요일에 추가 이벤트를 연다. 자세한 이벤트는 인스타그램 피드를 통해 깜짝 공개할 예정이다.    관광청이 준비한 선물은 ‘므첼리 부케’로 프라하 인기 5성급 호텔인 고성 호텔 샤토 므첼리에서 만들어진 천연 유기농 화장품이다. 호텔만의 전통 비법으로 제조하는 것이 특징이며 웰니스, 스파 등에 사용 및 판매 중이다.  이벤트 당', 'enclosure': {'link': 'https://dimg.donga.com/i/150/150/90/wps/NEWS/IMAGE/2021/12/09/110708717.2.jpg', 'type': 'image/jpg'}, 'categories': []}, {'title': '올해 여름휴가 여행지 만족도 전국 1위 지자체는…순천시', 'pubDate': '2021-12-08 05:47:00', 'link': 'https://www.donga.com/news/Society/article/all/20211208/110679264/1', 'guid': '342a4487f7640bd816b4a44779e9bb58', 'author': '', 'thumbnail': 'https://dimg.donga.com/i/150/150/90/wps/NEWS/IMAGE/2021/12/08/110679110.2.jpg', 'description': '\\n<img src=\"https://dimg.donga.com/i/150/150/90/wps/NEWS/IMAGE/2021/12/08/110679110.2.jpg\" align=\"left\" vspace=\"10\" hspace=\"10\">전남 순천시가 ‘2021 여름휴가 여행지 만족도 조사’에서 전국 1위를 차지했다.  8일 순천시에 따르면 여행 전문 리서치기관인 ‘컨슈머인사이트’는 올해 1박 이상 국내 여름휴가를 6~8월 다녀왔다고 응답한 1만8081명을 대상으로 여름휴가지 만족도와 휴가지로의 추천 의사 여부에 대해 ‘2021년 국내 여름휴가 만족도’를 조사했다.  순천시는 이번 조사에서 만족도 합산 결과 805점으로 1위에 올랐다. 순천시는 지난 2018년 1위 이후 하락세를 보이다 올해 전국 시군 중 가장 큰 상승폭인 85점을 기록하며 지난해 23위에서 단숨에 1위로 올라섰다.  코로나19 이후 도심을 벗어나 자연에서 휴식을 선호하는 언택트 소규모 여행 경향이 지속되는 가운데 순천시의 대표 관광지인 순천만국가정원과 습지, 낙안읍성, 와온해변 등 다양한 언택트 여행을 즐길 수 있다는 것이 순천의 매력으로 분석됐다.  순천시 관계자는 “이번 만족도 조사는 위드코로나 여행 트렌드인 느림, 멈춤, 여유, 힐링에 어울리는 도시는 순천이라는', 'content': '\\n<img src=\"https://dimg.donga.com/i/150/150/90/wps/NEWS/IMAGE/2021/12/08/110679110.2.jpg\" align=\"left\" vspace=\"10\" hspace=\"10\">전남 순천시가 ‘2021 여름휴가 여행지 만족도 조사’에서 전국 1위를 차지했다.  8일 순천시에 따르면 여행 전문 리서치기관인 ‘컨슈머인사이트’는 올해 1박 이상 국내 여름휴가를 6~8월 다녀왔다고 응답한 1만8081명을 대상으로 여름휴가지 만족도와 휴가지로의 추천 의사 여부에 대해 ‘2021년 국내 여름휴가 만족도’를 조사했다.  순천시는 이번 조사에서 만족도 합산 결과 805점으로 1위에 올랐다. 순천시는 지난 2018년 1위 이후 하락세를 보이다 올해 전국 시군 중 가장 큰 상승폭인 85점을 기록하며 지난해 23위에서 단숨에 1위로 올라섰다.  코로나19 이후 도심을 벗어나 자연에서 휴식을 선호하는 언택트 소규모 여행 경향이 지속되는 가운데 순천시의 대표 관광지인 순천만국가정원과 습지, 낙안읍성, 와온해변 등 다양한 언택트 여행을 즐길 수 있다는 것이 순천의 매력으로 분석됐다.  순천시 관계자는 “이번 만족도 조사는 위드코로나 여행 트렌드인 느림, 멈춤, 여유, 힐링에 어울리는 도시는 순천이라는', 'enclosure': {'link': 'https://dimg.donga.com/i/150/150/90/wps/NEWS/IMAGE/2021/12/08/110679110.2.jpg', 'type': 'image/jpg'}, 'categories': []}, {'title': '백제권 4개 지자체, 글로벌 추세 맞춰 ‘야간관광’에서 답을 찾다', 'pubDate': '2021-12-05 18:00:00', 'link': 'https://www.donga.com/news/Society/article/all/20211206/110622725/1', 'guid': '58c9695fa6392ec153d78aa75d37639a', 'author': '', 'thumbnail': 'https://dimg.donga.com/i/150/150/90/wps/NEWS/IMAGE/2021/12/06/110623040.1.jpg', 'description': '\\n<img src=\"https://dimg.donga.com/i/150/150/90/wps/NEWS/IMAGE/2021/12/06/110623040.1.jpg\" align=\"left\" vspace=\"10\" hspace=\"10\">‘야간(夜間)에서 관광의 답(答)을 찾다.’ 대전시와 충남 공주시·부여군, 전북 익산시 등 금강이 흐르는 백제권 지방자치단체들이 관광 활성화를 위해 ‘야간’으로 눈을 돌리기 시작했다. ‘부울경(부산·울산·경남)’ 등 신라역사권에 비해 상대적으로 열악한 관광 여건을 헤쳐 나가기 위해 ‘야간관광’에서 답을 찾겠다는 것이다. 문화체육관광부가 국내 관광 활성화를 위해 추진하는 ‘대한민국 테마여행 10선’ 제9권역인 이 4개 지자체와 9권역 사업단(단장 정강환 배재대 관광축제대학원장)은 3일 대전에서 ‘백제권 관광 활성화를 위한 백제루트 개발’을 주제로 제5차 금강역사 관광포럼을 열고 ‘백제권 야간관광 시범지구’ 지정을 추진하기로 결의했다. 또 내년 3월 대선 후보와 각 정당 선거대책위원회, 6월 지방선거 출마예정자에게 이를 공약으로 채택해 줄 것을 공동 건의하기로 했다.●관광, 이제는 야간이다‘야간관광’은 세계적인 관광 트렌드로 떠오르고 있다. 런던과 암스테르담, 뉴욕 등 20여 개 해외', 'content': '\\n<img src=\"https://dimg.donga.com/i/150/150/90/wps/NEWS/IMAGE/2021/12/06/110623040.1.jpg\" align=\"left\" vspace=\"10\" hspace=\"10\">‘야간(夜間)에서 관광의 답(答)을 찾다.’ 대전시와 충남 공주시·부여군, 전북 익산시 등 금강이 흐르는 백제권 지방자치단체들이 관광 활성화를 위해 ‘야간’으로 눈을 돌리기 시작했다. ‘부울경(부산·울산·경남)’ 등 신라역사권에 비해 상대적으로 열악한 관광 여건을 헤쳐 나가기 위해 ‘야간관광’에서 답을 찾겠다는 것이다. 문화체육관광부가 국내 관광 활성화를 위해 추진하는 ‘대한민국 테마여행 10선’ 제9권역인 이 4개 지자체와 9권역 사업단(단장 정강환 배재대 관광축제대학원장)은 3일 대전에서 ‘백제권 관광 활성화를 위한 백제루트 개발’을 주제로 제5차 금강역사 관광포럼을 열고 ‘백제권 야간관광 시범지구’ 지정을 추진하기로 결의했다. 또 내년 3월 대선 후보와 각 정당 선거대책위원회, 6월 지방선거 출마예정자에게 이를 공약으로 채택해 줄 것을 공동 건의하기로 했다.●관광, 이제는 야간이다‘야간관광’은 세계적인 관광 트렌드로 떠오르고 있다. 런던과 암스테르담, 뉴욕 등 20여 개 해외', 'enclosure': {'link': 'https://dimg.donga.com/i/150/150/90/wps/NEWS/IMAGE/2021/12/06/110623040.1.jpg', 'type': 'image/jpg'}, 'categories': []}])])"
            ]
          },
          "metadata": {},
          "execution_count": 79
        }
      ]
    },
    {
      "cell_type": "code",
      "source": [
        "all_data1 = ''\n",
        "for item in json_data['items']: # dic의 리스트\n",
        "  if 'title' in item.keys():\n",
        "    all_data1 = all_data1 + re.sub(r'[^\\w]',' ',item['title'])+' '\n",
        "print(all_data1) "
      ],
      "metadata": {
        "colab": {
          "base_uri": "https://localhost:8080/"
        },
        "id": "aBA6wpOCBtBz",
        "outputId": "cc3b72b8-0c99-4c65-9937-ba3279bfc52e"
      },
      "execution_count": 86,
      "outputs": [
        {
          "output_type": "stream",
          "name": "stdout",
          "text": [
            "레고랜드코리아   오픈 티켓  스페셜 1일 예매권 출시 美CDC  오미크론 우려에 伊 등 여행경보  4단계  상향  오미크론에 여행업계 다시 위축되면 스태그플레이션  꽃보다 붉은 충절의 물결따라 巨富의 황금빛 전설이 흐른다 롯데관광개발  제주 드림타워  그랜드하얏트 럭셔리 스위트스테이 패키지  출시 제주도  크루즈관광 재개 대비해 해외 마케팅 기지개 호텔신라  올해 임원 4명 승진   포스트 코로나 대비  체코관광청  매일 하루에 하나씩   크리스마스 선물  준다 올해 여름휴가 여행지 만족도 전국 1위 지자체는 순천시 백제권 4개 지자체  글로벌 추세 맞춰  야간관광 에서 답을 찾다 \n"
          ]
        }
      ]
    },
    {
      "cell_type": "code",
      "source": [
        ""
      ],
      "metadata": {
        "id": "ly4D2fA4GMkv"
      },
      "execution_count": null,
      "outputs": []
    }
  ]
}