{
 "cells": [
  {
   "cell_type": "code",
   "execution_count": 1,
   "id": "ba90f2fe",
   "metadata": {},
   "outputs": [
    {
     "name": "stdout",
     "output_type": "stream",
     "text": [
      "Collecting pymysql\n",
      "  Using cached PyMySQL-1.0.2-py3-none-any.whl (43 kB)\n",
      "Installing collected packages: pymysql\n",
      "Successfully installed pymysql-1.0.2\n"
     ]
    }
   ],
   "source": [
    "!pip install pymysql"
   ]
  },
  {
   "cell_type": "code",
   "execution_count": 20,
   "id": "d07c175b",
   "metadata": {},
   "outputs": [],
   "source": [
    "import pymysql"
   ]
  },
  {
   "cell_type": "code",
   "execution_count": 21,
   "id": "3e493566",
   "metadata": {},
   "outputs": [
    {
     "name": "stdout",
     "output_type": "stream",
     "text": [
      "1. 연결성공\n"
     ]
    }
   ],
   "source": [
    "con = pymysql.connect(\n",
    "    host = 'localhost',\n",
    "    port = 3306,\n",
    "    user = 'root',\n",
    "    password = 'gkdks120',\n",
    "    db = 'ML_DB',\n",
    "    charset = 'utf8'\n",
    ")\n",
    "con\n",
    "print('1. 연결성공')"
   ]
  },
  {
   "cell_type": "code",
   "execution_count": 22,
   "id": "af06ebc4",
   "metadata": {},
   "outputs": [
    {
     "name": "stdout",
     "output_type": "stream",
     "text": [
      "2. 커서 객체 획득\n"
     ]
    }
   ],
   "source": [
    "cur = con.cursor()\n",
    "cur\n",
    "print('2. 커서 객체 획득')"
   ]
  },
  {
   "cell_type": "code",
   "execution_count": 23,
   "id": "ef04a134",
   "metadata": {},
   "outputs": [],
   "source": [
    "sql = '''\n",
    "    SELECT m.name, m.tel, b.content\n",
    "    from board b\n",
    "    inner join member m on m.id = b.writer\n",
    "    WHERE content like '%java%'\n",
    "'''"
   ]
  },
  {
   "cell_type": "code",
   "execution_count": 24,
   "id": "cd809dcf",
   "metadata": {},
   "outputs": [
    {
     "name": "stdout",
     "output_type": "stream",
     "text": [
      "3. sql전송 성공\n"
     ]
    }
   ],
   "source": [
    "result = cur.execute(sql)\n",
    "print('3. sql전송 성공')"
   ]
  },
  {
   "cell_type": "code",
   "execution_count": 25,
   "id": "27c08897",
   "metadata": {},
   "outputs": [
    {
     "data": {
      "text/plain": [
       "2"
      ]
     },
     "execution_count": 25,
     "metadata": {},
     "output_type": "execute_result"
    }
   ],
   "source": [
    "result"
   ]
  },
  {
   "cell_type": "code",
   "execution_count": 26,
   "id": "4044a9a2",
   "metadata": {},
   "outputs": [
    {
     "name": "stdout",
     "output_type": "stream",
     "text": [
      "4. 검색결과 ----------\n",
      "(('apple', '555555555', 'fun java'), ('apple', '555555555', 'good java'))\n"
     ]
    }
   ],
   "source": [
    "rows = cur.fetchall()\n",
    "print('4. 검색결과 ----------')\n",
    "print(rows)"
   ]
  },
  {
   "cell_type": "code",
   "execution_count": 27,
   "id": "a80d96f0",
   "metadata": {},
   "outputs": [],
   "source": [
    "con.close()"
   ]
  },
  {
   "cell_type": "code",
   "execution_count": 28,
   "id": "6e8e1e0d",
   "metadata": {},
   "outputs": [
    {
     "name": "stdout",
     "output_type": "stream",
     "text": [
      "0 apple\n",
      "1 apple\n"
     ]
    }
   ],
   "source": [
    "for index, row in enumerate(rows):\n",
    "    #print(index, row)\n",
    "    print(index, row[0])"
   ]
  },
  {
   "cell_type": "code",
   "execution_count": null,
   "id": "c794d7d3",
   "metadata": {},
   "outputs": [],
   "source": []
  }
 ],
 "metadata": {
  "kernelspec": {
   "display_name": "Python 3",
   "language": "python",
   "name": "python3"
  },
  "language_info": {
   "codemirror_mode": {
    "name": "ipython",
    "version": 3
   },
   "file_extension": ".py",
   "mimetype": "text/x-python",
   "name": "python",
   "nbconvert_exporter": "python",
   "pygments_lexer": "ipython3",
   "version": "3.8.8"
  },
  "toc": {
   "base_numbering": 1,
   "nav_menu": {},
   "number_sections": true,
   "sideBar": true,
   "skip_h1_title": false,
   "title_cell": "Table of Contents",
   "title_sidebar": "Contents",
   "toc_cell": false,
   "toc_position": {},
   "toc_section_display": true,
   "toc_window_display": false
  }
 },
 "nbformat": 4,
 "nbformat_minor": 5
}
