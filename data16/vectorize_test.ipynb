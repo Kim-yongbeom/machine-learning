{
  "nbformat": 4,
  "nbformat_minor": 0,
  "metadata": {
    "colab": {
      "name": "vectorize_test.ipynb",
      "provenance": [],
      "collapsed_sections": [],
      "authorship_tag": "ABX9TyNMAM2w/njKJrAEC8STF5fG",
      "include_colab_link": true
    },
    "kernelspec": {
      "name": "python3",
      "display_name": "Python 3"
    },
    "language_info": {
      "name": "python"
    }
  },
  "cells": [
    {
      "cell_type": "markdown",
      "metadata": {
        "id": "view-in-github",
        "colab_type": "text"
      },
      "source": [
        "<a href=\"https://colab.research.google.com/github/Kim-yongbeom/machine-learning/blob/main/data16/vectorize_test.ipynb\" target=\"_parent\"><img src=\"https://colab.research.google.com/assets/colab-badge.svg\" alt=\"Open In Colab\"/></a>"
      ]
    },
    {
      "cell_type": "code",
      "execution_count": null,
      "metadata": {
        "id": "oZVa6U9Nudct"
      },
      "outputs": [],
      "source": [
        "from sklearn.feature_extraction.text import TfidfVectorizer, CountVectorizer"
      ]
    },
    {
      "cell_type": "code",
      "source": [
        "corpus = [\n",
        "          'you know I want your love',\n",
        "          'I like you',\n",
        "          'what should I do',\n",
        "          'I hate you'\n",
        "]"
      ],
      "metadata": {
        "id": "ON4JbNc_xfkq"
      },
      "execution_count": null,
      "outputs": []
    },
    {
      "cell_type": "code",
      "source": [
        "vector = CountVectorizer()\n",
        "print(vector.fit_transform(corpus).toarray()) # 빈도수 기록\n",
        "print(vector.vocabulary_)\n",
        "# {'you': 7, 'know': 1, 'want': 5, 'your': 8, 'love': 3, 'like': 2, 'what': 6, 'should': 4, 'do': 0}\n",
        "# value값은 인덱스 번호를 뜻한다 \n",
        "# ex) 0번 인덱스는 do , do가 있는곳에는 1로 표시"
      ],
      "metadata": {
        "colab": {
          "base_uri": "https://localhost:8080/"
        },
        "id": "rPZ2Fv2dxnka",
        "outputId": "22710ca3-1c1f-4e01-b452-0a60359b52db"
      },
      "execution_count": null,
      "outputs": [
        {
          "output_type": "stream",
          "name": "stdout",
          "text": [
            "[[0 0 1 0 1 0 1 0 1 1]\n",
            " [0 0 0 1 0 0 0 0 1 0]\n",
            " [1 0 0 0 0 1 0 1 0 0]\n",
            " [0 1 0 0 0 0 0 0 1 0]]\n",
            "{'you': 8, 'know': 2, 'want': 6, 'your': 9, 'love': 4, 'like': 3, 'what': 7, 'should': 5, 'do': 0, 'hate': 1}\n"
          ]
        }
      ]
    },
    {
      "cell_type": "code",
      "source": [
        "cv = CountVectorizer()"
      ],
      "metadata": {
        "id": "5GsUdrIPzf3S"
      },
      "execution_count": null,
      "outputs": []
    },
    {
      "cell_type": "code",
      "source": [
        "# 1. 사전을 만들어라!! -> fit()\n",
        "# 2. 사전에 들어있는 id로 인코딩을 해라!! -> tranform()\n",
        "# 3. 1,2를 함께 처리하고자 하는 경우는 -> fit_transform()"
      ],
      "metadata": {
        "id": "h0bAlIIA0jhF"
      },
      "execution_count": null,
      "outputs": []
    },
    {
      "cell_type": "code",
      "source": [
        "cv.fit_transform(corpus)"
      ],
      "metadata": {
        "colab": {
          "base_uri": "https://localhost:8080/"
        },
        "id": "6Lv05GBu0-iR",
        "outputId": "ddbdf3ba-8e1f-4f89-c2b5-5999c9250f5e"
      },
      "execution_count": null,
      "outputs": [
        {
          "output_type": "execute_result",
          "data": {
            "text/plain": [
              "<4x10 sparse matrix of type '<class 'numpy.int64'>'\n",
              "\twith 12 stored elements in Compressed Sparse Row format>"
            ]
          },
          "metadata": {},
          "execution_count": 124
        }
      ]
    },
    {
      "cell_type": "code",
      "source": [
        "cv.fit_transform(corpus).toarray()"
      ],
      "metadata": {
        "colab": {
          "base_uri": "https://localhost:8080/"
        },
        "id": "t9VNseW61Ugy",
        "outputId": "ae0180e0-1e0c-458e-f2fd-b3f9b0807d98"
      },
      "execution_count": null,
      "outputs": [
        {
          "output_type": "execute_result",
          "data": {
            "text/plain": [
              "array([[0, 0, 1, 0, 1, 0, 1, 0, 1, 1],\n",
              "       [0, 0, 0, 1, 0, 0, 0, 0, 1, 0],\n",
              "       [1, 0, 0, 0, 0, 1, 0, 1, 0, 0],\n",
              "       [0, 1, 0, 0, 0, 0, 0, 0, 1, 0]])"
            ]
          },
          "metadata": {},
          "execution_count": 125
        }
      ]
    },
    {
      "cell_type": "code",
      "source": [
        "cv.vocabulary_"
      ],
      "metadata": {
        "colab": {
          "base_uri": "https://localhost:8080/"
        },
        "id": "3GdcME8x1ebm",
        "outputId": "ee0abc0a-8511-4cc0-e689-0544db95c6f8"
      },
      "execution_count": null,
      "outputs": [
        {
          "output_type": "execute_result",
          "data": {
            "text/plain": [
              "{'do': 0,\n",
              " 'hate': 1,\n",
              " 'know': 2,\n",
              " 'like': 3,\n",
              " 'love': 4,\n",
              " 'should': 5,\n",
              " 'want': 6,\n",
              " 'what': 7,\n",
              " 'you': 8,\n",
              " 'your': 9}"
            ]
          },
          "metadata": {},
          "execution_count": 126
        }
      ]
    },
    {
      "cell_type": "code",
      "source": [
        "tfidf = TfidfVectorizer()"
      ],
      "metadata": {
        "id": "PJPMW73A0ZzU"
      },
      "execution_count": null,
      "outputs": []
    },
    {
      "cell_type": "code",
      "source": [
        "# fit --> transform"
      ],
      "metadata": {
        "id": "-9D8q3Jv0jLD"
      },
      "execution_count": null,
      "outputs": []
    },
    {
      "cell_type": "code",
      "source": [
        "tfidf.fit_transform(corpus)"
      ],
      "metadata": {
        "colab": {
          "base_uri": "https://localhost:8080/"
        },
        "id": "uYmW2Cm82A_8",
        "outputId": "0fa7fc2b-ffe3-4c32-9fdf-b693b4258f64"
      },
      "execution_count": null,
      "outputs": [
        {
          "output_type": "execute_result",
          "data": {
            "text/plain": [
              "<4x10 sparse matrix of type '<class 'numpy.float64'>'\n",
              "\twith 12 stored elements in Compressed Sparse Row format>"
            ]
          },
          "metadata": {},
          "execution_count": 129
        }
      ]
    },
    {
      "cell_type": "code",
      "source": [
        "tfidf.fit_transform(corpus).toarray()"
      ],
      "metadata": {
        "colab": {
          "base_uri": "https://localhost:8080/"
        },
        "id": "neqPQUHZ2H7W",
        "outputId": "2612d871-dc98-43b5-ba8e-502778018128"
      },
      "execution_count": null,
      "outputs": [
        {
          "output_type": "execute_result",
          "data": {
            "text/plain": [
              "array([[0.        , 0.        , 0.47633035, 0.        , 0.47633035,\n",
              "        0.        , 0.47633035, 0.        , 0.30403549, 0.47633035],\n",
              "       [0.        , 0.        , 0.        , 0.84292635, 0.        ,\n",
              "        0.        , 0.        , 0.        , 0.53802897, 0.        ],\n",
              "       [0.57735027, 0.        , 0.        , 0.        , 0.        ,\n",
              "        0.57735027, 0.        , 0.57735027, 0.        , 0.        ],\n",
              "       [0.        , 0.84292635, 0.        , 0.        , 0.        ,\n",
              "        0.        , 0.        , 0.        , 0.53802897, 0.        ]])"
            ]
          },
          "metadata": {},
          "execution_count": 130
        }
      ]
    },
    {
      "cell_type": "code",
      "source": [
        "print(tfidf.vocabulary_)"
      ],
      "metadata": {
        "colab": {
          "base_uri": "https://localhost:8080/"
        },
        "id": "8rOlzcwm2LWf",
        "outputId": "b99a604a-c206-4a39-d3a7-5ae79b224676"
      },
      "execution_count": null,
      "outputs": [
        {
          "output_type": "stream",
          "name": "stdout",
          "text": [
            "{'you': 8, 'know': 2, 'want': 6, 'your': 9, 'love': 4, 'like': 3, 'what': 7, 'should': 5, 'do': 0, 'hate': 1}\n"
          ]
        }
      ]
    },
    {
      "cell_type": "code",
      "source": [
        "sentence = ['i like like like hate smile']"
      ],
      "metadata": {
        "id": "lp5gw0Ed2Px0"
      },
      "execution_count": null,
      "outputs": []
    },
    {
      "cell_type": "code",
      "source": [
        "nd2array = cv.transform(sentence).toarray()\n",
        "nd2array"
      ],
      "metadata": {
        "colab": {
          "base_uri": "https://localhost:8080/"
        },
        "id": "wO0Uz0Kv3KeA",
        "outputId": "67093409-df70-44be-dfd2-caf60fd43919"
      },
      "execution_count": null,
      "outputs": [
        {
          "output_type": "execute_result",
          "data": {
            "text/plain": [
              "array([[0, 1, 0, 3, 0, 0, 0, 0, 0, 0]])"
            ]
          },
          "metadata": {},
          "execution_count": 133
        }
      ]
    },
    {
      "cell_type": "code",
      "source": [
        "nd2array[0]"
      ],
      "metadata": {
        "colab": {
          "base_uri": "https://localhost:8080/"
        },
        "id": "XNM-wBy53Psb",
        "outputId": "37a69498-a398-49ed-d7ad-703bb33868b6"
      },
      "execution_count": null,
      "outputs": [
        {
          "output_type": "execute_result",
          "data": {
            "text/plain": [
              "array([0, 1, 0, 3, 0, 0, 0, 0, 0, 0])"
            ]
          },
          "metadata": {},
          "execution_count": 134
        }
      ]
    },
    {
      "cell_type": "code",
      "source": [
        "nd2array = tfidf.transform(sentence).toarray()\n",
        "nd2array"
      ],
      "metadata": {
        "colab": {
          "base_uri": "https://localhost:8080/"
        },
        "id": "Vx3Inlcz3fz3",
        "outputId": "30f4755d-b3b4-460e-8e4b-c1d90f4464c9"
      },
      "execution_count": null,
      "outputs": [
        {
          "output_type": "execute_result",
          "data": {
            "text/plain": [
              "array([[0.        , 0.31622777, 0.        , 0.9486833 , 0.        ,\n",
              "        0.        , 0.        , 0.        , 0.        , 0.        ]])"
            ]
          },
          "metadata": {},
          "execution_count": 135
        }
      ]
    },
    {
      "cell_type": "code",
      "source": [
        "cv.inverse_transform(nd2array)"
      ],
      "metadata": {
        "colab": {
          "base_uri": "https://localhost:8080/"
        },
        "id": "qQQ_-txG4IO4",
        "outputId": "38cd6532-2487-46df-c1a5-79ff7cfa002d"
      },
      "execution_count": null,
      "outputs": [
        {
          "output_type": "execute_result",
          "data": {
            "text/plain": [
              "[array(['hate', 'like'], dtype='<U6')]"
            ]
          },
          "metadata": {},
          "execution_count": 136
        }
      ]
    },
    {
      "cell_type": "code",
      "source": [
        "tfidf.inverse_transform(nd2array)"
      ],
      "metadata": {
        "colab": {
          "base_uri": "https://localhost:8080/"
        },
        "id": "95uxQNTo4SfN",
        "outputId": "f7ee0560-a40f-4f79-9165-0e36fe4e5d6e"
      },
      "execution_count": null,
      "outputs": [
        {
          "output_type": "execute_result",
          "data": {
            "text/plain": [
              "[array(['hate', 'like'], dtype='<U6')]"
            ]
          },
          "metadata": {},
          "execution_count": 137
        }
      ]
    },
    {
      "cell_type": "code",
      "source": [
        "feature_list = cv.get_feature_names() # 사전에 무엇이 들어있는지 확인\n",
        "feature_list"
      ],
      "metadata": {
        "colab": {
          "base_uri": "https://localhost:8080/"
        },
        "id": "B3zzgZPI4XYV",
        "outputId": "052f3760-4fed-4d6b-a8d4-656b90125ce9"
      },
      "execution_count": null,
      "outputs": [
        {
          "output_type": "stream",
          "name": "stderr",
          "text": [
            "/usr/local/lib/python3.7/dist-packages/sklearn/utils/deprecation.py:87: FutureWarning: Function get_feature_names is deprecated; get_feature_names is deprecated in 1.0 and will be removed in 1.2. Please use get_feature_names_out instead.\n",
            "  warnings.warn(msg, category=FutureWarning)\n"
          ]
        },
        {
          "output_type": "execute_result",
          "data": {
            "text/plain": [
              "['do', 'hate', 'know', 'like', 'love', 'should', 'want', 'what', 'you', 'your']"
            ]
          },
          "metadata": {},
          "execution_count": 138
        }
      ]
    },
    {
      "cell_type": "code",
      "source": [
        "# dic <--- list\n",
        "dictionary = dict()\n",
        "for index, value in enumerate(feature_list):\n",
        "  dictionary[index] = value\n",
        "dictionary"
      ],
      "metadata": {
        "colab": {
          "base_uri": "https://localhost:8080/"
        },
        "id": "hmGjGTRD4gaB",
        "outputId": "7c9197d7-a6e1-4dd8-87c7-5b72a03df89b"
      },
      "execution_count": null,
      "outputs": [
        {
          "output_type": "execute_result",
          "data": {
            "text/plain": [
              "{0: 'do',\n",
              " 1: 'hate',\n",
              " 2: 'know',\n",
              " 3: 'like',\n",
              " 4: 'love',\n",
              " 5: 'should',\n",
              " 6: 'want',\n",
              " 7: 'what',\n",
              " 8: 'you',\n",
              " 9: 'your'}"
            ]
          },
          "metadata": {},
          "execution_count": 139
        }
      ]
    },
    {
      "cell_type": "code",
      "source": [
        "## 스팸을 나타내는 사전을 만들어 주세요\n",
        "## 스팸이 아닌 사전을 만들어 주세요"
      ],
      "metadata": {
        "id": "VMlnHgXh5lKr"
      },
      "execution_count": null,
      "outputs": []
    },
    {
      "cell_type": "code",
      "source": [
        "## 광고!! 짱 좋은 판매 홍보전략입니다.!! -> 스팸"
      ],
      "metadata": {
        "id": "daOeCKak69HR"
      },
      "execution_count": null,
      "outputs": []
    },
    {
      "cell_type": "code",
      "source": [
        "spam_dict = [\"advertise\", \"promotion\", \"sales\", \"hu\", \"special\", \"sale\",\"member\", \"company\"]"
      ],
      "metadata": {
        "id": "kZ2fzudW7D-a"
      },
      "execution_count": null,
      "outputs": []
    },
    {
      "cell_type": "code",
      "source": [
        "ham_dict = [\"order\", \"confirm\", \"check\", \"customer\", \"payment\", \"send\", \"general\", \"club\"]"
      ],
      "metadata": {
        "id": "vMSae30NBwms"
      },
      "execution_count": null,
      "outputs": []
    },
    {
      "cell_type": "code",
      "source": [
        "spam_fit = cv.fit(spam_dict)"
      ],
      "metadata": {
        "id": "lj9A3P9W_Hv1"
      },
      "execution_count": null,
      "outputs": []
    },
    {
      "cell_type": "code",
      "source": [
        "spam_fit.get_feature_names()"
      ],
      "metadata": {
        "colab": {
          "base_uri": "https://localhost:8080/"
        },
        "id": "jaxUr9IzBdoS",
        "outputId": "85629cb1-2cbb-4ec3-f363-fb557a93b684"
      },
      "execution_count": null,
      "outputs": [
        {
          "output_type": "stream",
          "name": "stderr",
          "text": [
            "/usr/local/lib/python3.7/dist-packages/sklearn/utils/deprecation.py:87: FutureWarning: Function get_feature_names is deprecated; get_feature_names is deprecated in 1.0 and will be removed in 1.2. Please use get_feature_names_out instead.\n",
            "  warnings.warn(msg, category=FutureWarning)\n"
          ]
        },
        {
          "output_type": "execute_result",
          "data": {
            "text/plain": [
              "['advertise',\n",
              " 'company',\n",
              " 'hu',\n",
              " 'member',\n",
              " 'promotion',\n",
              " 'sale',\n",
              " 'sales',\n",
              " 'special']"
            ]
          },
          "metadata": {},
          "execution_count": 145
        }
      ]
    },
    {
      "cell_type": "code",
      "source": [
        "spam_fit.vocabulary_"
      ],
      "metadata": {
        "colab": {
          "base_uri": "https://localhost:8080/"
        },
        "id": "si1TkLsFBmox",
        "outputId": "fb8d3855-f0eb-4fbe-92e0-dc82fd8f31e0"
      },
      "execution_count": null,
      "outputs": [
        {
          "output_type": "execute_result",
          "data": {
            "text/plain": [
              "{'advertise': 0,\n",
              " 'company': 1,\n",
              " 'hu': 2,\n",
              " 'member': 3,\n",
              " 'promotion': 4,\n",
              " 'sale': 5,\n",
              " 'sales': 6,\n",
              " 'special': 7}"
            ]
          },
          "metadata": {},
          "execution_count": 146
        }
      ]
    },
    {
      "cell_type": "code",
      "source": [
        "email = ['promotion!! hu good sales.!! check payment']"
      ],
      "metadata": {
        "id": "uuFadewBCE3W"
      },
      "execution_count": null,
      "outputs": []
    },
    {
      "cell_type": "code",
      "source": [
        "email_spam_array = spam_fit.transform(email).toarray()\n",
        "email_spam_array"
      ],
      "metadata": {
        "colab": {
          "base_uri": "https://localhost:8080/"
        },
        "id": "aPNeoplsCEoB",
        "outputId": "943273a2-abba-4eee-d1fa-9b73c3a34b13"
      },
      "execution_count": null,
      "outputs": [
        {
          "output_type": "execute_result",
          "data": {
            "text/plain": [
              "array([[0, 0, 1, 0, 1, 0, 1, 0]])"
            ]
          },
          "metadata": {},
          "execution_count": 148
        }
      ]
    },
    {
      "cell_type": "code",
      "source": [
        "ham_fit = cv.fit(ham_dict)"
      ],
      "metadata": {
        "id": "JLjtHXGe_eF4"
      },
      "execution_count": null,
      "outputs": []
    },
    {
      "cell_type": "code",
      "source": [
        "ham_fit.get_feature_names()"
      ],
      "metadata": {
        "colab": {
          "base_uri": "https://localhost:8080/"
        },
        "id": "e9qEHpSjBqSm",
        "outputId": "1e5a1947-3723-4165-c73b-ee2c62965507"
      },
      "execution_count": null,
      "outputs": [
        {
          "output_type": "stream",
          "name": "stderr",
          "text": [
            "/usr/local/lib/python3.7/dist-packages/sklearn/utils/deprecation.py:87: FutureWarning: Function get_feature_names is deprecated; get_feature_names is deprecated in 1.0 and will be removed in 1.2. Please use get_feature_names_out instead.\n",
            "  warnings.warn(msg, category=FutureWarning)\n"
          ]
        },
        {
          "output_type": "execute_result",
          "data": {
            "text/plain": [
              "['check', 'club', 'confirm', 'customer', 'general', 'order', 'payment', 'send']"
            ]
          },
          "metadata": {},
          "execution_count": 150
        }
      ]
    },
    {
      "cell_type": "code",
      "source": [
        "ham_fit.vocabulary_"
      ],
      "metadata": {
        "colab": {
          "base_uri": "https://localhost:8080/"
        },
        "id": "tLNt_cHsBqFz",
        "outputId": "3efd3db7-73aa-4c9d-eba9-fd4a95701844"
      },
      "execution_count": null,
      "outputs": [
        {
          "output_type": "execute_result",
          "data": {
            "text/plain": [
              "{'check': 0,\n",
              " 'club': 1,\n",
              " 'confirm': 2,\n",
              " 'customer': 3,\n",
              " 'general': 4,\n",
              " 'order': 5,\n",
              " 'payment': 6,\n",
              " 'send': 7}"
            ]
          },
          "metadata": {},
          "execution_count": 151
        }
      ]
    },
    {
      "cell_type": "code",
      "source": [
        "email_ham_array = ham_fit.transform(email).toarray()\n",
        "email_ham_array"
      ],
      "metadata": {
        "colab": {
          "base_uri": "https://localhost:8080/"
        },
        "id": "73NW31Qu_uRb",
        "outputId": "b3a87521-9d4e-4c4b-9fc3-53dc52b61ade"
      },
      "execution_count": null,
      "outputs": [
        {
          "output_type": "execute_result",
          "data": {
            "text/plain": [
              "array([[1, 0, 0, 0, 0, 0, 1, 0]])"
            ]
          },
          "metadata": {},
          "execution_count": 152
        }
      ]
    },
    {
      "cell_type": "code",
      "source": [
        "spam_dict2 = [\"광고\", \"홍보\", \"판매\", \"허경영\", \"특가\", \"세일\",\"회원\", \"회사\"]\n",
        "ham_dict2 = [\"주문\", \"확인\", \"체크\", \"고객\", \"지불\", \"배송\", \"일반\", \"동호회\"]"
      ],
      "metadata": {
        "id": "bGD66rc_BUfG"
      },
      "execution_count": null,
      "outputs": []
    },
    {
      "cell_type": "code",
      "source": [
        "cv2 = CountVectorizer()"
      ],
      "metadata": {
        "id": "fqhH_Y9bDIAE"
      },
      "execution_count": null,
      "outputs": []
    },
    {
      "cell_type": "code",
      "source": [
        "cv2.fit(spam_dict2)"
      ],
      "metadata": {
        "colab": {
          "base_uri": "https://localhost:8080/"
        },
        "id": "uIviUFLaDKbU",
        "outputId": "6cce7560-4a0c-43f1-9881-b0ef31b12013"
      },
      "execution_count": null,
      "outputs": [
        {
          "output_type": "execute_result",
          "data": {
            "text/plain": [
              "CountVectorizer()"
            ]
          },
          "metadata": {},
          "execution_count": 155
        }
      ]
    },
    {
      "cell_type": "code",
      "source": [
        "email2 = ['광고!! 허경영 짱 좋은 세일 확인 지불']"
      ],
      "metadata": {
        "id": "82TdQoz5DP3G"
      },
      "execution_count": null,
      "outputs": []
    },
    {
      "cell_type": "code",
      "source": [
        "result = cv2.transform(email2).toarray()\n",
        "result"
      ],
      "metadata": {
        "colab": {
          "base_uri": "https://localhost:8080/"
        },
        "id": "2B9HTm46DWdE",
        "outputId": "fecdc863-64e3-4bd5-addc-63c456285e78"
      },
      "execution_count": null,
      "outputs": [
        {
          "output_type": "execute_result",
          "data": {
            "text/plain": [
              "array([[1, 1, 0, 0, 1, 0, 0, 0]])"
            ]
          },
          "metadata": {},
          "execution_count": 157
        }
      ]
    },
    {
      "cell_type": "code",
      "source": [
        "result_count1 = 0\n",
        "for i in result[0]:\n",
        "  result_count1 += i\n",
        "result_count1"
      ],
      "metadata": {
        "colab": {
          "base_uri": "https://localhost:8080/"
        },
        "id": "7X26rSMnD88J",
        "outputId": "0888f30e-dd07-485f-dd4b-52caa97914ce"
      },
      "execution_count": null,
      "outputs": [
        {
          "output_type": "execute_result",
          "data": {
            "text/plain": [
              "3"
            ]
          },
          "metadata": {},
          "execution_count": 158
        }
      ]
    },
    {
      "cell_type": "code",
      "source": [
        "cv2.fit(ham_dict2)"
      ],
      "metadata": {
        "colab": {
          "base_uri": "https://localhost:8080/"
        },
        "id": "xOSNzH8gDbHy",
        "outputId": "5bafe88a-a6d0-4bfe-f67f-8136a8258758"
      },
      "execution_count": null,
      "outputs": [
        {
          "output_type": "execute_result",
          "data": {
            "text/plain": [
              "CountVectorizer()"
            ]
          },
          "metadata": {},
          "execution_count": 159
        }
      ]
    },
    {
      "cell_type": "code",
      "source": [
        "result1 = cv2.transform(email2).toarray()\n",
        "result1"
      ],
      "metadata": {
        "colab": {
          "base_uri": "https://localhost:8080/"
        },
        "id": "9BGdGz9XDqfJ",
        "outputId": "c5bd9d97-4939-4a06-a4a2-485c26c1bce7"
      },
      "execution_count": null,
      "outputs": [
        {
          "output_type": "execute_result",
          "data": {
            "text/plain": [
              "array([[0, 0, 0, 0, 0, 1, 0, 1]])"
            ]
          },
          "metadata": {},
          "execution_count": 160
        }
      ]
    },
    {
      "cell_type": "code",
      "source": [
        "result_count2 = 0\n",
        "for i in result1[0]:\n",
        "  result_count2 += i\n",
        "result_count2"
      ],
      "metadata": {
        "colab": {
          "base_uri": "https://localhost:8080/"
        },
        "id": "1tTNshAJDt6R",
        "outputId": "053456cf-a66b-492e-b3b8-96a36689fb1a"
      },
      "execution_count": null,
      "outputs": [
        {
          "output_type": "execute_result",
          "data": {
            "text/plain": [
              "2"
            ]
          },
          "metadata": {},
          "execution_count": 162
        }
      ]
    },
    {
      "cell_type": "code",
      "source": [
        "## 감정분류기\n",
        "# 긍정/부정 사전을 만들어 보세요.\n",
        "# input() 이용해서, 문장을 받으면, 그것이 긍정인지 부정인지 판단해보세요.\n",
        "# if-idf vectorizer를 사용해주세요."
      ],
      "metadata": {
        "id": "bl1G4rVYFzZg"
      },
      "execution_count": null,
      "outputs": []
    },
    {
      "cell_type": "code",
      "source": [
        "!pip install konlpy"
      ],
      "metadata": {
        "id": "MYV_S9riPn5O"
      },
      "execution_count": null,
      "outputs": []
    },
    {
      "cell_type": "code",
      "source": [
        "from sklearn.feature_extraction.text import TfidfVectorizer, CountVectorizer\n",
        "from konlpy.tag import Okt\n",
        "okt = Okt()"
      ],
      "metadata": {
        "id": "7uG8-mbuHuNF"
      },
      "execution_count": null,
      "outputs": []
    },
    {
      "cell_type": "code",
      "source": [
        "neg = [\n",
        "          '슬픔', '눈물', '바보', '멍충이'\n",
        "]\n",
        "\n",
        "pos = [\n",
        "       '기쁘다', '행복', '웃음', '즐거움'\n",
        "]"
      ],
      "metadata": {
        "id": "akIn8Qs7I-ZN"
      },
      "execution_count": null,
      "outputs": []
    },
    {
      "cell_type": "code",
      "source": [
        "talk = [input()]"
      ],
      "metadata": {
        "colab": {
          "base_uri": "https://localhost:8080/"
        },
        "id": "zw4MSaF7Hum_",
        "outputId": "72e4b612-9d48-4f8e-e91e-255da9b23933"
      },
      "execution_count": null,
      "outputs": [
        {
          "name": "stdout",
          "output_type": "stream",
          "text": [
            "슬픔 눈물 기쁘다 바보야\n"
          ]
        }
      ]
    },
    {
      "cell_type": "code",
      "source": [
        "vector = CountVectorizer()\n",
        "tfidf = TfidfVectorizer()"
      ],
      "metadata": {
        "id": "06wdanj-IBYc"
      },
      "execution_count": null,
      "outputs": []
    },
    {
      "cell_type": "code",
      "source": [
        "tfidf.fit(neg)"
      ],
      "metadata": {
        "colab": {
          "base_uri": "https://localhost:8080/"
        },
        "id": "qx5q3zz-IkNz",
        "outputId": "e37dabcc-e872-43c2-8a25-79b6077ea4ed"
      },
      "execution_count": null,
      "outputs": [
        {
          "output_type": "execute_result",
          "data": {
            "text/plain": [
              "TfidfVectorizer()"
            ]
          },
          "metadata": {},
          "execution_count": 261
        }
      ]
    },
    {
      "cell_type": "code",
      "source": [
        "result = tfidf.transform(talk).toarray()\n",
        "result"
      ],
      "metadata": {
        "colab": {
          "base_uri": "https://localhost:8080/"
        },
        "id": "FlqrjkNhL-NQ",
        "outputId": "de0bb1b5-727e-43e0-efc7-8c52be811b49"
      },
      "execution_count": null,
      "outputs": [
        {
          "output_type": "execute_result",
          "data": {
            "text/plain": [
              "array([[0.70710678, 0.        , 0.        , 0.70710678]])"
            ]
          },
          "metadata": {},
          "execution_count": 262
        }
      ]
    },
    {
      "cell_type": "code",
      "source": [
        "result_neg_count = 0\n",
        "for i in result[0]:\n",
        "  result_neg_count += i\n",
        "result_neg_count"
      ],
      "metadata": {
        "colab": {
          "base_uri": "https://localhost:8080/"
        },
        "id": "Cu0B1NpvME0c",
        "outputId": "755478e9-e1b0-4e01-c002-8bf9bda70455"
      },
      "execution_count": null,
      "outputs": [
        {
          "output_type": "execute_result",
          "data": {
            "text/plain": [
              "1.4142135623730951"
            ]
          },
          "metadata": {},
          "execution_count": 263
        }
      ]
    },
    {
      "cell_type": "code",
      "source": [
        "if result_neg_count > 1:\n",
        "  print('부정')\n",
        "else:\n",
        "  print('긍정')"
      ],
      "metadata": {
        "colab": {
          "base_uri": "https://localhost:8080/"
        },
        "id": "ajiqhKsHMg8t",
        "outputId": "abf94734-88f9-4b41-9354-452ccb3638be"
      },
      "execution_count": null,
      "outputs": [
        {
          "output_type": "stream",
          "name": "stdout",
          "text": [
            "부정\n"
          ]
        }
      ]
    },
    {
      "cell_type": "code",
      "source": [
        ""
      ],
      "metadata": {
        "id": "DQyr5zdZMpub"
      },
      "execution_count": null,
      "outputs": []
    }
  ]
}